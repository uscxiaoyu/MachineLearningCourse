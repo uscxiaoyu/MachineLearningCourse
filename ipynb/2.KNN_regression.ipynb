{
 "cells": [
  {
   "cell_type": "markdown",
   "metadata": {},
   "source": [
    "# 二. k近邻算法\n",
    "\n",
    "k近邻法(`k-nearest neighbor, k-NN`)是一种基本分类和回归方法(`Cover & Hart, 1968`)。k近邻法的输入为实例的特征向量，对应于特征空间的点，输出为实例的类别，可以取多类。分类时，对新的实例，根据其k个最近邻的训练实例的类别，根据其k个最近邻的训练实例的类别，通过多数表决等方式进行预测。\n",
    "\n",
    "k近邻法不具显式的学习过程，k值的选择、距离度量以及分类决策规则是k近邻法的三要素。难点在于如何高效地定位到输入实例的k个最近邻居。"
   ]
  },
  {
   "cell_type": "code",
   "execution_count": 3,
   "metadata": {},
   "outputs": [
    {
     "data": {
      "image/svg+xml": [
       "<svg xmlns=\"http://www.w3.org/2000/svg\" xmlns:xl=\"http://www.w3.org/1999/xlink\" xmlns:dc=\"http://purl.org/dc/elements/1.1/\" version=\"1.1\" viewBox=\"248 235 214 189\" width=\"214\" height=\"189\">\n",
       "  <defs/>\n",
       "  <metadata> Produced by OmniGraffle 7.12.1 \n",
       "    <dc:date>2020-10-09 00:59:18 +0000</dc:date>\n",
       "  </metadata>\n",
       "  <g id=\"Canvas_1\" stroke-opacity=\"1\" fill=\"none\" stroke=\"none\" stroke-dasharray=\"none\" fill-opacity=\"1\">\n",
       "    <title>Canvas 1</title>\n",
       "    <rect fill=\"white\" x=\"248\" y=\"235\" width=\"214\" height=\"189\"/>\n",
       "    <g id=\"Canvas_1: Layer 1\">\n",
       "      <title>Layer 1</title>\n",
       "      <g id=\"Graphic_15\">\n",
       "        <ellipse cx=\"352\" cy=\"344.25\" rx=\"60.5000966730648\" ry=\"52.0000830908986\" fill=\"white\"/>\n",
       "        <ellipse cx=\"352\" cy=\"344.25\" rx=\"60.5000966730648\" ry=\"52.0000830908986\" stroke=\"gray\" stroke-linecap=\"round\" stroke-linejoin=\"round\" stroke-width=\"1\"/>\n",
       "      </g>\n",
       "      <g id=\"Graphic_2\">\n",
       "        <rect x=\"446.5\" y=\"346\" width=\"15\" height=\"16.5\" fill=\"#ccc\"/>\n",
       "        <rect x=\"446.5\" y=\"346\" width=\"15\" height=\"16.5\" stroke=\"gray\" stroke-linecap=\"round\" stroke-linejoin=\"round\" stroke-width=\"1\"/>\n",
       "      </g>\n",
       "      <g id=\"Graphic_3\">\n",
       "        <path d=\"M 316 236 L 323.5 252.5 L 331 236 Z\" fill=\"red\"/>\n",
       "        <path d=\"M 316 236 L 323.5 252.5 L 331 236 Z\" stroke=\"gray\" stroke-linecap=\"round\" stroke-linejoin=\"round\" stroke-width=\"1\"/>\n",
       "      </g>\n",
       "      <g id=\"Graphic_4\">\n",
       "        <ellipse cx=\"366.5\" cy=\"344.25\" rx=\"7.50001198426424\" ry=\"8.25001318269061\" fill=\"lime\"/>\n",
       "        <ellipse cx=\"366.5\" cy=\"344.25\" rx=\"7.50001198426424\" ry=\"8.25001318269061\" stroke=\"gray\" stroke-linecap=\"round\" stroke-linejoin=\"round\" stroke-width=\"1\"/>\n",
       "      </g>\n",
       "      <g id=\"Graphic_5\">\n",
       "        <rect x=\"248.5\" y=\"319.5\" width=\"15\" height=\"16.5\" fill=\"#ccc\"/>\n",
       "        <rect x=\"248.5\" y=\"319.5\" width=\"15\" height=\"16.5\" stroke=\"gray\" stroke-linecap=\"round\" stroke-linejoin=\"round\" stroke-width=\"1\"/>\n",
       "      </g>\n",
       "      <g id=\"Graphic_6\">\n",
       "        <rect x=\"286.5\" y=\"406.5\" width=\"15\" height=\"16.5\" fill=\"#ccc\"/>\n",
       "        <rect x=\"286.5\" y=\"406.5\" width=\"15\" height=\"16.5\" stroke=\"gray\" stroke-linecap=\"round\" stroke-linejoin=\"round\" stroke-width=\"1\"/>\n",
       "      </g>\n",
       "      <g id=\"Graphic_7\">\n",
       "        <rect x=\"435.5\" y=\"271.5\" width=\"15\" height=\"16.5\" fill=\"#ccc\"/>\n",
       "        <rect x=\"435.5\" y=\"271.5\" width=\"15\" height=\"16.5\" stroke=\"gray\" stroke-linecap=\"round\" stroke-linejoin=\"round\" stroke-width=\"1\"/>\n",
       "      </g>\n",
       "      <g id=\"Graphic_8\">\n",
       "        <rect x=\"316\" y=\"346\" width=\"15\" height=\"16.5\" fill=\"#ccc\"/>\n",
       "        <rect x=\"316\" y=\"346\" width=\"15\" height=\"16.5\" stroke=\"gray\" stroke-linecap=\"round\" stroke-linejoin=\"round\" stroke-width=\"1\"/>\n",
       "      </g>\n",
       "      <g id=\"Graphic_11\">\n",
       "        <path d=\"M 383.5 243.5 L 391 260 L 398.5 243.5 Z\" fill=\"red\"/>\n",
       "        <path d=\"M 383.5 243.5 L 391 260 L 398.5 243.5 Z\" stroke=\"gray\" stroke-linecap=\"round\" stroke-linejoin=\"round\" stroke-width=\"1\"/>\n",
       "      </g>\n",
       "      <g id=\"Graphic_12\">\n",
       "        <path d=\"M 338 309.5 L 345.5 326 L 353 309.5 Z\" fill=\"red\"/>\n",
       "        <path d=\"M 338 309.5 L 345.5 326 L 353 309.5 Z\" stroke=\"gray\" stroke-linecap=\"round\" stroke-linejoin=\"round\" stroke-width=\"1\"/>\n",
       "      </g>\n",
       "      <g id=\"Graphic_13\">\n",
       "        <path d=\"M 277.5 271.5 L 285 288 L 292.5 271.5 Z\" fill=\"red\"/>\n",
       "        <path d=\"M 277.5 271.5 L 285 288 L 292.5 271.5 Z\" stroke=\"gray\" stroke-linecap=\"round\" stroke-linejoin=\"round\" stroke-width=\"1\"/>\n",
       "      </g>\n",
       "      <g id=\"Graphic_14\">\n",
       "        <path d=\"M 363.5 367 L 371 383.5 L 378.5 367 Z\" fill=\"red\"/>\n",
       "        <path d=\"M 363.5 367 L 371 383.5 L 378.5 367 Z\" stroke=\"gray\" stroke-linecap=\"round\" stroke-linejoin=\"round\" stroke-width=\"1\"/>\n",
       "      </g>\n",
       "    </g>\n",
       "  </g>\n",
       "</svg>"
      ],
      "text/plain": [
       "<IPython.core.display.SVG object>"
      ]
     },
     "execution_count": 3,
     "metadata": {},
     "output_type": "execute_result"
    }
   ],
   "source": [
    "from IPython.display import SVG\n",
    "SVG(filename='../pictures/3.1.svg')"
   ]
  },
  {
   "cell_type": "markdown",
   "metadata": {},
   "source": [
    "## 1. k近邻算法\n",
    "\n",
    "**算法3.1（k近邻法）**\n",
    "- 输入：训练数据集\n",
    "$$\n",
    "T=\\{(x_1, y_1), (x_2, y_2), ..., (x_N, y_N)\\}\n",
    "$$\n",
    "其中，$x_i\\in\\mathbf{x}\\subset \\mathbf{R^n}$为实例的特征向量，$y_i\\in \\mathbf{y}=\\{c_1,c_2,...,c_K\\}$为实例的类别，$i=1,2,...,N$；实例特征向量$x$；\n",
    "- 输出：实例$x$的所属类$y$\n",
    "- 算法过程\n",
    "    - 根据给定的距离度量，在训练集$T$中找出与$x$最近邻的$k$个点，涵盖这$k$个点的$x$的近邻记作$N_K(x)$\n",
    "    - 在$N_k(x)$中根据分类决策规则决定$x$类别$y$\n",
    "    $$\n",
    "    y=\\mathrm{arg} \\max_{c_j} \\sum_{x_i\\in N_k(x)} I(y_i=c_i),i=1,2,...,N;j=1,2,...,K\n",
    "    $$\n",
    "    上式中，I为指示函数，即当$y_i=c_j$时$I$为1，否则$I$为0."
   ]
  },
  {
   "cell_type": "markdown",
   "metadata": {},
   "source": [
    "## 2. 距离度量\n",
    "\n",
    "- $L_p$距离\n",
    "\n",
    "设特征空间$\\mathbf{X}$是n维实数向量空间$\\mathbf{R^n}$，$x_i, x_j\\in \\mathbf{x}, x_i = (x^{(1)}_i,x^{(2)}_i,...,x^{(n)}_i)^T,x_j=(x_j^{(1)}, x_j^{(2)},... ,x_j^{(n)})^T,x_i,x_j$的$L_p$距离定义为\n",
    "$$\n",
    "L_p(x_i,x_j)=\\left(\\sum_{l=1}^n|x_i^{(l)}-x_j^{(l)}|^p\\right)^{\\frac{1}{p}}\n",
    "$$\n",
    "这里$p\\ge 1$。"
   ]
  },
  {
   "cell_type": "markdown",
   "metadata": {},
   "source": [
    "当$p=2$时，称为欧式距离(`Euclidean distance`)，即\n",
    "$$\n",
    "L_2(x_i,x_j)=\\left(\\sum_{l=1}^n|x_i^{(l)}-x_j^{(l)}|^2\\right)^{\\frac{1}{2}}\n",
    "$$\n",
    "\n",
    "当$p=1$时，称为曼哈顿距离(`Manhattan distance`)，即\n",
    "$$\n",
    "L_1(x_i,x_j)=\\left(\\sum_{l=1}^n|x_i^{(l)}-x_j^{(l)}|\\right)\n",
    "$$\n",
    "\n",
    "当$p=\\infty$时，它是各个坐标距离的最大值，即\n",
    "$$\n",
    "L_{\\infty}(x_i,x_j)=\\max_l|x_i^{(l)}-x_j^{(l)}|\n",
    "$$"
   ]
  },
  {
   "cell_type": "code",
   "execution_count": 4,
   "metadata": {},
   "outputs": [],
   "source": [
    "import numpy as np\n",
    "import pandas as pd\n",
    "import networkx as nx\n",
    "import time"
   ]
  },
  {
   "cell_type": "code",
   "execution_count": 5,
   "metadata": {},
   "outputs": [],
   "source": [
    "def distance(xi, xj, p=2):\n",
    "    if np.isinf(p):\n",
    "        return np.max(np.abs(xi - xj))\n",
    "    else:\n",
    "        return np.sum((np.abs(xi - xj))**p)**(1/p)"
   ]
  },
  {
   "cell_type": "code",
   "execution_count": 6,
   "metadata": {},
   "outputs": [],
   "source": [
    "x1 = np.array([1,2,3])\n",
    "x2 = np.array([3,2,1])"
   ]
  },
  {
   "cell_type": "code",
   "execution_count": 7,
   "metadata": {},
   "outputs": [
    {
     "data": {
      "text/plain": [
       "4.0"
      ]
     },
     "execution_count": 7,
     "metadata": {},
     "output_type": "execute_result"
    }
   ],
   "source": [
    "distance(x1, x2, p=1)"
   ]
  },
  {
   "cell_type": "markdown",
   "metadata": {},
   "source": [
    "- 线性搜索"
   ]
  },
  {
   "cell_type": "code",
   "execution_count": 8,
   "metadata": {},
   "outputs": [],
   "source": [
    "def line_search_knn(x, X, k):\n",
    "    dist_list = []\n",
    "    for i in range(len(X)):\n",
    "        dist_list.append([distance(X[i], x), i])\n",
    "        \n",
    "    top_k = sorted(dist_list)[:k]\n",
    "    return top_k"
   ]
  },
  {
   "cell_type": "markdown",
   "metadata": {},
   "source": [
    "## 3. `kd`树"
   ]
  },
  {
   "cell_type": "markdown",
   "metadata": {},
   "source": [
    "### 3.1 构造`kd`树"
   ]
  },
  {
   "cell_type": "markdown",
   "metadata": {},
   "source": [
    "注意，kd树是存储k维空间数据的树结构，这里的k与k近邻中的的k意义不同。通常，依次选择坐标轴对空间划分，选择训练实例点在选定坐标轴上的中位数为切分点，这样得到的kd树是平衡的。\n",
    "\n",
    "kd树是一种对k维空间中的实例点进行存储以便对其进行快速检索的树型数据结构。kd树是二叉树，表示对k维空间的一个划分。构造kd树相当于不断地用垂直于坐标轴的超平面将k维空间切分，构成一系列的k维超矩形区域。\n",
    "\n",
    "kd树的每一个结点对应于一个k维矩形区域。"
   ]
  },
  {
   "cell_type": "markdown",
   "metadata": {},
   "source": [
    "**算法3.2（构造平衡kd数）**\n",
    "- 输入：k维空间数据集$T=\\{(x_1, y_1), (x_2, y_2), ..., (x_N, y_N)\\}$，其中$x_i = (x^{(1)}_i,x^{(2)}_i,...,x^{(n)}_i)^T,i=1,2,...,N$\n",
    "- 输出：kd平衡树\n",
    "- 算法过程：\n",
    "    - 开始：构造根结点，根结点对应于包含T的k维空间的超矩形区域。选择以$x^{(1)}$为坐标轴，以T中所有实例的$x^{(1)}$坐标的*中位数*为切分点，将根结点对应的超矩形区域切分成两个子区域。切分由通过切分点并与坐标轴$x^{(1)}$垂直的超平面实现。由根结点生成深度为1的左右子结点：左子区域对应$x^{(1)}$小于切分点的子区域，右子区域对应$x^{(1)}$大于切分点的子区域。将落在切分超平面上的实例点保存在根结点。\n",
    "    - 重复：对深度为j的结点，选择$x^{(l)}$为切分的坐标轴，$l=(j\\ \\text{mod}\\ k) + 1$，以该节点的区域所有实例的$x^{(1)}$坐标的中位数为切分点，将该结点对应的超矩形区域切分为两个子区域。切分由通过切分点并与坐标轴$x^{(j)}$垂直的超平面实现。由根结点生成深度为$j+1$的左右子结点：左子区域对应$x^{(l)}$小于切分点的子区域，右子区域对应$x^{(l)}$大于切分点的子区域。将落在切分超平面上的实例点保存在该结点。\n",
    "    - 直到两个区域没有实例存在时停止。从而形成kd树的区域划分。\n",
    " "
   ]
  },
  {
   "cell_type": "markdown",
   "metadata": {},
   "source": [
    "问题：\n",
    "- 如果使用中位数作为切分点，非叶结点上可能没有数据，如何处理？\n",
    "- 多个数据保留在非叶结点上，如何处理？\n",
    "- 倒数第二层只有2个结点，继续分时缺少右子结点，如何继续往下分？"
   ]
  },
  {
   "cell_type": "markdown",
   "metadata": {},
   "source": [
    "#### 3.1.1. 基于递归生成kd树"
   ]
  },
  {
   "cell_type": "markdown",
   "metadata": {},
   "source": [
    "结点如何生长？\n",
    "- 如果结点对应数据个数不大于1，则停止增长\n",
    "- 如果结点对应数据个数大于1，则继续生成两个后代结点\n",
    "    - 按照指定维度的数据切分为两部分，下分给两个后代节点\n",
    "\n",
    "可以利用递归思想生成kd树。"
   ]
  },
  {
   "cell_type": "code",
   "execution_count": 9,
   "metadata": {},
   "outputs": [],
   "source": [
    "def generate_node_id(start=0, step=1):\n",
    "    '''\n",
    "    用于生成结点编号\n",
    "    '''\n",
    "    node_id = start\n",
    "    while True:\n",
    "        yield node_id\n",
    "        node_id += step"
   ]
  },
  {
   "cell_type": "code",
   "execution_count": 43,
   "metadata": {},
   "outputs": [],
   "source": [
    "def gen_kdTree_recur(X, y, dim, node_id=0, kd_tree=nx.DiGraph()):\n",
    "    '''\n",
    "    X: ndarray\n",
    "    y: ndarray\n",
    "    k: 实例的维度\n",
    "    dim: 当前结点所处的维度\n",
    "    node_id: 当前结点的编号\n",
    "    '''\n",
    "    k = X.shape[1]\n",
    "    if node_id == 0:  # 根结点\n",
    "        kd_tree.add_node(node_id)\n",
    "        \n",
    "    if y.size >= 2:  # 如果有两个以上的结点，继续往下分\n",
    "        x_dim = X[:, dim]  # 取当前维度数据\n",
    "        next_dim = (dim + 1) % k  # 获取下一代结点数据的切分维度\n",
    "        s_indices = np.argsort(x_dim)  # 获取按x_dim由小到大排序的各特征索引\n",
    "        m = len(s_indices) // 2  # 中间或中间靠左的索引\n",
    "        l_indices = s_indices[:m]  # 左子区域索引\n",
    "        m_idx = s_indices[m]  # 留在结点上的数据索引\n",
    "        r_indices = s_indices[m + 1:]  # 右子区域索引\n",
    "        l_X, l_y = X[l_indices], y[l_indices]\n",
    "        r_X, r_y = X[r_indices], y[r_indices]\n",
    "        l_node_id = next(nodeId_gen)  # 获取下一个结点编号\n",
    "        r_node_id = next(nodeId_gen)\n",
    "        # 添加当前结点到子节点的连边\n",
    "        kd_tree.add_edges_from([(node_id, l_node_id), (node_id, r_node_id)])  \n",
    "        kd_tree.nodes[node_id][\"l_succ\"] = l_node_id\n",
    "        kd_tree.nodes[node_id][\"r_succ\"] = r_node_id\n",
    "        kd_tree.nodes[node_id][\"dim\"] = dim  # 结点的切分维度\n",
    "        kd_tree.nodes[node_id][\"point\"] = (X[m_idx], y[m_idx])  # 当前结点上的数据\n",
    "        kd_tree = gen_kdTree_recur(l_X, l_y, next_dim, l_node_id, kd_tree)  # 递归左子结点\n",
    "        kd_tree = gen_kdTree_recur(r_X, r_y, next_dim, r_node_id, kd_tree)  # 递归左子结点\n",
    "    else:  # 如果少于2个结点，则将当前结点设为叶结点\n",
    "        kd_tree.nodes[node_id]['node_type'] = 'leaf'\n",
    "        if y.size == 1:\n",
    "            kd_tree.nodes[node_id][\"dim\"] = dim  # 结点的继续切分维度\n",
    "            kd_tree.nodes[node_id][\"point\"] = (X[0], y[0])\n",
    "        else:\n",
    "            p_node_id = list(kd_tree.predecessors(node_id))[0]\n",
    "            # 有些叶结点可能没有数据，为了简化接下来的搜索程序，该结点取父结点的数据\n",
    "            kd_tree.nodes[node_id][\"dim\"] = kd_tree.nodes[p_node_id][\"dim\"]\n",
    "            kd_tree.nodes[node_id][\"point\"] = kd_tree.nodes[p_node_id][\"point\"]\n",
    "            \n",
    "    return kd_tree"
   ]
  },
  {
   "cell_type": "code",
   "execution_count": 149,
   "metadata": {},
   "outputs": [],
   "source": [
    "X = np.random.randint(low=0, high=100, size=(10000, 6))\n",
    "y = np.ones(X.shape[0], dtype=np.int)\n",
    "y[np.random.rand(y.size) < 0.5] = 0\n",
    "dim = 0\n",
    "nodeId_gen = generate_node_id(start=0)  # 用于生成结点编号\n",
    "root_nodeId = next(nodeId_gen)\n",
    "tree = gen_kdTree_recur(X, y, dim=0, node_id=root_nodeId, kd_tree=nx.DiGraph())"
   ]
  },
  {
   "cell_type": "code",
   "execution_count": 150,
   "metadata": {},
   "outputs": [
    {
     "data": {
      "text/plain": [
       "11809"
      ]
     },
     "execution_count": 150,
     "metadata": {},
     "output_type": "execute_result"
    }
   ],
   "source": [
    "tree.number_of_nodes()"
   ]
  },
  {
   "cell_type": "markdown",
   "metadata": {},
   "source": [
    "#### 3.1.2 基于循环生成kd树"
   ]
  },
  {
   "cell_type": "code",
   "execution_count": 157,
   "metadata": {},
   "outputs": [
    {
     "data": {
      "text/plain": [
       "array([826.46412711, 829.637416  , 821.16706559, 840.14654591,\n",
       "       822.18911616, 832.71842831])"
      ]
     },
     "execution_count": 157,
     "metadata": {},
     "output_type": "execute_result"
    }
   ],
   "source": [
    "np.var(X, axis=0)"
   ]
  },
  {
   "cell_type": "code",
   "execution_count": 158,
   "metadata": {},
   "outputs": [
    {
     "data": {
      "text/plain": [
       "array([[46, 81, 16, 55, 83, 13],\n",
       "       [26, 23, 85,  8, 79, 71],\n",
       "       [95, 14, 64, 88, 24,  1],\n",
       "       [46, 37, 29,  8, 95, 52],\n",
       "       [15, 60, 67, 65, 35, 79],\n",
       "       [54, 59, 44, 57, 65, 29],\n",
       "       [63, 49, 67, 45,  7, 97],\n",
       "       [77, 73, 50, 67, 25, 89],\n",
       "       [23, 82, 97, 61, 75,  6],\n",
       "       [89, 82, 76, 76, 52,  4]])"
      ]
     },
     "execution_count": 158,
     "metadata": {},
     "output_type": "execute_result"
    }
   ],
   "source": [
    "X[:10]"
   ]
  },
  {
   "cell_type": "code",
   "execution_count": 13,
   "metadata": {},
   "outputs": [],
   "source": [
    "def generate_kd_tree(X, y):\n",
    "    '''\n",
    "    X: ndarray\n",
    "    y: ndarray\n",
    "    '''\n",
    "    k = X.shape[1]  # X的维度k\n",
    "    kd_tree = nx.DiGraph()\n",
    "    node_id = 0\n",
    "    no_tag_nodes = [node_id]\n",
    "    kd_tree.add_node(node_id)\n",
    "    kd_tree.nodes[node_id][\"X\"] = X\n",
    "    kd_tree.nodes[node_id][\"y\"] = y\n",
    "    kd_tree.nodes[node_id][\"node_type\"] = 'root'\n",
    "    i = 0\n",
    "    while no_tag_nodes:\n",
    "        new_nodes = []\n",
    "#         dim = i % k  # 当前的维度\n",
    "        for node in no_tag_nodes:\n",
    "            c_X = kd_tree.nodes[node][\"X\"]\n",
    "            c_y = kd_tree.nodes[node][\"y\"]\n",
    "            dim = np.argmax(np.var(c_X, axis=0))\n",
    "            x_dim = c_X[:, dim]\n",
    "            if len(x_dim) >= 2:  # 如果有2个以上样本，则继续分\n",
    "                kd_tree.nodes[node][\"dim\"] = dim  # 结点的切分维度\n",
    "                s_indices = np.argsort(x_dim)\n",
    "                m = len(s_indices)//2  # 中间的索引\n",
    "                l_indices = s_indices[:m]  # 左子区域\n",
    "                m_idx = s_indices[m]  # 留在结点上\n",
    "                r_indices = s_indices[m + 1: ]  # 右子区域\n",
    "                l_X, l_y = c_X[l_indices], c_y[l_indices]\n",
    "                r_X, r_y = c_X[r_indices], c_y[r_indices]\n",
    "                \n",
    "                # 左子结点\n",
    "                node_id += 1\n",
    "                kd_tree.add_edge(node, node_id)\n",
    "                kd_tree.nodes[node_id][\"X\"] = l_X\n",
    "                kd_tree.nodes[node_id][\"y\"] = l_y\n",
    "                kd_tree.nodes[node_id]['node_type'] = 'non_leaf'\n",
    "                kd_tree.nodes[node][\"l_succ\"] = node_id\n",
    "                new_nodes.append(node_id)\n",
    "                \n",
    "                # 右子结点\n",
    "                node_id += 1\n",
    "                kd_tree.add_edge(node, node_id)\n",
    "                kd_tree.nodes[node_id]['node_type'] = 'non_leaf'\n",
    "                new_nodes.append(node_id)\n",
    "                kd_tree.nodes[node_id][\"X\"] = r_X\n",
    "                kd_tree.nodes[node_id][\"y\"] = r_y\n",
    "                kd_tree.nodes[node][\"r_succ\"] = node_id                    \n",
    "                \n",
    "                # 结点node上的数据\n",
    "                kd_tree.nodes[node][\"point\"] = (c_X[m_idx], c_y[m_idx])\n",
    "            else:\n",
    "                kd_tree.nodes[node]['node_type'] = 'leaf'\n",
    "                if len(x_dim) == 1:\n",
    "                    kd_tree.nodes[node][\"point\"] = (c_X[0], c_y[0])\n",
    "                    kd_tree.nodes[node][\"dim\"] = dim  # 结点的切分维度\n",
    "                else:  # 若不存在数据\n",
    "                    p_node = list(kd_tree.predecessors(node))[0]\n",
    "                    kd_tree.nodes[node][\"point\"] = kd_tree.nodes[p_node][\"point\"]  # 设为父结点的数据\n",
    "                    kd_tree.nodes[node][\"dim\"] = kd_tree.nodes[p_node][\"dim\"]\n",
    "            \n",
    "        i += 1\n",
    "        no_tag_nodes = new_nodes\n",
    "        \n",
    "    return kd_tree"
   ]
  },
  {
   "cell_type": "code",
   "execution_count": 14,
   "metadata": {},
   "outputs": [
    {
     "data": {
      "text/plain": [
       "(array([0]), 1, array([], dtype=int64))"
      ]
     },
     "execution_count": 14,
     "metadata": {},
     "output_type": "execute_result"
    }
   ],
   "source": [
    "i = 2\n",
    "a = np.arange(i)\n",
    "a[:int(i/2)], a[int(i/2)], a[int(i/2) + 1:]"
   ]
  },
  {
   "cell_type": "markdown",
   "metadata": {},
   "source": [
    "- 随机生成实例"
   ]
  },
  {
   "cell_type": "code",
   "execution_count": null,
   "metadata": {},
   "outputs": [],
   "source": [
    "X = np.random.randint(low=0, high=100, size=(100, 6))\n",
    "y = np.ones(X.shape[0], dtype=np.int)\n",
    "y[np.random.rand(y.size) < 0.5] = 0\n",
    "\n",
    "kd_tree = generate_kd_tree(X, y)\n",
    "\n",
    "kd_tree.number_of_nodes()"
   ]
  },
  {
   "cell_type": "markdown",
   "metadata": {},
   "source": [
    "> 练习: 以上算法实现实践了《统计学习方法》一书中的特征维度选择办法。另一种特征维度选择办法为，计算当前节点数据集每一个特征维度的方差，选择方差最大的维度作为当前节点继续划分的维度。请完成该特征选择方法的`kd`树生成算法。"
   ]
  },
  {
   "cell_type": "code",
   "execution_count": null,
   "metadata": {},
   "outputs": [],
   "source": []
  },
  {
   "cell_type": "markdown",
   "metadata": {},
   "source": [
    "### 3.2 基于kd树搜索目标数据的最优k近邻"
   ]
  },
  {
   "cell_type": "markdown",
   "metadata": {},
   "source": [
    "**算法3.3 （基于kd树的k最优近邻搜索）**\n",
    "\n",
    "- 输入: 已构造的`kd`树，目标点`x`，邻居数量`k`\n",
    "- 输出: x的k个最近邻`k_list`\n",
    "- 算法过程\n",
    "    - (1)在`kd`树中找到包含目标点`x`的**某一**叶结点：\n",
    "        - 从根节点出发，递归地向下访问`kd`树：如果目标点x当前维的坐标小于等于切分点的坐标，则移动到左子结点；否则移动到右子结点，直到子结点为叶结点为止；\n",
    "        - 令叶结点为当前结点`node`；\n",
    "    - (2)计算`node`至`x`的距离，并将`node`保存至回退历史列表`trace_list`，将`(dist(node, x), node)`保存至`k_list`;\n",
    "    - (3)如果`node`是根结点，则跳转至(4); 否则，进行以下循环\n",
    "        - (3.1)获取`node`的父结点`p_node`;\n",
    "        - (3.2)如果`p_node`不在`trace_list`中，则将`p_node`添加至`trace_list`，并计算x到`p_node`和`p_node`所在切割面的距离`dist_x_pnode`、`dist_x_div`；\n",
    "            - (3.2.1)判断是否将`p_node`添加至`k_list`: \n",
    "                - 如果`k_list`中的元素个数小于k，则将`(dist_pnode_x, p_node)`保存至`k_list`，并对`k_list`按距离从小到大排序；\n",
    "                - 否则，如果`dist_pnode_x`小于`k_list`的最大距离，则`(dist_pnode_x, p_node)`替换`k_list`的最后一个元素，对`k_list`按距离从小到大排序;\n",
    "            - (3.2.2)判断是否遍历`p_node`的另一分支：\n",
    "                - 如果`dist_x_div`小于`k_list`的最大距离，则遍历`p_node`的另一分支，得到其距离`x`最近的点，并将其设为下一轮需判断的结点`node`；并将`node`保存至回退历史列表`trace_list`，计算`node`至`x`的距离`dist_node_x`，并根据(3.2.1)过程判断是否应将`node`添加至`k_list`;\n",
    "                - 否则更新`node := p_node`;\n",
    "        - (3.3)否则，更新`node := p_node`;\n",
    "    - (4)返回`k_list`"
   ]
  },
  {
   "cell_type": "markdown",
   "metadata": {},
   "source": [
    "**算法3.3 （基于kd树的k最优近邻搜索）**\n",
    "\n",
    "- 输入: 已构造的`kd`树，目标点`x`，邻居数量`k`\n",
    "- 输出: x的k个最近邻`k_list`\n",
    "- 算法过程\n",
    "    - 在`kd`树中找到包含目标点`x`的**某一**叶结点：\n",
    "        - 从根节点出发，递归地向下访问`kd`树：如果目标点x当前维的坐标小于等于切分点的坐标，则移动到左子结点；否则移动到右子结点，直到子结点为叶结点为止；\n",
    "        - 令叶结点为当前结点`node`；\n",
    "    - 如果`node is None`，则跳转至(3); 否则，进行以下循环\n",
    "        - 如果`node`已被访问过，则下一轮的结点为`node`的父结点`parent_node`，即`node:=parent_node`\n",
    "        - 否则\n",
    "            - 将`node`标记为已访问\n",
    "            - 计算`node`至`x`的距离`dist_node_x`，如果**`k_list`的元素个数小于`k`**或者**`dist_node_x`小于`k_list`中的最远距离**，将`(dist_node_x, node)`添加至`k_list`，且保留距离`x`最近的`k`个距离及其结点;\n",
    "            - 判断下一轮需访问的结点\n",
    "                - 如果`node`为叶结点，则下一轮的结点为`node`的父结点`parent_node`，即`node:=parent_node`\n",
    "                - 如果`node`为非叶结点，计算x至`node`分割平面的距离`dist_div_x`\n",
    "                    - 如果`dist_div_x`大于等于k_list中的最大距离\n",
    "                        - 若`node`有父结点，则`node:=parent_node`\n",
    "                        - 若`node`无父结点(即为跟节点)，则`node:=None`\n",
    "                    - 如果`dist_div_x`小于k_list中的最大距离，则搜索以`node`未被访问的另一分支，找到该分支距离`x`最近的叶结点，并将其设为`node`\n",
    "    - 返回`k_list`"
   ]
  },
  {
   "cell_type": "markdown",
   "metadata": {},
   "source": [
    "问题:\n",
    "- 搜索时，如果目标数据刚好处在分割平面上，如何处理？"
   ]
  },
  {
   "cell_type": "markdown",
   "metadata": {},
   "source": [
    "> 在kd树中找到包含目标数据x的叶结点，如果x处于的交界面上，则可选择任意方向往下遍历至叶结点，在搜索最近邻时必将搜索其它结点"
   ]
  },
  {
   "cell_type": "markdown",
   "metadata": {},
   "source": [
    "- 函数`search_kd_tree`用于确定kd_tree中以node为根结点子树的距离x最近的叶结点"
   ]
  },
  {
   "cell_type": "code",
   "execution_count": 16,
   "metadata": {},
   "outputs": [],
   "source": [
    "def search_kd_tree(x, node, kd_tree):\n",
    "    '''\n",
    "    搜索node在哪个区域(叶结点)\n",
    "    '''\n",
    "    if kd_tree.nodes[node]['node_type'] != 'leaf':\n",
    "        dim = kd_tree.nodes[node]['dim']\n",
    "        median = kd_tree.nodes[node][\"point\"][0][dim]\n",
    "        if x[dim] <= median:  # 如果刚好处在内部结点所在的切割面上，则往左子节点走\n",
    "            return search_kd_tree(x, kd_tree.nodes[node]['l_succ'], kd_tree)\n",
    "        else:  # 右子结点\n",
    "            return search_kd_tree(x, kd_tree.nodes[node]['r_succ'], kd_tree)\n",
    "    else:\n",
    "        return node"
   ]
  },
  {
   "cell_type": "code",
   "execution_count": 17,
   "metadata": {},
   "outputs": [
    {
     "data": {
      "text/plain": [
       "array([79, 27,  7, 67, 63, 55])"
      ]
     },
     "execution_count": 17,
     "metadata": {},
     "output_type": "execute_result"
    }
   ],
   "source": [
    "x = np.random.randint(low=0, high=100, size=6)\n",
    "x"
   ]
  },
  {
   "cell_type": "code",
   "execution_count": 18,
   "metadata": {},
   "outputs": [
    {
     "name": "stdout",
     "output_type": "stream",
     "text": [
      "101\n",
      "leaf\n"
     ]
    }
   ],
   "source": [
    "n = search_kd_tree(x, 0, kd_tree)\n",
    "print(n)\n",
    "print(kd_tree.nodes[n]['node_type'])"
   ]
  },
  {
   "cell_type": "markdown",
   "metadata": {},
   "source": [
    "- 辅助函数，将列表元素压缩为1维"
   ]
  },
  {
   "cell_type": "code",
   "execution_count": 19,
   "metadata": {},
   "outputs": [],
   "source": [
    "def flatten(a_list, result=[]):\n",
    "    for a in a_list:\n",
    "        if isinstance(a, list):\n",
    "            result = flatten(a, result=result)\n",
    "        else:\n",
    "            result.append(a)\n",
    "            \n",
    "    return result"
   ]
  },
  {
   "cell_type": "code",
   "execution_count": 20,
   "metadata": {},
   "outputs": [
    {
     "data": {
      "text/plain": [
       "[1, 2, 3, 4, 5, 6, 7]"
      ]
     },
     "execution_count": 20,
     "metadata": {},
     "output_type": "execute_result"
    }
   ],
   "source": [
    "a = [1, [2, [3, [4, [5, [6], [7]]]]]]\n",
    "flat_a = flatten(a, result=[])\n",
    "flat_a"
   ]
  },
  {
   "cell_type": "markdown",
   "metadata": {},
   "source": [
    "**从叶节点回退，并寻找k个最近邻**\n",
    "> 关键决策: 继续回退父结点 or 遍历另一兄弟结点分支 "
   ]
  },
  {
   "cell_type": "markdown",
   "metadata": {},
   "source": [
    "- 写法1"
   ]
  },
  {
   "cell_type": "code",
   "execution_count": 22,
   "metadata": {},
   "outputs": [],
   "source": [
    "def find_k_neighbors_1(x, node, k, kd_tree):\n",
    "    '''\n",
    "    从叶结点node回退\n",
    "    k_list保存离x最近的k个点\n",
    "    '''\n",
    "    k_list, trace_list = [], []\n",
    "    while node is not None:\n",
    "        if node not in trace_list:\n",
    "            trace_list.append(node)\n",
    "            dim = kd_tree.nodes[node]['dim']  # 结点的切分维度\n",
    "            node_x = kd_tree.nodes[node]['point'][0]  # 结点保存的数据特征x\n",
    "            dist_node_x = distance(x, node_x)  # x到node的距离\n",
    "            dist_div_x = np.abs(node_x[dim] - x[dim])  # x 到 node所在切割面的距离\n",
    "            # 更新k_list\n",
    "            if (len(k_list) < k or dist_node_x < k_list[-1][0]) and kd_tree.nodes[node]['y'].size > 0:\n",
    "                k_list.append([dist_node_x, node])\n",
    "                k_list = sorted(k_list)[:k]\n",
    "            # 获取下一个需要遍历的点\n",
    "            # 1. 叶结点\n",
    "            if kd_tree.nodes[node]['node_type'] == 'leaf':  # 往上\n",
    "                parent_nodes = list(kd_tree.predecessors(node))  # 获取node的直接父结点\n",
    "                node = parent_nodes[0] if parent_nodes else None\n",
    "            else: # 2. 非叶结点\n",
    "                if dist_div_x > k_list[-1][0]:  # 往上\n",
    "                    parent_nodes = list(kd_tree.predecessors(node))  # 获取node的直接父结点\n",
    "                    node = parent_nodes[0] if parent_nodes else None\n",
    "                else:  # 往下\n",
    "                    t_node = [i for i in kd_tree.successors(node) if i not in trace_list][0]\n",
    "                    node = search_kd_tree(x, t_node, kd_tree)\n",
    "        else:  # 若被遍历过，则查看其父结点\n",
    "            c_nodes = list(kd_tree.predecessors(node))\n",
    "            node = c_nodes[0] if c_nodes else None\n",
    "            \n",
    "    return k_list"
   ]
  },
  {
   "cell_type": "markdown",
   "metadata": {},
   "source": [
    "- 写法2"
   ]
  },
  {
   "cell_type": "code",
   "execution_count": 23,
   "metadata": {},
   "outputs": [],
   "source": [
    "# 写法2\n",
    "def find_k_neighbors_2(x, node, k, kd_tree):\n",
    "    '''\n",
    "    从叶结点node回退\n",
    "    k_list保存离x最近的k个点\n",
    "    '''\n",
    "    k_list, trace_list = [], []\n",
    "    while node is not None:\n",
    "        # 1. 若被遍历过，则查看其父结点\n",
    "        if node in trace_list:\n",
    "            c_nodes = list(kd_tree.predecessors(node))\n",
    "            node = c_nodes[0] if c_nodes else None\n",
    "            continue\n",
    "\n",
    "        trace_list.append(node)\n",
    "        dim = kd_tree.nodes[node]['dim']  # 结点的切分维度\n",
    "        node_x = kd_tree.nodes[node]['point'][0]  # 结点保存的数据特征x\n",
    "        dist_node_x = distance(x, node_x)  # x到node的距离\n",
    "        dist_div_x = np.abs(node_x[dim] - x[dim])  # x 到 node所在切割面的距离\n",
    "        # 更新k_list\n",
    "        if (len(k_list) < k or dist_node_x < k_list[-1][0]) and kd_tree.nodes[node]['y'].size > 0:\n",
    "            k_list.append([dist_node_x, node])\n",
    "            k_list = sorted(k_list)[:k]\n",
    "            \n",
    "        # 2. 叶结点\n",
    "        if kd_tree.nodes[node]['node_type'] == 'leaf':  # 往上\n",
    "            parent_nodes = list(kd_tree.predecessors(node))  # 获取node的直接父结点\n",
    "            node = parent_nodes[0] if parent_nodes else None\n",
    "            continue\n",
    "        \n",
    "        # 3. 非叶结点\n",
    "        if dist_div_x > k_list[-1][0]:  # 往上\n",
    "            parent_nodes = list(kd_tree.predecessors(node))  # 获取node的直接父结点\n",
    "            node = parent_nodes[0] if parent_nodes else None\n",
    "        else:  # 往下\n",
    "            t_node = [i for i in kd_tree.successors(node) if i not in trace_list][0]\n",
    "            node = search_kd_tree(x, t_node, kd_tree)\n",
    "            \n",
    "    return k_list"
   ]
  },
  {
   "cell_type": "markdown",
   "metadata": {},
   "source": [
    "- 写法3"
   ]
  },
  {
   "cell_type": "code",
   "execution_count": 24,
   "metadata": {},
   "outputs": [],
   "source": [
    "def update_nextNode_kList(x, node, k, k_list, trace_list, kd_tree):\n",
    "    dim = kd_tree.nodes[node]['dim']  # 结点的切分维度\n",
    "    node_x = kd_tree.nodes[node]['point'][0]  # 结点保存的数据特征x\n",
    "    dist_node_x = distance(x, node_x)  # x到node的距离\n",
    "    dist_div_x = np.abs(node_x[dim] - x[dim])  # x 到 node所在切割面的距离\n",
    "    # 更新k_list\n",
    "    if (len(k_list) < k or dist_node_x < k_list[-1][0]) and kd_tree.nodes[node]['y'].size > 0:\n",
    "        k_list.append([dist_node_x, node])\n",
    "        k_list = sorted(k_list)[:k]\n",
    "    # 获取下一个需要遍历的点\n",
    "    # 1. 叶结点\n",
    "    if kd_tree.nodes[node]['node_type'] == 'leaf':  # 往上\n",
    "        parent_nodes = list(kd_tree.predecessors(node))  # 获取node的直接父结点\n",
    "        return parent_nodes[0] if parent_nodes else None, k_list\n",
    "    # 2. 非叶结点   \n",
    "    if dist_div_x > k_list[-1][0]:  # 往上\n",
    "        parent_nodes = list(kd_tree.predecessors(node))  # 获取node的直接父结点\n",
    "        return parent_nodes[0] if parent_nodes else None, k_list\n",
    "    else:  # 往下\n",
    "        s_nodes = [i for i in kd_tree.successors(node) if i not in trace_list]\n",
    "        t_node = s_nodes[0]\n",
    "        return search_kd_tree(x, t_node, kd_tree), k_list"
   ]
  },
  {
   "cell_type": "code",
   "execution_count": 25,
   "metadata": {},
   "outputs": [],
   "source": [
    "def find_k_neighbors_3(x, node, k, kd_tree):\n",
    "    '''\n",
    "    从叶结点node回退\n",
    "    k_list保存离x最近的k个点\n",
    "    '''\n",
    "    k_list, trace_list = [], []\n",
    "    while node is not None:  # 如果node不为None(即不为根结点的父结点) 注意, while node将不遍历根结点\n",
    "        if node not in trace_list:  # 若node没被遍历过\n",
    "            trace_list.append(node)  # 登记node\n",
    "            node, k_list = update_nextNode_kList(x, node, k, k_list, trace_list, kd_tree)  # 更新k_list & 下一轮需判断的结点\n",
    "        else:  # 若被遍历过，则查看其父结点\n",
    "            c_nodes = list(kd_tree.predecessors(node))\n",
    "            node = c_nodes[0] if c_nodes else None     \n",
    "    return k_list "
   ]
  },
  {
   "cell_type": "markdown",
   "metadata": {},
   "source": [
    "### 3.3 示例 "
   ]
  },
  {
   "cell_type": "code",
   "execution_count": 26,
   "metadata": {},
   "outputs": [
    {
     "data": {
      "text/plain": [
       "127"
      ]
     },
     "execution_count": 26,
     "metadata": {},
     "output_type": "execute_result"
    }
   ],
   "source": [
    "# 生成示例数据\n",
    "X = np.random.randint(low=0, high=100, size=(100, 6))\n",
    "y = np.ones(X.shape[0], dtype=np.int)\n",
    "y[np.random.rand(y.size) < 0.5] = 0\n",
    "\n",
    "kd_tree = generate_kd_tree(X, y)\n",
    "kd_tree.number_of_nodes()"
   ]
  },
  {
   "cell_type": "code",
   "execution_count": 27,
   "metadata": {},
   "outputs": [
    {
     "data": {
      "text/plain": [
       "array([73, 89, 56, 88, 43, 80])"
      ]
     },
     "execution_count": 27,
     "metadata": {},
     "output_type": "execute_result"
    }
   ],
   "source": [
    "# 待预测实例\n",
    "x = np.random.randint(low=0, high=100, size=6)\n",
    "x"
   ]
  },
  {
   "cell_type": "code",
   "execution_count": 28,
   "metadata": {},
   "outputs": [
    {
     "name": "stdout",
     "output_type": "stream",
     "text": [
      "118\n"
     ]
    }
   ],
   "source": [
    "# 初始叶结点\n",
    "n = search_kd_tree(x, 0, kd_tree)\n",
    "print(n)"
   ]
  },
  {
   "cell_type": "code",
   "execution_count": 29,
   "metadata": {},
   "outputs": [
    {
     "data": {
      "text/plain": [
       "[[42.42640687119285, 10],\n",
       " [42.473521163190604, 62],\n",
       " [50.1398045468867, 41],\n",
       " [50.547007824400445, 57],\n",
       " [53.422841556772326, 22]]"
      ]
     },
     "execution_count": 29,
     "metadata": {},
     "output_type": "execute_result"
    }
   ],
   "source": [
    "# 写法1\n",
    "k_list = find_k_neighbors_1(x, n, 5, kd_tree)\n",
    "k_list"
   ]
  },
  {
   "cell_type": "code",
   "execution_count": 30,
   "metadata": {},
   "outputs": [
    {
     "data": {
      "text/plain": [
       "[[42.42640687119285, 10],\n",
       " [42.473521163190604, 62],\n",
       " [50.1398045468867, 41],\n",
       " [50.547007824400445, 57],\n",
       " [53.422841556772326, 22]]"
      ]
     },
     "execution_count": 30,
     "metadata": {},
     "output_type": "execute_result"
    }
   ],
   "source": [
    "# 写法2\n",
    "k_list = find_k_neighbors_2(x, n, 5, kd_tree)\n",
    "k_list"
   ]
  },
  {
   "cell_type": "code",
   "execution_count": 31,
   "metadata": {},
   "outputs": [
    {
     "data": {
      "text/plain": [
       "[[42.42640687119285, 10],\n",
       " [42.473521163190604, 62],\n",
       " [50.1398045468867, 41],\n",
       " [50.547007824400445, 57],\n",
       " [53.422841556772326, 22]]"
      ]
     },
     "execution_count": 31,
     "metadata": {},
     "output_type": "execute_result"
    }
   ],
   "source": [
    "# 写法3\n",
    "k_list = find_k_neighbors_3(x, n, 5, kd_tree)\n",
    "k_list"
   ]
  },
  {
   "cell_type": "code",
   "execution_count": 33,
   "metadata": {},
   "outputs": [
    {
     "data": {
      "text/plain": [
       "[[42.42640687119285, 56],\n",
       " [42.473521163190604, 74],\n",
       " [50.1398045468867, 80],\n",
       " [50.547007824400445, 14],\n",
       " [53.422841556772326, 7]]"
      ]
     },
     "execution_count": 33,
     "metadata": {},
     "output_type": "execute_result"
    }
   ],
   "source": [
    "# 对比验证：线性搜索\n",
    "t1 = time.perf_counter()\n",
    "k_list2 = line_search_knn(x, X, k=5)\n",
    "k_list2"
   ]
  },
  {
   "cell_type": "markdown",
   "metadata": {},
   "source": [
    "## 4. 决策规则"
   ]
  },
  {
   "cell_type": "markdown",
   "metadata": {},
   "source": [
    "### 4.1 分类\n",
    "k近邻法中的分类决策规则往往是多数表决，即由输入实例的k个近邻的训练实例中的多数类决定新输入实例的类。\n",
    "\n",
    "多数表决规则有如下解释：如果分类的损失函数为0-1损失函数，分类函数为\n",
    "$$\n",
    "f: \\mathbf{R^n} \\rightarrow \\{c_1,c_2,...,c_K\\}\n",
    "$$\n",
    "那么误分类的概率是\n",
    "$$\n",
    "P(Y\\neq f(X))=1-P(Y=f(X))\n",
    "$$\n",
    "对于给定的实例$x\\in \\chi$，其最近邻的k个训练实例点构成集合$N_k(x)$。如果涵盖$N_k(x)$的区域的类别是$c_j$，那么误分类率是\n",
    "$$\n",
    "\\frac{1}{k}\\sum_{x_i\\in N_k(x)}I(y_i\\neq c_j)=1-\\frac{1}{k}\\sum_{x_i\\in N_k(x)}I(y_i=c_j)\n",
    "$$\n",
    "要使误分类率最小即经验风险最小，就要使$\\sum_{x_i\\in N_k(x)}I(y_i=c_j)$最大，所以多数表决规则等价于经验风险最小化。"
   ]
  },
  {
   "cell_type": "code",
   "execution_count": 61,
   "metadata": {},
   "outputs": [],
   "source": [
    "def majority_vote(x, k_list, kd_tree):\n",
    "    y_dict = {}\n",
    "    for _, node in k_list:\n",
    "        y = kd_tree.nodes[node]['point'][1]\n",
    "        if y in y_dict:\n",
    "            y_dict[y] += 1\n",
    "        else:\n",
    "            y_dict[y] = 1\n",
    "    return sorted(list(y_dict.items()), key=lambda x: x[1])[-1][0]"
   ]
  },
  {
   "cell_type": "code",
   "execution_count": null,
   "metadata": {},
   "outputs": [],
   "source": [
    "y = majority_vote(x, k_list, kd_tree)\n",
    "y"
   ]
  },
  {
   "cell_type": "markdown",
   "metadata": {},
   "source": [
    "### 4.2 回归\n",
    "\n",
    "取`k`近邻对应y的平均值为输入实例的预测值\n",
    "$$\n",
    "\\hat{y} = \\frac{1}{k}\\sum_{x_i\\in N_k(x)}y_i\n",
    "$$"
   ]
  },
  {
   "cell_type": "code",
   "execution_count": null,
   "metadata": {},
   "outputs": [],
   "source": [
    "def average_k_nn(x, k_list, kd_tree):\n",
    "    y_list = []\n",
    "    for _, node in k_list:\n",
    "        y = kd_tree.nodes[node]['point'][1]\n",
    "        y_list.append(y)\n",
    "        \n",
    "    return sum(y_list) / len(y_list)"
   ]
  },
  {
   "cell_type": "code",
   "execution_count": null,
   "metadata": {},
   "outputs": [],
   "source": [
    "y = average_k_nn(x, k_list, kd_tree)\n",
    "y"
   ]
  },
  {
   "cell_type": "markdown",
   "metadata": {},
   "source": [
    "## 5. 应用"
   ]
  },
  {
   "cell_type": "markdown",
   "metadata": {},
   "source": [
    "### 5.1  基于身高和体重预测性别"
   ]
  },
  {
   "cell_type": "markdown",
   "metadata": {},
   "source": [
    "|身高  |体重  |性别  |\n",
    "|:---  |:--- |:--- |\n",
    "|158cm |64kg | 男性 |\n",
    "|170cm |66kg | 男性 |\n",
    "|183cm |84kg | 男性 |\n",
    "|191cm |80kg | 男性 |\n",
    "|155cm |49kg | 女性 |\n",
    "|163cm |59kg | 女性 |\n",
    "|180cm |67kg | 女性 |\n",
    "|158cm |54kg | 女性 |\n",
    "|178cm |77kg | 女性 |"
   ]
  },
  {
   "cell_type": "code",
   "execution_count": 34,
   "metadata": {},
   "outputs": [],
   "source": [
    "%matplotlib inline\n",
    "import matplotlib.pyplot as plt"
   ]
  },
  {
   "cell_type": "code",
   "execution_count": 35,
   "metadata": {},
   "outputs": [],
   "source": [
    "X_train = np.array([\n",
    "    [158, 64],\n",
    "    [170, 86],\n",
    "    [183, 84],\n",
    "    [191, 80],\n",
    "    [155, 49],\n",
    "    [163, 59],\n",
    "    [180, 67],\n",
    "    [158, 54],\n",
    "    [178, 77]\n",
    "])\n",
    "\n",
    "y_train = np.array([1, 1, 1, 1, 0, 0, 0, 0, 0])  # 男性1, 女性0"
   ]
  },
  {
   "cell_type": "code",
   "execution_count": 48,
   "metadata": {},
   "outputs": [],
   "source": [
    "x_test = np.array([\n",
    "    [168, 65],\n",
    "    [180, 96],\n",
    "    [160, 52],\n",
    "    [169, 67]\n",
    "])"
   ]
  },
  {
   "cell_type": "code",
   "execution_count": 37,
   "metadata": {},
   "outputs": [
    {
     "data": {
      "image/png": "[encoded data removed]",
      "text/plain": [
       "<Figure size 432x288 with 1 Axes>"
      ]
     },
     "metadata": {
      "needs_background": "light"
     },
     "output_type": "display_data"
    }
   ],
   "source": [
    "plt.figure()\n",
    "plt.xlabel('Height')\n",
    "plt.ylabel('Weight')\n",
    "\n",
    "for i, x in enumerate(X_train):\n",
    "    plt.scatter(x[0], x[1], c='b' if y_train[i] == 1 else 'r', marker='o' if y_train[i] == 1 else 'd', alpha=0.5)"
   ]
  },
  {
   "cell_type": "code",
   "execution_count": 47,
   "metadata": {},
   "outputs": [],
   "source": [
    "tree = generate_kd_tree(X_train, y_train)"
   ]
  },
  {
   "cell_type": "code",
   "execution_count": 67,
   "metadata": {},
   "outputs": [
    {
     "name": "stdout",
     "output_type": "stream",
     "text": [
      "编号0, 特征[168  65], 预测为女性\n",
      "编号1, 特征[180  96], 预测为男性\n",
      "编号2, 特征[160  52], 预测为女性\n",
      "编号3, 特征[169  67], 预测为女性\n"
     ]
    }
   ],
   "source": [
    "for i, x in enumerate(x_test):\n",
    "    ini_node = search_kd_tree(x, 0, tree)\n",
    "    k_list = find_k_neighbors_1(x, node=0, k=3, kd_tree=tree)\n",
    "    y = majority_vote(x, k_list, kd_tree=tree)\n",
    "    print(f'编号{i}, 特征{x}, 预测为{\"男性\" if y==1 else \"女性\"}')"
   ]
  },
  {
   "cell_type": "markdown",
   "metadata": {},
   "source": [
    "###  5.2 鸢尾花"
   ]
  },
  {
   "cell_type": "code",
   "execution_count": 110,
   "metadata": {},
   "outputs": [],
   "source": [
    "from sklearn import datasets"
   ]
  },
  {
   "cell_type": "code",
   "execution_count": 111,
   "metadata": {},
   "outputs": [],
   "source": [
    "d = datasets.load_iris()"
   ]
  },
  {
   "cell_type": "code",
   "execution_count": 112,
   "metadata": {},
   "outputs": [],
   "source": [
    "x_labels, y_labels = d['feature_names'], d['target_names']"
   ]
  },
  {
   "cell_type": "code",
   "execution_count": 113,
   "metadata": {},
   "outputs": [],
   "source": [
    "rand_idx = np.arange(len(d['target']))\n",
    "np.random.shuffle(rand_idx)"
   ]
  },
  {
   "cell_type": "code",
   "execution_count": 114,
   "metadata": {},
   "outputs": [],
   "source": [
    "t_idx = rand_idx[:100]\n",
    "v_idx = rand_idx[100:]"
   ]
  },
  {
   "cell_type": "code",
   "execution_count": 115,
   "metadata": {},
   "outputs": [],
   "source": [
    "x_train, y_train = d['data'][t_idx], d['target'][t_idx]\n",
    "x_valid, y_valid = d['data'][v_idx], d['target'][v_idx]"
   ]
  },
  {
   "cell_type": "code",
   "execution_count": 116,
   "metadata": {},
   "outputs": [
    {
     "data": {
      "text/plain": [
       "array([1, 2, 1, 2, 2, 1, 1, 0, 1, 1, 2, 2, 2, 2, 1, 2, 2, 0, 1, 1, 0, 0,\n",
       "       1, 0, 0, 2, 0, 2, 0, 0, 0, 2, 1, 2, 1, 1, 1, 2, 0, 2, 2, 0, 1, 0,\n",
       "       2, 2, 2, 1, 2, 1, 0, 2, 0, 0, 0, 0, 1, 2, 1, 0, 1, 2, 0, 1, 1, 0,\n",
       "       2, 1, 2, 2, 2, 0, 2, 1, 0, 1, 0, 2, 0, 1, 0, 0, 0, 0, 0, 1, 0, 1,\n",
       "       0, 1, 0, 2, 2, 0, 1, 1, 1, 1, 0, 2])"
      ]
     },
     "execution_count": 116,
     "metadata": {},
     "output_type": "execute_result"
    }
   ],
   "source": [
    "y_train"
   ]
  },
  {
   "cell_type": "code",
   "execution_count": 146,
   "metadata": {},
   "outputs": [
    {
     "data": {
      "text/plain": [
       "0.98"
      ]
     },
     "execution_count": 146,
     "metadata": {},
     "output_type": "execute_result"
    }
   ],
   "source": [
    "tree = generate_kd_tree(x_train, y_train)\n",
    "pred_y = []\n",
    "for i, x in enumerate(x_valid):\n",
    "    ini_node = search_kd_tree(x, 0, tree)\n",
    "    k_list = find_k_neighbors_1(x, node=0, k=1, kd_tree=tree)\n",
    "    y = majority_vote(x, k_list, kd_tree=tree)\n",
    "    pred_y.append(y)\n",
    "#     print(f'编号{i}, 特征{x}, 预测为{y}, 实例为{y_valid[i]}')\n",
    "\n",
    "pred_y = np.array(pred_y)\n",
    "np.sum(pred_y==y_valid) / y_valid.size"
   ]
  },
  {
   "cell_type": "code",
   "execution_count": 144,
   "metadata": {},
   "outputs": [
    {
     "data": {
      "text/plain": [
       "[[0.5099019513592781, 72],\n",
       " [0.5196152422706629, 73],\n",
       " [0.5385164807134503, 3],\n",
       " [0.5477225575051655, 8],\n",
       " [0.5744562646538026, 71],\n",
       " [0.5830951894845299, 34],\n",
       " [0.6, 69]]"
      ]
     },
     "execution_count": 144,
     "metadata": {},
     "output_type": "execute_result"
    }
   ],
   "source": [
    "k_list"
   ]
  },
  {
   "cell_type": "code",
   "execution_count": null,
   "metadata": {},
   "outputs": [],
   "source": []
  }
 ],
 "metadata": {
  "kernelspec": {
   "display_name": "Python 3",
   "language": "python",
   "name": "python3"
  },
  "language_info": {
   "codemirror_mode": {
    "name": "ipython",
    "version": 3
   },
   "file_extension": ".py",
   "mimetype": "text/x-python",
   "name": "python",
   "nbconvert_exporter": "python",
   "pygments_lexer": "ipython3",
   "version": "3.8.1"
  },
  "toc-autonumbering": false,
  "toc-showmarkdowntxt": false
 },
 "nbformat": 4,
 "nbformat_minor": 4
}
