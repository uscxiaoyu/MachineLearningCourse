{
 "cells": [
  {
   "cell_type": "markdown",
   "metadata": {},
   "source": [
    "# 二. k近邻算法\n",
    "\n",
    "k近邻法(`k-nearest neighbor, k-NN`)是一种基本分类和回归方法(`Cover & Hart, 1968`)。k近邻法的输入为实例的特征向量，对应于特征空间的点，输出为实例的类别，可以取多类。分类时，对新的实例，根据其k个最近邻的训练实例的类别，根据其k个最近邻的训练实例的类别，通过多数表决等方式进行预测。\n",
    "\n",
    "k近邻法不具显式的学习过程，k值的选择、距离度量以及分类决策规则是k近邻法的三要素。难点在于如何高效地定位到输入实例的k个最近邻居。"
   ]
  },
  {
   "cell_type": "markdown",
   "metadata": {},
   "source": [
    "## 1. k近邻算法\n",
    "\n",
    "**算法3.1（k近邻法）**\n",
    "- 输入：训练数据集\n",
    "$$\n",
    "T=\\{(x_1, y_1), (x_2, y_2), ..., (x_N, y_N)\\}\n",
    "$$\n",
    "其中，$x_i\\in\\mathbf{x}\\subset \\mathbf{R^n}$为实例的特征向量，$y_i\\in \\mathbf{y}=\\{c_1,c_2,...,c_K\\}$为实例的类别，$i=1,2,...,N$；实例特征向量$x$；\n",
    "- 输出：实例$x$的所属类$y$\n",
    "- 算法过程\n",
    "    - 根据给定的距离度量，在训练集$T$中找出与$x$最近邻的$k$个点，涵盖这$k$个点的$x$的近邻记作$N_K(x)$\n",
    "    - 在$N_k(x)$中根据分类决策规则决定$x$类别$y$\n",
    "    $$\n",
    "    y=\\mathrm{arg} \\max_{c_j} \\sum_{x_i\\in N_k(x)} I(y_i=c_i),i=1,2,...,N;j=1,2,...,K\n",
    "    $$\n",
    "    上式中，I为指示函数，即当$y_i=c_j$时$I$为1，否则$I$为0."
   ]
  },
  {
   "cell_type": "markdown",
   "metadata": {},
   "source": [
    "## 2. 距离度量\n",
    "\n",
    "- $L_p$距离\n",
    "\n",
    "设特征空间$\\mathbf{X}$是n维实数向量空间$\\mathbf{R^n}$，$x_i, x_j\\in \\mathbf{x}, x_i = (x^{(1)}_i,x^{(2)}_i,...,x^{(n)}_i)^T,x_j=(x_j^{(1)}, x_j^{(2)},... ,x_j^{(n)})^T,x_i,x_j$的$L_p$距离定义为\n",
    "$$\n",
    "L_p(x_i,x_j)=\\left(\\sum_{l=1}^n|x_i^{(l)}-x_j^{(l)}|^p\\right)^{\\frac{1}{p}}\n",
    "$$\n",
    "这里$p\\ge 1$。"
   ]
  },
  {
   "cell_type": "markdown",
   "metadata": {},
   "source": [
    "当$p=2$时，称为欧式距离(`Euclidean distance`)，即\n",
    "$$\n",
    "L_2(x_i,x_j)=\\left(\\sum_{l=1}^n|x_i^{(l)}-x_j^{(l)}|^2\\right)^{\\frac{1}{2}}\n",
    "$$\n",
    "\n",
    "当$p=1$时，称为曼哈顿距离(`Manhattan distance`)，即\n",
    "$$\n",
    "L_1(x_i,x_j)=\\left(\\sum_{l=1}^n|x_i^{(l)}-x_j^{(l)}|\\right)\n",
    "$$\n",
    "\n",
    "当$p=\\infty$时，它是各个坐标距离的最大值，即\n",
    "$$\n",
    "L_{\\infty}(x_i,x_j)=\\max_l|x_i^{(l)}-x_j^{(l)}|\n",
    "$$"
   ]
  },
  {
   "cell_type": "code",
   "execution_count": 14,
   "metadata": {},
   "outputs": [],
   "source": [
    "import numpy as np\n",
    "import pandas as pd\n",
    "import networkx as nx"
   ]
  },
  {
   "cell_type": "code",
   "execution_count": 85,
   "metadata": {},
   "outputs": [],
   "source": [
    "def distance(xi, xj, p=2):\n",
    "    return np.sum((np.abs(xi - xj))**p)**(1/p)"
   ]
  },
  {
   "cell_type": "code",
   "execution_count": 86,
   "metadata": {},
   "outputs": [],
   "source": [
    "x1 = np.array([1,2,3])\n",
    "x2 = np.array([3,2,1])"
   ]
  },
  {
   "cell_type": "code",
   "execution_count": 87,
   "metadata": {},
   "outputs": [
    {
     "data": {
      "text/plain": [
       "4.0"
      ]
     },
     "execution_count": 87,
     "metadata": {},
     "output_type": "execute_result"
    }
   ],
   "source": [
    "distance(x1, x2, p=1)"
   ]
  },
  {
   "cell_type": "markdown",
   "metadata": {},
   "source": [
    "## 3. `kd`树\n",
    "\n",
    "kd树是一种对k维空间中的实例点进行存储以便对其进行快速检索的树型数据结构。kd树是二叉树，表示对k维空间的一个划分。构造kd树相当于不断地用垂直于坐标轴的超平面将k维空间切分，构成一系列的k维超矩形区域。\n",
    "\n",
    "kd树的每一个结点对应于一个k维矩形区域。"
   ]
  },
  {
   "cell_type": "markdown",
   "metadata": {},
   "source": [
    "**算法3.2（构造平衡kd数）**\n",
    "- 输入：k维空间数据集$T=\\{(x_1, y_1), (x_2, y_2), ..., (x_N, y_N)\\}$，其中$x_i = (x^{(1)}_i,x^{(2)}_i,...,x^{(n)}_i)^T,i=1,2,...,N$\n",
    "- 输出：kd平衡树\n",
    "- 算法过程：\n",
    "    - 开始：构造根结点，根结点对应于包含T的k维空间的超矩形区域。选择以$x^{(1)}$为坐标轴，以T中所有实例的$x^{(1)}$坐标的*中位数*为切分点，将根结点对应的超矩形区域切分成两个子区域。切分由通过切分点并与坐标轴$x^{(1)}$垂直的超平面实现。由根结点生成深度为1的左右子结点：左子区域对应$x^{(1)}$小于切分点的子区域，右子区域对应$x^{(1)}$大于切分点的子区域。将落在切分超平面上的实例点保存在根结点。\n",
    "    - 重复：对深度为j的结点，选择$x^{(l)}$为切分的坐标轴，$l=(j \\text{mod} k) + 1$，以该节点的区域所有实例的$x^{(1)}$坐标的中位数为切分点，将该结点对应的超矩形区域切分为两个子区域。切分由通过切分点并与坐标轴$x^{(j)}$垂直的超平面实现。由根结点生成深度为$j+1$的左右子结点：左子区域对应$x^{(l)}$小于切分点的子区域，右子区域对应$x^{(l)}$大于切分点的子区域。将落在切分超平面上的实例点保存在该结点。\n",
    "    - 直到两个区域没有实例存在时停止。从而形成kd树的区域划分。\n",
    " \n",
    "\n",
    "> - 非叶结点上可能没有数据（中位数）\n",
    "> - 数据都保留结点上"
   ]
  },
  {
   "cell_type": "code",
   "execution_count": 69,
   "metadata": {},
   "outputs": [],
   "source": [
    "def generate_kd_tree(df):\n",
    "    X = df[df.columns[:-1]]  # 输入实例\n",
    "    y = df[df.columns[-1]]  # 类别\n",
    "    k = len(X.columns)  # X的维度k\n",
    "    X_columns = X.columns\n",
    "    kd_tree = nx.DiGraph()\n",
    "    node_id = 0\n",
    "    no_tag_nodes = [node_id]\n",
    "    kd_tree.add_node(node_id)\n",
    "    kd_tree.nodes[node_id][\"X\"] = X\n",
    "    kd_tree.nodes[node_id][\"y\"] = y\n",
    "    i = 0\n",
    "    while no_tag_nodes:\n",
    "        new_nodes = []\n",
    "        dim = i % k  # 当前的维度\n",
    "        for node in no_tag_nodes:\n",
    "            c_X = kd_tree.nodes[node][\"X\"]\n",
    "            c_y = kd_tree.nodes[node][\"y\"]\n",
    "            x_dim = c_X[X_columns[dim]]\n",
    "            if len(np.unique(x_dim)) >= 2:  # 如果有2个以上样本，则继续分\n",
    "                median = np.median(c_X[X_columns[dim]].values)\n",
    "                kd_tree.nodes[node][\"dim\"] = dim  # 结点的切分维度\n",
    "                kd_tree.nodes[node][\"median\"] = median\n",
    "                l_indices = c_X[X_columns[dim]] < median  # 左子区域\n",
    "                m_indices = c_X[X_columns[dim]] == median  # 留在node中\n",
    "                r_indices = c_X[X_columns[dim]] > median  # 右子区域\n",
    "                l_X, l_y = c_X[l_indices], c_y[l_indices]\n",
    "                m_X, m_y = c_X[m_indices], c_y[m_indices]\n",
    "                r_X, r_y = c_X[r_indices], c_y[r_indices]\n",
    "                if l_y.size > 0:\n",
    "                    node_id += 1\n",
    "                    kd_tree.add_edge(node, node_id)\n",
    "                    kd_tree.nodes[node_id][\"X\"] = l_X\n",
    "                    kd_tree.nodes[node_id][\"y\"] = l_y\n",
    "                    kd_tree.nodes[node_id][\"node_type\"] = 0\n",
    "                    new_nodes.append(node_id)\n",
    "                \n",
    "                if r_y.size > 0:\n",
    "                    node_id += 1\n",
    "                    kd_tree.add_edge(node, node_id)\n",
    "                    kd_tree.nodes[node_id][\"X\"] = r_X\n",
    "                    kd_tree.nodes[node_id][\"y\"] = r_y\n",
    "                    kd_tree.nodes[node_id][\"node_type\"] = 1\n",
    "                    new_nodes.append(node_id)\n",
    "\n",
    "                if m_y.size != 0:\n",
    "                    kd_tree.nodes[node][\"points\"] = (m_X, m_y)\n",
    "                else:\n",
    "                    kd_tree.nodes[node][\"points\"] = None\n",
    "            else:\n",
    "                kd_tree.nodes[node]['node_type'] = 'leaf'\n",
    "                kd_tree.nodes[node]['points'] = (c_X, c_y)\n",
    "            \n",
    "        i += 1\n",
    "        no_tag_nodes = new_nodes\n",
    "        \n",
    "    return kd_tree"
   ]
  },
  {
   "cell_type": "code",
   "execution_count": 60,
   "metadata": {},
   "outputs": [],
   "source": [
    "data = pd.DataFrame({'x1': [1, 2, 2, 3], 'x2': [-2, -3, -4, 0], 'y': [0, 1, 0, 1]})"
   ]
  },
  {
   "cell_type": "code",
   "execution_count": 22,
   "metadata": {},
   "outputs": [
    {
     "data": {
      "text/plain": [
       "4"
      ]
     },
     "execution_count": 22,
     "metadata": {},
     "output_type": "execute_result"
    }
   ],
   "source": [
    "data.y.size"
   ]
  },
  {
   "cell_type": "code",
   "execution_count": 35,
   "metadata": {},
   "outputs": [
    {
     "data": {
      "text/html": [
       "<div>\n",
       "<style scoped>\n",
       "    .dataframe tbody tr th:only-of-type {\n",
       "        vertical-align: middle;\n",
       "    }\n",
       "\n",
       "    .dataframe tbody tr th {\n",
       "        vertical-align: top;\n",
       "    }\n",
       "\n",
       "    .dataframe thead th {\n",
       "        text-align: right;\n",
       "    }\n",
       "</style>\n",
       "<table border=\"1\" class=\"dataframe\">\n",
       "  <thead>\n",
       "    <tr style=\"text-align: right;\">\n",
       "      <th></th>\n",
       "      <th>x1</th>\n",
       "      <th>x2</th>\n",
       "      <th>y</th>\n",
       "    </tr>\n",
       "  </thead>\n",
       "  <tbody>\n",
       "    <tr>\n",
       "      <th>1</th>\n",
       "      <td>2</td>\n",
       "      <td>-3</td>\n",
       "      <td>1</td>\n",
       "    </tr>\n",
       "    <tr>\n",
       "      <th>2</th>\n",
       "      <td>2</td>\n",
       "      <td>-4</td>\n",
       "      <td>0</td>\n",
       "    </tr>\n",
       "  </tbody>\n",
       "</table>\n",
       "</div>"
      ],
      "text/plain": [
       "   x1  x2  y\n",
       "1   2  -3  1\n",
       "2   2  -4  0"
      ]
     },
     "execution_count": 35,
     "metadata": {},
     "output_type": "execute_result"
    }
   ],
   "source": [
    "data[data.x1 == 2]"
   ]
  },
  {
   "cell_type": "code",
   "execution_count": 70,
   "metadata": {},
   "outputs": [],
   "source": [
    "kd_tree = generate_kd_tree(data)"
   ]
  },
  {
   "cell_type": "code",
   "execution_count": 66,
   "metadata": {},
   "outputs": [],
   "source": [
    "x, y = kd_tree.nodes[2][\"points\"]"
   ]
  },
  {
   "cell_type": "code",
   "execution_count": 112,
   "metadata": {},
   "outputs": [
    {
     "data": {
      "text/plain": [
       "array([1, 2, 2, 2, 3])"
      ]
     },
     "execution_count": 112,
     "metadata": {},
     "output_type": "execute_result"
    }
   ],
   "source": [
    "np.sort([2,1,2,2,3])"
   ]
  },
  {
   "cell_type": "markdown",
   "metadata": {},
   "source": [
    "**算法3.3 （基于kd树的k最优近邻搜索）**\n",
    "\n",
    "- 输入: 已构造的kd树，目标点x，邻居数量k\n",
    "- 输出: x的k个最近邻k_list\n",
    "- 算法过程\n",
    "    - 在kd树种找到包含目标点x的叶结点：从根节点出发，递归地向下访问kd树，若目标点x当前维的坐标小于切分点的坐标，则移动到左子结点，否则移动到右子结点。直到子结点为叶结点为止。\n",
    "    - 将此叶结点添加至k_list\n",
    "    - 递归地向上级结点搜索回退，在每个结点t_node进行以下操作：\n",
    "        - 如果$len(k\\_list) < k$, 则将t_node添加至k_list：如果该点到x的距离大于k_list中所有结点至x的距离，继续往上寻找"
   ]
  },
  {
   "cell_type": "code",
   "execution_count": 72,
   "metadata": {},
   "outputs": [],
   "source": [
    "def search_kd_tree(x, node, kd_tree):\n",
    "    '''\n",
    "    搜索node在哪个区域\n",
    "    '''\n",
    "    if kd_tree.nodes[node]['node_type'] != 'leaf':\n",
    "        dim = kd_tree.nodes[node]['dim']\n",
    "        median = kd_tree.nodes[node]['median']\n",
    "        succesors = sorted(kd_tree.successors(node), key=lambda x: kd_tree.nodes[x][\"node_type\"])\n",
    "        if x[dim] == median:  # 点在内部结点上，同时搜索左右两个子结点\n",
    "            return [search_kd_tree(x, succesors[0], kd_tree), search_kd_tree(x, succesors[1], kd_tree)]\n",
    "        elif x[dim] < median:  # 左子节点\n",
    "            return search_kd_tree(x, succesors[0], kd_tree)\n",
    "        else:  # 右子结点\n",
    "            return search_kd_tree(x, succesors[1], kd_tree)\n",
    "    else:\n",
    "        return node"
   ]
  },
  {
   "cell_type": "code",
   "execution_count": null,
   "metadata": {},
   "outputs": [],
   "source": [
    "def find_k_neighbors(x, k, kd_tree):\n",
    "    '''\n",
    "    从叶结点回退\n",
    "    k_list保存离x最近的k个点（注意，不是结点，一个结点可能保存多个数据点）\n",
    "    '''\n",
    "    k_list = []  # 保存k个最近邻居\n",
    "    travel_list = []  # 结点遍历历史\n",
    "    c_node = search_kd_tree(x, 0, kd_tree)  # 定位到的结点\n",
    "    # 如果c_node为非叶结点，则应该继续搜索这个内部结点的所有子孙结点\n",
    "    if kd_tree.nodes[c_node][\"node_type\"] != 'leaf':\n",
    "        c_x = kd_tree.nodes[c_node][\"X\"].values\n",
    "        travel_list.append(c_node)\n",
    "        k_list.extend([(xi, distance(x, xi)) for xi in c_x])\n",
    "        k_list = sorted(k_list, key=lambda x: x[1])[:k]  # 如果找到了超过k个最近点，则剔除距离最远的几个点\n",
    "    else:\n",
    "        \n",
    "    \n",
    "    while True:\n",
    "        predeccessors = list(kd_tree.predeccessors(node))\n",
    "        if predeccessors:\n",
    "            p_node = predeccessors[0]\n",
    "            X, y = kd_tree.nodes[p_node][\"points\"]\n",
    "            dim = kd_tree.nodes[p_node][\"dim\"]\n",
    "            xi = X[X.columns[dim]]\n",
    "            dists = [(X.index[i], distance(xi, x)) for i, xi in enumerate(X.values)]\n",
    "        else:\n",
    "            \n",
    "        \n",
    "    "
   ]
  },
  {
   "cell_type": "code",
   "execution_count": 73,
   "metadata": {},
   "outputs": [],
   "source": [
    "X = np.array([[1,2,3], [4, 5, 6]])\n",
    "x = np.array([1,1,1])"
   ]
  },
  {
   "cell_type": "code",
   "execution_count": 88,
   "metadata": {},
   "outputs": [
    {
     "name": "stdout",
     "output_type": "stream",
     "text": [
      "2.23606797749979\n",
      "7.0710678118654755\n"
     ]
    }
   ],
   "source": [
    "for i in X.values:\n",
    "    print(distance(i, x))"
   ]
  },
  {
   "cell_type": "code",
   "execution_count": 97,
   "metadata": {},
   "outputs": [
    {
     "name": "stdout",
     "output_type": "stream",
     "text": [
      "0 [ 1 -2  0]\n",
      "1 [ 2 -3  1]\n",
      "2 [ 2 -4  0]\n",
      "3 [3 0 1]\n"
     ]
    }
   ],
   "source": [
    "for i, d in enumerate(data.values):\n",
    "    print(i,d)"
   ]
  },
  {
   "cell_type": "code",
   "execution_count": 105,
   "metadata": {},
   "outputs": [
    {
     "data": {
      "text/plain": [
       "0    1\n",
       "1    2\n",
       "2    2\n",
       "3    3\n",
       "Name: x1, dtype: int64"
      ]
     },
     "execution_count": 105,
     "metadata": {},
     "output_type": "execute_result"
    }
   ],
   "source": [
    "data.x1.values"
   ]
  },
  {
   "cell_type": "code",
   "execution_count": 96,
   "metadata": {},
   "outputs": [
    {
     "data": {
      "text/plain": [
       "0"
      ]
     },
     "execution_count": 96,
     "metadata": {},
     "output_type": "execute_result"
    }
   ],
   "source": [
    "data.index[0]"
   ]
  },
  {
   "cell_type": "code",
   "execution_count": 108,
   "metadata": {},
   "outputs": [
    {
     "data": {
      "text/plain": [
       "array([[ 2, -3,  1]])"
      ]
     },
     "execution_count": 108,
     "metadata": {},
     "output_type": "execute_result"
    }
   ],
   "source": [
    "data.iloc[1:2].values"
   ]
  },
  {
   "cell_type": "code",
   "execution_count": null,
   "metadata": {},
   "outputs": [],
   "source": []
  }
 ],
 "metadata": {
  "kernelspec": {
   "display_name": "Python 3",
   "language": "python",
   "name": "python3"
  },
  "language_info": {
   "codemirror_mode": {
    "name": "ipython",
    "version": 3
   },
   "file_extension": ".py",
   "mimetype": "text/x-python",
   "name": "python",
   "nbconvert_exporter": "python",
   "pygments_lexer": "ipython3",
   "version": "3.8.1"
  },
  "toc-autonumbering": false,
  "toc-showmarkdowntxt": false
 },
 "nbformat": 4,
 "nbformat_minor": 4
}
