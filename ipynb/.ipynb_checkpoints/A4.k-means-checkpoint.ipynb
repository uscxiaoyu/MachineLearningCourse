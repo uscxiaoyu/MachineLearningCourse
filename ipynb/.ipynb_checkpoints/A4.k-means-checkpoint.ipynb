{
 "cells": [
  {
   "cell_type": "code",
   "execution_count": null,
   "metadata": {},
   "outputs": [],
   "source": [
    "%config InlineBackend.figure_formats = ['svg']\n",
    "%matplotlib inline\n",
    "import numpy as np\n",
    "import matplotlib.pyplot as plt"
   ]
  },
  {
   "cell_type": "markdown",
   "metadata": {},
   "source": [
    "K-Means算法是一种聚类方法，它因速度和稳定性而广受欢迎。K-Means的算法过程是一个迭代移动聚类中心到聚类实例的均值位置，并找出离聚类中心最近的实例重新聚类的过程。"
   ]
  },
  {
   "cell_type": "markdown",
   "metadata": {},
   "source": [
    "通过把N个观察分配到K个类，使得在每个类中观测样本$x_i$到由聚类内的点构成的类均值$\\bar{x}_k=(\\bar{x}_{1k}, \\bar{x}_{2k}, ..., \\bar{x}_{pk})$的平均不相似性最小，从而最小化下式\n",
    "$$\n",
    "L(C) = \\sum_{k=0}^{K-1}N_k\\sum_{C_i=k}\\Vert x_i-\\bar{x}_k\\Vert^2\n",
    "$$\n",
    "其中，$\\bar{x}_k=(\\bar{x}_{1k}, \\bar{x}_{2k}, ..., \\bar{x}_{pk})$是与第k个类相关的平均向量, $N_k=\\sum_{i=1}^NI(C_i=k)$"
   ]
  },
  {
   "cell_type": "markdown",
   "metadata": {},
   "source": [
    "## 1. K-Means 算法实现\n",
    "\n",
    "- 输入: 训练样本X, 图心个数k\n",
    "- 输出: k个聚类中心位置\n",
    "- 算法过程:\n",
    "    - 初始化k个聚类中心$C=\\{C_0, C_1,...,C_{k-1}\\}$\n",
    "    - 循环\n",
    "        - 分别计算训练样本$X$到聚类中心的距离$D_{0, X}, D_{1, X}, ..., D_{k-1, X}$\n",
    "        - 各样本$x$按照最近距离进行分类\n",
    "        - 重新计算聚类中心$C$\n",
    "        - 如果前后两次聚类中心变化很小，则停止循环\n",
    "    - 输出k个聚类中心的位置\n",
    " \n",
    " 以上迭代过程每一步都可以减少目标函数值，因此可以保证收敛。\n",
    " \n",
    " 然而，值得注意的是，由于K-Means算法是逐步迭代算法，因此受到初始聚类中心选择的影响。有些随机选取的中心点可能导致获取局部最优解。\n",
    " \n",
    " 因此，为了避免这种情况的发生，建议多次重复K-Means算法，取代价函数值最小的那次结果作为最终结果。"
   ]
  },
  {
   "cell_type": "code",
   "execution_count": null,
   "metadata": {},
   "outputs": [],
   "source": [
    "def k_means(X, k, is_print_info=False):\n",
    "    # 初始化\n",
    "    # Centroids = (np.max(X, axis=0) - np.min(X, axis=0)) * np.random.rand(k, X.shape[1]) + np.min(X, axis=0)\n",
    "    centroids = X[np.random.randint(0, X.shape[0], size=k)]  # 随机选取某k个点作为聚类中心\n",
    "    r = 0\n",
    "    while True:\n",
    "        dist_cont = []  # 计算到各中心的距离\n",
    "        for c in centroids:\n",
    "            dist_X_c = np.sqrt(np.sum(np.square(X - c), axis=1))\n",
    "            dist_cont.append(dist_X_c.reshape(-1, 1))\n",
    "        \n",
    "        dists = np.concatenate(dist_cont, axis=1)\n",
    "        cate_indices = np.argmin(dists, axis=1)  # 类别索引\n",
    "        # print(dists)\n",
    "        new_centroids = []  # 重新计算中心点\n",
    "        for i in range(k):\n",
    "            c_X = X[cate_indices == i]\n",
    "            c = np.mean(c_X, axis=0)\n",
    "            new_centroids.append(c)\n",
    "        \n",
    "        new_centroids = np.array(new_centroids)\n",
    "        if np.sum(np.abs(new_centroids - centroids)) < 10e-3:  #终止条件，根据情况设定\n",
    "            break\n",
    "        else:\n",
    "            centroids = new_centroids\n",
    "            r += 1\n",
    "            \n",
    "    if is_print_info:\n",
    "        print(f\"在执行{r}轮后终止\")\n",
    "        print(\"中心点为:\")\n",
    "        print(centroids)\n",
    "            \n",
    "    return centroids"
   ]
  },
  {
   "cell_type": "code",
   "execution_count": null,
   "metadata": {},
   "outputs": [],
   "source": [
    "X0 = np.random.randn(100, 6) + 1\n",
    "X1 = np.random.randn(50, 6) - 1\n",
    "X2 = np.random.randn(50, 6) + 3\n",
    "X = np.concatenate([X0, X1, X2], axis=0)"
   ]
  },
  {
   "cell_type": "code",
   "execution_count": null,
   "metadata": {},
   "outputs": [],
   "source": [
    "C = k_means(X=X, k=3)"
   ]
  },
  {
   "cell_type": "markdown",
   "metadata": {},
   "source": [
    "## 2. 对样本分类\n",
    "\n",
    "计算x到各中心的距离，取最近距离中心对应类别"
   ]
  },
  {
   "cell_type": "code",
   "execution_count": null,
   "metadata": {},
   "outputs": [],
   "source": [
    "def cate_k_means(x, centroids):\n",
    "    dist_cont = []\n",
    "    for c in centroids:\n",
    "        dist_x_c = np.sqrt(np.sum(np.square(x - c), axis=1))\n",
    "        dist_cont.append(dist_x_c.reshape(-1, 1))\n",
    "        \n",
    "    dists = np.concatenate(dist_cont, axis=1)\n",
    "    cate_indices = np.argmin(dists, axis=1)  # 类别索引\n",
    "    return cate_indices"
   ]
  },
  {
   "cell_type": "code",
   "execution_count": null,
   "metadata": {},
   "outputs": [],
   "source": [
    "x = np.random.randn(10, 6) + 1"
   ]
  },
  {
   "cell_type": "code",
   "execution_count": null,
   "metadata": {},
   "outputs": [],
   "source": [
    "cate_k_means(x, C)"
   ]
  },
  {
   "cell_type": "markdown",
   "metadata": {},
   "source": [
    "## 3. 计算平均离差"
   ]
  },
  {
   "cell_type": "code",
   "execution_count": null,
   "metadata": {},
   "outputs": [],
   "source": [
    "def cal_mean_dispersion(X, centroids):\n",
    "    dist_cont = []\n",
    "    for c in centroids:\n",
    "        dist_x_c = np.sqrt(np.sum(np.square(X - c), axis=1))\n",
    "        dist_cont.append(dist_x_c.reshape(-1, 1))\n",
    "        \n",
    "    dists = np.concatenate(dist_cont, axis=1)\n",
    "    min_dists = np.min(dists, axis=1)\n",
    "    return np.mean(np.square(min_dists))"
   ]
  },
  {
   "cell_type": "code",
   "execution_count": null,
   "metadata": {},
   "outputs": [],
   "source": [
    "cal_mean_dispersion(X, centroids=C)"
   ]
  },
  {
   "cell_type": "markdown",
   "metadata": {},
   "source": [
    "## 4. 选择图心数量: 肘部法\n",
    "\n",
    "超参数聚类数量的选择，可以采用一种启发式的估计最优聚类数量的方法--肘部图法。肘部图法使用不同的k值绘制出代价函数的值。随着k值的增加，代价函数值将逐渐减小。然而，随着k值的增加，给代价函数值带来增量将逐渐减小。离差的提升变化下降最陡时的k值称为肘部。"
   ]
  },
  {
   "cell_type": "code",
   "execution_count": null,
   "metadata": {},
   "outputs": [],
   "source": [
    "k_dispersion = []\n",
    "for k in range(1, 8):\n",
    "    centr = k_means(X=X, k=k)\n",
    "    m_disp = cal_mean_dispersion(X, centroids=centr)\n",
    "    k_dispersion.append([k, m_disp])\n",
    "\n",
    "plt.plot([x[0] for x in k_dispersion], [x[1] for x in k_dispersion], 'ko-')\n",
    "plt.xlabel(\"Number of centroids\")\n",
    "plt.ylabel(\"Mean of dispersions\")"
   ]
  },
  {
   "cell_type": "markdown",
   "metadata": {},
   "source": [
    "## 5. 应用：对鸢尾花聚类并预测"
   ]
  },
  {
   "cell_type": "code",
   "execution_count": null,
   "metadata": {},
   "outputs": [],
   "source": [
    "from sklearn import datasets\n",
    "from sklearn.metrics import accuracy_score, precision_score, recall_score, f1_score, silhouette_score\n",
    "from sklearn.cluster import KMeans"
   ]
  },
  {
   "cell_type": "code",
   "execution_count": null,
   "metadata": {},
   "outputs": [],
   "source": [
    "d = datasets.load_iris()"
   ]
  },
  {
   "cell_type": "code",
   "execution_count": null,
   "metadata": {},
   "outputs": [],
   "source": [
    "rand_idx = np.arange(len(d['target']))\n",
    "np.random.shuffle(rand_idx)"
   ]
  },
  {
   "cell_type": "code",
   "execution_count": null,
   "metadata": {},
   "outputs": [],
   "source": [
    "t_idx = rand_idx[:100]\n",
    "v_idx = rand_idx[100:]"
   ]
  },
  {
   "cell_type": "code",
   "execution_count": null,
   "metadata": {},
   "outputs": [],
   "source": [
    "x_train, y_train = d['data'][t_idx], d['target'][t_idx]\n",
    "x_test, y_test = d['data'][v_idx], d['target'][v_idx]"
   ]
  },
  {
   "cell_type": "code",
   "execution_count": null,
   "metadata": {},
   "outputs": [],
   "source": [
    "x_labels, y_labels = d['feature_names'], d['target_names']"
   ]
  },
  {
   "cell_type": "code",
   "execution_count": null,
   "metadata": {},
   "outputs": [],
   "source": [
    "plt.figure()\n",
    "plt.xlabel(x_labels[0])\n",
    "plt.ylabel(x_labels[1])\n",
    "\n",
    "x_0 = x_train[y_train == 0]\n",
    "x_1 = x_train[y_train == 1]\n",
    "x_2 = x_train[y_train == 2]\n",
    "\n",
    "plt.scatter(x_0[:,0], x_0[:,1], s=10, c='b', marker='o', alpha=0.5)\n",
    "plt.scatter(x_1[:,0], x_1[:,1], s=10, c='k', marker='o', alpha=0.5)\n",
    "plt.scatter(x_2[:,0], x_2[:,1], s=10, c='g', marker='o', alpha=0.5)"
   ]
  },
  {
   "cell_type": "code",
   "execution_count": null,
   "metadata": {},
   "outputs": [],
   "source": [
    "x_train.shape"
   ]
  },
  {
   "cell_type": "code",
   "execution_count": null,
   "metadata": {},
   "outputs": [],
   "source": [
    "cent = k_means(x_train, k=3)"
   ]
  },
  {
   "cell_type": "code",
   "execution_count": null,
   "metadata": {},
   "outputs": [],
   "source": [
    "pred = cate_k_means(x_train, centroids=cent)"
   ]
  },
  {
   "cell_type": "code",
   "execution_count": null,
   "metadata": {},
   "outputs": [],
   "source": [
    "np.sum((pred==1) == (y_train==1))"
   ]
  },
  {
   "cell_type": "code",
   "execution_count": null,
   "metadata": {},
   "outputs": [],
   "source": [
    "np.sum((pred==0) == (y_train==2))"
   ]
  },
  {
   "cell_type": "code",
   "execution_count": null,
   "metadata": {},
   "outputs": [],
   "source": [
    "np.sum((pred==2) == (y_train==0))\n"
   ]
  },
  {
   "cell_type": "code",
   "execution_count": null,
   "metadata": {},
   "outputs": [],
   "source": [
    "pred"
   ]
  },
  {
   "cell_type": "code",
   "execution_count": null,
   "metadata": {},
   "outputs": [],
   "source": [
    "y_train"
   ]
  },
  {
   "cell_type": "markdown",
   "metadata": {},
   "source": [
    "- 使用Scikit-learn 的 KMeans聚类器"
   ]
  },
  {
   "cell_type": "code",
   "execution_count": null,
   "metadata": {},
   "outputs": [],
   "source": [
    "clf = KMeans(n_clusters=3)\n",
    "clf.fit(x_train)"
   ]
  },
  {
   "cell_type": "code",
   "execution_count": null,
   "metadata": {},
   "outputs": [],
   "source": [
    "clf.fit_predict(x_train)"
   ]
  },
  {
   "cell_type": "markdown",
   "metadata": {},
   "source": [
    "## 课后练习\n",
    "- 评估聚类效果：轮廓系数\n",
    "轮廓系数（Silhouette Coefficient），是聚类效果好坏的一种评价方式。最早由 Peter J. Rousseeuw 在 1986 提出。 它结合内聚度和分离度两种因素。可以用来在相同原始数据的基础上用来评价不同算法、或者算法不同运行方式对聚类结果所产生的影响。\n",
    "> 该系数的计算需计算任意两点之间的距离"
   ]
  },
  {
   "cell_type": "markdown",
   "metadata": {},
   "source": []
  }
 ],
 "metadata": {
  "interpreter": {
   "hash": "9d80c921a4f3700b6c54904840b7c5203b4bbd27c66894405207b52b6dd5f6a6"
  },
  "kernelspec": {
   "display_name": "Python 3",
   "language": "python",
   "name": "python3"
  },
  "language_info": {
   "codemirror_mode": {
    "name": "ipython",
    "version": 3
   },
   "file_extension": ".py",
   "mimetype": "text/x-python",
   "name": "python",
   "nbconvert_exporter": "python",
   "pygments_lexer": "ipython3",
   "version": "3.9.2"
  }
 },
 "nbformat": 4,
 "nbformat_minor": 4
}
