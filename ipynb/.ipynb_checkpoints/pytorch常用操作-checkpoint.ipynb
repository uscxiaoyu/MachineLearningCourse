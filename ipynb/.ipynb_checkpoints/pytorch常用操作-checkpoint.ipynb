{
 "cells": [
  {
   "cell_type": "code",
   "execution_count": null,
   "metadata": {},
   "outputs": [],
   "source": [
    "from torch import tensor, nn\n",
    "import numpy as np\n",
    "import torch"
   ]
  },
  {
   "cell_type": "markdown",
   "metadata": {},
   "source": [
    "# 1. `torch.Tensor()`"
   ]
  },
  {
   "cell_type": "code",
   "execution_count": 2,
   "metadata": {},
   "outputs": [],
   "source": [
    "a = tensor(range(10), dtype=torch.float32).reshape(2, 5)\n",
    "b = tensor(range(10, 20), dtype=torch.float32).reshape(2, 5)\n",
    "c = tensor(range(20, 30), dtype=torch.float32).reshape(2, 5)"
   ]
  },
  {
   "cell_type": "code",
   "execution_count": 3,
   "metadata": {},
   "outputs": [],
   "source": [
    "stack_ = torch.stack([a, b, c], 0)"
   ]
  },
  {
   "cell_type": "code",
   "execution_count": 5,
   "metadata": {},
   "outputs": [
    {
     "data": {
      "text/plain": [
       "tensor([[[ 0.,  1.,  2.,  3.,  4.],\n",
       "         [ 5.,  6.,  7.,  8.,  9.]],\n",
       "\n",
       "        [[10., 11., 12., 13., 14.],\n",
       "         [15., 16., 17., 18., 19.]],\n",
       "\n",
       "        [[20., 21., 22., 23., 24.],\n",
       "         [25., 26., 27., 28., 29.]]])"
      ]
     },
     "execution_count": 5,
     "metadata": {},
     "output_type": "execute_result"
    }
   ],
   "source": [
    "stack_"
   ]
  },
  {
   "cell_type": "code",
   "execution_count": 5,
   "metadata": {},
   "outputs": [
    {
     "data": {
      "text/plain": [
       "(tensor([[[ 0.,  1.],\n",
       "          [ 5.,  6.]],\n",
       " \n",
       "         [[10., 11.],\n",
       "          [15., 16.]],\n",
       " \n",
       "         [[20., 21.],\n",
       "          [25., 26.]]]),\n",
       " tensor([[[ 2.,  3.,  4.],\n",
       "          [ 7.,  8.,  9.]],\n",
       " \n",
       "         [[12., 13., 14.],\n",
       "          [17., 18., 19.]],\n",
       " \n",
       "         [[22., 23., 24.],\n",
       "          [27., 28., 29.]]]))"
      ]
     },
     "execution_count": 5,
     "metadata": {},
     "output_type": "execute_result"
    }
   ],
   "source": [
    "stack_.split([2, 3], -1)"
   ]
  },
  {
   "cell_type": "code",
   "execution_count": 6,
   "metadata": {},
   "outputs": [
    {
     "data": {
      "text/plain": [
       "(tensor([[[ 0.,  1.,  2.,  3.,  4.]],\n",
       " \n",
       "         [[10., 11., 12., 13., 14.]],\n",
       " \n",
       "         [[20., 21., 22., 23., 24.]]]),\n",
       " tensor([[[ 5.,  6.,  7.,  8.,  9.]],\n",
       " \n",
       "         [[15., 16., 17., 18., 19.]],\n",
       " \n",
       "         [[25., 26., 27., 28., 29.]]]))"
      ]
     },
     "execution_count": 6,
     "metadata": {},
     "output_type": "execute_result"
    }
   ],
   "source": [
    "stack_.chunk(2, 1)"
   ]
  },
  {
   "cell_type": "markdown",
   "metadata": {},
   "source": [
    "## 2. 自动微分"
   ]
  },
  {
   "cell_type": "markdown",
   "metadata": {},
   "source": [
    "实例:\n",
    "$$\n",
    "f(\\mathbf{x})=2\\mathbf{x}+1, g(y)=\\mathbf{y^2}+5, z=mean(\\mathbf{g(y)})\n",
    "$$\n",
    "求$\\frac{dz}{dx}$"
   ]
  },
  {
   "cell_type": "code",
   "execution_count": 6,
   "metadata": {},
   "outputs": [],
   "source": [
    "def f(x:tensor):\n",
    "    return 2*x + 1\n",
    "\n",
    "def g(x:tensor):\n",
    "    return x**2 + 5\n",
    "\n",
    "def mean(x:tensor):\n",
    "    return torch.mean(x)"
   ]
  },
  {
   "cell_type": "code",
   "execution_count": 7,
   "metadata": {},
   "outputs": [],
   "source": [
    "def dz_dx(x:tensor):  # 实际上的导数\n",
    "    return (8*x + 4) / x.numel()"
   ]
  },
  {
   "cell_type": "code",
   "execution_count": 8,
   "metadata": {},
   "outputs": [],
   "source": [
    "x = torch.randint(1, 10, size=(2, 5), dtype=torch.float32, requires_grad=True)"
   ]
  },
  {
   "cell_type": "code",
   "execution_count": 9,
   "metadata": {},
   "outputs": [
    {
     "data": {
      "text/plain": [
       "True"
      ]
     },
     "execution_count": 9,
     "metadata": {},
     "output_type": "execute_result"
    }
   ],
   "source": [
    "x.requires_grad\n",
    "# x.requires_grad_(True)  # 如果为False, 可以追加"
   ]
  },
  {
   "cell_type": "code",
   "execution_count": 12,
   "metadata": {},
   "outputs": [
    {
     "data": {
      "text/plain": [
       "tensor([[6., 9., 1., 9., 1.],\n",
       "        [6., 5., 9., 5., 7.]])"
      ]
     },
     "execution_count": 12,
     "metadata": {},
     "output_type": "execute_result"
    }
   ],
   "source": [
    "x.requires_grad_(False)"
   ]
  },
  {
   "cell_type": "markdown",
   "metadata": {},
   "source": [
    "torch自动求导结果"
   ]
  },
  {
   "cell_type": "code",
   "execution_count": 10,
   "metadata": {},
   "outputs": [
    {
     "data": {
      "text/plain": [
       "tensor([[6.0000, 5.2000, 3.6000, 3.6000, 3.6000],\n",
       "        [5.2000, 2.8000, 1.2000, 5.2000, 2.0000]])"
      ]
     },
     "execution_count": 10,
     "metadata": {},
     "output_type": "execute_result"
    }
   ],
   "source": [
    "z = mean(g(f(x)))\n",
    "z.backward()  # 反向传播，自动求微分\n",
    "x.grad  # dz/dx"
   ]
  },
  {
   "cell_type": "markdown",
   "metadata": {},
   "source": [
    "解析求导结果"
   ]
  },
  {
   "cell_type": "code",
   "execution_count": 11,
   "metadata": {},
   "outputs": [
    {
     "data": {
      "text/plain": [
       "tensor([[6.0000, 5.2000, 3.6000, 3.6000, 3.6000],\n",
       "        [5.2000, 2.8000, 1.2000, 5.2000, 2.0000]], grad_fn=<DivBackward0>)"
      ]
     },
     "execution_count": 11,
     "metadata": {},
     "output_type": "execute_result"
    }
   ],
   "source": [
    "dz_dx(x)  # dz/dx"
   ]
  },
  {
   "cell_type": "code",
   "execution_count": 12,
   "metadata": {},
   "outputs": [
    {
     "data": {
      "text/plain": [
       "<MeanBackward1 at 0x1f533a7a898>"
      ]
     },
     "execution_count": 12,
     "metadata": {},
     "output_type": "execute_result"
    }
   ],
   "source": [
    "z.grad_fn"
   ]
  },
  {
   "cell_type": "markdown",
   "metadata": {},
   "source": [
    "### Bass模型拟合"
   ]
  },
  {
   "cell_type": "code",
   "execution_count": 188,
   "metadata": {},
   "outputs": [],
   "source": [
    "def bass(p:tensor, q:tensor, m:tensor, T:int): # 如果要使用其它模型，可以重新定义\n",
    "    t_tensor = torch.arange(1, T + 1, dtype=torch.float32)\n",
    "    a = 1 - torch.exp(- (p + q) * t_tensor)\n",
    "    b = 1 + q / p * torch.exp(- (p + q) * t_tensor)\n",
    "    diffu_cont = m * a / b\n",
    "\n",
    "    adopt_cont = torch.zeros_like(diffu_cont)\n",
    "    adopt_cont[0] = diffu_cont[0]\n",
    "    for t in range(1, T):\n",
    "        adopt_cont[t] = diffu_cont[t] - diffu_cont[t - 1]\n",
    "    return adopt_cont"
   ]
  },
  {
   "cell_type": "code",
   "execution_count": 208,
   "metadata": {},
   "outputs": [],
   "source": [
    "def meanSquaredLoss(p, q, m, y):  # 平均平方误差\n",
    "    T = y.numel()\n",
    "    hat_y = bass(p, q, m, T)\n",
    "    return torch.mean((hat_y - y)**2)"
   ]
  },
  {
   "cell_type": "code",
   "execution_count": 213,
   "metadata": {},
   "outputs": [],
   "source": [
    "def r_2(p, q, m, y):  # R2\n",
    "    T = y.numel()\n",
    "    hat_y = bass(p, q, m, T)\n",
    "    tse = torch.sum((y - hat_y)**2)\n",
    "    ssl = torch.sum((y - torch.mean(y))**2)\n",
    "    R_2 = (ssl-tse)/ssl\n",
    "    return R_2"
   ]
  },
  {
   "cell_type": "code",
   "execution_count": 184,
   "metadata": {},
   "outputs": [],
   "source": [
    "y = tensor([96, 195, 238, 380, 1045, 1230, 1267, 1828, 1586, 1673, 1800, 1580, 1500], dtype=torch.float32)"
   ]
  },
  {
   "cell_type": "code",
   "execution_count": 191,
   "metadata": {},
   "outputs": [],
   "source": [
    "r = meanSquaredLoss(p, q, m, y)\n",
    "r.backward()"
   ]
  },
  {
   "cell_type": "code",
   "execution_count": 235,
   "metadata": {},
   "outputs": [
    {
     "data": {
      "text/plain": [
       "tensor(-1)"
      ]
     },
     "execution_count": 235,
     "metadata": {},
     "output_type": "execute_result"
    }
   ],
   "source": [
    "torch.sign(tensor(-1))"
   ]
  },
  {
   "cell_type": "code",
   "execution_count": 238,
   "metadata": {
    "collapsed": true,
    "jupyter": {
     "outputs_hidden": true
    }
   },
   "outputs": [
    {
     "name": "stdout",
     "output_type": "stream",
     "text": [
      "第1轮, r2=-2.7695\n",
      "    p:0.0002, q:0.3001, m:20010.0\n",
      "第2轮, r2=-2.6051\n",
      "    p:0.0003, q:0.3002, m:20020.0\n",
      "第3轮, r2=-2.4500\n",
      "    p:0.0004, q:0.3003, m:20030.0\n",
      "第4轮, r2=-2.3036\n",
      "    p:0.0005, q:0.3004, m:20040.0\n",
      "第5轮, r2=-2.1652\n",
      "    p:0.0006, q:0.3005, m:20050.0\n",
      "第6轮, r2=-2.0343\n",
      "    p:0.0007, q:0.3006, m:20060.0\n",
      "第7轮, r2=-1.9103\n",
      "    p:0.0008, q:0.3007, m:20070.0\n",
      "第8轮, r2=-1.7928\n",
      "    p:0.0009, q:0.3008, m:20080.0\n",
      "第9轮, r2=-1.6814\n",
      "    p:0.0010, q:0.3009, m:20090.0\n",
      "第10轮, r2=-1.5757\n",
      "    p:0.0011, q:0.3010, m:20100.0\n",
      "第11轮, r2=-1.4752\n",
      "    p:0.0012, q:0.3011, m:20110.0\n",
      "第12轮, r2=-1.3796\n",
      "    p:0.0013, q:0.3012, m:20120.0\n",
      "第13轮, r2=-1.2887\n",
      "    p:0.0014, q:0.3013, m:20130.0\n",
      "第14轮, r2=-1.2021\n",
      "    p:0.0015, q:0.3014, m:20140.0\n",
      "第15轮, r2=-1.1195\n",
      "    p:0.0016, q:0.3015, m:20150.0\n",
      "第16轮, r2=-1.0408\n",
      "    p:0.0017, q:0.3016, m:20160.0\n",
      "第17轮, r2=-0.9657\n",
      "    p:0.0018, q:0.3017, m:20170.0\n",
      "第18轮, r2=-0.8939\n",
      "    p:0.0019, q:0.3018, m:20180.0\n",
      "第19轮, r2=-0.8253\n",
      "    p:0.0020, q:0.3019, m:20190.0\n",
      "第20轮, r2=-0.7597\n",
      "    p:0.0021, q:0.3020, m:20200.0\n",
      "第21轮, r2=-0.6969\n",
      "    p:0.0022, q:0.3021, m:20210.0\n",
      "第22轮, r2=-0.6368\n",
      "    p:0.0023, q:0.3022, m:20220.0\n",
      "第23轮, r2=-0.5791\n",
      "    p:0.0024, q:0.3023, m:20230.0\n",
      "第24轮, r2=-0.5239\n",
      "    p:0.0025, q:0.3024, m:20240.0\n",
      "第25轮, r2=-0.4709\n",
      "    p:0.0026, q:0.3025, m:20250.0\n",
      "第26轮, r2=-0.4200\n",
      "    p:0.0027, q:0.3026, m:20260.0\n",
      "第27轮, r2=-0.3712\n",
      "    p:0.0028, q:0.3027, m:20270.0\n",
      "第28轮, r2=-0.3242\n",
      "    p:0.0029, q:0.3028, m:20280.0\n",
      "第29轮, r2=-0.2791\n",
      "    p:0.0030, q:0.3029, m:20290.0\n",
      "第30轮, r2=-0.2357\n",
      "    p:0.0031, q:0.3030, m:20300.0\n",
      "第31轮, r2=-0.1939\n",
      "    p:0.0032, q:0.3031, m:20310.0\n",
      "第32轮, r2=-0.1537\n",
      "    p:0.0033, q:0.3032, m:20320.0\n",
      "第33轮, r2=-0.1149\n",
      "    p:0.0034, q:0.3033, m:20330.0\n",
      "第34轮, r2=-0.0776\n",
      "    p:0.0035, q:0.3034, m:20340.0\n",
      "第35轮, r2=-0.0416\n",
      "    p:0.0036, q:0.3035, m:20350.0\n",
      "第36轮, r2=-0.0069\n",
      "    p:0.0037, q:0.3036, m:20360.0\n",
      "第37轮, r2=0.0266\n",
      "    p:0.0038, q:0.3037, m:20370.0\n",
      "第38轮, r2=0.0589\n",
      "    p:0.0039, q:0.3038, m:20380.0\n",
      "第39轮, r2=0.0901\n",
      "    p:0.0040, q:0.3039, m:20390.0\n",
      "第40轮, r2=0.1202\n",
      "    p:0.0041, q:0.3040, m:20400.0\n",
      "第41轮, r2=0.1493\n",
      "    p:0.0042, q:0.3041, m:20410.0\n",
      "第42轮, r2=0.1774\n",
      "    p:0.0043, q:0.3042, m:20420.0\n",
      "第43轮, r2=0.2046\n",
      "    p:0.0044, q:0.3043, m:20430.0\n",
      "第44轮, r2=0.2309\n",
      "    p:0.0045, q:0.3044, m:20440.0\n",
      "第45轮, r2=0.2563\n",
      "    p:0.0046, q:0.3045, m:20450.0\n",
      "第46轮, r2=0.2808\n",
      "    p:0.0047, q:0.3046, m:20460.0\n",
      "第47轮, r2=0.3046\n",
      "    p:0.0048, q:0.3047, m:20470.0\n",
      "第48轮, r2=0.3276\n",
      "    p:0.0049, q:0.3048, m:20480.0\n",
      "第49轮, r2=0.3499\n",
      "    p:0.0050, q:0.3049, m:20490.0\n",
      "第50轮, r2=0.3714\n",
      "    p:0.0051, q:0.3050, m:20500.0\n",
      "第51轮, r2=0.3923\n",
      "    p:0.0052, q:0.3051, m:20510.0\n",
      "第52轮, r2=0.4125\n",
      "    p:0.0053, q:0.3052, m:20520.0\n",
      "第53轮, r2=0.4321\n",
      "    p:0.0054, q:0.3053, m:20530.0\n",
      "第54轮, r2=0.4510\n",
      "    p:0.0055, q:0.3054, m:20540.0\n",
      "第55轮, r2=0.4693\n",
      "    p:0.0056, q:0.3055, m:20550.0\n",
      "第56轮, r2=0.4871\n",
      "    p:0.0057, q:0.3056, m:20560.0\n",
      "第57轮, r2=0.5043\n",
      "    p:0.0058, q:0.3057, m:20570.0\n",
      "第58轮, r2=0.5210\n",
      "    p:0.0059, q:0.3058, m:20580.0\n",
      "第59轮, r2=0.5371\n",
      "    p:0.0060, q:0.3059, m:20590.0\n",
      "第60轮, r2=0.5528\n",
      "    p:0.0061, q:0.3060, m:20600.0\n",
      "第61轮, r2=0.5679\n",
      "    p:0.0062, q:0.3061, m:20610.0\n",
      "第62轮, r2=0.5826\n",
      "    p:0.0063, q:0.3062, m:20620.0\n",
      "第63轮, r2=0.5968\n",
      "    p:0.0064, q:0.3063, m:20630.0\n",
      "第64轮, r2=0.6106\n",
      "    p:0.0065, q:0.3064, m:20640.0\n",
      "第65轮, r2=0.6239\n",
      "    p:0.0066, q:0.3065, m:20650.0\n",
      "第66轮, r2=0.6368\n",
      "    p:0.0067, q:0.3066, m:20660.0\n",
      "第67轮, r2=0.6494\n",
      "    p:0.0068, q:0.3067, m:20670.0\n",
      "第68轮, r2=0.6615\n",
      "    p:0.0069, q:0.3068, m:20680.0\n",
      "第69轮, r2=0.6732\n",
      "    p:0.0070, q:0.3069, m:20690.0\n",
      "第70轮, r2=0.6845\n",
      "    p:0.0071, q:0.3070, m:20700.0\n",
      "第71轮, r2=0.6955\n",
      "    p:0.0072, q:0.3071, m:20710.0\n",
      "第72轮, r2=0.7061\n",
      "    p:0.0073, q:0.3072, m:20720.0\n",
      "第73轮, r2=0.7163\n",
      "    p:0.0074, q:0.3073, m:20730.0\n",
      "第74轮, r2=0.7263\n",
      "    p:0.0075, q:0.3074, m:20740.0\n",
      "第75轮, r2=0.7358\n",
      "    p:0.0076, q:0.3075, m:20750.0\n",
      "第76轮, r2=0.7451\n",
      "    p:0.0077, q:0.3076, m:20760.0\n",
      "第77轮, r2=0.7541\n",
      "    p:0.0078, q:0.3077, m:20770.0\n",
      "第78轮, r2=0.7627\n",
      "    p:0.0079, q:0.3078, m:20780.0\n",
      "第79轮, r2=0.7710\n",
      "    p:0.0080, q:0.3079, m:20790.0\n",
      "第80轮, r2=0.7791\n",
      "    p:0.0081, q:0.3080, m:20800.0\n",
      "第81轮, r2=0.7868\n",
      "    p:0.0082, q:0.3081, m:20810.0\n",
      "第82轮, r2=0.7943\n",
      "    p:0.0083, q:0.3082, m:20820.0\n",
      "第83轮, r2=0.8015\n",
      "    p:0.0084, q:0.3083, m:20830.0\n",
      "第84轮, r2=0.8084\n",
      "    p:0.0085, q:0.3084, m:20840.0\n",
      "第85轮, r2=0.8150\n",
      "    p:0.0086, q:0.3085, m:20850.0\n",
      "第86轮, r2=0.8214\n",
      "    p:0.0087, q:0.3086, m:20860.0\n",
      "第87轮, r2=0.8276\n",
      "    p:0.0088, q:0.3087, m:20870.0\n",
      "第88轮, r2=0.8335\n",
      "    p:0.0089, q:0.3088, m:20880.0\n",
      "第89轮, r2=0.8391\n",
      "    p:0.0090, q:0.3089, m:20890.0\n",
      "第90轮, r2=0.8445\n",
      "    p:0.0091, q:0.3090, m:20900.0\n",
      "第91轮, r2=0.8497\n",
      "    p:0.0092, q:0.3091, m:20910.0\n",
      "第92轮, r2=0.8547\n",
      "    p:0.0093, q:0.3092, m:20920.0\n",
      "第93轮, r2=0.8594\n",
      "    p:0.0094, q:0.3093, m:20930.0\n",
      "第94轮, r2=0.8639\n",
      "    p:0.0095, q:0.3094, m:20940.0\n",
      "第95轮, r2=0.8681\n",
      "    p:0.0096, q:0.3095, m:20950.0\n",
      "第96轮, r2=0.8722\n",
      "    p:0.0097, q:0.3096, m:20960.0\n",
      "第97轮, r2=0.8761\n",
      "    p:0.0098, q:0.3097, m:20970.0\n",
      "第98轮, r2=0.8797\n",
      "    p:0.0099, q:0.3098, m:20980.0\n",
      "第99轮, r2=0.8832\n",
      "    p:0.0100, q:0.3099, m:20990.0\n",
      "第100轮, r2=0.8864\n",
      "    p:0.0101, q:0.3100, m:21000.0\n",
      "第101轮, r2=0.8895\n",
      "    p:0.0102, q:0.3101, m:21010.0\n",
      "第102轮, r2=0.8923\n",
      "    p:0.0103, q:0.3102, m:21020.0\n",
      "第103轮, r2=0.8950\n",
      "    p:0.0104, q:0.3103, m:21030.0\n",
      "第104轮, r2=0.8975\n",
      "    p:0.0105, q:0.3104, m:21040.0\n",
      "第105轮, r2=0.8998\n",
      "    p:0.0106, q:0.3105, m:21050.0\n",
      "第106轮, r2=0.9019\n",
      "    p:0.0107, q:0.3106, m:21060.0\n",
      "第107轮, r2=0.9038\n",
      "    p:0.0108, q:0.3107, m:21070.0\n",
      "第108轮, r2=0.9056\n",
      "    p:0.0109, q:0.3108, m:21080.0\n",
      "第109轮, r2=0.9072\n",
      "    p:0.0110, q:0.3109, m:21090.0\n",
      "第110轮, r2=0.9086\n",
      "    p:0.0111, q:0.3110, m:21100.0\n",
      "第111轮, r2=0.9098\n",
      "    p:0.0112, q:0.3111, m:21110.0\n",
      "第112轮, r2=0.9109\n",
      "    p:0.0113, q:0.3112, m:21120.0\n",
      "第113轮, r2=0.9118\n",
      "    p:0.0114, q:0.3113, m:21130.0\n",
      "第114轮, r2=0.9126\n",
      "    p:0.0115, q:0.3114, m:21140.0\n",
      "第115轮, r2=0.9132\n",
      "    p:0.0116, q:0.3115, m:21150.0\n",
      "第116轮, r2=0.9137\n",
      "    p:0.0117, q:0.3116, m:21160.0\n",
      "第117轮, r2=0.9140\n",
      "    p:0.0118, q:0.3117, m:21150.0\n",
      "第118轮, r2=0.9142\n",
      "    p:0.0119, q:0.3118, m:21140.0\n",
      "第119轮, r2=0.9143\n",
      "    p:0.0120, q:0.3119, m:21130.0\n",
      "第120轮, r2=0.9143\n",
      "    p:0.0119, q:0.3120, m:21120.0\n",
      "第121轮, r2=0.9144\n",
      "    p:0.0120, q:0.3121, m:21110.0\n",
      "第122轮, r2=0.9145\n",
      "    p:0.0119, q:0.3122, m:21100.0\n",
      "第123轮, r2=0.9146\n",
      "    p:0.0120, q:0.3123, m:21090.0\n",
      "第124轮, r2=0.9146\n",
      "    p:0.0119, q:0.3124, m:21080.0\n",
      "第125轮, r2=0.9147\n",
      "    p:0.0120, q:0.3125, m:21070.0\n",
      "第126轮, r2=0.9148\n",
      "    p:0.0119, q:0.3126, m:21060.0\n",
      "第127轮, r2=0.9148\n",
      "    p:0.0120, q:0.3127, m:21050.0\n",
      "第128轮, r2=0.9149\n",
      "    p:0.0119, q:0.3128, m:21040.0\n",
      "第129轮, r2=0.9150\n",
      "    p:0.0120, q:0.3129, m:21030.0\n",
      "第130轮, r2=0.9150\n",
      "    p:0.0119, q:0.3130, m:21020.0\n",
      "第131轮, r2=0.9151\n",
      "    p:0.0120, q:0.3131, m:21010.0\n",
      "第132轮, r2=0.9152\n",
      "    p:0.0119, q:0.3132, m:21000.0\n",
      "第133轮, r2=0.9152\n",
      "    p:0.0120, q:0.3133, m:20990.0\n",
      "第134轮, r2=0.9153\n",
      "    p:0.0119, q:0.3134, m:20980.0\n",
      "第135轮, r2=0.9154\n",
      "    p:0.0120, q:0.3135, m:20970.0\n",
      "第136轮, r2=0.9154\n",
      "    p:0.0119, q:0.3136, m:20960.0\n",
      "第137轮, r2=0.9155\n",
      "    p:0.0120, q:0.3137, m:20950.0\n",
      "第138轮, r2=0.9155\n",
      "    p:0.0119, q:0.3138, m:20940.0\n",
      "第139轮, r2=0.9156\n",
      "    p:0.0120, q:0.3139, m:20930.0\n",
      "第140轮, r2=0.9157\n",
      "    p:0.0119, q:0.3140, m:20920.0\n",
      "第141轮, r2=0.9157\n",
      "    p:0.0120, q:0.3141, m:20910.0\n",
      "第142轮, r2=0.9158\n",
      "    p:0.0119, q:0.3142, m:20900.0\n",
      "第143轮, r2=0.9159\n",
      "    p:0.0120, q:0.3143, m:20890.0\n",
      "第144轮, r2=0.9159\n",
      "    p:0.0119, q:0.3144, m:20880.0\n",
      "第145轮, r2=0.9160\n",
      "    p:0.0120, q:0.3145, m:20890.0\n",
      "第146轮, r2=0.9160\n",
      "    p:0.0119, q:0.3146, m:20880.0\n",
      "第147轮, r2=0.9161\n",
      "    p:0.0120, q:0.3147, m:20870.0\n",
      "第148轮, r2=0.9161\n",
      "    p:0.0119, q:0.3148, m:20860.0\n",
      "第149轮, r2=0.9162\n",
      "    p:0.0120, q:0.3149, m:20850.0\n",
      "第150轮, r2=0.9163\n",
      "    p:0.0119, q:0.3150, m:20840.0\n",
      "第151轮, r2=0.9163\n",
      "    p:0.0120, q:0.3151, m:20850.0\n",
      "第152轮, r2=0.9164\n",
      "    p:0.0119, q:0.3152, m:20840.0\n",
      "第153轮, r2=0.9164\n",
      "    p:0.0120, q:0.3153, m:20830.0\n",
      "第154轮, r2=0.9165\n",
      "    p:0.0119, q:0.3154, m:20820.0\n",
      "第155轮, r2=0.9165\n",
      "    p:0.0120, q:0.3155, m:20830.0\n",
      "第156轮, r2=0.9166\n",
      "    p:0.0119, q:0.3156, m:20820.0\n",
      "第157轮, r2=0.9166\n",
      "    p:0.0120, q:0.3157, m:20810.0\n",
      "第158轮, r2=0.9167\n",
      "    p:0.0119, q:0.3158, m:20800.0\n",
      "第159轮, r2=0.9167\n",
      "    p:0.0120, q:0.3159, m:20790.0\n",
      "第160轮, r2=0.9168\n",
      "    p:0.0119, q:0.3160, m:20780.0\n",
      "第161轮, r2=0.9168\n",
      "    p:0.0120, q:0.3161, m:20790.0\n",
      "第162轮, r2=0.9169\n",
      "    p:0.0119, q:0.3162, m:20780.0\n",
      "第163轮, r2=0.9169\n",
      "    p:0.0120, q:0.3163, m:20770.0\n",
      "第164轮, r2=0.9171\n",
      "    p:0.0119, q:0.3164, m:20760.0\n",
      "第165轮, r2=0.9171\n",
      "    p:0.0118, q:0.3165, m:20770.0\n",
      "第166轮, r2=0.9172\n",
      "    p:0.0119, q:0.3166, m:20780.0\n",
      "第167轮, r2=0.9172\n",
      "    p:0.0118, q:0.3167, m:20770.0\n",
      "第168轮, r2=0.9173\n",
      "    p:0.0119, q:0.3168, m:20780.0\n",
      "第169轮, r2=0.9173\n",
      "    p:0.0118, q:0.3169, m:20770.0\n",
      "第170轮, r2=0.9174\n",
      "    p:0.0119, q:0.3170, m:20780.0\n",
      "第171轮, r2=0.9174\n",
      "    p:0.0118, q:0.3171, m:20770.0\n",
      "第172轮, r2=0.9175\n",
      "    p:0.0119, q:0.3172, m:20760.0\n",
      "第173轮, r2=0.9175\n",
      "    p:0.0118, q:0.3173, m:20750.0\n",
      "第174轮, r2=0.9176\n",
      "    p:0.0119, q:0.3174, m:20760.0\n",
      "第175轮, r2=0.9176\n",
      "    p:0.0118, q:0.3175, m:20750.0\n",
      "第176轮, r2=0.9177\n",
      "    p:0.0119, q:0.3176, m:20740.0\n",
      "第177轮, r2=0.9177\n",
      "    p:0.0118, q:0.3177, m:20730.0\n",
      "第178轮, r2=0.9178\n",
      "    p:0.0119, q:0.3178, m:20720.0\n",
      "第179轮, r2=0.9179\n",
      "    p:0.0118, q:0.3179, m:20710.0\n",
      "第180轮, r2=0.9179\n",
      "    p:0.0119, q:0.3180, m:20720.0\n",
      "第181轮, r2=0.9180\n",
      "    p:0.0118, q:0.3181, m:20710.0\n",
      "第182轮, r2=0.9180\n",
      "    p:0.0119, q:0.3182, m:20700.0\n",
      "第183轮, r2=0.9181\n",
      "    p:0.0118, q:0.3183, m:20690.0\n",
      "第184轮, r2=0.9181\n",
      "    p:0.0119, q:0.3184, m:20700.0\n",
      "第185轮, r2=0.9182\n",
      "    p:0.0118, q:0.3185, m:20690.0\n",
      "第186轮, r2=0.9182\n",
      "    p:0.0119, q:0.3186, m:20680.0\n",
      "第187轮, r2=0.9183\n",
      "    p:0.0118, q:0.3187, m:20670.0\n",
      "第188轮, r2=0.9183\n",
      "    p:0.0119, q:0.3188, m:20680.0\n",
      "第189轮, r2=0.9184\n",
      "    p:0.0118, q:0.3189, m:20670.0\n",
      "第190轮, r2=0.9184\n",
      "    p:0.0117, q:0.3190, m:20660.0\n",
      "第191轮, r2=0.9185\n",
      "    p:0.0118, q:0.3191, m:20670.0\n",
      "第192轮, r2=0.9185\n",
      "    p:0.0117, q:0.3192, m:20660.0\n",
      "第193轮, r2=0.9186\n",
      "    p:0.0118, q:0.3193, m:20670.0\n",
      "第194轮, r2=0.9186\n",
      "    p:0.0117, q:0.3194, m:20660.0\n",
      "第195轮, r2=0.9187\n",
      "    p:0.0118, q:0.3195, m:20670.0\n",
      "第196轮, r2=0.9187\n",
      "    p:0.0117, q:0.3196, m:20660.0\n",
      "第197轮, r2=0.9188\n",
      "    p:0.0118, q:0.3197, m:20650.0\n",
      "第198轮, r2=0.9188\n",
      "    p:0.0117, q:0.3198, m:20640.0\n",
      "第199轮, r2=0.9189\n",
      "    p:0.0118, q:0.3199, m:20650.0\n",
      "第200轮, r2=0.9190\n",
      "    p:0.0117, q:0.3200, m:20640.0\n"
     ]
    }
   ],
   "source": [
    "p = tensor(0.0001, requires_grad=True)\n",
    "q = tensor(0.3, requires_grad=True)\n",
    "m = tensor(20000.0, requires_grad=True)\n",
    "for i in range(200):\n",
    "    r = meanSquaredLoss(p, q, m, y)\n",
    "    r.backward()\n",
    "    p.data.sub_(0.0001 * torch.sign(p.grad.data))\n",
    "    q.data.sub_(0.0001 * torch.sign(q.grad.data))\n",
    "    m.data.sub_(10 * torch.sign(m.grad.data))\n",
    "    with torch.no_grad():\n",
    "        r2 = r_2(p, q, m, y)\n",
    "    \n",
    "    print(f\"第{i+1}轮, r2={r2.detach().numpy():.4f}\\n    p:{p.detach().numpy():.4f}, q:{q.detach().numpy():.4f}, m:{m.detach().numpy():.1f}\")\n",
    "    p.grad.data.zero_()  # 清空梯度，否则会累加\n",
    "    q.grad.data.zero_()\n",
    "    m.grad.data.zero_()"
   ]
  },
  {
   "cell_type": "markdown",
   "metadata": {},
   "source": [
    "## 构建网络的流程"
   ]
  },
  {
   "cell_type": "code",
   "execution_count": 59,
   "metadata": {},
   "outputs": [],
   "source": [
    "%matplotlib inline\n",
    "import matplotlib.pyplot as plt\n",
    "import torch\n",
    "import numpy as np\n",
    "from torch import nn"
   ]
  },
  {
   "cell_type": "markdown",
   "metadata": {},
   "source": [
    "## 1. 定义计算架构"
   ]
  },
  {
   "cell_type": "code",
   "execution_count": 188,
   "metadata": {},
   "outputs": [],
   "source": [
    "class Net(nn.Module):\n",
    "    def __init__(self, dim_feature, dim_hidden, dim_output):\n",
    "        super(Net, self).__init__()\n",
    "        self.hidden = nn.Linear(dim_feature, dim_hidden)\n",
    "        self.output = nn.Linear(dim_hidden, dim_output)\n",
    "    \n",
    "    def forward(self, X):  # 层之间的计算次序\n",
    "        f1 = torch.relu(self.hidden(X))  # 0-1\n",
    "        f2 = self.output(f1)  # 1->2\n",
    "        f3 = nn.functional.softmax(f2, dim=1)  # 2->3\n",
    "        return f3"
   ]
  },
  {
   "cell_type": "code",
   "execution_count": 90,
   "metadata": {},
   "outputs": [],
   "source": [
    "net = Net(dim_feature=2, dim_hidden=10, dim_output=2)"
   ]
  },
  {
   "cell_type": "code",
   "execution_count": 91,
   "metadata": {},
   "outputs": [],
   "source": [
    "optimizer = torch.optim.SGD(net.parameters(), lr=0.05)  # 指定需优化的参数\n",
    "loss_func = nn.CrossEntropyLoss()  # 确定训练准则"
   ]
  },
  {
   "cell_type": "markdown",
   "metadata": {},
   "source": [
    "## 2. 生成测试数据"
   ]
  },
  {
   "cell_type": "code",
   "execution_count": 22,
   "metadata": {},
   "outputs": [],
   "source": [
    "x0 = torch.randn(100, 2) + 2  # 均值为 2\n",
    "y0 = torch.zeros(100)\n",
    "x1 = torch.randn(100, 2) - 2  # 均值为 -2\n",
    "y1 = torch.ones(100)\n",
    "\n",
    "x = torch.cat((x0, x1)).type(torch.FloatTensor)\n",
    "y = torch.cat((y0, y1)).type(torch.LongTensor)"
   ]
  },
  {
   "cell_type": "code",
   "execution_count": 101,
   "metadata": {},
   "outputs": [],
   "source": [
    "idx = np.arange(len(x))\n",
    "np.random.shuffle(idx)\n",
    "train_x, train_y = x[idx[:50]], y[idx[:50]]  # 随机选取50个\n",
    "test_x, test_y = x[idx[50:]], y[idx[50:]]"
   ]
  },
  {
   "cell_type": "code",
   "execution_count": 102,
   "metadata": {},
   "outputs": [
    {
     "data": {
      "text/plain": [
       "tensor([1, 1, 0, 1, 0, 0, 0, 0, 1, 1, 0, 1, 0, 0, 1, 0, 1, 1, 1, 1, 0, 0, 0, 0,\n",
       "        1, 1, 1, 0, 1, 0, 0, 1, 1, 0, 1, 1, 0, 1, 0, 1, 1, 1, 1, 0, 0, 1, 0, 1,\n",
       "        0, 0])"
      ]
     },
     "execution_count": 102,
     "metadata": {},
     "output_type": "execute_result"
    }
   ],
   "source": [
    "train_y"
   ]
  },
  {
   "cell_type": "markdown",
   "metadata": {},
   "source": [
    "## 3. 训练"
   ]
  },
  {
   "cell_type": "code",
   "execution_count": 108,
   "metadata": {},
   "outputs": [
    {
     "name": "stdout",
     "output_type": "stream",
     "text": [
      "loss_train: 0.31567901372909546, loss_test: 0.3199191391468048\n",
      "loss_train: 0.31562182307243347, loss_test: 0.3198487162590027\n",
      "loss_train: 0.3155670464038849, loss_test: 0.3197806179523468\n",
      "loss_train: 0.3155146539211273, loss_test: 0.3197151720523834\n",
      "loss_train: 0.3154643476009369, loss_test: 0.31965211033821106\n",
      "loss_train: 0.3154160976409912, loss_test: 0.3195911645889282\n",
      "loss_train: 0.31536972522735596, loss_test: 0.31953224539756775\n",
      "loss_train: 0.3153253197669983, loss_test: 0.31947532296180725\n",
      "loss_train: 0.31528252363204956, loss_test: 0.31942033767700195\n",
      "loss_train: 0.3152413070201874, loss_test: 0.31936702132225037\n"
     ]
    }
   ],
   "source": [
    "for i in range(200):\n",
    "    out = net.forward(train_x)\n",
    "    loss = loss_func(out, train_y)\n",
    "    \n",
    "    optimizer.zero_grad()\n",
    "    loss.backward()\n",
    "    optimizer.step()\n",
    "    if i % 20 == 0:\n",
    "        with torch.no_grad():\n",
    "            loss_train = loss_func(out, train_y)\n",
    "            out_test = net.forward(test_x)\n",
    "            loss_test = loss_func(out_test, test_y)\n",
    "            print(f\"loss_train: {loss_train}, loss_test: {loss_test}\")"
   ]
  },
  {
   "cell_type": "code",
   "execution_count": 109,
   "metadata": {},
   "outputs": [],
   "source": [
    "train_result = net(train_x)\n",
    "predict_train_y = torch.max(train_result, 1)[1]\n",
    "\n",
    "test_result = net(test_x)\n",
    "predict_test_y = torch.max(test_result, 1)[1]\n",
    "\n",
    "x_list = [train_x, test_x]\n",
    "y_list = [predict_train_y, predict_test_y]"
   ]
  },
  {
   "cell_type": "code",
   "execution_count": 110,
   "metadata": {},
   "outputs": [
    {
     "data": {
      "image/png": "[encoded data removed]",
      "text/plain": [
       "<Figure size 864x360 with 2 Axes>"
      ]
     },
     "metadata": {
      "needs_background": "light"
     },
     "output_type": "display_data"
    }
   ],
   "source": [
    "fig = plt.figure(figsize=(12, 5))\n",
    "for i in range(2):\n",
    "    px = x_list[i]\n",
    "    py = y_list[i]\n",
    "    ax = fig.add_subplot(1, 2, i+1)\n",
    "    ax.set_xlabel('$x_0$')\n",
    "    ax.set_ylabel('$x_1$')\n",
    "    ax.scatter(px.data.numpy()[:,0], px.data.numpy()[:,1], c=py.data.numpy(), s=60, lw=0, cmap='RdYlGn')"
   ]
  },
  {
   "cell_type": "markdown",
   "metadata": {},
   "source": [
    "### 示例： 垃圾邮件分类"
   ]
  },
  {
   "cell_type": "code",
   "execution_count": 234,
   "metadata": {},
   "outputs": [
    {
     "data": {
      "text/plain": [
       "'c:\\\\Users\\\\uscxi\\\\GitProjects\\\\MachineLearningCourse'"
      ]
     },
     "execution_count": 234,
     "metadata": {},
     "output_type": "execute_result"
    }
   ],
   "source": [
    "from torch.utils.data import TensorDataset, DataLoader\n",
    "from sklearn.model_selection import train_test_split, cross_val_score\n",
    "from sklearn.feature_extraction.text import TfidfVectorizer\n",
    "import pandas as pd\n",
    "import os\n",
    "os.chdir(\"c://Users/uscxi/GitProjects/MachineLearningCourse/\")\n",
    "os.getcwd()"
   ]
  },
  {
   "cell_type": "markdown",
   "metadata": {},
   "source": [
    "利用`nn.Module`实现Logit回归"
   ]
  },
  {
   "cell_type": "code",
   "execution_count": 370,
   "metadata": {},
   "outputs": [],
   "source": [
    "class LogitNet(nn.Module):\n",
    "    def __init__(self, dim_feature, dim_output):\n",
    "        super(LogitNet, self).__init__()\n",
    "        self.output = nn.Linear(dim_feature, dim_output)\n",
    "    \n",
    "    def forward(self, X):  # 层之间的计算次序\n",
    "        h = self.output(X)  # 1->2\n",
    "        o = nn.functional.softmax(h, dim=1)  # 2->3\n",
    "        return o"
   ]
  },
  {
   "cell_type": "code",
   "execution_count": 343,
   "metadata": {},
   "outputs": [
    {
     "name": "stdout",
     "output_type": "stream",
     "text": [
      "垃圾邮件数量: 747 \n",
      "正常邮件数量: 4825 \n"
     ]
    }
   ],
   "source": [
    "df = pd.read_csv('dataset/smsspamcollection/SMSSpamCollection', delimiter='\\t', header=None, names=['category', 'message'])\n",
    "df['label'] = (df.category == 'ham').astype('int')\n",
    "print('垃圾邮件数量: %d ' % np.sum(df.label == 0))\n",
    "print('正常邮件数量: %d ' % np.sum(df.label == 0))"
   ]
  },
  {
   "cell_type": "code",
   "execution_count": 363,
   "metadata": {},
   "outputs": [],
   "source": [
    "X = df.message.values\n",
    "y = df.label.values\n",
    "X_train_raw, X_test_raw, y_train, y_test = train_test_split(X, y, test_size=0.5, random_state=200)\n",
    "# y转换为tensor\n",
    "y_train = torch.tensor(y_train).type(torch.LongTensor)  # 注意label的形式为1维，即类别的标签，无需reshape(-1, 1)\n",
    "y_test = torch.tensor(y_test).type(torch.LongTensor)\n",
    "# 获取词的tf-idf\n",
    "vectorizer = TfidfVectorizer()\n",
    "X_train = vectorizer.fit_transform(X_train_raw)\n",
    "X_test = vectorizer.transform(X_test_raw)\n",
    "# X转换为tensor\n",
    "X_train = torch.tensor(X_train.toarray(), dtype=torch.float)\n",
    "X_test = torch.tensor(X_test.toarray(), dtype=torch.float)"
   ]
  },
  {
   "cell_type": "code",
   "execution_count": 364,
   "metadata": {},
   "outputs": [],
   "source": [
    "batch_size = 300  # 构建每批次100个样本的训练集\n",
    "dataset = TensorDataset(X_train, y_train)\n",
    "data_iter = DataLoader(dataset=dataset, batch_size=batch_size, shuffle=True)"
   ]
  },
  {
   "cell_type": "code",
   "execution_count": 371,
   "metadata": {},
   "outputs": [],
   "source": [
    "snet = LogitNet(dim_feature=X_train.shape[1], dim_output=2)\n",
    "optimizer = torch.optim.SGD(snet.parameters(), lr=0.03)  # 指定需优化的参数\n",
    "# loss_func = nn.CrossEntropyLoss()  # 确定训练准则\n",
    "loss_func = nn.NLLLoss()"
   ]
  },
  {
   "cell_type": "code",
   "execution_count": 372,
   "metadata": {},
   "outputs": [
    {
     "name": "stdout",
     "output_type": "stream",
     "text": [
      "loss_train: -0.52258, loss_test: -0.52226\n",
      "loss_train: -0.76409, loss_test: -0.76142\n",
      "loss_train: -0.81696, loss_test: -0.81369\n",
      "loss_train: -0.83523, loss_test: -0.83174\n",
      "loss_train: -0.84408, loss_test: -0.84047\n"
     ]
    }
   ],
   "source": [
    "for i in range(100):\n",
    "    for X, y in data_iter:        \n",
    "        loss = loss_func(snet.forward(X), y)\n",
    "        optimizer.zero_grad()\n",
    "        loss.backward()\n",
    "        optimizer.step()\n",
    "        \n",
    "    if i % 20 == 0:\n",
    "        with torch.no_grad():\n",
    "            loss_train = loss_func(snet.forward(X_train), y_train)\n",
    "            out_test = snet.forward(X_test)\n",
    "            loss_test = loss_func(out_test, y_test)\n",
    "            print(f\"loss_train: {loss_train:.5f}, loss_test: {loss_test:.5f}\")"
   ]
  },
  {
   "cell_type": "code",
   "execution_count": 373,
   "metadata": {},
   "outputs": [
    {
     "name": "stdout",
     "output_type": "stream",
     "text": [
      "tensor(368) tensor(2418)\n"
     ]
    }
   ],
   "source": [
    "train_result = snet(X_train)\n",
    "predict_y_train = torch.max(train_result, 1)[1]\n",
    "print(torch.sum(predict_y_train != y_train), torch.sum(predict_y_train == y_train))"
   ]
  },
  {
   "cell_type": "code",
   "execution_count": 380,
   "metadata": {},
   "outputs": [],
   "source": [
    "a = torch.randn(4, 8)"
   ]
  },
  {
   "cell_type": "code",
   "execution_count": 390,
   "metadata": {},
   "outputs": [
    {
     "data": {
      "text/plain": [
       "tensor([1.1224, 0.6719, 0.6718, 1.1281])"
      ]
     },
     "execution_count": 390,
     "metadata": {},
     "output_type": "execute_result"
    }
   ],
   "source": [
    "torch.std(a, 1)"
   ]
  },
  {
   "cell_type": "code",
   "execution_count": null,
   "metadata": {},
   "outputs": [],
   "source": []
  }
 ],
 "metadata": {
  "kernelspec": {
   "display_name": "Python 3",
   "language": "python",
   "name": "python3"
  },
  "language_info": {
   "codemirror_mode": {
    "name": "ipython",
    "version": 3
   },
   "file_extension": ".py",
   "mimetype": "text/x-python",
   "name": "python",
   "nbconvert_exporter": "python",
   "pygments_lexer": "ipython3",
   "version": "3.8.1"
  }
 },
 "nbformat": 4,
 "nbformat_minor": 4
}
