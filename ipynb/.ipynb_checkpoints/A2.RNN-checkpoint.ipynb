{
 "cells": [
  {
   "cell_type": "markdown",
   "metadata": {},
   "source": [
    "# 循环神经网络"
   ]
  },
  {
   "cell_type": "markdown",
   "metadata": {},
   "source": [
    "## 1. 数据准备\n",
    "\n",
    "将训练语料转换为字典形式"
   ]
  },
  {
   "cell_type": "code",
   "execution_count": 65,
   "metadata": {},
   "outputs": [],
   "source": [
    "%matplotlib inline\n",
    "import zipfile\n",
    "import torch\n",
    "import torch.nn as nn\n",
    "import numpy as np\n",
    "import matplotlib.pyplot as plt\n",
    "import time"
   ]
  },
  {
   "cell_type": "code",
   "execution_count": 2,
   "metadata": {},
   "outputs": [],
   "source": [
    "def load_data_jay_lyrics(num_sample=10000):\n",
    "    \"\"\"\n",
    "    加载周杰伦歌词数据集\n",
    "    \"\"\"\n",
    "    # 读取数据集\n",
    "    with open('../dataset/jaychou_lyrics.txt', encoding='utf-8') as f:\n",
    "        corpus_chars = f.read()\n",
    "    # 把换行符替换为空格\n",
    "    corpus_chars = corpus_chars.replace('\\n', ' ').replace('\\r', ' ')\n",
    "    corpus_chars = corpus_chars[:num_sample]\n",
    "    # 建立字符索引\n",
    "    idx_to_char = list(set(corpus_chars))\n",
    "    char_to_idx = dict([(char, i) for i, char in enumerate(idx_to_char)])\n",
    "    vocab_size = len(char_to_idx)\n",
    "    # 将训练集中每个字符转换为索引\n",
    "    corpus_indices = [char_to_idx[char] for char in corpus_chars]\n",
    "    # 返回索引后的前num_sample个字符的文本，字符到索引的映射，索引到字符的映射，字符表大小\n",
    "    return corpus_indices, char_to_idx, idx_to_char, vocab_size"
   ]
  },
  {
   "cell_type": "code",
   "execution_count": 3,
   "metadata": {},
   "outputs": [],
   "source": [
    "corpus_indices, char_to_idx, idx_to_char, vocab_size = load_data_jay_lyrics()"
   ]
  },
  {
   "cell_type": "code",
   "execution_count": 4,
   "metadata": {},
   "outputs": [
    {
     "data": {
      "text/plain": [
       "1027"
      ]
     },
     "execution_count": 4,
     "metadata": {},
     "output_type": "execute_result"
    }
   ],
   "source": [
    "vocab_size"
   ]
  },
  {
   "cell_type": "code",
   "execution_count": 5,
   "metadata": {},
   "outputs": [
    {
     "data": {
      "text/plain": [
       "10000"
      ]
     },
     "execution_count": 5,
     "metadata": {},
     "output_type": "execute_result"
    }
   ],
   "source": [
    "len(corpus_indices)   # 10000"
   ]
  },
  {
   "cell_type": "code",
   "execution_count": 6,
   "metadata": {},
   "outputs": [
    {
     "data": {
      "text/plain": [
       "290"
      ]
     },
     "execution_count": 6,
     "metadata": {},
     "output_type": "execute_result"
    }
   ],
   "source": [
    "char_to_idx['风']"
   ]
  },
  {
   "cell_type": "code",
   "execution_count": 7,
   "metadata": {},
   "outputs": [
    {
     "data": {
      "text/plain": [
       "'翻'"
      ]
     },
     "execution_count": 7,
     "metadata": {},
     "output_type": "execute_result"
    }
   ],
   "source": [
    "idx_to_char[371]"
   ]
  },
  {
   "cell_type": "markdown",
   "metadata": {},
   "source": [
    "## 2. 采样"
   ]
  },
  {
   "cell_type": "markdown",
   "metadata": {},
   "source": [
    "### 2.1 随机采样\n",
    "\n",
    "下⾯的代码每次从数据⾥随机采样⼀个小批量。其中批量⼤小batch_size指每个小批量的样本数，num_steps为每个样本所包含的时间步数。在随机采样中，每个样本是原始序列上任意截取的⼀段序列。相邻的两个随机小批量在原始序列上的位置不⼀定相毗邻。因此，我们⽆法⽤⼀个小批量最终时间步的隐藏状态来初始化下⼀个小批量的隐藏状态。在训练模型时，每次随机采样前都需要重新初始化隐藏状态。"
   ]
  },
  {
   "cell_type": "code",
   "execution_count": 8,
   "metadata": {},
   "outputs": [],
   "source": [
    "def data_iter_random(corpus_indices, batch_size, num_steps):\n",
    "    '''\n",
    "    corpus_indices: 词典按先后次序的索引\n",
    "    batch_size: 每个批次的样本容量\n",
    "    num_steps: 每个样本的长度\n",
    "    '''\n",
    "    num_examples = (len(corpus_indices) - 1) // num_steps  # 可取的样本数量\n",
    "    epoch_size = num_examples // batch_size  # 总词汇数量 / (样本长度 * 样本数量)\n",
    "    example_indices = list(range(num_examples))\n",
    "    np.random.shuffle(example_indices)  # 打乱索引的顺序，即随机采样\n",
    "      \n",
    "    for i in range(epoch_size):\n",
    "        # 每次读取batch_size个随机样本\n",
    "        batch_indices = example_indices[i*batch_size: (i + 1)*batch_size ]\n",
    "        X = [corpus_indices[j*num_steps: (j + 1)*num_steps] for j in batch_indices]\n",
    "        Y = [corpus_indices[j*num_steps + 1: (j + 1)*num_steps + 1] for j in batch_indices]\n",
    "        yield torch.IntTensor(X), torch.IntTensor(Y)"
   ]
  },
  {
   "cell_type": "code",
   "execution_count": 9,
   "metadata": {},
   "outputs": [
    {
     "name": "stdout",
     "output_type": "stream",
     "text": [
      "0\n",
      "X:\n",
      " tensor([[12, 13, 14, 15, 16, 17],\n",
      "        [ 6,  7,  8,  9, 10, 11],\n",
      "        [ 0,  1,  2,  3,  4,  5]], dtype=torch.int32) \n",
      "Y:\n",
      " tensor([[13, 14, 15, 16, 17, 18],\n",
      "        [ 7,  8,  9, 10, 11, 12],\n",
      "        [ 1,  2,  3,  4,  5,  6]], dtype=torch.int32)\n"
     ]
    }
   ],
   "source": [
    "my_seq = list(range(30))\n",
    "i = 0\n",
    "for X, Y in data_iter_random(my_seq, batch_size=3, num_steps=6):\n",
    "    print(i)\n",
    "    print('X:\\n', X, '\\nY:\\n', Y)\n",
    "    i += 1"
   ]
  },
  {
   "cell_type": "markdown",
   "metadata": {},
   "source": [
    "### 2.2 相邻采样\n",
    "\n",
    "除对原始序列做随机采样之外，我们还可以令相邻的两个随机小批量在原始序列上的位置相毗邻。这时候，我们就可以用一个小批量最终时间步的隐藏状态来初始化下一个小批量的隐藏状态，从而使下一个小批量的输出也取决于当前小批量的输入，并如此循环下去。这对实现循环神经网络造成了两方面影响：一方面， 在训练模型时，我们只需在每一个迭代周期开始时初始化隐藏状态；另一方面，当多个相邻小批量通过传递隐藏状态串联起来时，模型参数的梯度计算将依赖所有串联起来的小批量序列。同一迭代周期中，随着迭代次数的增加，梯度的计算开销会越来越大。 为了使模型参数的梯度计算只依赖一次迭代读取的小批量序列，我们可以在每次读取小批量前将隐藏状态从计算图中分离出来。"
   ]
  },
  {
   "cell_type": "code",
   "execution_count": 10,
   "metadata": {},
   "outputs": [],
   "source": [
    "# 本函数已保存在d2lzh包中方便以后使用\n",
    "def data_iter_consecutive(corpus_indices, batch_size, num_steps):\n",
    "    '''\n",
    "    corpus_indices: 词典按先后次序的索引\n",
    "    batch_size: 每个批次的样本容量\n",
    "    num_steps: 每个样本的长度\n",
    "    '''\n",
    "    corpus_indices = np.array(corpus_indices)\n",
    "    data_len = len(corpus_indices)  # 单词个数\n",
    "    batch_len = data_len // batch_size  # 小批量的数量\n",
    "    indices = corpus_indices[0: batch_size*batch_len].reshape(batch_size, batch_len)  # 先取总量，再塑形\n",
    "    epoch_size = (batch_len - 1) // num_steps  # 批量数量\n",
    "    for i in range(epoch_size):\n",
    "        X = indices[:, i * num_steps: (i + 1) * num_steps]\n",
    "        Y = indices[:, i * num_steps + 1: (i + 1) * num_steps + 1]\n",
    "        yield torch.IntTensor(X), torch.IntTensor(Y)"
   ]
  },
  {
   "cell_type": "code",
   "execution_count": 11,
   "metadata": {},
   "outputs": [
    {
     "name": "stdout",
     "output_type": "stream",
     "text": [
      "X:\n",
      " tensor([[ 0,  1,  2,  3,  4,  5],\n",
      "        [15, 16, 17, 18, 19, 20]], dtype=torch.int32) \n",
      "Y:\n",
      " tensor([[ 1,  2,  3,  4,  5,  6],\n",
      "        [16, 17, 18, 19, 20, 21]], dtype=torch.int32)\n",
      "X:\n",
      " tensor([[ 6,  7,  8,  9, 10, 11],\n",
      "        [21, 22, 23, 24, 25, 26]], dtype=torch.int32) \n",
      "Y:\n",
      " tensor([[ 7,  8,  9, 10, 11, 12],\n",
      "        [22, 23, 24, 25, 26, 27]], dtype=torch.int32)\n"
     ]
    }
   ],
   "source": [
    "my_seq = list(range(30))\n",
    "for X, Y in data_iter_consecutive(my_seq, batch_size=2, num_steps=6):\n",
    "    print('X:\\n', X, '\\nY:\\n', Y)"
   ]
  },
  {
   "cell_type": "markdown",
   "metadata": {},
   "source": [
    "## 2. `one_hot`编码\n",
    "\n",
    "对语料中的每个不同单词进行`one_hot`编码。编码长度为字典长度，单词的索引对应的位置的编码值为1，其余为0。"
   ]
  },
  {
   "cell_type": "code",
   "execution_count": 51,
   "metadata": {},
   "outputs": [],
   "source": [
    "def one_hot(word_indices, vocab_size):\n",
    "    '''\n",
    "    word_indices: 需要编码的索引, torch.IntTensor\n",
    "    vocab_size: 词典大小, scalar\n",
    "    '''\n",
    "    shape = list(word_indices.shape) + [vocab_size]\n",
    "    res = torch.zeros(size=shape)\n",
    "    if len(shape) == 2:\n",
    "        res[range(shape[0]), word_indices] = 1\n",
    "    elif len(shape) == 3:\n",
    "        for i in range(shape[0]):\n",
    "            for j in range(shape[1]):\n",
    "                res[i, j, word_indices[i, j]] = 1\n",
    "    else:\n",
    "        print('X超过2维!')\n",
    "\n",
    "    return res"
   ]
  },
  {
   "cell_type": "code",
   "execution_count": 13,
   "metadata": {},
   "outputs": [
    {
     "data": {
      "text/plain": [
       "tensor([[[0., 1., 0., 0., 0., 0., 0., 0., 0., 0.],\n",
       "         [0., 0., 1., 0., 0., 0., 0., 0., 0., 0.]],\n",
       "\n",
       "        [[0., 0., 1., 0., 0., 0., 0., 0., 0., 0.],\n",
       "         [0., 0., 0., 1., 0., 0., 0., 0., 0., 0.]],\n",
       "\n",
       "        [[0., 0., 0., 1., 0., 0., 0., 0., 0., 0.],\n",
       "         [0., 0., 0., 0., 1., 0., 0., 0., 0., 0.]]])"
      ]
     },
     "execution_count": 13,
     "metadata": {},
     "output_type": "execute_result"
    }
   ],
   "source": [
    "x = torch.IntTensor([[1, 2],[2, 3],[3, 4]])\n",
    "one_hot(x, 10)"
   ]
  },
  {
   "cell_type": "markdown",
   "metadata": {},
   "source": [
    "每次采样的小批量的形状是(批量大小, 时间步数)，以下函数将字符下标转换成字符的`one-hot`编码。"
   ]
  },
  {
   "cell_type": "code",
   "execution_count": 14,
   "metadata": {},
   "outputs": [],
   "source": [
    "def to_onehot(X, size):\n",
    "    \"\"\"\n",
    "    X: n*t, n为批量大小，t为时间步长\n",
    "    size: 词典大小\n",
    "    返回包含t个矩阵的列表, x: (批量大小, 词典大小)\n",
    "    \"\"\"\n",
    "    return [one_hot(x, size) for x in X.t()]"
   ]
  },
  {
   "cell_type": "code",
   "execution_count": 15,
   "metadata": {},
   "outputs": [],
   "source": [
    "X = torch.arange(10).reshape(2, 5)\n",
    "inputs = to_onehot(X, vocab_size)"
   ]
  },
  {
   "cell_type": "code",
   "execution_count": 16,
   "metadata": {},
   "outputs": [
    {
     "data": {
      "text/plain": [
       "(5, torch.Size([2, 1027]))"
      ]
     },
     "execution_count": 16,
     "metadata": {},
     "output_type": "execute_result"
    }
   ],
   "source": [
    "len(inputs), inputs[0].shape  # 时间步, (小批量大小, 输入数量)"
   ]
  },
  {
   "cell_type": "markdown",
   "metadata": {},
   "source": [
    "## 3. 模型实现"
   ]
  },
  {
   "cell_type": "markdown",
   "metadata": {},
   "source": [
    "### 3.1 初始化模型参数"
   ]
  },
  {
   "cell_type": "code",
   "execution_count": 17,
   "metadata": {},
   "outputs": [],
   "source": [
    "def get_params(num_inputs, num_hiddens, num_outputs):\n",
    "    '''\n",
    "    num_inputs: 输入层结点数量\n",
    "    num_hiddens: 隐藏层结点数量\n",
    "    num_outputs: 输出层结点数量\n",
    "    '''\n",
    "    # 隐藏层参数\n",
    "    W_xh = torch.randn(num_inputs, num_hiddens) * 0.01\n",
    "    W_hh = torch.randn(num_hiddens, num_hiddens) * 0.01\n",
    "    b_h = torch.zeros(num_hiddens)\n",
    "\n",
    "    # 输出层参数\n",
    "    W_ho = torch.randn(num_hiddens, num_outputs) * 0.01\n",
    "    b_o = torch.zeros(num_outputs)\n",
    "\n",
    "    # 附上梯度\n",
    "    W_xh.requires_grad_(True)\n",
    "    W_hh.requires_grad_(True)\n",
    "    b_h.requires_grad_(True)\n",
    "    W_ho.requires_grad_(True)\n",
    "    b_o.requires_grad_(True)\n",
    "    return W_xh, W_hh, b_h, W_ho, b_o"
   ]
  },
  {
   "cell_type": "markdown",
   "metadata": {},
   "source": [
    "### 3.2 初始化隐藏层的值"
   ]
  },
  {
   "cell_type": "code",
   "execution_count": 18,
   "metadata": {},
   "outputs": [],
   "source": [
    "def init_rnn_hidden_state(batch_size, num_hiddens):\n",
    "    '''\n",
    "    batch_size: 每个批量的样本量\n",
    "    num_hiddens: 隐藏层结点数量\n",
    "    '''\n",
    "    return torch.zeros(batch_size, num_hiddens),"
   ]
  },
  {
   "cell_type": "markdown",
   "metadata": {},
   "source": [
    "### 3.3 构建循环神经网络"
   ]
  },
  {
   "cell_type": "code",
   "execution_count": 19,
   "metadata": {},
   "outputs": [],
   "source": [
    "def rnn(inputs, state, params):\n",
    "    '''\n",
    "    inputs: 各时间步(batch_size, vocab_size)构成的张量\n",
    "    state: 初始隐藏层结点状态(batch_size, num_hiddens)\n",
    "    params: 输入-隐藏，隐藏-隐藏，隐藏-输出 参数\n",
    "    计算len(inputs)时间步， 初始状态为state，以及参数为params下的小批量样本对应的输出\n",
    "    '''\n",
    "    W_xh, W_hh, b_h, W_ho, b_o = params\n",
    "    H, = state\n",
    "    outputs = []\n",
    "    for X in inputs: # X: batch_size * vocab_size\n",
    "        H = torch.tanh(X@W_xh + H@W_hh + b_h)  # batch_size * hidden_size\n",
    "        Y = H@W_ho + b_o  # batch_size * vocab_size\n",
    "        outputs.append(Y)\n",
    "\n",
    "    return outputs, (H, )  # 相邻采样时, H作为下一个批量的初始状态"
   ]
  },
  {
   "cell_type": "code",
   "execution_count": 20,
   "metadata": {},
   "outputs": [],
   "source": [
    "X = torch.arange(20).reshape(4, 5)  # 一个批次，样本量为4，时间步为5\n",
    "num_inputs, num_hiddens, num_outputs = vocab_size, 256, vocab_size  # 输入层数量，隐藏层数量，输出层数量\n",
    "state = init_rnn_hidden_state(X.shape[0], num_hiddens)\n",
    "inputs = to_onehot(X, vocab_size)\n",
    "params = get_params(num_inputs, num_hiddens, num_outputs)\n",
    "outputs, state_new = rnn(inputs, state, params)"
   ]
  },
  {
   "cell_type": "code",
   "execution_count": 46,
   "metadata": {},
   "outputs": [
    {
     "data": {
      "text/plain": [
       "torch.Size([4, 5])"
      ]
     },
     "execution_count": 46,
     "metadata": {},
     "output_type": "execute_result"
    }
   ],
   "source": [
    "X.shape"
   ]
  },
  {
   "cell_type": "code",
   "execution_count": 21,
   "metadata": {},
   "outputs": [
    {
     "data": {
      "text/plain": [
       "(5, torch.Size([4, 1027]), torch.Size([4, 256]))"
      ]
     },
     "execution_count": 21,
     "metadata": {},
     "output_type": "execute_result"
    }
   ],
   "source": [
    "len(outputs), outputs[0].shape, state_new[0].shape"
   ]
  },
  {
   "cell_type": "markdown",
   "metadata": {},
   "source": [
    "### 3.4 预测前n个字符"
   ]
  },
  {
   "cell_type": "code",
   "execution_count": 49,
   "metadata": {},
   "outputs": [],
   "source": [
    "# This function is saved in the d2l package for future use\n",
    "def predict_rnn(prefix, num_chars, rnn, params, init_rnn_hidden_state, num_hiddens, vocab_size, idx_to_char, char_to_idx):\n",
    "    \"\"\"\n",
    "    prefix: 前n个字符\n",
    "    num_chars: 往前预测的字符数\n",
    "    rnn: rnn模型\n",
    "    params: 预测使用的参数\n",
    "    init_rnn_state: 初始化模型参数\n",
    "    num_hiddens: 隐藏层结点数量\n",
    "    vocab_size: 字典中的字符个数\n",
    "    idx_to_char: {索引: 字符}\n",
    "    char_to_idx: {字符: 索引}\n",
    "    \"\"\"\n",
    "    state = init_rnn_hidden_state(1, num_hiddens)\n",
    "    output = [char_to_idx[c] for c in prefix]  # 初始化输出为prefix\n",
    "    \n",
    "    for t in range(num_chars - 1):\n",
    "        X = to_onehot(torch.LongTensor([[output[-1]]]), vocab_size)\n",
    "        Y, state = rnn(X, state, params)\n",
    "        output.append(int(Y[0].argmax(dim=1).item()))\n",
    "            \n",
    "    return ''.join([idx_to_char[i] for i in output])"
   ]
  },
  {
   "cell_type": "code",
   "execution_count": 56,
   "metadata": {},
   "outputs": [
    {
     "data": {
      "text/plain": [
       "'回家婆景样忠沙走病掉抬如发桌怀早壶春擅醉样眼o猎蒙残婆景样忠沙'"
      ]
     },
     "execution_count": 56,
     "metadata": {},
     "output_type": "execute_result"
    }
   ],
   "source": [
    "params = get_params(num_inputs, num_hiddens, num_outputs)\n",
    "prefix = '回家'\n",
    "predict_rnn(prefix, 30, rnn, params, init_rnn_hidden_state, num_hiddens, vocab_size, idx_to_char, char_to_idx)"
   ]
  },
  {
   "cell_type": "markdown",
   "metadata": {},
   "source": [
    "### 3.5 裁减梯度"
   ]
  },
  {
   "cell_type": "code",
   "execution_count": null,
   "metadata": {},
   "outputs": [],
   "source": [
    "def grad_clipping(params, theta):\n",
    "    norm = torch.tensor(0.0)\n",
    "    for param in params:\n",
    "        norm += torch.norm(param.grad, 2)\n",
    "        \n",
    "    if norm > theta:\n",
    "        for param in params:\n",
    "            param.grad.data.mul_(theta / norm)"
   ]
  },
  {
   "cell_type": "code",
   "execution_count": 62,
   "metadata": {},
   "outputs": [
    {
     "data": {
      "text/plain": [
       "tensor(3.7417)"
      ]
     },
     "execution_count": 62,
     "metadata": {},
     "output_type": "execute_result"
    }
   ],
   "source": [
    "torch.norm(torch.FloatTensor([1,2,3]), 2)"
   ]
  },
  {
   "cell_type": "code",
   "execution_count": 64,
   "metadata": {},
   "outputs": [
    {
     "data": {
      "text/plain": [
       "tensor(0.)"
      ]
     },
     "execution_count": 64,
     "metadata": {},
     "output_type": "execute_result"
    }
   ],
   "source": [
    "torch.tensor(0.0)"
   ]
  },
  {
   "cell_type": "markdown",
   "metadata": {},
   "source": [
    "### 3.6 训练模型"
   ]
  },
  {
   "cell_type": "code",
   "execution_count": null,
   "metadata": {},
   "outputs": [],
   "source": [
    "def train_and_predict_rnn(rnn, get_params, init_rnn_state, num_hiddens, corpus_indices, vocab_size, idx_to_char, char_to_idx, is_random_iter,\n",
    "                          num_epochs, num_steps, lr, clipping_theta, batch_size, prefixes):\n",
    "    if is_random_iter:\n",
    "        data_iter_fn = data_iter_random\n",
    "    else:\n",
    "        data_iter_fn = data_iter_consecutive\n",
    "        \n",
    "    params = get_params()\n",
    "    loss =  nn.CrossEntropyLoss()  # 交叉熵损失函数\n",
    "    start = time.perf_counter()\n",
    "    for epoch in range(num_epochs):\n",
    "        if not is_random_iter:  # 初始化相邻抽样的隐藏层状态\n",
    "            state = init_rnn_state(batch_size, num_hiddens)\n",
    "            \n",
    "        l_sum, n = 0.0, 0\n",
    "        data_iter = data_iter_fn(corpus_indices, batch_size, num_steps)  # 抽样字符的下标\n",
    "        for X, Y in data_iter:  # 取出小批量\n",
    "            if is_random_iter:  # 如果是随机采样，每个小批量初始化隐藏层状态\n",
    "                state = init_rnn_state(batch_size, num_hiddens)\n",
    "            else:  # 如果是相邻采样，则每个小批量取上一个训练最后时刻的隐藏层状态，但s需要从上一个周期计算图中解耦\n",
    "                for s in state:\n",
    "                    s.detach_()\n",
    "                    \n",
    "            inputs = to_onehot(X, vocab_size)  # 转换成one-hot向量\n",
    "            (outputs, state) = rnn(inputs, state, params)  # outputs是num_steps个形状为(batch_size, len(vocab))的矩阵\n",
    "            outputs = torch.cat(outputs, dim=0)  # 将num_steps个矩阵合并成一个矩阵(num_steps * batch_size, len(vocab))\n",
    "            y = Y.t().reshape((-1,))  # Y的原形状为(batch_size, num_steps), 将其转换为和output一致的数组y\n",
    "            l = loss(outputs, y.long()).mean()  # 通过交叉熵度量分类错误\n",
    "            l.backward()  # 反向传播，自动计算梯度\n",
    "            with torch.no_grad():\n",
    "                grad_clipping(params, clipping_theta, ctx)  # 裁剪梯度\n",
    "                for param in params:  # 小批量梯度下降\n",
    "                    param.data.sub_(lr*param.grad/batch_size)\n",
    "                    param.grad.data.zero_()\n",
    "                \n",
    "            l_sum += l.item() * y.numel()  # 总损失\n",
    "            n += y.numel()  # 已训练样本数量\n",
    "            \n",
    "        if (epoch + 1) % 50 == 0:  # 每50批次运行一次\n",
    "            print('epoch %d, perplexity %f, time %.2f sec' % (epoch + 1, math.exp(l_sum / n), time.perf_counter() - start))\n",
    "            start = time.perf_counter()  # 重置开始时间\n",
    "            \n",
    "        if (epoch + 1) % 100 == 0:  # 预测未来的50个字符\n",
    "            for prefix in prefixes:\n",
    "                print(' -',  predict_rnn(prefix, 50, rnn, params, init_rnn_hidden_state, num_hiddens, vocab_size, idx_to_char, char_to_idx))"
   ]
  },
  {
   "cell_type": "code",
   "execution_count": null,
   "metadata": {},
   "outputs": [],
   "source": []
  }
 ],
 "metadata": {
  "kernelspec": {
   "display_name": "Python 3",
   "language": "python",
   "name": "python3"
  },
  "language_info": {
   "codemirror_mode": {
    "name": "ipython",
    "version": 3
   },
   "file_extension": ".py",
   "mimetype": "text/x-python",
   "name": "python",
   "nbconvert_exporter": "python",
   "pygments_lexer": "ipython3",
   "version": "3.8.1"
  },
  "toc-showtags": false
 },
 "nbformat": 4,
 "nbformat_minor": 4
}
