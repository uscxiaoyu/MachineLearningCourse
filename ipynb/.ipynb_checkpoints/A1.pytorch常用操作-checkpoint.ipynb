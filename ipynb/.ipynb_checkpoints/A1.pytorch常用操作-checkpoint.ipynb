{
 "cells": [
  {
   "cell_type": "code",
   "execution_count": 1,
   "metadata": {},
   "outputs": [],
   "source": [
    "%config InlineBackend.figure_formats = ['svg']\n",
    "%matplotlib inline\n",
    "import matplotlib.pyplot as plt\n",
    "from torch import tensor, nn\n",
    "import numpy as np\n",
    "import torch"
   ]
  },
  {
   "cell_type": "markdown",
   "metadata": {},
   "source": [
    "## 0. Tensor"
   ]
  },
  {
   "cell_type": "markdown",
   "metadata": {},
   "source": [
    "torch.Tensor是一种包含单一数据类型元素的多维矩阵。Torch定义了七种CPU tensor类型和八种GPU tensor类型：\n",
    "\n",
    "|Data type|\t CPU tensor | GPU tensor|\n",
    "|:---|:---|:---|\n",
    "|32-bit floating point|\ttorch.FloatTensor|\ttorch.cuda.FloatTensor|\n",
    "|64-bit floating point|\ttorch.DoubleTensor|\ttorch.cuda.DoubleTensor|\n",
    "|16-bit floating point|\tN/A|\ttorch.cuda.HalfTensor|\n",
    "|8-bit integer (unsigned)|\ttorch.ByteTensor|\ttorch.cuda.ByteTensor|\n",
    "|8-bit integer (signed)|\ttorch.CharTensor|\ttorch.cuda.CharTensor|\n",
    "|16-bit integer (signed)|\ttorch.ShortTensor|\ttorch.cuda.ShortTensor|\n",
    "|32-bit integer (signed)|\ttorch.IntTensor|\ttorch.cuda.IntTensor|\n",
    "|64-bit integer (signed)|\ttorch.LongTensor|\ttorch.cuda.LongTensor|"
   ]
  },
  {
   "cell_type": "code",
   "execution_count": 2,
   "metadata": {},
   "outputs": [
    {
     "data": {
      "text/plain": [
       "tensor([1, 1, 1, 1, 1, 1, 1, 1, 1, 1])"
      ]
     },
     "execution_count": 2,
     "metadata": {},
     "output_type": "execute_result"
    }
   ],
   "source": [
    "torch.ones_like(torch.arange(10))"
   ]
  },
  {
   "cell_type": "code",
   "execution_count": 2,
   "metadata": {},
   "outputs": [
    {
     "data": {
      "text/plain": [
       "tensor(285)"
      ]
     },
     "execution_count": 2,
     "metadata": {},
     "output_type": "execute_result"
    }
   ],
   "source": [
    "torch.arange(10) @ torch.arange(10)"
   ]
  },
  {
   "cell_type": "code",
   "execution_count": 3,
   "metadata": {},
   "outputs": [
    {
     "data": {
      "text/plain": [
       "tensor([0, 1, 2, 3, 4, 5, 6, 7, 8, 9])"
      ]
     },
     "execution_count": 3,
     "metadata": {},
     "output_type": "execute_result"
    }
   ],
   "source": [
    "torch.arange(10)"
   ]
  },
  {
   "cell_type": "code",
   "execution_count": 4,
   "metadata": {},
   "outputs": [
    {
     "data": {
      "text/plain": [
       "array([1, 1, 1, 1, 1, 1, 1, 1, 1, 1])"
      ]
     },
     "execution_count": 4,
     "metadata": {},
     "output_type": "execute_result"
    }
   ],
   "source": [
    "np.ones_like(np.arange(10))"
   ]
  },
  {
   "cell_type": "markdown",
   "metadata": {},
   "source": [
    "- `torch.tensor`和`torch.Tensor`的区别"
   ]
  },
  {
   "cell_type": "code",
   "execution_count": null,
   "metadata": {},
   "outputs": [],
   "source": [
    "torch.__version__"
   ]
  },
  {
   "cell_type": "code",
   "execution_count": 5,
   "metadata": {},
   "outputs": [
    {
     "data": {
      "text/plain": [
       "tensor([5., 4.])"
      ]
     },
     "execution_count": 5,
     "metadata": {},
     "output_type": "execute_result"
    }
   ],
   "source": [
    "torch.Tensor([5, 4])"
   ]
  },
  {
   "cell_type": "code",
   "execution_count": 6,
   "metadata": {},
   "outputs": [
    {
     "data": {
      "text/plain": [
       "'torch.FloatTensor'"
      ]
     },
     "execution_count": 6,
     "metadata": {},
     "output_type": "execute_result"
    }
   ],
   "source": [
    "torch.Tensor([5, 4]).type()  # 转换为默认的FLoatTensor类型"
   ]
  },
  {
   "cell_type": "code",
   "execution_count": 7,
   "metadata": {},
   "outputs": [
    {
     "data": {
      "text/plain": [
       "tensor([5, 4])"
      ]
     },
     "execution_count": 7,
     "metadata": {},
     "output_type": "execute_result"
    }
   ],
   "source": [
    "torch.tensor([5, 4])  # tensor接受已经存在的数据"
   ]
  },
  {
   "cell_type": "code",
   "execution_count": 8,
   "metadata": {},
   "outputs": [
    {
     "data": {
      "text/plain": [
       "'torch.LongTensor'"
      ]
     },
     "execution_count": 8,
     "metadata": {},
     "output_type": "execute_result"
    }
   ],
   "source": [
    "torch.tensor([5, 4]).type()  # tensor接受已经存在的数据"
   ]
  },
  {
   "cell_type": "code",
   "execution_count": 9,
   "metadata": {},
   "outputs": [
    {
     "data": {
      "text/plain": [
       "tensor([[1.1479e-41, 0.0000e+00, 5.4931e-43, 0.0000e+00],\n",
       "        [0.0000e+00, 0.0000e+00, 5.7828e-36, 0.0000e+00],\n",
       "        [1.4013e-45, 0.0000e+00, 5.7829e-36, 0.0000e+00],\n",
       "        [3.3631e-44,        nan, 6.0404e-05, 4.5562e-41],\n",
       "        [1.4013e-45, 0.0000e+00, 1.4013e-45, 7.0065e-45]])"
      ]
     },
     "execution_count": 9,
     "metadata": {},
     "output_type": "execute_result"
    }
   ],
   "source": [
    "torch.Tensor(5, 4)  #  Tensor创建一个多维矩阵，注意和torch.Tensor([5, 4])之间的区别"
   ]
  },
  {
   "cell_type": "code",
   "execution_count": 10,
   "metadata": {
    "tags": []
   },
   "outputs": [
    {
     "name": "stdout",
     "output_type": "stream",
     "text": [
      "tensor([5.7854e-36, 0.0000e+00, 4.0648e+03, 4.5562e-41, 8.9683e-44])\n",
      "tensor([5.])\n",
      "tensor(5)\n"
     ]
    }
   ],
   "source": [
    "print(torch.Tensor(5), torch.Tensor([5]), torch.tensor(5), sep='\\n')  # 三者之间的区别"
   ]
  },
  {
   "cell_type": "markdown",
   "metadata": {},
   "source": [
    "- 不同类别的`Tensor`"
   ]
  },
  {
   "cell_type": "code",
   "execution_count": 11,
   "metadata": {},
   "outputs": [
    {
     "data": {
      "text/plain": [
       "(tensor([[83240784,        0, 83240144,        0],\n",
       "         [      64,        0,       80,        0]], dtype=torch.int32),\n",
       " tensor([2, 4], dtype=torch.int32))"
      ]
     },
     "execution_count": 11,
     "metadata": {},
     "output_type": "execute_result"
    }
   ],
   "source": [
    "torch.IntTensor(2, 4), torch.IntTensor([2, 4])"
   ]
  },
  {
   "cell_type": "code",
   "execution_count": 12,
   "metadata": {},
   "outputs": [
    {
     "data": {
      "text/plain": [
       "tensor([[1, 2, 3],\n",
       "        [4, 5, 6]], dtype=torch.int32)"
      ]
     },
     "execution_count": 12,
     "metadata": {},
     "output_type": "execute_result"
    }
   ],
   "source": [
    "torch.IntTensor([[1, 2, 3], [4, 5, 6]])  # 一个张量tensor可以从Python的list或序列构建："
   ]
  },
  {
   "cell_type": "code",
   "execution_count": 13,
   "metadata": {},
   "outputs": [
    {
     "data": {
      "text/plain": [
       "tensor([[0, 0, 0, 0],\n",
       "        [0, 0, 0, 0]], dtype=torch.int16)"
      ]
     },
     "execution_count": 13,
     "metadata": {},
     "output_type": "execute_result"
    }
   ],
   "source": [
    "torch.ShortTensor(2, 4).zero_()  # 一个空张量tensor可以通过规定其大小来构建："
   ]
  },
  {
   "cell_type": "code",
   "execution_count": 14,
   "metadata": {},
   "outputs": [
    {
     "data": {
      "text/plain": [
       "tensor([0, 1, 2, 3, 4, 5, 6, 7, 8, 9], dtype=torch.uint8)"
      ]
     },
     "execution_count": 14,
     "metadata": {},
     "output_type": "execute_result"
    }
   ],
   "source": [
    "torch.ByteTensor(range(10))"
   ]
  },
  {
   "cell_type": "code",
   "execution_count": 15,
   "metadata": {},
   "outputs": [
    {
     "data": {
      "text/plain": [
       "tensor([0, 1, 2, 3, 4, 5, 6, 7, 8, 9], dtype=torch.int16)"
      ]
     },
     "execution_count": 15,
     "metadata": {},
     "output_type": "execute_result"
    }
   ],
   "source": [
    "torch.ShortTensor(np.arange(10))"
   ]
  },
  {
   "cell_type": "markdown",
   "metadata": {},
   "source": [
    "- `torch.from_numpy()`有numpy.ndarray对象创建Tensor"
   ]
  },
  {
   "cell_type": "code",
   "execution_count": 16,
   "metadata": {},
   "outputs": [
    {
     "data": {
      "text/plain": [
       "'torch.LongTensor'"
      ]
     },
     "execution_count": 16,
     "metadata": {},
     "output_type": "execute_result"
    }
   ],
   "source": [
    "u = np.random.randint(10, size=(2, 10))\n",
    "u = torch.from_numpy(u)  # 默认转为LongTensor\n",
    "u.type()"
   ]
  },
  {
   "cell_type": "code",
   "execution_count": 17,
   "metadata": {},
   "outputs": [
    {
     "data": {
      "text/plain": [
       "tensor([[5, 2, 2, 9, 8, 0, 4, 8, 2, 2],\n",
       "        [3, 8, 6, 9, 8, 4, 0, 7, 0, 0]])"
      ]
     },
     "execution_count": 17,
     "metadata": {},
     "output_type": "execute_result"
    }
   ],
   "source": [
    "u"
   ]
  },
  {
   "cell_type": "code",
   "execution_count": 18,
   "metadata": {},
   "outputs": [
    {
     "data": {
      "text/plain": [
       "False"
      ]
     },
     "execution_count": 18,
     "metadata": {},
     "output_type": "execute_result"
    }
   ],
   "source": [
    "u.requires_grad  # 是否计算梯度"
   ]
  },
  {
   "cell_type": "code",
   "execution_count": 19,
   "metadata": {},
   "outputs": [
    {
     "data": {
      "text/plain": [
       "'torch.LongTensor'"
      ]
     },
     "execution_count": 19,
     "metadata": {},
     "output_type": "execute_result"
    }
   ],
   "source": [
    "u.type()  # tensor的类型"
   ]
  },
  {
   "cell_type": "code",
   "execution_count": 20,
   "metadata": {},
   "outputs": [],
   "source": [
    "u = u.type(torch.FloatTensor)"
   ]
  },
  {
   "cell_type": "code",
   "execution_count": 21,
   "metadata": {},
   "outputs": [],
   "source": [
    "u.requires_grad = True  # 附加梯度，反向传播时计算"
   ]
  },
  {
   "cell_type": "code",
   "execution_count": 22,
   "metadata": {},
   "outputs": [
    {
     "data": {
      "text/plain": [
       "tensor([[5., 2., 2., 9., 8., 0., 4., 8., 2., 2.],\n",
       "        [3., 8., 6., 9., 8., 4., 0., 7., 0., 0.]], requires_grad=True)"
      ]
     },
     "execution_count": 22,
     "metadata": {},
     "output_type": "execute_result"
    }
   ],
   "source": [
    "u"
   ]
  },
  {
   "cell_type": "markdown",
   "metadata": {},
   "source": [
    "## 1.torch常用函数"
   ]
  },
  {
   "cell_type": "code",
   "execution_count": 23,
   "metadata": {},
   "outputs": [
    {
     "data": {
      "text/plain": [
       "tensor([[31, 38, 14, 43, 49],\n",
       "        [ 9,  9, 12, 19, 23],\n",
       "        [33, 14, 43, 37, 35],\n",
       "        [22,  7, 32, 42, 39],\n",
       "        [18, 37, 19,  6, 45],\n",
       "        [39, 49, 49, 24, 30],\n",
       "        [33, 49, 27,  6,  5],\n",
       "        [49, 11, 29,  9, 22],\n",
       "        [43, 45,  5, 11, 25],\n",
       "        [38,  7,  3, 40,  9]])"
      ]
     },
     "execution_count": 23,
     "metadata": {},
     "output_type": "execute_result"
    }
   ],
   "source": [
    "x = torch.randint(1, 50, size=(10, 5))  # 1~50之间的随机整数10行5列\n",
    "x"
   ]
  },
  {
   "cell_type": "code",
   "execution_count": 24,
   "metadata": {},
   "outputs": [
    {
     "data": {
      "text/plain": [
       "array([[30, 37, 41, 14, 17],\n",
       "       [42, 20,  6, 10, 39],\n",
       "       [13,  2, 14,  5,  8],\n",
       "       [44, 48,  9, 47, 46],\n",
       "       [38, 48, 44, 30,  9],\n",
       "       [ 2, 24, 30, 40, 47],\n",
       "       [16,  8, 16, 35,  2],\n",
       "       [39, 44, 13, 48, 44],\n",
       "       [ 7,  9, 39, 15, 41],\n",
       "       [41,  5, 34, 39, 11]])"
      ]
     },
     "execution_count": 24,
     "metadata": {},
     "output_type": "execute_result"
    }
   ],
   "source": [
    "np.random.randint(1, 50, size=(10, 5))"
   ]
  },
  {
   "cell_type": "code",
   "execution_count": 25,
   "metadata": {},
   "outputs": [
    {
     "data": {
      "text/plain": [
       "torch.Size([10, 5])"
      ]
     },
     "execution_count": 25,
     "metadata": {},
     "output_type": "execute_result"
    }
   ],
   "source": [
    "x.size()  # 形状"
   ]
  },
  {
   "cell_type": "code",
   "execution_count": 26,
   "metadata": {},
   "outputs": [
    {
     "data": {
      "text/plain": [
       "torch.Size([10, 5])"
      ]
     },
     "execution_count": 26,
     "metadata": {},
     "output_type": "execute_result"
    }
   ],
   "source": [
    "x.shape  # 各维度上的数量"
   ]
  },
  {
   "cell_type": "code",
   "execution_count": 27,
   "metadata": {},
   "outputs": [
    {
     "data": {
      "text/plain": [
       "tensor([[31, 38, 14, 43, 49,  9,  9, 12, 19, 23],\n",
       "        [33, 14, 43, 37, 35, 22,  7, 32, 42, 39],\n",
       "        [18, 37, 19,  6, 45, 39, 49, 49, 24, 30],\n",
       "        [33, 49, 27,  6,  5, 49, 11, 29,  9, 22],\n",
       "        [43, 45,  5, 11, 25, 38,  7,  3, 40,  9]])"
      ]
     },
     "execution_count": 27,
     "metadata": {},
     "output_type": "execute_result"
    }
   ],
   "source": [
    "x.reshape(5, 10)  # 重塑形状"
   ]
  },
  {
   "cell_type": "code",
   "execution_count": 28,
   "metadata": {},
   "outputs": [
    {
     "data": {
      "text/plain": [
       "tensor([[31, 38, 14, 43, 49,  9,  9, 12, 19, 23],\n",
       "        [33, 14, 43, 37, 35, 22,  7, 32, 42, 39],\n",
       "        [18, 37, 19,  6, 45, 39, 49, 49, 24, 30],\n",
       "        [33, 49, 27,  6,  5, 49, 11, 29,  9, 22],\n",
       "        [43, 45,  5, 11, 25, 38,  7,  3, 40,  9]])"
      ]
     },
     "execution_count": 28,
     "metadata": {},
     "output_type": "execute_result"
    }
   ],
   "source": [
    "x.reshape(-1, 10)  # 如果某一维度为-1，则根据总元素个数自动计算该轴长度"
   ]
  },
  {
   "cell_type": "code",
   "execution_count": 29,
   "metadata": {},
   "outputs": [
    {
     "data": {
      "text/plain": [
       "tensor([[31, 38, 14, 43, 49],\n",
       "        [ 9,  9, 12, 19, 23],\n",
       "        [33, 14, 43, 37, 35],\n",
       "        [22,  7, 32, 42, 39],\n",
       "        [18, 37, 19,  6, 45],\n",
       "        [39, 49, 49, 24, 30],\n",
       "        [33, 49, 27,  6,  5],\n",
       "        [49, 11, 29,  9, 22],\n",
       "        [43, 45,  5, 11, 25],\n",
       "        [38,  7,  3, 40,  9]])"
      ]
     },
     "execution_count": 29,
     "metadata": {},
     "output_type": "execute_result"
    }
   ],
   "source": [
    "x.reshape(10, -1)  # 如果某一维度为-1，则根据总元素个数自动计算该轴长度"
   ]
  },
  {
   "cell_type": "code",
   "execution_count": 30,
   "metadata": {},
   "outputs": [
    {
     "data": {
      "text/plain": [
       "50"
      ]
     },
     "execution_count": 30,
     "metadata": {},
     "output_type": "execute_result"
    }
   ],
   "source": [
    "x.numel()  # 元素个数"
   ]
  },
  {
   "cell_type": "code",
   "execution_count": 31,
   "metadata": {},
   "outputs": [
    {
     "data": {
      "text/plain": [
       "tensor([31, 38, 14, 43, 49,  9,  9, 12, 19, 23, 33, 14, 43, 37, 35, 22,  7, 32,\n",
       "        42, 39, 18, 37, 19,  6, 45, 39, 49, 49, 24, 30, 33, 49, 27,  6,  5, 49,\n",
       "        11, 29,  9, 22, 43, 45,  5, 11, 25, 38,  7,  3, 40,  9])"
      ]
     },
     "execution_count": 31,
     "metadata": {},
     "output_type": "execute_result"
    }
   ],
   "source": [
    "x.reshape(50)  # 变为1纬"
   ]
  },
  {
   "cell_type": "code",
   "execution_count": 32,
   "metadata": {},
   "outputs": [
    {
     "data": {
      "text/plain": [
       "tensor([31, 38, 14, 43, 49,  9,  9, 12, 19, 23, 33, 14, 43, 37, 35, 22,  7, 32,\n",
       "        42, 39, 18, 37, 19,  6, 45, 39, 49, 49, 24, 30, 33, 49, 27,  6,  5, 49,\n",
       "        11, 29,  9, 22, 43, 45,  5, 11, 25, 38,  7,  3, 40,  9])"
      ]
     },
     "execution_count": 32,
     "metadata": {},
     "output_type": "execute_result"
    }
   ],
   "source": [
    "x.reshape(-1)"
   ]
  },
  {
   "cell_type": "code",
   "execution_count": 33,
   "metadata": {},
   "outputs": [
    {
     "data": {
      "text/plain": [
       "tensor([[[31, 38, 14, 43, 49],\n",
       "         [ 9,  9, 12, 19, 23],\n",
       "         [33, 14, 43, 37, 35],\n",
       "         [22,  7, 32, 42, 39],\n",
       "         [18, 37, 19,  6, 45]],\n",
       "\n",
       "        [[39, 49, 49, 24, 30],\n",
       "         [33, 49, 27,  6,  5],\n",
       "         [49, 11, 29,  9, 22],\n",
       "         [43, 45,  5, 11, 25],\n",
       "         [38,  7,  3, 40,  9]]])"
      ]
     },
     "execution_count": 33,
     "metadata": {},
     "output_type": "execute_result"
    }
   ],
   "source": [
    "x.reshape(2, 5, 5)  # 变为3纬"
   ]
  },
  {
   "cell_type": "code",
   "execution_count": 34,
   "metadata": {},
   "outputs": [
    {
     "data": {
      "text/plain": [
       "tensor([1, 3, 5, 7, 9])"
      ]
     },
     "execution_count": 34,
     "metadata": {},
     "output_type": "execute_result"
    }
   ],
   "source": [
    "torch.arange(1, 10, 2)  # torch.range()也可用，建议用前者"
   ]
  },
  {
   "cell_type": "code",
   "execution_count": 35,
   "metadata": {},
   "outputs": [
    {
     "data": {
      "text/plain": [
       "tensor([ 1.0000,  1.4737,  1.9474,  2.4211,  2.8947,  3.3684,  3.8421,  4.3158,\n",
       "         4.7895,  5.2632,  5.7368,  6.2105,  6.6842,  7.1579,  7.6316,  8.1053,\n",
       "         8.5789,  9.0526,  9.5263, 10.0000])"
      ]
     },
     "execution_count": 35,
     "metadata": {},
     "output_type": "execute_result"
    }
   ],
   "source": [
    "torch.linspace(1, 10, 20)"
   ]
  },
  {
   "cell_type": "code",
   "execution_count": 36,
   "metadata": {},
   "outputs": [
    {
     "data": {
      "text/plain": [
       "torch.Size([10, 5])"
      ]
     },
     "execution_count": 36,
     "metadata": {},
     "output_type": "execute_result"
    }
   ],
   "source": [
    "x.shape"
   ]
  },
  {
   "cell_type": "code",
   "execution_count": 37,
   "metadata": {},
   "outputs": [
    {
     "data": {
      "text/plain": [
       "tensor([[1, 1, 1, 1, 1],\n",
       "        [1, 1, 1, 1, 1],\n",
       "        [1, 1, 1, 1, 1],\n",
       "        [1, 1, 1, 1, 1],\n",
       "        [1, 1, 1, 1, 1],\n",
       "        [1, 1, 1, 1, 1],\n",
       "        [1, 1, 1, 1, 1],\n",
       "        [1, 1, 1, 1, 1],\n",
       "        [1, 1, 1, 1, 1],\n",
       "        [1, 1, 1, 1, 1]])"
      ]
     },
     "execution_count": 37,
     "metadata": {},
     "output_type": "execute_result"
    }
   ],
   "source": [
    "torch.ones_like(x)  #  注意类型"
   ]
  },
  {
   "cell_type": "code",
   "execution_count": 38,
   "metadata": {},
   "outputs": [
    {
     "data": {
      "text/plain": [
       "('torch.LongTensor', 'torch.LongTensor')"
      ]
     },
     "execution_count": 38,
     "metadata": {},
     "output_type": "execute_result"
    }
   ],
   "source": [
    "torch.ones_like(x).type(), x.type()  #  注意类型"
   ]
  },
  {
   "cell_type": "code",
   "execution_count": 39,
   "metadata": {},
   "outputs": [
    {
     "data": {
      "text/plain": [
       "tensor([[1., 1., 1., 1., 1.],\n",
       "        [1., 1., 1., 1., 1.],\n",
       "        [1., 1., 1., 1., 1.],\n",
       "        [1., 1., 1., 1., 1.],\n",
       "        [1., 1., 1., 1., 1.],\n",
       "        [1., 1., 1., 1., 1.],\n",
       "        [1., 1., 1., 1., 1.],\n",
       "        [1., 1., 1., 1., 1.],\n",
       "        [1., 1., 1., 1., 1.],\n",
       "        [1., 1., 1., 1., 1.]])"
      ]
     },
     "execution_count": 39,
     "metadata": {},
     "output_type": "execute_result"
    }
   ],
   "source": [
    "torch.ones(size=x.shape)"
   ]
  },
  {
   "cell_type": "code",
   "execution_count": 40,
   "metadata": {},
   "outputs": [
    {
     "data": {
      "text/plain": [
       "tensor([0., 0., 0., 0., 0., 0., 0., 0., 0., 0.])"
      ]
     },
     "execution_count": 40,
     "metadata": {},
     "output_type": "execute_result"
    }
   ],
   "source": [
    "torch.zeros(10)"
   ]
  },
  {
   "cell_type": "code",
   "execution_count": 41,
   "metadata": {},
   "outputs": [
    {
     "data": {
      "text/plain": [
       "tensor([[0, 0, 0, 0, 0],\n",
       "        [0, 0, 0, 0, 0],\n",
       "        [0, 0, 0, 0, 0],\n",
       "        [0, 0, 0, 0, 0],\n",
       "        [0, 0, 0, 0, 0],\n",
       "        [0, 0, 0, 0, 0],\n",
       "        [0, 0, 0, 0, 0],\n",
       "        [0, 0, 0, 0, 0],\n",
       "        [0, 0, 0, 0, 0],\n",
       "        [0, 0, 0, 0, 0]])"
      ]
     },
     "execution_count": 41,
     "metadata": {},
     "output_type": "execute_result"
    }
   ],
   "source": [
    "torch.zeros_like(x)  # 注意类型"
   ]
  },
  {
   "cell_type": "code",
   "execution_count": 42,
   "metadata": {},
   "outputs": [
    {
     "data": {
      "text/plain": [
       "tensor([[1.7551, 0.9140],\n",
       "        [1.9305, 2.4650],\n",
       "        [1.6457, 1.6077],\n",
       "        [2.0739, 2.4805],\n",
       "        [1.7263, 1.7814],\n",
       "        [0.9906, 2.0350],\n",
       "        [2.5144, 1.6445],\n",
       "        [1.9126, 1.7619],\n",
       "        [2.8350, 1.5383],\n",
       "        [2.8501, 1.5951]])"
      ]
     },
     "execution_count": 42,
     "metadata": {},
     "output_type": "execute_result"
    }
   ],
   "source": [
    "torch.randn(10, 2) * 0.5 + 2"
   ]
  },
  {
   "cell_type": "code",
   "execution_count": 43,
   "metadata": {},
   "outputs": [
    {
     "data": {
      "text/plain": [
       "tensor([[[[ 0.7290],\n",
       "          [ 0.3333]],\n",
       "\n",
       "         [[-2.4924],\n",
       "          [ 1.5344]]],\n",
       "\n",
       "\n",
       "        [[[-0.3808],\n",
       "          [ 0.7457]],\n",
       "\n",
       "         [[-0.9072],\n",
       "          [-0.0718]]],\n",
       "\n",
       "\n",
       "        [[[-0.3787],\n",
       "          [-0.2498]],\n",
       "\n",
       "         [[-1.4041],\n",
       "          [-0.8715]]],\n",
       "\n",
       "\n",
       "        [[[ 0.9857],\n",
       "          [ 2.2462]],\n",
       "\n",
       "         [[ 1.6071],\n",
       "          [ 1.1922]]],\n",
       "\n",
       "\n",
       "        [[[-1.2290],\n",
       "          [-0.4971]],\n",
       "\n",
       "         [[-0.3534],\n",
       "          [ 0.2160]]]])"
      ]
     },
     "execution_count": 43,
     "metadata": {},
     "output_type": "execute_result"
    }
   ],
   "source": [
    "y = torch.randn(5, 2, 2, 1)  # 10*2*2\n",
    "y"
   ]
  },
  {
   "cell_type": "code",
   "execution_count": 46,
   "metadata": {},
   "outputs": [
    {
     "data": {
      "text/plain": [
       "tensor([[[ 0.7290,  0.3333],\n",
       "         [-2.4924,  1.5344]],\n",
       "\n",
       "        [[-0.3808,  0.7457],\n",
       "         [-0.9072, -0.0718]],\n",
       "\n",
       "        [[-0.3787, -0.2498],\n",
       "         [-1.4041, -0.8715]],\n",
       "\n",
       "        [[ 0.9857,  2.2462],\n",
       "         [ 1.6071,  1.1922]],\n",
       "\n",
       "        [[-1.2290, -0.4971],\n",
       "         [-0.3534,  0.2160]]])"
      ]
     },
     "execution_count": 46,
     "metadata": {},
     "output_type": "execute_result"
    }
   ],
   "source": [
    "y = torch.squeeze(y, dim=1)  # 10\n",
    "y"
   ]
  },
  {
   "cell_type": "code",
   "execution_count": 47,
   "metadata": {},
   "outputs": [],
   "source": [
    "a = torch.randn(1, 1, 5)"
   ]
  },
  {
   "cell_type": "code",
   "execution_count": 48,
   "metadata": {},
   "outputs": [
    {
     "data": {
      "text/plain": [
       "tensor([[[-0.8685,  0.3921,  0.2461,  0.8670, -1.4809]]])"
      ]
     },
     "execution_count": 48,
     "metadata": {},
     "output_type": "execute_result"
    }
   ],
   "source": []
  },
  {
   "cell_type": "code",
   "execution_count": 49,
   "metadata": {},
   "outputs": [
    {
     "data": {
      "text/plain": [
       "tensor([-0.8685,  0.3921,  0.2461,  0.8670, -1.4809])"
      ]
     },
     "execution_count": 49,
     "metadata": {},
     "output_type": "execute_result"
    }
   ],
   "source": [
    "a.squeeze()"
   ]
  },
  {
   "cell_type": "code",
   "execution_count": 50,
   "metadata": {},
   "outputs": [
    {
     "data": {
      "text/plain": [
       "tensor([ 0.7290,  0.3333, -2.4924,  1.5344, -0.3808,  0.7457, -0.9072, -0.0718,\n",
       "        -0.3787, -0.2498, -1.4041, -0.8715,  0.9857,  2.2462,  1.6071,  1.1922,\n",
       "        -1.2290, -0.4971, -0.3534,  0.2160])"
      ]
     },
     "execution_count": 50,
     "metadata": {},
     "output_type": "execute_result"
    }
   ],
   "source": [
    "y.reshape(-1)"
   ]
  },
  {
   "cell_type": "code",
   "execution_count": 51,
   "metadata": {},
   "outputs": [
    {
     "data": {
      "text/plain": [
       "tensor([[0, 1, 2, 3, 4],\n",
       "        [5, 6, 7, 8, 9]])"
      ]
     },
     "execution_count": 51,
     "metadata": {},
     "output_type": "execute_result"
    }
   ],
   "source": [
    "z = torch.arange(10).reshape(2, 5)\n",
    "z"
   ]
  },
  {
   "cell_type": "markdown",
   "metadata": {},
   "source": [
    "- 转置和变换形状"
   ]
  },
  {
   "cell_type": "code",
   "execution_count": 52,
   "metadata": {},
   "outputs": [
    {
     "data": {
      "text/plain": [
       "tensor([[0, 5],\n",
       "        [1, 6],\n",
       "        [2, 7],\n",
       "        [3, 8],\n",
       "        [4, 9]])"
      ]
     },
     "execution_count": 52,
     "metadata": {},
     "output_type": "execute_result"
    }
   ],
   "source": [
    "z.t()  # 输入一个矩阵（2维张量），并转置0, 1维。 可以被视为函数transpose(input, 0, 1)的简写函数。"
   ]
  },
  {
   "cell_type": "code",
   "execution_count": 53,
   "metadata": {},
   "outputs": [
    {
     "data": {
      "text/plain": [
       "tensor([[0, 1],\n",
       "        [2, 3],\n",
       "        [4, 5],\n",
       "        [6, 7],\n",
       "        [8, 9]])"
      ]
     },
     "execution_count": 53,
     "metadata": {},
     "output_type": "execute_result"
    }
   ],
   "source": [
    "z.reshape(z.shape[1], -1)  # 注意和转置之间的区别"
   ]
  },
  {
   "cell_type": "markdown",
   "metadata": {},
   "source": [
    "> 转置: 行变为列, 变换形状: 先转变为1纬，然后再重新塑形"
   ]
  },
  {
   "cell_type": "code",
   "execution_count": 54,
   "metadata": {},
   "outputs": [
    {
     "data": {
      "text/plain": [
       "tensor([[[ 0.7290,  0.3333],\n",
       "         [-2.4924,  1.5344]],\n",
       "\n",
       "        [[-0.3808,  0.7457],\n",
       "         [-0.9072, -0.0718]],\n",
       "\n",
       "        [[-0.3787, -0.2498],\n",
       "         [-1.4041, -0.8715]],\n",
       "\n",
       "        [[ 0.9857,  2.2462],\n",
       "         [ 1.6071,  1.1922]],\n",
       "\n",
       "        [[-1.2290, -0.4971],\n",
       "         [-0.3534,  0.2160]]])"
      ]
     },
     "execution_count": 54,
     "metadata": {},
     "output_type": "execute_result"
    }
   ],
   "source": [
    "y"
   ]
  },
  {
   "cell_type": "markdown",
   "metadata": {},
   "source": [
    "- torch.sign() 得到变量的符号"
   ]
  },
  {
   "cell_type": "code",
   "execution_count": 55,
   "metadata": {},
   "outputs": [
    {
     "data": {
      "text/plain": [
       "tensor([[[ 1.,  1.],\n",
       "         [-1.,  1.]],\n",
       "\n",
       "        [[-1.,  1.],\n",
       "         [-1., -1.]],\n",
       "\n",
       "        [[-1., -1.],\n",
       "         [-1., -1.]],\n",
       "\n",
       "        [[ 1.,  1.],\n",
       "         [ 1.,  1.]],\n",
       "\n",
       "        [[-1., -1.],\n",
       "         [-1.,  1.]]])"
      ]
     },
     "execution_count": 55,
     "metadata": {},
     "output_type": "execute_result"
    }
   ],
   "source": [
    "torch.sign(y)"
   ]
  },
  {
   "cell_type": "code",
   "execution_count": 56,
   "metadata": {},
   "outputs": [
    {
     "data": {
      "text/plain": [
       "tensor([[[0.6746, 0.5826],\n",
       "         [0.0764, 0.8226]],\n",
       "\n",
       "        [[0.4059, 0.6782],\n",
       "         [0.2876, 0.4821]],\n",
       "\n",
       "        [[0.4064, 0.4379],\n",
       "         [0.1972, 0.2949]],\n",
       "\n",
       "        [[0.7282, 0.9043],\n",
       "         [0.8330, 0.7671]],\n",
       "\n",
       "        [[0.2264, 0.3782],\n",
       "         [0.4126, 0.5538]]])"
      ]
     },
     "execution_count": 56,
     "metadata": {},
     "output_type": "execute_result"
    }
   ],
   "source": [
    "torch.sigmoid(y)  # 返回一个新张量，包含输入input张量每个元素的sigmoid值。"
   ]
  },
  {
   "cell_type": "code",
   "execution_count": 57,
   "metadata": {},
   "outputs": [
    {
     "data": {
      "text/plain": [
       "tensor(5.0621)"
      ]
     },
     "execution_count": 57,
     "metadata": {},
     "output_type": "execute_result"
    }
   ],
   "source": [
    "torch.norm(y, p=2)  # 返回输入张量input 的p 范数"
   ]
  },
  {
   "cell_type": "code",
   "execution_count": 58,
   "metadata": {},
   "outputs": [
    {
     "data": {
      "text/plain": [
       "tensor(-0.2498)"
      ]
     },
     "execution_count": 58,
     "metadata": {},
     "output_type": "execute_result"
    }
   ],
   "source": [
    "torch.median(y)  # 返回输入张量给定维度每行的中位数，同时返回一个包含中位数的索引的LongTensor。"
   ]
  },
  {
   "cell_type": "code",
   "execution_count": 59,
   "metadata": {},
   "outputs": [
    {
     "data": {
      "text/plain": [
       "tensor(-0.0004)"
      ]
     },
     "execution_count": 59,
     "metadata": {},
     "output_type": "execute_result"
    }
   ],
   "source": [
    "torch.prod(y)  # 返回输入张量input 所有元素的积。"
   ]
  },
  {
   "cell_type": "code",
   "execution_count": 60,
   "metadata": {},
   "outputs": [
    {
     "data": {
      "text/plain": [
       "torch.return_types.sort(\n",
       "values=tensor([[[ 0.9857,  2.2462],\n",
       "         [ 1.6071,  1.5344]],\n",
       "\n",
       "        [[ 0.7290,  0.7457],\n",
       "         [-0.3534,  1.1922]],\n",
       "\n",
       "        [[-0.3787,  0.3333],\n",
       "         [-0.9072,  0.2160]],\n",
       "\n",
       "        [[-0.3808, -0.2498],\n",
       "         [-1.4041, -0.0718]],\n",
       "\n",
       "        [[-1.2290, -0.4971],\n",
       "         [-2.4924, -0.8715]]]),\n",
       "indices=tensor([[[3, 3],\n",
       "         [3, 0]],\n",
       "\n",
       "        [[0, 1],\n",
       "         [4, 3]],\n",
       "\n",
       "        [[2, 0],\n",
       "         [1, 4]],\n",
       "\n",
       "        [[1, 2],\n",
       "         [2, 1]],\n",
       "\n",
       "        [[4, 4],\n",
       "         [0, 2]]]))"
      ]
     },
     "execution_count": 60,
     "metadata": {},
     "output_type": "execute_result"
    }
   ],
   "source": [
    "torch.sort(y, dim=0, descending=True)  # 对输入张量input沿着指定维按升序排序。如果不给定dim，则默认为输入的最后一维。如果指定参数descending为True，则按降序排序"
   ]
  },
  {
   "cell_type": "code",
   "execution_count": 61,
   "metadata": {},
   "outputs": [
    {
     "data": {
      "text/plain": [
       "tensor([[[ 0.7290,  0.3333],\n",
       "         [-2.4924,  1.5344]],\n",
       "\n",
       "        [[-0.3808,  0.7457],\n",
       "         [-0.9072, -0.0718]],\n",
       "\n",
       "        [[-0.3787, -0.2498],\n",
       "         [-1.4041, -0.8715]],\n",
       "\n",
       "        [[ 0.9857,  2.2462],\n",
       "         [ 1.6071,  1.1922]],\n",
       "\n",
       "        [[-1.2290, -0.4971],\n",
       "         [-0.3534,  0.2160]]])"
      ]
     },
     "execution_count": 61,
     "metadata": {},
     "output_type": "execute_result"
    }
   ],
   "source": [
    "y"
   ]
  },
  {
   "cell_type": "code",
   "execution_count": 62,
   "metadata": {},
   "outputs": [
    {
     "data": {
      "text/plain": [
       "tensor([1.1756, 0.8894, 0.0000, 0.0000, 0.0000, 0.0000, 0.8684, 0.1832, 0.7866,\n",
       "        0.0078])"
      ]
     },
     "execution_count": 62,
     "metadata": {},
     "output_type": "execute_result"
    }
   ],
   "source": [
    "torch.relu(torch.randn(10))"
   ]
  },
  {
   "cell_type": "markdown",
   "metadata": {},
   "source": [
    "- 二元运算"
   ]
  },
  {
   "cell_type": "code",
   "execution_count": 63,
   "metadata": {},
   "outputs": [],
   "source": [
    "a = torch.arange(10)\n",
    "b = torch.arange(10, 20)"
   ]
  },
  {
   "cell_type": "code",
   "execution_count": 64,
   "metadata": {},
   "outputs": [
    {
     "data": {
      "text/plain": [
       "tensor([  0,  11,  24,  39,  56,  75,  96, 119, 144, 171])"
      ]
     },
     "execution_count": 64,
     "metadata": {},
     "output_type": "execute_result"
    }
   ],
   "source": [
    "a * b  # 按元素乘"
   ]
  },
  {
   "cell_type": "code",
   "execution_count": 65,
   "metadata": {},
   "outputs": [
    {
     "data": {
      "text/plain": [
       "tensor([  0,  11,  24,  39,  56,  75,  96, 119, 144, 171])"
      ]
     },
     "execution_count": 65,
     "metadata": {},
     "output_type": "execute_result"
    }
   ],
   "source": [
    "torch.mul(a, b)  # 按元素乘"
   ]
  },
  {
   "cell_type": "code",
   "execution_count": 66,
   "metadata": {},
   "outputs": [
    {
     "data": {
      "text/plain": [
       "tensor(735)"
      ]
     },
     "execution_count": 66,
     "metadata": {},
     "output_type": "execute_result"
    }
   ],
   "source": [
    "torch.matmul(a, b)  # 矩阵乘法，前者 矩阵乘 后者的转置"
   ]
  },
  {
   "cell_type": "code",
   "execution_count": 67,
   "metadata": {},
   "outputs": [
    {
     "data": {
      "text/plain": [
       "tensor([[0, 1, 2, 3, 4, 5, 6, 7, 8, 9]])"
      ]
     },
     "execution_count": 67,
     "metadata": {},
     "output_type": "execute_result"
    }
   ],
   "source": [
    "a.reshape(1,-1)"
   ]
  },
  {
   "cell_type": "code",
   "execution_count": 68,
   "metadata": {},
   "outputs": [
    {
     "data": {
      "text/plain": [
       "tensor([[10],\n",
       "        [11],\n",
       "        [12],\n",
       "        [13],\n",
       "        [14],\n",
       "        [15],\n",
       "        [16],\n",
       "        [17],\n",
       "        [18],\n",
       "        [19]])"
      ]
     },
     "execution_count": 68,
     "metadata": {},
     "output_type": "execute_result"
    }
   ],
   "source": [
    "b.reshape(-1,1)"
   ]
  },
  {
   "cell_type": "code",
   "execution_count": 69,
   "metadata": {},
   "outputs": [
    {
     "data": {
      "text/plain": [
       "tensor([[  0,   0,   0,   0,   0,   0,   0,   0,   0,   0],\n",
       "        [ 10,  11,  12,  13,  14,  15,  16,  17,  18,  19],\n",
       "        [ 20,  22,  24,  26,  28,  30,  32,  34,  36,  38],\n",
       "        [ 30,  33,  36,  39,  42,  45,  48,  51,  54,  57],\n",
       "        [ 40,  44,  48,  52,  56,  60,  64,  68,  72,  76],\n",
       "        [ 50,  55,  60,  65,  70,  75,  80,  85,  90,  95],\n",
       "        [ 60,  66,  72,  78,  84,  90,  96, 102, 108, 114],\n",
       "        [ 70,  77,  84,  91,  98, 105, 112, 119, 126, 133],\n",
       "        [ 80,  88,  96, 104, 112, 120, 128, 136, 144, 152],\n",
       "        [ 90,  99, 108, 117, 126, 135, 144, 153, 162, 171]])"
      ]
     },
     "execution_count": 69,
     "metadata": {},
     "output_type": "execute_result"
    }
   ],
   "source": [
    "a.reshape(-1, 1) @ b.reshape(1, -1)  # 10*1 @ 1*10"
   ]
  },
  {
   "cell_type": "code",
   "execution_count": 70,
   "metadata": {},
   "outputs": [
    {
     "data": {
      "text/plain": [
       "tensor(735)"
      ]
     },
     "execution_count": 70,
     "metadata": {},
     "output_type": "execute_result"
    }
   ],
   "source": [
    "torch.trace(a.reshape(-1, 1) @ b.reshape(1, -1))  # 迹运算"
   ]
  },
  {
   "cell_type": "code",
   "execution_count": 71,
   "metadata": {},
   "outputs": [
    {
     "data": {
      "text/plain": [
       "tensor([[735]])"
      ]
     },
     "execution_count": 71,
     "metadata": {},
     "output_type": "execute_result"
    }
   ],
   "source": [
    "torch.mm(a.reshape(1, -1), b.reshape(-1, 1))"
   ]
  },
  {
   "cell_type": "code",
   "execution_count": 72,
   "metadata": {},
   "outputs": [
    {
     "data": {
      "text/plain": [
       "(tensor([[0, 1, 2, 3, 4, 5, 6, 7, 8, 9]]),\n",
       " tensor([[10],\n",
       "         [11],\n",
       "         [12],\n",
       "         [13],\n",
       "         [14],\n",
       "         [15],\n",
       "         [16],\n",
       "         [17],\n",
       "         [18],\n",
       "         [19]]))"
      ]
     },
     "execution_count": 72,
     "metadata": {},
     "output_type": "execute_result"
    }
   ],
   "source": [
    "a.reshape(1, -1), b.reshape(-1, 1)"
   ]
  },
  {
   "cell_type": "code",
   "execution_count": 73,
   "metadata": {},
   "outputs": [
    {
     "data": {
      "text/plain": [
       "tensor(735)"
      ]
     },
     "execution_count": 73,
     "metadata": {},
     "output_type": "execute_result"
    }
   ],
   "source": [
    "torch.dot(a, b)  # 內积"
   ]
  },
  {
   "cell_type": "code",
   "execution_count": 74,
   "metadata": {},
   "outputs": [
    {
     "data": {
      "text/plain": [
       "tensor(735)"
      ]
     },
     "execution_count": 74,
     "metadata": {},
     "output_type": "execute_result"
    }
   ],
   "source": [
    "a @ b  # 矩阵乘， 前者 矩阵乘 后者的转置"
   ]
  },
  {
   "cell_type": "code",
   "execution_count": 75,
   "metadata": {},
   "outputs": [],
   "source": [
    "x = torch.rand(4, 3)\n",
    "y = torch.rand(3, 4)"
   ]
  },
  {
   "cell_type": "code",
   "execution_count": 76,
   "metadata": {},
   "outputs": [
    {
     "data": {
      "text/plain": [
       "tensor([[0.6757, 0.5286, 0.4798, 1.4587],\n",
       "        [0.9012, 0.7420, 0.6817, 1.7185],\n",
       "        [0.9413, 0.8169, 0.7264, 1.6787],\n",
       "        [0.8532, 0.6904, 0.7256, 1.3000]])"
      ]
     },
     "execution_count": 76,
     "metadata": {},
     "output_type": "execute_result"
    }
   ],
   "source": [
    "torch.mm(x, y)  # 矩阵乘法: 对矩阵mat1和mat2进行相乘。 如果mat1 是一个n×m张量，mat2 是一个 m×p张量，将会输出一个 n×p张量out。"
   ]
  },
  {
   "cell_type": "code",
   "execution_count": 77,
   "metadata": {},
   "outputs": [
    {
     "data": {
      "text/plain": [
       "tensor([[0.6757, 0.5286, 0.4798, 1.4587],\n",
       "        [0.9012, 0.7420, 0.6817, 1.7185],\n",
       "        [0.9413, 0.8169, 0.7264, 1.6787],\n",
       "        [0.8532, 0.6904, 0.7256, 1.3000]])"
      ]
     },
     "execution_count": 77,
     "metadata": {},
     "output_type": "execute_result"
    }
   ],
   "source": [
    "torch.matmul(x, y)"
   ]
  },
  {
   "cell_type": "code",
   "execution_count": 78,
   "metadata": {},
   "outputs": [
    {
     "data": {
      "text/plain": [
       "tensor([[0.6757, 0.5286, 0.4798, 1.4587],\n",
       "        [0.9012, 0.7420, 0.6817, 1.7185],\n",
       "        [0.9413, 0.8169, 0.7264, 1.6787],\n",
       "        [0.8532, 0.6904, 0.7256, 1.3000]])"
      ]
     },
     "execution_count": 78,
     "metadata": {},
     "output_type": "execute_result"
    }
   ],
   "source": [
    "x @ y  # 矩阵乘法运算符"
   ]
  },
  {
   "cell_type": "code",
   "execution_count": 79,
   "metadata": {},
   "outputs": [],
   "source": [
    "z = torch.rand(3)"
   ]
  },
  {
   "cell_type": "code",
   "execution_count": 80,
   "metadata": {},
   "outputs": [
    {
     "data": {
      "text/plain": [
       "tensor([0.6485, 0.6882, 0.6199, 0.4210])"
      ]
     },
     "execution_count": 80,
     "metadata": {},
     "output_type": "execute_result"
    }
   ],
   "source": [
    "torch.mv(x, z)  # 矩阵向量乘： 对矩阵mat和向量vec进行相乘。 如果mat 是一个n×m张量，vec 是一个m元 1维张量，将会输出一个n元 1维张量。"
   ]
  },
  {
   "cell_type": "code",
   "execution_count": 81,
   "metadata": {},
   "outputs": [
    {
     "data": {
      "text/plain": [
       "tensor([0.6485, 0.6882, 0.6199, 0.4210])"
      ]
     },
     "execution_count": 81,
     "metadata": {},
     "output_type": "execute_result"
    }
   ],
   "source": [
    "x @ z"
   ]
  },
  {
   "cell_type": "markdown",
   "metadata": {},
   "source": [
    "- 迹运算"
   ]
  },
  {
   "cell_type": "code",
   "execution_count": 82,
   "metadata": {},
   "outputs": [],
   "source": [
    "A = torch.arange(25).reshape(5, 5)\n",
    "B = torch.arange(25, 50).reshape(5, 5)"
   ]
  },
  {
   "cell_type": "code",
   "execution_count": 83,
   "metadata": {},
   "outputs": [
    {
     "data": {
      "text/plain": [
       "(tensor([[ 0,  1,  2,  3,  4],\n",
       "         [ 5,  6,  7,  8,  9],\n",
       "         [10, 11, 12, 13, 14],\n",
       "         [15, 16, 17, 18, 19],\n",
       "         [20, 21, 22, 23, 24]]),\n",
       " tensor([[25, 26, 27, 28, 29],\n",
       "         [30, 31, 32, 33, 34],\n",
       "         [35, 36, 37, 38, 39],\n",
       "         [40, 41, 42, 43, 44],\n",
       "         [45, 46, 47, 48, 49]]))"
      ]
     },
     "execution_count": 83,
     "metadata": {},
     "output_type": "execute_result"
    }
   ],
   "source": [
    "A, B"
   ]
  },
  {
   "cell_type": "markdown",
   "metadata": {},
   "source": [
    "$tr(A)=tr(A^T)$"
   ]
  },
  {
   "cell_type": "code",
   "execution_count": 84,
   "metadata": {},
   "outputs": [
    {
     "data": {
      "text/plain": [
       "(tensor(60), tensor(60))"
      ]
     },
     "execution_count": 84,
     "metadata": {},
     "output_type": "execute_result"
    }
   ],
   "source": [
    "torch.trace(A), torch.trace(A.t())"
   ]
  },
  {
   "cell_type": "code",
   "execution_count": 85,
   "metadata": {},
   "outputs": [
    {
     "data": {
      "text/plain": [
       "(tensor(185), tensor(185))"
      ]
     },
     "execution_count": 85,
     "metadata": {},
     "output_type": "execute_result"
    }
   ],
   "source": [
    "torch.trace(B), torch.trace(B.t())"
   ]
  },
  {
   "cell_type": "markdown",
   "metadata": {},
   "source": [
    "$tr(AB)=tr(BA)$"
   ]
  },
  {
   "cell_type": "code",
   "execution_count": 86,
   "metadata": {},
   "outputs": [
    {
     "data": {
      "text/plain": [
       "(tensor([[ 400,  410,  420,  430,  440],\n",
       "         [1275, 1310, 1345, 1380, 1415],\n",
       "         [2150, 2210, 2270, 2330, 2390],\n",
       "         [3025, 3110, 3195, 3280, 3365],\n",
       "         [3900, 4010, 4120, 4230, 4340]]),\n",
       " tensor([[1400, 1535, 1670, 1805, 1940],\n",
       "         [1650, 1810, 1970, 2130, 2290],\n",
       "         [1900, 2085, 2270, 2455, 2640],\n",
       "         [2150, 2360, 2570, 2780, 2990],\n",
       "         [2400, 2635, 2870, 3105, 3340]]))"
      ]
     },
     "execution_count": 86,
     "metadata": {},
     "output_type": "execute_result"
    }
   ],
   "source": [
    "torch.mm(A, B), torch.mm(B, A)"
   ]
  },
  {
   "cell_type": "code",
   "execution_count": 87,
   "metadata": {},
   "outputs": [
    {
     "data": {
      "text/plain": [
       "(tensor(11600), tensor(11600))"
      ]
     },
     "execution_count": 87,
     "metadata": {},
     "output_type": "execute_result"
    }
   ],
   "source": [
    "torch.trace(torch.mm(A, B)), torch.trace(torch.mm(B, A))"
   ]
  },
  {
   "cell_type": "markdown",
   "metadata": {},
   "source": [
    "$tr(A^TB)=\\sum_i\\sum_jA_{i,j}B_{i,j}$"
   ]
  },
  {
   "cell_type": "code",
   "execution_count": 88,
   "metadata": {},
   "outputs": [
    {
     "data": {
      "text/plain": [
       "tensor([[2000, 2050, 2100, 2150, 2200],\n",
       "        [2175, 2230, 2285, 2340, 2395],\n",
       "        [2350, 2410, 2470, 2530, 2590],\n",
       "        [2525, 2590, 2655, 2720, 2785],\n",
       "        [2700, 2770, 2840, 2910, 2980]])"
      ]
     },
     "execution_count": 88,
     "metadata": {},
     "output_type": "execute_result"
    }
   ],
   "source": [
    "A_t_B = torch.mm(A.t(), B)\n",
    "A_t_B"
   ]
  },
  {
   "cell_type": "code",
   "execution_count": 89,
   "metadata": {},
   "outputs": [
    {
     "data": {
      "text/plain": [
       "tensor(12400)"
      ]
     },
     "execution_count": 89,
     "metadata": {},
     "output_type": "execute_result"
    }
   ],
   "source": [
    "torch.trace(A_t_B)"
   ]
  },
  {
   "cell_type": "code",
   "execution_count": 90,
   "metadata": {},
   "outputs": [
    {
     "data": {
      "text/plain": [
       "tensor(12400)"
      ]
     },
     "execution_count": 90,
     "metadata": {},
     "output_type": "execute_result"
    }
   ],
   "source": [
    "torch.sum(torch.IntTensor([A_t_B[i, i] for i in range(5)]))"
   ]
  },
  {
   "cell_type": "markdown",
   "metadata": {},
   "source": [
    "- 张量拼接"
   ]
  },
  {
   "cell_type": "code",
   "execution_count": 91,
   "metadata": {},
   "outputs": [],
   "source": [
    "a = tensor(range(10), dtype=torch.float32).reshape(2, 5)\n",
    "b = tensor(range(10, 20), dtype=torch.float32).reshape(2, 5)\n",
    "c = tensor(range(20, 30), dtype=torch.float32).reshape(2, 5)"
   ]
  },
  {
   "cell_type": "code",
   "execution_count": 92,
   "metadata": {},
   "outputs": [
    {
     "data": {
      "text/plain": [
       "(tensor([[0., 1., 2., 3., 4.],\n",
       "         [5., 6., 7., 8., 9.]]),\n",
       " tensor([[10., 11., 12., 13., 14.],\n",
       "         [15., 16., 17., 18., 19.]]),\n",
       " tensor([[20., 21., 22., 23., 24.],\n",
       "         [25., 26., 27., 28., 29.]]))"
      ]
     },
     "execution_count": 92,
     "metadata": {},
     "output_type": "execute_result"
    }
   ],
   "source": [
    "a, b, c"
   ]
  },
  {
   "cell_type": "code",
   "execution_count": 93,
   "metadata": {},
   "outputs": [
    {
     "data": {
      "text/plain": [
       "tensor([[ 0.,  1.,  2.,  3.,  4.],\n",
       "        [ 5.,  6.,  7.,  8.,  9.],\n",
       "        [10., 11., 12., 13., 14.],\n",
       "        [15., 16., 17., 18., 19.],\n",
       "        [20., 21., 22., 23., 24.],\n",
       "        [25., 26., 27., 28., 29.]])"
      ]
     },
     "execution_count": 93,
     "metadata": {},
     "output_type": "execute_result"
    }
   ],
   "source": [
    "cat_ = torch.cat([a, b, c], 0)  # 在给定维度上对输入的张量序列进行连接操作，和extend类似\n",
    "cat_"
   ]
  },
  {
   "cell_type": "code",
   "execution_count": 95,
   "metadata": {},
   "outputs": [
    {
     "data": {
      "text/plain": [
       "tensor([[ 0.,  1.,  2.,  3.,  4., 10., 11., 12., 13., 14., 20., 21., 22., 23.,\n",
       "         24.],\n",
       "        [ 5.,  6.,  7.,  8.,  9., 15., 16., 17., 18., 19., 25., 26., 27., 28.,\n",
       "         29.]])"
      ]
     },
     "execution_count": 95,
     "metadata": {},
     "output_type": "execute_result"
    }
   ],
   "source": [
    "torch.cat([a, b, c], dim=1)"
   ]
  },
  {
   "cell_type": "code",
   "execution_count": 96,
   "metadata": {},
   "outputs": [],
   "source": [
    "stack_ = torch.stack([a, b, c], 0)  # 沿着一个新维度对输入张量序列进行连接。 序列中所有的张量都应该为相同形状。"
   ]
  },
  {
   "cell_type": "code",
   "execution_count": 97,
   "metadata": {},
   "outputs": [
    {
     "data": {
      "text/plain": [
       "tensor([[[ 0.,  1.,  2.,  3.,  4.],\n",
       "         [ 5.,  6.,  7.,  8.,  9.]],\n",
       "\n",
       "        [[10., 11., 12., 13., 14.],\n",
       "         [15., 16., 17., 18., 19.]],\n",
       "\n",
       "        [[20., 21., 22., 23., 24.],\n",
       "         [25., 26., 27., 28., 29.]]])"
      ]
     },
     "execution_count": 97,
     "metadata": {},
     "output_type": "execute_result"
    }
   ],
   "source": [
    "stack_"
   ]
  },
  {
   "cell_type": "code",
   "execution_count": 98,
   "metadata": {},
   "outputs": [
    {
     "data": {
      "text/plain": [
       "(tensor([[[ 0.,  1.],\n",
       "          [ 5.,  6.]],\n",
       " \n",
       "         [[10., 11.],\n",
       "          [15., 16.]],\n",
       " \n",
       "         [[20., 21.],\n",
       "          [25., 26.]]]),\n",
       " tensor([[[ 2.,  3.,  4.],\n",
       "          [ 7.,  8.,  9.]],\n",
       " \n",
       "         [[12., 13., 14.],\n",
       "          [17., 18., 19.]],\n",
       " \n",
       "         [[22., 23., 24.],\n",
       "          [27., 28., 29.]]]))"
      ]
     },
     "execution_count": 98,
     "metadata": {},
     "output_type": "execute_result"
    }
   ],
   "source": [
    "stack_.split([2, 3], -1)"
   ]
  },
  {
   "cell_type": "code",
   "execution_count": 99,
   "metadata": {},
   "outputs": [
    {
     "data": {
      "text/plain": [
       "(tensor([[[ 0.,  1.,  2.,  3.,  4.]],\n",
       " \n",
       "         [[10., 11., 12., 13., 14.]],\n",
       " \n",
       "         [[20., 21., 22., 23., 24.]]]),\n",
       " tensor([[[ 5.,  6.,  7.,  8.,  9.]],\n",
       " \n",
       "         [[15., 16., 17., 18., 19.]],\n",
       " \n",
       "         [[25., 26., 27., 28., 29.]]]))"
      ]
     },
     "execution_count": 99,
     "metadata": {},
     "output_type": "execute_result"
    }
   ],
   "source": [
    "stack_.chunk(2, 1)"
   ]
  },
  {
   "cell_type": "markdown",
   "metadata": {},
   "source": [
    "## 2. 自动求导`autograd`\n",
    "\n",
    "torch.autograd提供了类和函数用来对任意标量函数进行求导。"
   ]
  },
  {
   "cell_type": "markdown",
   "metadata": {},
   "source": [
    "实例:\n",
    "$$\n",
    "f(\\mathbf{x})=2\\mathbf{x}+1, g(y)=\\mathbf{y^2}+5, z=mean(\\mathbf{g(y)})\n",
    "$$\n",
    "求$\\frac{dz}{dx}$"
   ]
  },
  {
   "cell_type": "code",
   "execution_count": 100,
   "metadata": {},
   "outputs": [],
   "source": [
    "def f(x:tensor):\n",
    "    return 2*x + 1\n",
    "\n",
    "def g(x:tensor):\n",
    "    return x**2 + 5\n",
    "\n",
    "def mean(x:tensor):\n",
    "    return torch.mean(x)"
   ]
  },
  {
   "cell_type": "code",
   "execution_count": 101,
   "metadata": {},
   "outputs": [],
   "source": [
    "def dz_dx(x:tensor):  # 实际上的导数\n",
    "    return (8*x + 4) / x.numel()"
   ]
  },
  {
   "cell_type": "code",
   "execution_count": 102,
   "metadata": {},
   "outputs": [],
   "source": [
    "x = torch.randint(1, 10, size=(2, 5), dtype=torch.float32, requires_grad=True)"
   ]
  },
  {
   "cell_type": "code",
   "execution_count": 103,
   "metadata": {},
   "outputs": [
    {
     "data": {
      "text/plain": [
       "tensor([[7., 1., 8., 5., 8.],\n",
       "        [1., 1., 2., 7., 9.]], requires_grad=True)"
      ]
     },
     "execution_count": 103,
     "metadata": {},
     "output_type": "execute_result"
    }
   ],
   "source": [
    "x"
   ]
  },
  {
   "cell_type": "code",
   "execution_count": 104,
   "metadata": {},
   "outputs": [
    {
     "data": {
      "text/plain": [
       "True"
      ]
     },
     "execution_count": 104,
     "metadata": {},
     "output_type": "execute_result"
    }
   ],
   "source": [
    "x.requires_grad\n",
    "# x.requires_grad_(True)  # 如果为False, 可以追加"
   ]
  },
  {
   "cell_type": "code",
   "execution_count": null,
   "metadata": {},
   "outputs": [],
   "source": [
    "x.requires_grad_(True)"
   ]
  },
  {
   "cell_type": "markdown",
   "metadata": {},
   "source": [
    "torch自动求导结果"
   ]
  },
  {
   "cell_type": "code",
   "execution_count": 105,
   "metadata": {},
   "outputs": [
    {
     "data": {
      "text/plain": [
       "tensor([[6.0000, 1.2000, 6.8000, 4.4000, 6.8000],\n",
       "        [1.2000, 1.2000, 2.0000, 6.0000, 7.6000]])"
      ]
     },
     "execution_count": 105,
     "metadata": {},
     "output_type": "execute_result"
    }
   ],
   "source": [
    "z = mean(g(f(x)))\n",
    "z.backward()  # 反向传播，自动求微分\n",
    "x.grad  # dz/dx"
   ]
  },
  {
   "cell_type": "markdown",
   "metadata": {},
   "source": [
    "解析求导结果"
   ]
  },
  {
   "cell_type": "code",
   "execution_count": 106,
   "metadata": {},
   "outputs": [
    {
     "data": {
      "text/plain": [
       "tensor([[6.0000, 1.2000, 6.8000, 4.4000, 6.8000],\n",
       "        [1.2000, 1.2000, 2.0000, 6.0000, 7.6000]], grad_fn=<DivBackward0>)"
      ]
     },
     "execution_count": 106,
     "metadata": {},
     "output_type": "execute_result"
    }
   ],
   "source": [
    "dz_dx(x)  # dz/dx"
   ]
  },
  {
   "cell_type": "code",
   "execution_count": 107,
   "metadata": {},
   "outputs": [
    {
     "data": {
      "text/plain": [
       "<MeanBackward0 at 0x7f01bc4e28b0>"
      ]
     },
     "execution_count": 107,
     "metadata": {},
     "output_type": "execute_result"
    }
   ],
   "source": [
    "z.grad_fn"
   ]
  },
  {
   "cell_type": "code",
   "execution_count": 108,
   "metadata": {},
   "outputs": [
    {
     "data": {
      "text/plain": [
       "tensor([[0., 1., 2., 3., 4.],\n",
       "        [5., 6., 7., 8., 9.]])"
      ]
     },
     "execution_count": 108,
     "metadata": {},
     "output_type": "execute_result"
    }
   ],
   "source": [
    "a"
   ]
  },
  {
   "cell_type": "code",
   "execution_count": 109,
   "metadata": {},
   "outputs": [
    {
     "data": {
      "text/plain": [
       "tensor([[0., 1., 2., 3., 4.],\n",
       "        [5., 6., 7., 8., 9.],\n",
       "        [0., 1., 2., 3., 4.],\n",
       "        [5., 6., 7., 8., 9.]])"
      ]
     },
     "execution_count": 109,
     "metadata": {},
     "output_type": "execute_result"
    }
   ],
   "source": [
    "torch.cat([a, a[:5]])"
   ]
  },
  {
   "cell_type": "code",
   "execution_count": 110,
   "metadata": {},
   "outputs": [
    {
     "data": {
      "text/plain": [
       "tensor([[0., 1., 2., 3., 4.],\n",
       "        [5., 6., 7., 8., 9.]])"
      ]
     },
     "execution_count": 110,
     "metadata": {},
     "output_type": "execute_result"
    }
   ],
   "source": [
    "a"
   ]
  },
  {
   "cell_type": "markdown",
   "metadata": {},
   "source": [
    "## 3. 案例: Bass模型拟合"
   ]
  },
  {
   "cell_type": "markdown",
   "metadata": {},
   "source": [
    "Bass扩散模型针对创新产品、服务和扩散进行建模，常被用作市场分析工具，对新产品、新技术需求进行预测。\n",
    "\n",
    "新产品创新扩散是指新产品从创造研制到进入市场推广、最终使用的过程，表现为广大消费者从知晓、兴趣、评估、试用到最终采用新产品的行为。\n",
    "\n",
    "Bass扩散模型的许多变形也已被开发出来，用以满足某些特殊情形的精确需求。\n",
    "\n",
    "$$\n",
    "N(t)=m\\frac{1-e^{-(p+1)t}}{1+\\frac{q}{p}e^{-(p+q)t}}\n",
    "$$"
   ]
  },
  {
   "cell_type": "code",
   "execution_count": 111,
   "metadata": {},
   "outputs": [],
   "source": [
    "def adaptive_momentum(lossfunc, w, x_dict, beta1=0.5, beta2=0.9, learn_rate=0.999, max_iter=1000, epsilon=1e-8):\n",
    "    trace_w = w.clone().data.reshape(1, -1)\n",
    "    v_0, s_0 = 0, 0\n",
    "    i = 1\n",
    "    while i <= max_iter:\n",
    "        l = lossfunc(w, **x_dict)\n",
    "        l.backward()\n",
    "        v_1 = (beta1 * v_0 + (1 - beta1) * w.grad.data) / (1 - beta1 ** i)\n",
    "        s_1 = (beta2 * s_0 + (1 - beta2) * w.grad.data ** 2) / (1 - beta2 ** i)\n",
    "        w.data.sub_(learn_rate * v_1 / (torch.sqrt(s_1) + epsilon))\n",
    "        with torch.no_grad():\n",
    "            trace_w = torch.cat([trace_w, w.detach().data.reshape(1, -1)], 0)\n",
    "            if i % 50 == 0:\n",
    "                loss = lossfunc(w, **x_dict).data.numpy()\n",
    "                print(f\"迭代次数: {i}, 损失函数值: {loss:.4f}\")\n",
    "\n",
    "            if torch.sum(torch.abs(trace_w[-1] - trace_w[-2])) < 1e-3:  # 停止条件\n",
    "                break\n",
    "\n",
    "        w.grad.zero_()\n",
    "        v_0, s_0 = v_1, s_1\n",
    "        i += 1\n",
    "\n",
    "    print(f\"共迭代{i - 1}次, 损失函数值: {lossfunc(w, **x_dict).data.numpy():.4f}, 最优参数值: {w.tolist()}\")\n",
    "    return trace_w"
   ]
  },
  {
   "cell_type": "code",
   "execution_count": 112,
   "metadata": {},
   "outputs": [],
   "source": [
    "def bass(params, T:int): # 如果要使用其它模型，可以重新定义\n",
    "    p, q, m = params\n",
    "    t_tensor = torch.arange(1, T + 1, dtype=torch.float32)\n",
    "    a = 1 - torch.exp(- (p + q) * t_tensor)\n",
    "    b = 1 + q / p * torch.exp(- (p + q) * t_tensor)\n",
    "    diffu_cont = m * a / b\n",
    "\n",
    "    adopt_cont = torch.zeros_like(diffu_cont)\n",
    "    adopt_cont[0] = diffu_cont[0]\n",
    "    for t in range(1, T):\n",
    "        adopt_cont[t] = diffu_cont[t] - diffu_cont[t - 1]\n",
    "        \n",
    "    return adopt_cont"
   ]
  },
  {
   "cell_type": "code",
   "execution_count": 113,
   "metadata": {},
   "outputs": [],
   "source": [
    "def meanSquaredLoss(params, y):  # 平均平方误差\n",
    "    T = y.numel()\n",
    "    hat_y = bass(params, T)\n",
    "    return torch.mean((hat_y - y)**2)"
   ]
  },
  {
   "cell_type": "code",
   "execution_count": 114,
   "metadata": {},
   "outputs": [],
   "source": [
    "def r_2(params, y):  # R2\n",
    "    T = y.numel()\n",
    "    hat_y = bass(params, T)\n",
    "    tse = torch.sum((y - hat_y)**2)\n",
    "    ssl = torch.sum((y - torch.mean(y))**2)\n",
    "    R_2 = (ssl - tse)/ssl\n",
    "    return R_2"
   ]
  },
  {
   "cell_type": "code",
   "execution_count": 115,
   "metadata": {},
   "outputs": [],
   "source": [
    "y = tensor([96, 195, 238, 380, 1045, 1230, 1267, 1828, 1586, 1673, 1800, 1580, 1500], dtype=torch.float32) / 1000"
   ]
  },
  {
   "cell_type": "code",
   "execution_count": 116,
   "metadata": {},
   "outputs": [
    {
     "name": "stdout",
     "output_type": "stream",
     "text": [
      "迭代次数: 50, 损失函数值: 0.0284\n",
      "迭代次数: 100, 损失函数值: 0.0280\n",
      "迭代次数: 150, 损失函数值: 0.0278\n",
      "迭代次数: 200, 损失函数值: 0.0284\n",
      "迭代次数: 250, 损失函数值: 0.0281\n",
      "迭代次数: 300, 损失函数值: 0.0271\n",
      "迭代次数: 350, 损失函数值: 0.0280\n",
      "迭代次数: 400, 损失函数值: 0.0275\n",
      "迭代次数: 450, 损失函数值: 0.0264\n",
      "迭代次数: 500, 损失函数值: 0.0272\n",
      "迭代次数: 550, 损失函数值: 0.0278\n",
      "迭代次数: 600, 损失函数值: 0.0264\n",
      "共迭代628次, 损失函数值: 0.0265, 最优参数值: [0.009357522241771221, 0.3703031837940216, 18.873661041259766]\n",
      "r2: 0.9325102\n"
     ]
    }
   ],
   "source": [
    "params = torch.FloatTensor([0.001, 0.3, 20])\n",
    "params.requires_grad_(True)\n",
    "# res = grad_desc(meanSquaredLoss, params, y, learn_rate=1e-9)\n",
    "res = adaptive_momentum(meanSquaredLoss, params, x_dict={\"y\": y}, beta1=0.6, beta2=0.5, learn_rate=0.003, max_iter=1000)\n",
    "r2 = r_2(res[-1], y).numpy()\n",
    "print(\"r2:\", r2)"
   ]
  },
  {
   "cell_type": "code",
   "execution_count": 117,
   "metadata": {},
   "outputs": [
    {
     "data": {
      "text/plain": [
       "<matplotlib.collections.PathCollection at 0x7f01bc60ddc0>"
      ]
     },
     "execution_count": 117,
     "metadata": {},
     "output_type": "execute_result"
    },
    {
     "data": {
      "image/svg+xml": [
       "<?xml version=\"1.0\" encoding=\"utf-8\" standalone=\"no\"?>\n",
       "<!DOCTYPE svg PUBLIC \"-//W3C//DTD SVG 1.1//EN\"\n",
       "  \"http://www.w3.org/Graphics/SVG/1.1/DTD/svg11.dtd\">\n",
       "<svg xmlns:xlink=\"http://www.w3.org/1999/xlink\" width=\"395.328125pt\" height=\"262.19625pt\" viewBox=\"0 0 395.328125 262.19625\" xmlns=\"http://www.w3.org/2000/svg\" version=\"1.1\">\n",
       " <metadata>\n",
       "  <rdf:RDF xmlns:dc=\"http://purl.org/dc/elements/1.1/\" xmlns:cc=\"http://creativecommons.org/ns#\" xmlns:rdf=\"http://www.w3.org/1999/02/22-rdf-syntax-ns#\">\n",
       "   <cc:Work>\n",
       "    <dc:type rdf:resource=\"http://purl.org/dc/dcmitype/StillImage\"/>\n",
       "    <dc:date>2023-09-25T13:58:07.026687</dc:date>\n",
       "    <dc:format>image/svg+xml</dc:format>\n",
       "    <dc:creator>\n",
       "     <cc:Agent>\n",
       "      <dc:title>Matplotlib v3.5.1, https://matplotlib.org/</dc:title>\n",
       "     </cc:Agent>\n",
       "    </dc:creator>\n",
       "   </cc:Work>\n",
       "  </rdf:RDF>\n",
       " </metadata>\n",
       " <defs>\n",
       "  <style type=\"text/css\">*{stroke-linejoin: round; stroke-linecap: butt}</style>\n",
       " </defs>\n",
       " <g id=\"figure_1\">\n",
       "  <g id=\"patch_1\">\n",
       "   <path d=\"M 0 262.19625 \n",
       "L 395.328125 262.19625 \n",
       "L 395.328125 0 \n",
       "L 0 0 \n",
       "L 0 262.19625 \n",
       "z\n",
       "\" style=\"fill: none\"/>\n",
       "  </g>\n",
       "  <g id=\"axes_1\">\n",
       "   <g id=\"patch_2\">\n",
       "    <path d=\"M 53.328125 224.64 \n",
       "L 388.128125 224.64 \n",
       "L 388.128125 7.2 \n",
       "L 53.328125 7.2 \n",
       "z\n",
       "\" style=\"fill: #ffffff\"/>\n",
       "   </g>\n",
       "   <g id=\"PathCollection_1\">\n",
       "    <defs>\n",
       "     <path id=\"m329c295359\" d=\"M 0 3 \n",
       "C 0.795609 3 1.55874 2.683901 2.12132 2.12132 \n",
       "C 2.683901 1.55874 3 0.795609 3 0 \n",
       "C 3 -0.795609 2.683901 -1.55874 2.12132 -2.12132 \n",
       "C 1.55874 -2.683901 0.795609 -3 0 -3 \n",
       "C -0.795609 -3 -1.55874 -2.683901 -2.12132 -2.12132 \n",
       "C -2.683901 -1.55874 -3 -0.795609 -3 0 \n",
       "C -3 0.795609 -2.683901 1.55874 -2.12132 2.12132 \n",
       "C -1.55874 2.683901 -0.795609 3 0 3 \n",
       "z\n",
       "\" style=\"stroke: #ff0000\"/>\n",
       "    </defs>\n",
       "    <g clip-path=\"url(#p0e37380d68)\">\n",
       "     <use xlink:href=\"#m329c295359\" x=\"68.546307\" y=\"214.756364\" style=\"fill: #ff0000; stroke: #ff0000\"/>\n",
       "     <use xlink:href=\"#m329c295359\" x=\"93.909943\" y=\"203.46314\" style=\"fill: #ff0000; stroke: #ff0000\"/>\n",
       "     <use xlink:href=\"#m329c295359\" x=\"119.27358\" y=\"198.558003\" style=\"fill: #ff0000; stroke: #ff0000\"/>\n",
       "     <use xlink:href=\"#m329c295359\" x=\"144.637216\" y=\"182.359642\" style=\"fill: #ff0000; stroke: #ff0000\"/>\n",
       "     <use xlink:href=\"#m329c295359\" x=\"170.000852\" y=\"106.50112\" style=\"fill: #ff0000; stroke: #ff0000\"/>\n",
       "     <use xlink:href=\"#m329c295359\" x=\"195.364489\" y=\"85.397621\" style=\"fill: #ff0000; stroke: #ff0000\"/>\n",
       "     <use xlink:href=\"#m329c295359\" x=\"220.728125\" y=\"81.176922\" style=\"fill: #ff0000; stroke: #ff0000\"/>\n",
       "     <use xlink:href=\"#m329c295359\" x=\"246.091761\" y=\"17.181988\" style=\"fill: #ff0000; stroke: #ff0000\"/>\n",
       "     <use xlink:href=\"#m329c295359\" x=\"271.455398\" y=\"44.787646\" style=\"fill: #ff0000; stroke: #ff0000\"/>\n",
       "     <use xlink:href=\"#m329c295359\" x=\"296.819034\" y=\"34.863298\" style=\"fill: #ff0000; stroke: #ff0000\"/>\n",
       "     <use xlink:href=\"#m329c295359\" x=\"322.18267\" y=\"20.376031\" style=\"fill: #ff0000; stroke: #ff0000\"/>\n",
       "     <use xlink:href=\"#m329c295359\" x=\"347.546307\" y=\"45.472083\" style=\"fill: #ff0000; stroke: #ff0000\"/>\n",
       "     <use xlink:href=\"#m329c295359\" x=\"372.909943\" y=\"54.597921\" style=\"fill: #ff0000; stroke: #ff0000\"/>\n",
       "    </g>\n",
       "   </g>\n",
       "   <g id=\"matplotlib.axis_1\">\n",
       "    <g id=\"xtick_1\">\n",
       "     <g id=\"line2d_1\">\n",
       "      <defs>\n",
       "       <path id=\"md79c9401f8\" d=\"M 0 0 \n",
       "L 0 3.5 \n",
       "\" style=\"stroke: #000000; stroke-width: 0.8\"/>\n",
       "      </defs>\n",
       "      <g>\n",
       "       <use xlink:href=\"#md79c9401f8\" x=\"68.546307\" y=\"224.64\" style=\"stroke: #000000; stroke-width: 0.8\"/>\n",
       "      </g>\n",
       "     </g>\n",
       "     <g id=\"text_1\">\n",
       "      <!-- 0 -->\n",
       "      <g transform=\"translate(65.365057 239.238437)scale(0.1 -0.1)\">\n",
       "       <defs>\n",
       "        <path id=\"DejaVuSans-30\" d=\"M 2034 4250 \n",
       "Q 1547 4250 1301 3770 \n",
       "Q 1056 3291 1056 2328 \n",
       "Q 1056 1369 1301 889 \n",
       "Q 1547 409 2034 409 \n",
       "Q 2525 409 2770 889 \n",
       "Q 3016 1369 3016 2328 \n",
       "Q 3016 3291 2770 3770 \n",
       "Q 2525 4250 2034 4250 \n",
       "z\n",
       "M 2034 4750 \n",
       "Q 2819 4750 3233 4129 \n",
       "Q 3647 3509 3647 2328 \n",
       "Q 3647 1150 3233 529 \n",
       "Q 2819 -91 2034 -91 \n",
       "Q 1250 -91 836 529 \n",
       "Q 422 1150 422 2328 \n",
       "Q 422 3509 836 4129 \n",
       "Q 1250 4750 2034 4750 \n",
       "z\n",
       "\" transform=\"scale(0.015625)\"/>\n",
       "       </defs>\n",
       "       <use xlink:href=\"#DejaVuSans-30\"/>\n",
       "      </g>\n",
       "     </g>\n",
       "    </g>\n",
       "    <g id=\"xtick_2\">\n",
       "     <g id=\"line2d_2\">\n",
       "      <g>\n",
       "       <use xlink:href=\"#md79c9401f8\" x=\"119.27358\" y=\"224.64\" style=\"stroke: #000000; stroke-width: 0.8\"/>\n",
       "      </g>\n",
       "     </g>\n",
       "     <g id=\"text_2\">\n",
       "      <!-- 2 -->\n",
       "      <g transform=\"translate(116.09233 239.238437)scale(0.1 -0.1)\">\n",
       "       <defs>\n",
       "        <path id=\"DejaVuSans-32\" d=\"M 1228 531 \n",
       "L 3431 531 \n",
       "L 3431 0 \n",
       "L 469 0 \n",
       "L 469 531 \n",
       "Q 828 903 1448 1529 \n",
       "Q 2069 2156 2228 2338 \n",
       "Q 2531 2678 2651 2914 \n",
       "Q 2772 3150 2772 3378 \n",
       "Q 2772 3750 2511 3984 \n",
       "Q 2250 4219 1831 4219 \n",
       "Q 1534 4219 1204 4116 \n",
       "Q 875 4013 500 3803 \n",
       "L 500 4441 \n",
       "Q 881 4594 1212 4672 \n",
       "Q 1544 4750 1819 4750 \n",
       "Q 2544 4750 2975 4387 \n",
       "Q 3406 4025 3406 3419 \n",
       "Q 3406 3131 3298 2873 \n",
       "Q 3191 2616 2906 2266 \n",
       "Q 2828 2175 2409 1742 \n",
       "Q 1991 1309 1228 531 \n",
       "z\n",
       "\" transform=\"scale(0.015625)\"/>\n",
       "       </defs>\n",
       "       <use xlink:href=\"#DejaVuSans-32\"/>\n",
       "      </g>\n",
       "     </g>\n",
       "    </g>\n",
       "    <g id=\"xtick_3\">\n",
       "     <g id=\"line2d_3\">\n",
       "      <g>\n",
       "       <use xlink:href=\"#md79c9401f8\" x=\"170.000852\" y=\"224.64\" style=\"stroke: #000000; stroke-width: 0.8\"/>\n",
       "      </g>\n",
       "     </g>\n",
       "     <g id=\"text_3\">\n",
       "      <!-- 4 -->\n",
       "      <g transform=\"translate(166.819602 239.238437)scale(0.1 -0.1)\">\n",
       "       <defs>\n",
       "        <path id=\"DejaVuSans-34\" d=\"M 2419 4116 \n",
       "L 825 1625 \n",
       "L 2419 1625 \n",
       "L 2419 4116 \n",
       "z\n",
       "M 2253 4666 \n",
       "L 3047 4666 \n",
       "L 3047 1625 \n",
       "L 3713 1625 \n",
       "L 3713 1100 \n",
       "L 3047 1100 \n",
       "L 3047 0 \n",
       "L 2419 0 \n",
       "L 2419 1100 \n",
       "L 313 1100 \n",
       "L 313 1709 \n",
       "L 2253 4666 \n",
       "z\n",
       "\" transform=\"scale(0.015625)\"/>\n",
       "       </defs>\n",
       "       <use xlink:href=\"#DejaVuSans-34\"/>\n",
       "      </g>\n",
       "     </g>\n",
       "    </g>\n",
       "    <g id=\"xtick_4\">\n",
       "     <g id=\"line2d_4\">\n",
       "      <g>\n",
       "       <use xlink:href=\"#md79c9401f8\" x=\"220.728125\" y=\"224.64\" style=\"stroke: #000000; stroke-width: 0.8\"/>\n",
       "      </g>\n",
       "     </g>\n",
       "     <g id=\"text_4\">\n",
       "      <!-- 6 -->\n",
       "      <g transform=\"translate(217.546875 239.238437)scale(0.1 -0.1)\">\n",
       "       <defs>\n",
       "        <path id=\"DejaVuSans-36\" d=\"M 2113 2584 \n",
       "Q 1688 2584 1439 2293 \n",
       "Q 1191 2003 1191 1497 \n",
       "Q 1191 994 1439 701 \n",
       "Q 1688 409 2113 409 \n",
       "Q 2538 409 2786 701 \n",
       "Q 3034 994 3034 1497 \n",
       "Q 3034 2003 2786 2293 \n",
       "Q 2538 2584 2113 2584 \n",
       "z\n",
       "M 3366 4563 \n",
       "L 3366 3988 \n",
       "Q 3128 4100 2886 4159 \n",
       "Q 2644 4219 2406 4219 \n",
       "Q 1781 4219 1451 3797 \n",
       "Q 1122 3375 1075 2522 \n",
       "Q 1259 2794 1537 2939 \n",
       "Q 1816 3084 2150 3084 \n",
       "Q 2853 3084 3261 2657 \n",
       "Q 3669 2231 3669 1497 \n",
       "Q 3669 778 3244 343 \n",
       "Q 2819 -91 2113 -91 \n",
       "Q 1303 -91 875 529 \n",
       "Q 447 1150 447 2328 \n",
       "Q 447 3434 972 4092 \n",
       "Q 1497 4750 2381 4750 \n",
       "Q 2619 4750 2861 4703 \n",
       "Q 3103 4656 3366 4563 \n",
       "z\n",
       "\" transform=\"scale(0.015625)\"/>\n",
       "       </defs>\n",
       "       <use xlink:href=\"#DejaVuSans-36\"/>\n",
       "      </g>\n",
       "     </g>\n",
       "    </g>\n",
       "    <g id=\"xtick_5\">\n",
       "     <g id=\"line2d_5\">\n",
       "      <g>\n",
       "       <use xlink:href=\"#md79c9401f8\" x=\"271.455398\" y=\"224.64\" style=\"stroke: #000000; stroke-width: 0.8\"/>\n",
       "      </g>\n",
       "     </g>\n",
       "     <g id=\"text_5\">\n",
       "      <!-- 8 -->\n",
       "      <g transform=\"translate(268.274148 239.238437)scale(0.1 -0.1)\">\n",
       "       <defs>\n",
       "        <path id=\"DejaVuSans-38\" d=\"M 2034 2216 \n",
       "Q 1584 2216 1326 1975 \n",
       "Q 1069 1734 1069 1313 \n",
       "Q 1069 891 1326 650 \n",
       "Q 1584 409 2034 409 \n",
       "Q 2484 409 2743 651 \n",
       "Q 3003 894 3003 1313 \n",
       "Q 3003 1734 2745 1975 \n",
       "Q 2488 2216 2034 2216 \n",
       "z\n",
       "M 1403 2484 \n",
       "Q 997 2584 770 2862 \n",
       "Q 544 3141 544 3541 \n",
       "Q 544 4100 942 4425 \n",
       "Q 1341 4750 2034 4750 \n",
       "Q 2731 4750 3128 4425 \n",
       "Q 3525 4100 3525 3541 \n",
       "Q 3525 3141 3298 2862 \n",
       "Q 3072 2584 2669 2484 \n",
       "Q 3125 2378 3379 2068 \n",
       "Q 3634 1759 3634 1313 \n",
       "Q 3634 634 3220 271 \n",
       "Q 2806 -91 2034 -91 \n",
       "Q 1263 -91 848 271 \n",
       "Q 434 634 434 1313 \n",
       "Q 434 1759 690 2068 \n",
       "Q 947 2378 1403 2484 \n",
       "z\n",
       "M 1172 3481 \n",
       "Q 1172 3119 1398 2916 \n",
       "Q 1625 2713 2034 2713 \n",
       "Q 2441 2713 2670 2916 \n",
       "Q 2900 3119 2900 3481 \n",
       "Q 2900 3844 2670 4047 \n",
       "Q 2441 4250 2034 4250 \n",
       "Q 1625 4250 1398 4047 \n",
       "Q 1172 3844 1172 3481 \n",
       "z\n",
       "\" transform=\"scale(0.015625)\"/>\n",
       "       </defs>\n",
       "       <use xlink:href=\"#DejaVuSans-38\"/>\n",
       "      </g>\n",
       "     </g>\n",
       "    </g>\n",
       "    <g id=\"xtick_6\">\n",
       "     <g id=\"line2d_6\">\n",
       "      <g>\n",
       "       <use xlink:href=\"#md79c9401f8\" x=\"322.18267\" y=\"224.64\" style=\"stroke: #000000; stroke-width: 0.8\"/>\n",
       "      </g>\n",
       "     </g>\n",
       "     <g id=\"text_6\">\n",
       "      <!-- 10 -->\n",
       "      <g transform=\"translate(315.82017 239.238437)scale(0.1 -0.1)\">\n",
       "       <defs>\n",
       "        <path id=\"DejaVuSans-31\" d=\"M 794 531 \n",
       "L 1825 531 \n",
       "L 1825 4091 \n",
       "L 703 3866 \n",
       "L 703 4441 \n",
       "L 1819 4666 \n",
       "L 2450 4666 \n",
       "L 2450 531 \n",
       "L 3481 531 \n",
       "L 3481 0 \n",
       "L 794 0 \n",
       "L 794 531 \n",
       "z\n",
       "\" transform=\"scale(0.015625)\"/>\n",
       "       </defs>\n",
       "       <use xlink:href=\"#DejaVuSans-31\"/>\n",
       "       <use xlink:href=\"#DejaVuSans-30\" x=\"63.623047\"/>\n",
       "      </g>\n",
       "     </g>\n",
       "    </g>\n",
       "    <g id=\"xtick_7\">\n",
       "     <g id=\"line2d_7\">\n",
       "      <g>\n",
       "       <use xlink:href=\"#md79c9401f8\" x=\"372.909943\" y=\"224.64\" style=\"stroke: #000000; stroke-width: 0.8\"/>\n",
       "      </g>\n",
       "     </g>\n",
       "     <g id=\"text_7\">\n",
       "      <!-- 12 -->\n",
       "      <g transform=\"translate(366.547443 239.238437)scale(0.1 -0.1)\">\n",
       "       <use xlink:href=\"#DejaVuSans-31\"/>\n",
       "       <use xlink:href=\"#DejaVuSans-32\" x=\"63.623047\"/>\n",
       "      </g>\n",
       "     </g>\n",
       "    </g>\n",
       "    <g id=\"text_8\">\n",
       "     <!-- Time -->\n",
       "     <g transform=\"translate(208.494531 252.916562)scale(0.1 -0.1)\">\n",
       "      <defs>\n",
       "       <path id=\"DejaVuSans-54\" d=\"M -19 4666 \n",
       "L 3928 4666 \n",
       "L 3928 4134 \n",
       "L 2272 4134 \n",
       "L 2272 0 \n",
       "L 1638 0 \n",
       "L 1638 4134 \n",
       "L -19 4134 \n",
       "L -19 4666 \n",
       "z\n",
       "\" transform=\"scale(0.015625)\"/>\n",
       "       <path id=\"DejaVuSans-69\" d=\"M 603 3500 \n",
       "L 1178 3500 \n",
       "L 1178 0 \n",
       "L 603 0 \n",
       "L 603 3500 \n",
       "z\n",
       "M 603 4863 \n",
       "L 1178 4863 \n",
       "L 1178 4134 \n",
       "L 603 4134 \n",
       "L 603 4863 \n",
       "z\n",
       "\" transform=\"scale(0.015625)\"/>\n",
       "       <path id=\"DejaVuSans-6d\" d=\"M 3328 2828 \n",
       "Q 3544 3216 3844 3400 \n",
       "Q 4144 3584 4550 3584 \n",
       "Q 5097 3584 5394 3201 \n",
       "Q 5691 2819 5691 2113 \n",
       "L 5691 0 \n",
       "L 5113 0 \n",
       "L 5113 2094 \n",
       "Q 5113 2597 4934 2840 \n",
       "Q 4756 3084 4391 3084 \n",
       "Q 3944 3084 3684 2787 \n",
       "Q 3425 2491 3425 1978 \n",
       "L 3425 0 \n",
       "L 2847 0 \n",
       "L 2847 2094 \n",
       "Q 2847 2600 2669 2842 \n",
       "Q 2491 3084 2119 3084 \n",
       "Q 1678 3084 1418 2786 \n",
       "Q 1159 2488 1159 1978 \n",
       "L 1159 0 \n",
       "L 581 0 \n",
       "L 581 3500 \n",
       "L 1159 3500 \n",
       "L 1159 2956 \n",
       "Q 1356 3278 1631 3431 \n",
       "Q 1906 3584 2284 3584 \n",
       "Q 2666 3584 2933 3390 \n",
       "Q 3200 3197 3328 2828 \n",
       "z\n",
       "\" transform=\"scale(0.015625)\"/>\n",
       "       <path id=\"DejaVuSans-65\" d=\"M 3597 1894 \n",
       "L 3597 1613 \n",
       "L 953 1613 \n",
       "Q 991 1019 1311 708 \n",
       "Q 1631 397 2203 397 \n",
       "Q 2534 397 2845 478 \n",
       "Q 3156 559 3463 722 \n",
       "L 3463 178 \n",
       "Q 3153 47 2828 -22 \n",
       "Q 2503 -91 2169 -91 \n",
       "Q 1331 -91 842 396 \n",
       "Q 353 884 353 1716 \n",
       "Q 353 2575 817 3079 \n",
       "Q 1281 3584 2069 3584 \n",
       "Q 2775 3584 3186 3129 \n",
       "Q 3597 2675 3597 1894 \n",
       "z\n",
       "M 3022 2063 \n",
       "Q 3016 2534 2758 2815 \n",
       "Q 2500 3097 2075 3097 \n",
       "Q 1594 3097 1305 2825 \n",
       "Q 1016 2553 972 2059 \n",
       "L 3022 2063 \n",
       "z\n",
       "\" transform=\"scale(0.015625)\"/>\n",
       "      </defs>\n",
       "      <use xlink:href=\"#DejaVuSans-54\"/>\n",
       "      <use xlink:href=\"#DejaVuSans-69\" x=\"57.958984\"/>\n",
       "      <use xlink:href=\"#DejaVuSans-6d\" x=\"85.742188\"/>\n",
       "      <use xlink:href=\"#DejaVuSans-65\" x=\"183.154297\"/>\n",
       "     </g>\n",
       "    </g>\n",
       "   </g>\n",
       "   <g id=\"matplotlib.axis_2\">\n",
       "    <g id=\"ytick_1\">\n",
       "     <g id=\"line2d_8\">\n",
       "      <defs>\n",
       "       <path id=\"mb13bf0b490\" d=\"M 0 0 \n",
       "L -3.5 0 \n",
       "\" style=\"stroke: #000000; stroke-width: 0.8\"/>\n",
       "      </defs>\n",
       "      <g>\n",
       "       <use xlink:href=\"#mb13bf0b490\" x=\"53.328125\" y=\"197.189127\" style=\"stroke: #000000; stroke-width: 0.8\"/>\n",
       "      </g>\n",
       "     </g>\n",
       "     <g id=\"text_9\">\n",
       "      <!-- 250 -->\n",
       "      <g transform=\"translate(27.240625 200.988346)scale(0.1 -0.1)\">\n",
       "       <defs>\n",
       "        <path id=\"DejaVuSans-35\" d=\"M 691 4666 \n",
       "L 3169 4666 \n",
       "L 3169 4134 \n",
       "L 1269 4134 \n",
       "L 1269 2991 \n",
       "Q 1406 3038 1543 3061 \n",
       "Q 1681 3084 1819 3084 \n",
       "Q 2600 3084 3056 2656 \n",
       "Q 3513 2228 3513 1497 \n",
       "Q 3513 744 3044 326 \n",
       "Q 2575 -91 1722 -91 \n",
       "Q 1428 -91 1123 -41 \n",
       "Q 819 9 494 109 \n",
       "L 494 744 \n",
       "Q 775 591 1075 516 \n",
       "Q 1375 441 1709 441 \n",
       "Q 2250 441 2565 725 \n",
       "Q 2881 1009 2881 1497 \n",
       "Q 2881 1984 2565 2268 \n",
       "Q 2250 2553 1709 2553 \n",
       "Q 1456 2553 1204 2497 \n",
       "Q 953 2441 691 2322 \n",
       "L 691 4666 \n",
       "z\n",
       "\" transform=\"scale(0.015625)\"/>\n",
       "       </defs>\n",
       "       <use xlink:href=\"#DejaVuSans-32\"/>\n",
       "       <use xlink:href=\"#DejaVuSans-35\" x=\"63.623047\"/>\n",
       "       <use xlink:href=\"#DejaVuSans-30\" x=\"127.246094\"/>\n",
       "      </g>\n",
       "     </g>\n",
       "    </g>\n",
       "    <g id=\"ytick_2\">\n",
       "     <g id=\"line2d_9\">\n",
       "      <g>\n",
       "       <use xlink:href=\"#mb13bf0b490\" x=\"53.328125\" y=\"168.670886\" style=\"stroke: #000000; stroke-width: 0.8\"/>\n",
       "      </g>\n",
       "     </g>\n",
       "     <g id=\"text_10\">\n",
       "      <!-- 500 -->\n",
       "      <g transform=\"translate(27.240625 172.470104)scale(0.1 -0.1)\">\n",
       "       <use xlink:href=\"#DejaVuSans-35\"/>\n",
       "       <use xlink:href=\"#DejaVuSans-30\" x=\"63.623047\"/>\n",
       "       <use xlink:href=\"#DejaVuSans-30\" x=\"127.246094\"/>\n",
       "      </g>\n",
       "     </g>\n",
       "    </g>\n",
       "    <g id=\"ytick_3\">\n",
       "     <g id=\"line2d_10\">\n",
       "      <g>\n",
       "       <use xlink:href=\"#mb13bf0b490\" x=\"53.328125\" y=\"140.152644\" style=\"stroke: #000000; stroke-width: 0.8\"/>\n",
       "      </g>\n",
       "     </g>\n",
       "     <g id=\"text_11\">\n",
       "      <!-- 750 -->\n",
       "      <g transform=\"translate(27.240625 143.951863)scale(0.1 -0.1)\">\n",
       "       <defs>\n",
       "        <path id=\"DejaVuSans-37\" d=\"M 525 4666 \n",
       "L 3525 4666 \n",
       "L 3525 4397 \n",
       "L 1831 0 \n",
       "L 1172 0 \n",
       "L 2766 4134 \n",
       "L 525 4134 \n",
       "L 525 4666 \n",
       "z\n",
       "\" transform=\"scale(0.015625)\"/>\n",
       "       </defs>\n",
       "       <use xlink:href=\"#DejaVuSans-37\"/>\n",
       "       <use xlink:href=\"#DejaVuSans-35\" x=\"63.623047\"/>\n",
       "       <use xlink:href=\"#DejaVuSans-30\" x=\"127.246094\"/>\n",
       "      </g>\n",
       "     </g>\n",
       "    </g>\n",
       "    <g id=\"ytick_4\">\n",
       "     <g id=\"line2d_11\">\n",
       "      <g>\n",
       "       <use xlink:href=\"#mb13bf0b490\" x=\"53.328125\" y=\"111.634403\" style=\"stroke: #000000; stroke-width: 0.8\"/>\n",
       "      </g>\n",
       "     </g>\n",
       "     <g id=\"text_12\">\n",
       "      <!-- 1000 -->\n",
       "      <g transform=\"translate(20.878125 115.433622)scale(0.1 -0.1)\">\n",
       "       <use xlink:href=\"#DejaVuSans-31\"/>\n",
       "       <use xlink:href=\"#DejaVuSans-30\" x=\"63.623047\"/>\n",
       "       <use xlink:href=\"#DejaVuSans-30\" x=\"127.246094\"/>\n",
       "       <use xlink:href=\"#DejaVuSans-30\" x=\"190.869141\"/>\n",
       "      </g>\n",
       "     </g>\n",
       "    </g>\n",
       "    <g id=\"ytick_5\">\n",
       "     <g id=\"line2d_12\">\n",
       "      <g>\n",
       "       <use xlink:href=\"#mb13bf0b490\" x=\"53.328125\" y=\"83.116162\" style=\"stroke: #000000; stroke-width: 0.8\"/>\n",
       "      </g>\n",
       "     </g>\n",
       "     <g id=\"text_13\">\n",
       "      <!-- 1250 -->\n",
       "      <g transform=\"translate(20.878125 86.915381)scale(0.1 -0.1)\">\n",
       "       <use xlink:href=\"#DejaVuSans-31\"/>\n",
       "       <use xlink:href=\"#DejaVuSans-32\" x=\"63.623047\"/>\n",
       "       <use xlink:href=\"#DejaVuSans-35\" x=\"127.246094\"/>\n",
       "       <use xlink:href=\"#DejaVuSans-30\" x=\"190.869141\"/>\n",
       "      </g>\n",
       "     </g>\n",
       "    </g>\n",
       "    <g id=\"ytick_6\">\n",
       "     <g id=\"line2d_13\">\n",
       "      <g>\n",
       "       <use xlink:href=\"#mb13bf0b490\" x=\"53.328125\" y=\"54.597921\" style=\"stroke: #000000; stroke-width: 0.8\"/>\n",
       "      </g>\n",
       "     </g>\n",
       "     <g id=\"text_14\">\n",
       "      <!-- 1500 -->\n",
       "      <g transform=\"translate(20.878125 58.397139)scale(0.1 -0.1)\">\n",
       "       <use xlink:href=\"#DejaVuSans-31\"/>\n",
       "       <use xlink:href=\"#DejaVuSans-35\" x=\"63.623047\"/>\n",
       "       <use xlink:href=\"#DejaVuSans-30\" x=\"127.246094\"/>\n",
       "       <use xlink:href=\"#DejaVuSans-30\" x=\"190.869141\"/>\n",
       "      </g>\n",
       "     </g>\n",
       "    </g>\n",
       "    <g id=\"ytick_7\">\n",
       "     <g id=\"line2d_14\">\n",
       "      <g>\n",
       "       <use xlink:href=\"#mb13bf0b490\" x=\"53.328125\" y=\"26.079679\" style=\"stroke: #000000; stroke-width: 0.8\"/>\n",
       "      </g>\n",
       "     </g>\n",
       "     <g id=\"text_15\">\n",
       "      <!-- 1750 -->\n",
       "      <g transform=\"translate(20.878125 29.878898)scale(0.1 -0.1)\">\n",
       "       <use xlink:href=\"#DejaVuSans-31\"/>\n",
       "       <use xlink:href=\"#DejaVuSans-37\" x=\"63.623047\"/>\n",
       "       <use xlink:href=\"#DejaVuSans-35\" x=\"127.246094\"/>\n",
       "       <use xlink:href=\"#DejaVuSans-30\" x=\"190.869141\"/>\n",
       "      </g>\n",
       "     </g>\n",
       "    </g>\n",
       "    <g id=\"text_16\">\n",
       "     <!-- Sales volumn -->\n",
       "     <g transform=\"translate(14.798438 149.433281)rotate(-90)scale(0.1 -0.1)\">\n",
       "      <defs>\n",
       "       <path id=\"DejaVuSans-53\" d=\"M 3425 4513 \n",
       "L 3425 3897 \n",
       "Q 3066 4069 2747 4153 \n",
       "Q 2428 4238 2131 4238 \n",
       "Q 1616 4238 1336 4038 \n",
       "Q 1056 3838 1056 3469 \n",
       "Q 1056 3159 1242 3001 \n",
       "Q 1428 2844 1947 2747 \n",
       "L 2328 2669 \n",
       "Q 3034 2534 3370 2195 \n",
       "Q 3706 1856 3706 1288 \n",
       "Q 3706 609 3251 259 \n",
       "Q 2797 -91 1919 -91 \n",
       "Q 1588 -91 1214 -16 \n",
       "Q 841 59 441 206 \n",
       "L 441 856 \n",
       "Q 825 641 1194 531 \n",
       "Q 1563 422 1919 422 \n",
       "Q 2459 422 2753 634 \n",
       "Q 3047 847 3047 1241 \n",
       "Q 3047 1584 2836 1778 \n",
       "Q 2625 1972 2144 2069 \n",
       "L 1759 2144 \n",
       "Q 1053 2284 737 2584 \n",
       "Q 422 2884 422 3419 \n",
       "Q 422 4038 858 4394 \n",
       "Q 1294 4750 2059 4750 \n",
       "Q 2388 4750 2728 4690 \n",
       "Q 3069 4631 3425 4513 \n",
       "z\n",
       "\" transform=\"scale(0.015625)\"/>\n",
       "       <path id=\"DejaVuSans-61\" d=\"M 2194 1759 \n",
       "Q 1497 1759 1228 1600 \n",
       "Q 959 1441 959 1056 \n",
       "Q 959 750 1161 570 \n",
       "Q 1363 391 1709 391 \n",
       "Q 2188 391 2477 730 \n",
       "Q 2766 1069 2766 1631 \n",
       "L 2766 1759 \n",
       "L 2194 1759 \n",
       "z\n",
       "M 3341 1997 \n",
       "L 3341 0 \n",
       "L 2766 0 \n",
       "L 2766 531 \n",
       "Q 2569 213 2275 61 \n",
       "Q 1981 -91 1556 -91 \n",
       "Q 1019 -91 701 211 \n",
       "Q 384 513 384 1019 \n",
       "Q 384 1609 779 1909 \n",
       "Q 1175 2209 1959 2209 \n",
       "L 2766 2209 \n",
       "L 2766 2266 \n",
       "Q 2766 2663 2505 2880 \n",
       "Q 2244 3097 1772 3097 \n",
       "Q 1472 3097 1187 3025 \n",
       "Q 903 2953 641 2809 \n",
       "L 641 3341 \n",
       "Q 956 3463 1253 3523 \n",
       "Q 1550 3584 1831 3584 \n",
       "Q 2591 3584 2966 3190 \n",
       "Q 3341 2797 3341 1997 \n",
       "z\n",
       "\" transform=\"scale(0.015625)\"/>\n",
       "       <path id=\"DejaVuSans-6c\" d=\"M 603 4863 \n",
       "L 1178 4863 \n",
       "L 1178 0 \n",
       "L 603 0 \n",
       "L 603 4863 \n",
       "z\n",
       "\" transform=\"scale(0.015625)\"/>\n",
       "       <path id=\"DejaVuSans-73\" d=\"M 2834 3397 \n",
       "L 2834 2853 \n",
       "Q 2591 2978 2328 3040 \n",
       "Q 2066 3103 1784 3103 \n",
       "Q 1356 3103 1142 2972 \n",
       "Q 928 2841 928 2578 \n",
       "Q 928 2378 1081 2264 \n",
       "Q 1234 2150 1697 2047 \n",
       "L 1894 2003 \n",
       "Q 2506 1872 2764 1633 \n",
       "Q 3022 1394 3022 966 \n",
       "Q 3022 478 2636 193 \n",
       "Q 2250 -91 1575 -91 \n",
       "Q 1294 -91 989 -36 \n",
       "Q 684 19 347 128 \n",
       "L 347 722 \n",
       "Q 666 556 975 473 \n",
       "Q 1284 391 1588 391 \n",
       "Q 1994 391 2212 530 \n",
       "Q 2431 669 2431 922 \n",
       "Q 2431 1156 2273 1281 \n",
       "Q 2116 1406 1581 1522 \n",
       "L 1381 1569 \n",
       "Q 847 1681 609 1914 \n",
       "Q 372 2147 372 2553 \n",
       "Q 372 3047 722 3315 \n",
       "Q 1072 3584 1716 3584 \n",
       "Q 2034 3584 2315 3537 \n",
       "Q 2597 3491 2834 3397 \n",
       "z\n",
       "\" transform=\"scale(0.015625)\"/>\n",
       "       <path id=\"DejaVuSans-20\" transform=\"scale(0.015625)\"/>\n",
       "       <path id=\"DejaVuSans-76\" d=\"M 191 3500 \n",
       "L 800 3500 \n",
       "L 1894 563 \n",
       "L 2988 3500 \n",
       "L 3597 3500 \n",
       "L 2284 0 \n",
       "L 1503 0 \n",
       "L 191 3500 \n",
       "z\n",
       "\" transform=\"scale(0.015625)\"/>\n",
       "       <path id=\"DejaVuSans-6f\" d=\"M 1959 3097 \n",
       "Q 1497 3097 1228 2736 \n",
       "Q 959 2375 959 1747 \n",
       "Q 959 1119 1226 758 \n",
       "Q 1494 397 1959 397 \n",
       "Q 2419 397 2687 759 \n",
       "Q 2956 1122 2956 1747 \n",
       "Q 2956 2369 2687 2733 \n",
       "Q 2419 3097 1959 3097 \n",
       "z\n",
       "M 1959 3584 \n",
       "Q 2709 3584 3137 3096 \n",
       "Q 3566 2609 3566 1747 \n",
       "Q 3566 888 3137 398 \n",
       "Q 2709 -91 1959 -91 \n",
       "Q 1206 -91 779 398 \n",
       "Q 353 888 353 1747 \n",
       "Q 353 2609 779 3096 \n",
       "Q 1206 3584 1959 3584 \n",
       "z\n",
       "\" transform=\"scale(0.015625)\"/>\n",
       "       <path id=\"DejaVuSans-75\" d=\"M 544 1381 \n",
       "L 544 3500 \n",
       "L 1119 3500 \n",
       "L 1119 1403 \n",
       "Q 1119 906 1312 657 \n",
       "Q 1506 409 1894 409 \n",
       "Q 2359 409 2629 706 \n",
       "Q 2900 1003 2900 1516 \n",
       "L 2900 3500 \n",
       "L 3475 3500 \n",
       "L 3475 0 \n",
       "L 2900 0 \n",
       "L 2900 538 \n",
       "Q 2691 219 2414 64 \n",
       "Q 2138 -91 1772 -91 \n",
       "Q 1169 -91 856 284 \n",
       "Q 544 659 544 1381 \n",
       "z\n",
       "M 1991 3584 \n",
       "L 1991 3584 \n",
       "z\n",
       "\" transform=\"scale(0.015625)\"/>\n",
       "       <path id=\"DejaVuSans-6e\" d=\"M 3513 2113 \n",
       "L 3513 0 \n",
       "L 2938 0 \n",
       "L 2938 2094 \n",
       "Q 2938 2591 2744 2837 \n",
       "Q 2550 3084 2163 3084 \n",
       "Q 1697 3084 1428 2787 \n",
       "Q 1159 2491 1159 1978 \n",
       "L 1159 0 \n",
       "L 581 0 \n",
       "L 581 3500 \n",
       "L 1159 3500 \n",
       "L 1159 2956 \n",
       "Q 1366 3272 1645 3428 \n",
       "Q 1925 3584 2291 3584 \n",
       "Q 2894 3584 3203 3211 \n",
       "Q 3513 2838 3513 2113 \n",
       "z\n",
       "\" transform=\"scale(0.015625)\"/>\n",
       "      </defs>\n",
       "      <use xlink:href=\"#DejaVuSans-53\"/>\n",
       "      <use xlink:href=\"#DejaVuSans-61\" x=\"63.476562\"/>\n",
       "      <use xlink:href=\"#DejaVuSans-6c\" x=\"124.755859\"/>\n",
       "      <use xlink:href=\"#DejaVuSans-65\" x=\"152.539062\"/>\n",
       "      <use xlink:href=\"#DejaVuSans-73\" x=\"214.0625\"/>\n",
       "      <use xlink:href=\"#DejaVuSans-20\" x=\"266.162109\"/>\n",
       "      <use xlink:href=\"#DejaVuSans-76\" x=\"297.949219\"/>\n",
       "      <use xlink:href=\"#DejaVuSans-6f\" x=\"357.128906\"/>\n",
       "      <use xlink:href=\"#DejaVuSans-6c\" x=\"418.310547\"/>\n",
       "      <use xlink:href=\"#DejaVuSans-75\" x=\"446.09375\"/>\n",
       "      <use xlink:href=\"#DejaVuSans-6d\" x=\"509.472656\"/>\n",
       "      <use xlink:href=\"#DejaVuSans-6e\" x=\"606.884766\"/>\n",
       "     </g>\n",
       "    </g>\n",
       "   </g>\n",
       "   <g id=\"line2d_15\">\n",
       "    <path d=\"M 68.546307 201.478555 \n",
       "L 93.909943 191.255296 \n",
       "L 119.27358 177.305873 \n",
       "L 144.637216 158.848496 \n",
       "L 170.000852 135.478076 \n",
       "L 195.364489 107.690197 \n",
       "L 220.728125 77.506437 \n",
       "L 246.091761 48.838225 \n",
       "L 271.455398 27.006118 \n",
       "L 296.819034 17.083636 \n",
       "L 322.18267 21.663627 \n",
       "L 347.546307 39.527019 \n",
       "L 372.909943 66.283646 \n",
       "\" clip-path=\"url(#p0e37380d68)\" style=\"fill: none; stroke: #1f77b4; stroke-width: 1.5; stroke-linecap: square\"/>\n",
       "   </g>\n",
       "   <g id=\"patch_3\">\n",
       "    <path d=\"M 53.328125 224.64 \n",
       "L 53.328125 7.2 \n",
       "\" style=\"fill: none; stroke: #000000; stroke-width: 0.8; stroke-linejoin: miter; stroke-linecap: square\"/>\n",
       "   </g>\n",
       "   <g id=\"patch_4\">\n",
       "    <path d=\"M 388.128125 224.64 \n",
       "L 388.128125 7.2 \n",
       "\" style=\"fill: none; stroke: #000000; stroke-width: 0.8; stroke-linejoin: miter; stroke-linecap: square\"/>\n",
       "   </g>\n",
       "   <g id=\"patch_5\">\n",
       "    <path d=\"M 53.328125 224.64 \n",
       "L 388.128125 224.64 \n",
       "\" style=\"fill: none; stroke: #000000; stroke-width: 0.8; stroke-linejoin: miter; stroke-linecap: square\"/>\n",
       "   </g>\n",
       "   <g id=\"patch_6\">\n",
       "    <path d=\"M 53.328125 7.2 \n",
       "L 388.128125 7.2 \n",
       "\" style=\"fill: none; stroke: #000000; stroke-width: 0.8; stroke-linejoin: miter; stroke-linecap: square\"/>\n",
       "   </g>\n",
       "  </g>\n",
       " </g>\n",
       " <defs>\n",
       "  <clipPath id=\"p0e37380d68\">\n",
       "   <rect x=\"53.328125\" y=\"7.2\" width=\"334.8\" height=\"217.44\"/>\n",
       "  </clipPath>\n",
       " </defs>\n",
       "</svg>\n"
      ],
      "text/plain": [
       "<Figure size 432x288 with 1 Axes>"
      ]
     },
     "metadata": {
      "needs_background": "light"
     },
     "output_type": "display_data"
    }
   ],
   "source": [
    "T = y.numel()\n",
    "plt.xlabel(\"Time\")\n",
    "plt.ylabel(\"Sales volumn\")\n",
    "plt.plot(np.arange(T), bass(res[-1], T).numpy() * 1000)\n",
    "plt.scatter(np.arange(T), y.numpy() * 1000, marker='o', color='red')"
   ]
  },
  {
   "cell_type": "markdown",
   "metadata": {},
   "source": [
    "## 4. 构建神经网络的流程"
   ]
  },
  {
   "cell_type": "markdown",
   "metadata": {},
   "source": [
    "### 4.1. 定义计算架构"
   ]
  },
  {
   "cell_type": "code",
   "execution_count": 118,
   "metadata": {},
   "outputs": [],
   "source": [
    "class Net(nn.Module):\n",
    "    def __init__(self, dim_feature, dim_hidden, dim_output):\n",
    "        super(Net, self).__init__()\n",
    "        self.hidden = nn.Linear(dim_feature, dim_hidden)\n",
    "        self.output = nn.Linear(dim_hidden, dim_output)\n",
    "    \n",
    "    def forward(self, X):  # 层之间的计算次序\n",
    "        f1 = torch.relu(self.hidden(X))  # 0-1\n",
    "        f2 = self.output(f1)  # 1->2\n",
    "        f3 = nn.functional.softmax(f2, dim=1)  # 2->3\n",
    "        return f3"
   ]
  },
  {
   "cell_type": "code",
   "execution_count": 119,
   "metadata": {},
   "outputs": [],
   "source": [
    "net = Net(dim_feature=2, dim_hidden=10, dim_output=2)"
   ]
  },
  {
   "cell_type": "code",
   "execution_count": 120,
   "metadata": {},
   "outputs": [],
   "source": [
    "optimizer = torch.optim.SGD(net.parameters(), lr=0.05)  # 指定需优化的参数\n",
    "loss_func = nn.CrossEntropyLoss()  # 确定训练准则"
   ]
  },
  {
   "cell_type": "markdown",
   "metadata": {},
   "source": [
    "### 4.2. 生成测试数据"
   ]
  },
  {
   "cell_type": "code",
   "execution_count": 121,
   "metadata": {},
   "outputs": [],
   "source": [
    "x0 = torch.randn(100, 2) + 2  # 均值为 2\n",
    "y0 = torch.zeros(100)\n",
    "x1 = torch.randn(100, 2) - 2  # 均值为 -2\n",
    "y1 = torch.ones(100)\n",
    "\n",
    "x = torch.cat((x0, x1)).type(torch.FloatTensor)\n",
    "y = torch.cat((y0, y1)).type(torch.LongTensor)"
   ]
  },
  {
   "cell_type": "code",
   "execution_count": 122,
   "metadata": {},
   "outputs": [],
   "source": [
    "idx = np.arange(len(x))\n",
    "np.random.shuffle(idx)\n",
    "train_x, train_y = x[idx[:50]], y[idx[:50]]  # 随机选取50个\n",
    "test_x, test_y = x[idx[50:]], y[idx[50:]]"
   ]
  },
  {
   "cell_type": "code",
   "execution_count": 123,
   "metadata": {},
   "outputs": [
    {
     "data": {
      "text/plain": [
       "tensor([1, 0, 1, 1, 0, 1, 0, 0, 1, 0, 0, 0, 1, 1, 0, 1, 1, 1, 0, 0, 0, 0, 0, 0,\n",
       "        1, 1, 0, 0, 0, 0, 0, 0, 1, 0, 0, 1, 1, 1, 0, 1, 1, 1, 1, 1, 1, 0, 1, 1,\n",
       "        1, 0])"
      ]
     },
     "execution_count": 123,
     "metadata": {},
     "output_type": "execute_result"
    }
   ],
   "source": [
    "train_y"
   ]
  },
  {
   "cell_type": "markdown",
   "metadata": {},
   "source": [
    "### 4.3. 训练"
   ]
  },
  {
   "cell_type": "code",
   "execution_count": 124,
   "metadata": {},
   "outputs": [
    {
     "name": "stdout",
     "output_type": "stream",
     "text": [
      "loss_train: 0.6422483325004578, loss_test: 0.6366799473762512\n",
      "loss_train: 0.44171902537345886, loss_test: 0.4359949827194214\n",
      "loss_train: 0.3774240016937256, loss_test: 0.37515488266944885\n",
      "loss_train: 0.35611212253570557, loss_test: 0.35536712408065796\n",
      "loss_train: 0.3459092378616333, loss_test: 0.3460897207260132\n",
      "loss_train: 0.3398365080356598, loss_test: 0.34073367714881897\n",
      "loss_train: 0.335786372423172, loss_test: 0.33726364374160767\n",
      "loss_train: 0.3328193724155426, loss_test: 0.33483532071113586\n",
      "loss_train: 0.3305293023586273, loss_test: 0.3330434560775757\n",
      "loss_train: 0.32869574427604675, loss_test: 0.33167484402656555\n"
     ]
    }
   ],
   "source": [
    "for i in range(400):\n",
    "    out = net(train_x)\n",
    "    loss = loss_func(out, train_y)\n",
    "    \n",
    "    optimizer.zero_grad()\n",
    "    loss.backward()\n",
    "    optimizer.step()\n",
    "    if i % 40 == 0:\n",
    "        with torch.no_grad():\n",
    "            loss_train = loss_func(out, train_y)\n",
    "            out_test = net.forward(test_x)\n",
    "            loss_test = loss_func(out_test, test_y)\n",
    "            print(f\"loss_train: {loss_train}, loss_test: {loss_test}\")"
   ]
  },
  {
   "cell_type": "code",
   "execution_count": 125,
   "metadata": {},
   "outputs": [],
   "source": [
    "train_result = net(train_x)\n",
    "predict_train_y = torch.max(train_result, 1)[1]\n",
    "\n",
    "test_result = net(test_x)\n",
    "predict_test_y = torch.max(test_result, 1)[1]\n",
    "\n",
    "x_list = [train_x, test_x]\n",
    "y_list = [predict_train_y, predict_test_y]"
   ]
  },
  {
   "cell_type": "code",
   "execution_count": 126,
   "metadata": {},
   "outputs": [
    {
     "data": {
      "image/svg+xml": [
       "<?xml version=\"1.0\" encoding=\"utf-8\" standalone=\"no\"?>\n",
       "<!DOCTYPE svg PUBLIC \"-//W3C//DTD SVG 1.1//EN\"\n",
       "  \"http://www.w3.org/Graphics/SVG/1.1/DTD/svg11.dtd\">\n",
       "<svg xmlns:xlink=\"http://www.w3.org/1999/xlink\" width=\"719.420312pt\" height=\"316.55625pt\" viewBox=\"0 0 719.420312 316.55625\" xmlns=\"http://www.w3.org/2000/svg\" version=\"1.1\">\n",
       " <metadata>\n",
       "  <rdf:RDF xmlns:dc=\"http://purl.org/dc/elements/1.1/\" xmlns:cc=\"http://creativecommons.org/ns#\" xmlns:rdf=\"http://www.w3.org/1999/02/22-rdf-syntax-ns#\">\n",
       "   <cc:Work>\n",
       "    <dc:type rdf:resource=\"http://purl.org/dc/dcmitype/StillImage\"/>\n",
       "    <dc:date>2023-09-25T14:08:36.215066</dc:date>\n",
       "    <dc:format>image/svg+xml</dc:format>\n",
       "    <dc:creator>\n",
       "     <cc:Agent>\n",
       "      <dc:title>Matplotlib v3.5.1, https://matplotlib.org/</dc:title>\n",
       "     </cc:Agent>\n",
       "    </dc:creator>\n",
       "   </cc:Work>\n",
       "  </rdf:RDF>\n",
       " </metadata>\n",
       " <defs>\n",
       "  <style type=\"text/css\">*{stroke-linejoin: round; stroke-linecap: butt}</style>\n",
       " </defs>\n",
       " <g id=\"figure_1\">\n",
       "  <g id=\"patch_1\">\n",
       "   <path d=\"M 0 316.55625 \n",
       "L 719.420312 316.55625 \n",
       "L 719.420312 0 \n",
       "L 0 0 \n",
       "L 0 316.55625 \n",
       "z\n",
       "\" style=\"fill: none\"/>\n",
       "  </g>\n",
       "  <g id=\"axes_1\">\n",
       "   <g id=\"patch_2\">\n",
       "    <path d=\"M 42.620312 279 \n",
       "L 346.983949 279 \n",
       "L 346.983949 7.2 \n",
       "L 42.620312 7.2 \n",
       "z\n",
       "\" style=\"fill: #ffffff\"/>\n",
       "   </g>\n",
       "   <g id=\"PathCollection_1\">\n",
       "    <defs>\n",
       "     <path id=\"C0_0_43160a74d4\" d=\"M 0 3.872983 \n",
       "C 1.027127 3.872983 2.012324 3.464901 2.738613 2.738613 \n",
       "C 3.464901 2.012324 3.872983 1.027127 3.872983 -0 \n",
       "C 3.872983 -1.027127 3.464901 -2.012324 2.738613 -2.738613 \n",
       "C 2.012324 -3.464901 1.027127 -3.872983 0 -3.872983 \n",
       "C -1.027127 -3.872983 -2.012324 -3.464901 -2.738613 -2.738613 \n",
       "C -3.464901 -2.012324 -3.872983 -1.027127 -3.872983 0 \n",
       "C -3.872983 1.027127 -3.464901 2.012324 -2.738613 2.738613 \n",
       "C -2.012324 3.464901 -1.027127 3.872983 0 3.872983 \n",
       "z\n",
       "\"/>\n",
       "    </defs>\n",
       "    <g clip-path=\"url(#p36729a0cc1)\">\n",
       "     <use xlink:href=\"#C0_0_43160a74d4\" x=\"75.344491\" y=\"209.856432\" style=\"fill: #006837\"/>\n",
       "    </g>\n",
       "    <g clip-path=\"url(#p36729a0cc1)\">\n",
       "     <use xlink:href=\"#C0_0_43160a74d4\" x=\"249.168047\" y=\"86.65184\" style=\"fill: #a50026\"/>\n",
       "    </g>\n",
       "    <g clip-path=\"url(#p36729a0cc1)\">\n",
       "     <use xlink:href=\"#C0_0_43160a74d4\" x=\"186.37339\" y=\"170.474328\" style=\"fill: #006837\"/>\n",
       "    </g>\n",
       "    <g clip-path=\"url(#p36729a0cc1)\">\n",
       "     <use xlink:href=\"#C0_0_43160a74d4\" x=\"121.442621\" y=\"162.272099\" style=\"fill: #006837\"/>\n",
       "    </g>\n",
       "    <g clip-path=\"url(#p36729a0cc1)\">\n",
       "     <use xlink:href=\"#C0_0_43160a74d4\" x=\"277.376745\" y=\"30.772096\" style=\"fill: #a50026\"/>\n",
       "    </g>\n",
       "    <g clip-path=\"url(#p36729a0cc1)\">\n",
       "     <use xlink:href=\"#C0_0_43160a74d4\" x=\"163.514567\" y=\"180.673487\" style=\"fill: #006837\"/>\n",
       "    </g>\n",
       "    <g clip-path=\"url(#p36729a0cc1)\">\n",
       "     <use xlink:href=\"#C0_0_43160a74d4\" x=\"202.131488\" y=\"106.377138\" style=\"fill: #a50026\"/>\n",
       "    </g>\n",
       "    <g clip-path=\"url(#p36729a0cc1)\">\n",
       "     <use xlink:href=\"#C0_0_43160a74d4\" x=\"329.521834\" y=\"32.310495\" style=\"fill: #a50026\"/>\n",
       "    </g>\n",
       "    <g clip-path=\"url(#p36729a0cc1)\">\n",
       "     <use xlink:href=\"#C0_0_43160a74d4\" x=\"132.239995\" y=\"232.241375\" style=\"fill: #006837\"/>\n",
       "    </g>\n",
       "    <g clip-path=\"url(#p36729a0cc1)\">\n",
       "     <use xlink:href=\"#C0_0_43160a74d4\" x=\"218.701787\" y=\"66.382931\" style=\"fill: #a50026\"/>\n",
       "    </g>\n",
       "    <g clip-path=\"url(#p36729a0cc1)\">\n",
       "     <use xlink:href=\"#C0_0_43160a74d4\" x=\"267.478273\" y=\"27.143864\" style=\"fill: #a50026\"/>\n",
       "    </g>\n",
       "    <g clip-path=\"url(#p36729a0cc1)\">\n",
       "     <use xlink:href=\"#C0_0_43160a74d4\" x=\"244.687152\" y=\"34.938507\" style=\"fill: #a50026\"/>\n",
       "    </g>\n",
       "    <g clip-path=\"url(#p36729a0cc1)\">\n",
       "     <use xlink:href=\"#C0_0_43160a74d4\" x=\"155.750855\" y=\"182.128503\" style=\"fill: #006837\"/>\n",
       "    </g>\n",
       "    <g clip-path=\"url(#p36729a0cc1)\">\n",
       "     <use xlink:href=\"#C0_0_43160a74d4\" x=\"213.13881\" y=\"167.798744\" style=\"fill: #006837\"/>\n",
       "    </g>\n",
       "    <g clip-path=\"url(#p36729a0cc1)\">\n",
       "     <use xlink:href=\"#C0_0_43160a74d4\" x=\"297.82277\" y=\"57.551076\" style=\"fill: #a50026\"/>\n",
       "    </g>\n",
       "    <g clip-path=\"url(#p36729a0cc1)\">\n",
       "     <use xlink:href=\"#C0_0_43160a74d4\" x=\"118.24728\" y=\"163.006336\" style=\"fill: #006837\"/>\n",
       "    </g>\n",
       "    <g clip-path=\"url(#p36729a0cc1)\">\n",
       "     <use xlink:href=\"#C0_0_43160a74d4\" x=\"156.760983\" y=\"260.601669\" style=\"fill: #006837\"/>\n",
       "    </g>\n",
       "    <g clip-path=\"url(#p36729a0cc1)\">\n",
       "     <use xlink:href=\"#C0_0_43160a74d4\" x=\"114.803428\" y=\"205.858698\" style=\"fill: #006837\"/>\n",
       "    </g>\n",
       "    <g clip-path=\"url(#p36729a0cc1)\">\n",
       "     <use xlink:href=\"#C0_0_43160a74d4\" x=\"223.61643\" y=\"113.139555\" style=\"fill: #a50026\"/>\n",
       "    </g>\n",
       "    <g clip-path=\"url(#p36729a0cc1)\">\n",
       "     <use xlink:href=\"#C0_0_43160a74d4\" x=\"314.438849\" y=\"83.151527\" style=\"fill: #a50026\"/>\n",
       "    </g>\n",
       "    <g clip-path=\"url(#p36729a0cc1)\">\n",
       "     <use xlink:href=\"#C0_0_43160a74d4\" x=\"239.536775\" y=\"87.615908\" style=\"fill: #a50026\"/>\n",
       "    </g>\n",
       "    <g clip-path=\"url(#p36729a0cc1)\">\n",
       "     <use xlink:href=\"#C0_0_43160a74d4\" x=\"296.682426\" y=\"87.560773\" style=\"fill: #a50026\"/>\n",
       "    </g>\n",
       "    <g clip-path=\"url(#p36729a0cc1)\">\n",
       "     <use xlink:href=\"#C0_0_43160a74d4\" x=\"324.644746\" y=\"28.430043\" style=\"fill: #a50026\"/>\n",
       "    </g>\n",
       "    <g clip-path=\"url(#p36729a0cc1)\">\n",
       "     <use xlink:href=\"#C0_0_43160a74d4\" x=\"281.610216\" y=\"81.319079\" style=\"fill: #a50026\"/>\n",
       "    </g>\n",
       "    <g clip-path=\"url(#p36729a0cc1)\">\n",
       "     <use xlink:href=\"#C0_0_43160a74d4\" x=\"139.411752\" y=\"146.393614\" style=\"fill: #006837\"/>\n",
       "    </g>\n",
       "    <g clip-path=\"url(#p36729a0cc1)\">\n",
       "     <use xlink:href=\"#C0_0_43160a74d4\" x=\"127.392128\" y=\"201.452402\" style=\"fill: #006837\"/>\n",
       "    </g>\n",
       "    <g clip-path=\"url(#p36729a0cc1)\">\n",
       "     <use xlink:href=\"#C0_0_43160a74d4\" x=\"294.848778\" y=\"34.915866\" style=\"fill: #a50026\"/>\n",
       "    </g>\n",
       "    <g clip-path=\"url(#p36729a0cc1)\">\n",
       "     <use xlink:href=\"#C0_0_43160a74d4\" x=\"333.149238\" y=\"83.870691\" style=\"fill: #a50026\"/>\n",
       "    </g>\n",
       "    <g clip-path=\"url(#p36729a0cc1)\">\n",
       "     <use xlink:href=\"#C0_0_43160a74d4\" x=\"228.42191\" y=\"52.638024\" style=\"fill: #a50026\"/>\n",
       "    </g>\n",
       "    <g clip-path=\"url(#p36729a0cc1)\">\n",
       "     <use xlink:href=\"#C0_0_43160a74d4\" x=\"306.094231\" y=\"21.552696\" style=\"fill: #a50026\"/>\n",
       "    </g>\n",
       "    <g clip-path=\"url(#p36729a0cc1)\">\n",
       "     <use xlink:href=\"#C0_0_43160a74d4\" x=\"203.718939\" y=\"66.560456\" style=\"fill: #a50026\"/>\n",
       "    </g>\n",
       "    <g clip-path=\"url(#p36729a0cc1)\">\n",
       "     <use xlink:href=\"#C0_0_43160a74d4\" x=\"275.882438\" y=\"27.873879\" style=\"fill: #a50026\"/>\n",
       "    </g>\n",
       "    <g clip-path=\"url(#p36729a0cc1)\">\n",
       "     <use xlink:href=\"#C0_0_43160a74d4\" x=\"176.984875\" y=\"225.38198\" style=\"fill: #006837\"/>\n",
       "    </g>\n",
       "    <g clip-path=\"url(#p36729a0cc1)\">\n",
       "     <use xlink:href=\"#C0_0_43160a74d4\" x=\"301.715656\" y=\"95.69709\" style=\"fill: #a50026\"/>\n",
       "    </g>\n",
       "    <g clip-path=\"url(#p36729a0cc1)\">\n",
       "     <use xlink:href=\"#C0_0_43160a74d4\" x=\"257.425989\" y=\"67.758898\" style=\"fill: #a50026\"/>\n",
       "    </g>\n",
       "    <g clip-path=\"url(#p36729a0cc1)\">\n",
       "     <use xlink:href=\"#C0_0_43160a74d4\" x=\"146.186269\" y=\"168.17197\" style=\"fill: #006837\"/>\n",
       "    </g>\n",
       "    <g clip-path=\"url(#p36729a0cc1)\">\n",
       "     <use xlink:href=\"#C0_0_43160a74d4\" x=\"116.842862\" y=\"184.038212\" style=\"fill: #006837\"/>\n",
       "    </g>\n",
       "    <g clip-path=\"url(#p36729a0cc1)\">\n",
       "     <use xlink:href=\"#C0_0_43160a74d4\" x=\"106.461322\" y=\"247.473631\" style=\"fill: #006837\"/>\n",
       "    </g>\n",
       "    <g clip-path=\"url(#p36729a0cc1)\">\n",
       "     <use xlink:href=\"#C0_0_43160a74d4\" x=\"292.413027\" y=\"58.306582\" style=\"fill: #a50026\"/>\n",
       "    </g>\n",
       "    <g clip-path=\"url(#p36729a0cc1)\">\n",
       "     <use xlink:href=\"#C0_0_43160a74d4\" x=\"118.418598\" y=\"140.492025\" style=\"fill: #006837\"/>\n",
       "    </g>\n",
       "    <g clip-path=\"url(#p36729a0cc1)\">\n",
       "     <use xlink:href=\"#C0_0_43160a74d4\" x=\"167.00303\" y=\"206.035441\" style=\"fill: #006837\"/>\n",
       "    </g>\n",
       "    <g clip-path=\"url(#p36729a0cc1)\">\n",
       "     <use xlink:href=\"#C0_0_43160a74d4\" x=\"145.403398\" y=\"192.78746\" style=\"fill: #006837\"/>\n",
       "    </g>\n",
       "    <g clip-path=\"url(#p36729a0cc1)\">\n",
       "     <use xlink:href=\"#C0_0_43160a74d4\" x=\"157.989251\" y=\"211.760921\" style=\"fill: #006837\"/>\n",
       "    </g>\n",
       "    <g clip-path=\"url(#p36729a0cc1)\">\n",
       "     <use xlink:href=\"#C0_0_43160a74d4\" x=\"182.954372\" y=\"266.645455\" style=\"fill: #006837\"/>\n",
       "    </g>\n",
       "    <g clip-path=\"url(#p36729a0cc1)\">\n",
       "     <use xlink:href=\"#C0_0_43160a74d4\" x=\"103.809478\" y=\"151.457365\" style=\"fill: #006837\"/>\n",
       "    </g>\n",
       "    <g clip-path=\"url(#p36729a0cc1)\">\n",
       "     <use xlink:href=\"#C0_0_43160a74d4\" x=\"270.201956\" y=\"92.221328\" style=\"fill: #a50026\"/>\n",
       "    </g>\n",
       "    <g clip-path=\"url(#p36729a0cc1)\">\n",
       "     <use xlink:href=\"#C0_0_43160a74d4\" x=\"127.769414\" y=\"167.579274\" style=\"fill: #006837\"/>\n",
       "    </g>\n",
       "    <g clip-path=\"url(#p36729a0cc1)\">\n",
       "     <use xlink:href=\"#C0_0_43160a74d4\" x=\"108.155535\" y=\"201.524534\" style=\"fill: #006837\"/>\n",
       "    </g>\n",
       "    <g clip-path=\"url(#p36729a0cc1)\">\n",
       "     <use xlink:href=\"#C0_0_43160a74d4\" x=\"56.455023\" y=\"195.662562\" style=\"fill: #006837\"/>\n",
       "    </g>\n",
       "    <g clip-path=\"url(#p36729a0cc1)\">\n",
       "     <use xlink:href=\"#C0_0_43160a74d4\" x=\"244.821661\" y=\"19.554545\" style=\"fill: #a50026\"/>\n",
       "    </g>\n",
       "   </g>\n",
       "   <g id=\"matplotlib.axis_1\">\n",
       "    <g id=\"xtick_1\">\n",
       "     <g id=\"line2d_1\">\n",
       "      <defs>\n",
       "       <path id=\"m0552cf98ea\" d=\"M 0 0 \n",
       "L 0 3.5 \n",
       "\" style=\"stroke: #000000; stroke-width: 0.8\"/>\n",
       "      </defs>\n",
       "      <g>\n",
       "       <use xlink:href=\"#m0552cf98ea\" x=\"67.870986\" y=\"279\" style=\"stroke: #000000; stroke-width: 0.8\"/>\n",
       "      </g>\n",
       "     </g>\n",
       "     <g id=\"text_1\">\n",
       "      <!-- −4 -->\n",
       "      <g transform=\"translate(60.499892 293.598437)scale(0.1 -0.1)\">\n",
       "       <defs>\n",
       "        <path id=\"DejaVuSans-2212\" d=\"M 678 2272 \n",
       "L 4684 2272 \n",
       "L 4684 1741 \n",
       "L 678 1741 \n",
       "L 678 2272 \n",
       "z\n",
       "\" transform=\"scale(0.015625)\"/>\n",
       "        <path id=\"DejaVuSans-34\" d=\"M 2419 4116 \n",
       "L 825 1625 \n",
       "L 2419 1625 \n",
       "L 2419 4116 \n",
       "z\n",
       "M 2253 4666 \n",
       "L 3047 4666 \n",
       "L 3047 1625 \n",
       "L 3713 1625 \n",
       "L 3713 1100 \n",
       "L 3047 1100 \n",
       "L 3047 0 \n",
       "L 2419 0 \n",
       "L 2419 1100 \n",
       "L 313 1100 \n",
       "L 313 1709 \n",
       "L 2253 4666 \n",
       "z\n",
       "\" transform=\"scale(0.015625)\"/>\n",
       "       </defs>\n",
       "       <use xlink:href=\"#DejaVuSans-2212\"/>\n",
       "       <use xlink:href=\"#DejaVuSans-34\" x=\"83.789062\"/>\n",
       "      </g>\n",
       "     </g>\n",
       "    </g>\n",
       "    <g id=\"xtick_2\">\n",
       "     <g id=\"line2d_2\">\n",
       "      <g>\n",
       "       <use xlink:href=\"#m0552cf98ea\" x=\"102.425375\" y=\"279\" style=\"stroke: #000000; stroke-width: 0.8\"/>\n",
       "      </g>\n",
       "     </g>\n",
       "     <g id=\"text_2\">\n",
       "      <!-- −3 -->\n",
       "      <g transform=\"translate(95.054282 293.598437)scale(0.1 -0.1)\">\n",
       "       <defs>\n",
       "        <path id=\"DejaVuSans-33\" d=\"M 2597 2516 \n",
       "Q 3050 2419 3304 2112 \n",
       "Q 3559 1806 3559 1356 \n",
       "Q 3559 666 3084 287 \n",
       "Q 2609 -91 1734 -91 \n",
       "Q 1441 -91 1130 -33 \n",
       "Q 819 25 488 141 \n",
       "L 488 750 \n",
       "Q 750 597 1062 519 \n",
       "Q 1375 441 1716 441 \n",
       "Q 2309 441 2620 675 \n",
       "Q 2931 909 2931 1356 \n",
       "Q 2931 1769 2642 2001 \n",
       "Q 2353 2234 1838 2234 \n",
       "L 1294 2234 \n",
       "L 1294 2753 \n",
       "L 1863 2753 \n",
       "Q 2328 2753 2575 2939 \n",
       "Q 2822 3125 2822 3475 \n",
       "Q 2822 3834 2567 4026 \n",
       "Q 2313 4219 1838 4219 \n",
       "Q 1578 4219 1281 4162 \n",
       "Q 984 4106 628 3988 \n",
       "L 628 4550 \n",
       "Q 988 4650 1302 4700 \n",
       "Q 1616 4750 1894 4750 \n",
       "Q 2613 4750 3031 4423 \n",
       "Q 3450 4097 3450 3541 \n",
       "Q 3450 3153 3228 2886 \n",
       "Q 3006 2619 2597 2516 \n",
       "z\n",
       "\" transform=\"scale(0.015625)\"/>\n",
       "       </defs>\n",
       "       <use xlink:href=\"#DejaVuSans-2212\"/>\n",
       "       <use xlink:href=\"#DejaVuSans-33\" x=\"83.789062\"/>\n",
       "      </g>\n",
       "     </g>\n",
       "    </g>\n",
       "    <g id=\"xtick_3\">\n",
       "     <g id=\"line2d_3\">\n",
       "      <g>\n",
       "       <use xlink:href=\"#m0552cf98ea\" x=\"136.979765\" y=\"279\" style=\"stroke: #000000; stroke-width: 0.8\"/>\n",
       "      </g>\n",
       "     </g>\n",
       "     <g id=\"text_3\">\n",
       "      <!-- −2 -->\n",
       "      <g transform=\"translate(129.608671 293.598437)scale(0.1 -0.1)\">\n",
       "       <defs>\n",
       "        <path id=\"DejaVuSans-32\" d=\"M 1228 531 \n",
       "L 3431 531 \n",
       "L 3431 0 \n",
       "L 469 0 \n",
       "L 469 531 \n",
       "Q 828 903 1448 1529 \n",
       "Q 2069 2156 2228 2338 \n",
       "Q 2531 2678 2651 2914 \n",
       "Q 2772 3150 2772 3378 \n",
       "Q 2772 3750 2511 3984 \n",
       "Q 2250 4219 1831 4219 \n",
       "Q 1534 4219 1204 4116 \n",
       "Q 875 4013 500 3803 \n",
       "L 500 4441 \n",
       "Q 881 4594 1212 4672 \n",
       "Q 1544 4750 1819 4750 \n",
       "Q 2544 4750 2975 4387 \n",
       "Q 3406 4025 3406 3419 \n",
       "Q 3406 3131 3298 2873 \n",
       "Q 3191 2616 2906 2266 \n",
       "Q 2828 2175 2409 1742 \n",
       "Q 1991 1309 1228 531 \n",
       "z\n",
       "\" transform=\"scale(0.015625)\"/>\n",
       "       </defs>\n",
       "       <use xlink:href=\"#DejaVuSans-2212\"/>\n",
       "       <use xlink:href=\"#DejaVuSans-32\" x=\"83.789062\"/>\n",
       "      </g>\n",
       "     </g>\n",
       "    </g>\n",
       "    <g id=\"xtick_4\">\n",
       "     <g id=\"line2d_4\">\n",
       "      <g>\n",
       "       <use xlink:href=\"#m0552cf98ea\" x=\"171.534155\" y=\"279\" style=\"stroke: #000000; stroke-width: 0.8\"/>\n",
       "      </g>\n",
       "     </g>\n",
       "     <g id=\"text_4\">\n",
       "      <!-- −1 -->\n",
       "      <g transform=\"translate(164.163061 293.598437)scale(0.1 -0.1)\">\n",
       "       <defs>\n",
       "        <path id=\"DejaVuSans-31\" d=\"M 794 531 \n",
       "L 1825 531 \n",
       "L 1825 4091 \n",
       "L 703 3866 \n",
       "L 703 4441 \n",
       "L 1819 4666 \n",
       "L 2450 4666 \n",
       "L 2450 531 \n",
       "L 3481 531 \n",
       "L 3481 0 \n",
       "L 794 0 \n",
       "L 794 531 \n",
       "z\n",
       "\" transform=\"scale(0.015625)\"/>\n",
       "       </defs>\n",
       "       <use xlink:href=\"#DejaVuSans-2212\"/>\n",
       "       <use xlink:href=\"#DejaVuSans-31\" x=\"83.789062\"/>\n",
       "      </g>\n",
       "     </g>\n",
       "    </g>\n",
       "    <g id=\"xtick_5\">\n",
       "     <g id=\"line2d_5\">\n",
       "      <g>\n",
       "       <use xlink:href=\"#m0552cf98ea\" x=\"206.088544\" y=\"279\" style=\"stroke: #000000; stroke-width: 0.8\"/>\n",
       "      </g>\n",
       "     </g>\n",
       "     <g id=\"text_5\">\n",
       "      <!-- 0 -->\n",
       "      <g transform=\"translate(202.907294 293.598437)scale(0.1 -0.1)\">\n",
       "       <defs>\n",
       "        <path id=\"DejaVuSans-30\" d=\"M 2034 4250 \n",
       "Q 1547 4250 1301 3770 \n",
       "Q 1056 3291 1056 2328 \n",
       "Q 1056 1369 1301 889 \n",
       "Q 1547 409 2034 409 \n",
       "Q 2525 409 2770 889 \n",
       "Q 3016 1369 3016 2328 \n",
       "Q 3016 3291 2770 3770 \n",
       "Q 2525 4250 2034 4250 \n",
       "z\n",
       "M 2034 4750 \n",
       "Q 2819 4750 3233 4129 \n",
       "Q 3647 3509 3647 2328 \n",
       "Q 3647 1150 3233 529 \n",
       "Q 2819 -91 2034 -91 \n",
       "Q 1250 -91 836 529 \n",
       "Q 422 1150 422 2328 \n",
       "Q 422 3509 836 4129 \n",
       "Q 1250 4750 2034 4750 \n",
       "z\n",
       "\" transform=\"scale(0.015625)\"/>\n",
       "       </defs>\n",
       "       <use xlink:href=\"#DejaVuSans-30\"/>\n",
       "      </g>\n",
       "     </g>\n",
       "    </g>\n",
       "    <g id=\"xtick_6\">\n",
       "     <g id=\"line2d_6\">\n",
       "      <g>\n",
       "       <use xlink:href=\"#m0552cf98ea\" x=\"240.642934\" y=\"279\" style=\"stroke: #000000; stroke-width: 0.8\"/>\n",
       "      </g>\n",
       "     </g>\n",
       "     <g id=\"text_6\">\n",
       "      <!-- 1 -->\n",
       "      <g transform=\"translate(237.461684 293.598437)scale(0.1 -0.1)\">\n",
       "       <use xlink:href=\"#DejaVuSans-31\"/>\n",
       "      </g>\n",
       "     </g>\n",
       "    </g>\n",
       "    <g id=\"xtick_7\">\n",
       "     <g id=\"line2d_7\">\n",
       "      <g>\n",
       "       <use xlink:href=\"#m0552cf98ea\" x=\"275.197324\" y=\"279\" style=\"stroke: #000000; stroke-width: 0.8\"/>\n",
       "      </g>\n",
       "     </g>\n",
       "     <g id=\"text_7\">\n",
       "      <!-- 2 -->\n",
       "      <g transform=\"translate(272.016074 293.598437)scale(0.1 -0.1)\">\n",
       "       <use xlink:href=\"#DejaVuSans-32\"/>\n",
       "      </g>\n",
       "     </g>\n",
       "    </g>\n",
       "    <g id=\"xtick_8\">\n",
       "     <g id=\"line2d_8\">\n",
       "      <g>\n",
       "       <use xlink:href=\"#m0552cf98ea\" x=\"309.751713\" y=\"279\" style=\"stroke: #000000; stroke-width: 0.8\"/>\n",
       "      </g>\n",
       "     </g>\n",
       "     <g id=\"text_8\">\n",
       "      <!-- 3 -->\n",
       "      <g transform=\"translate(306.570463 293.598437)scale(0.1 -0.1)\">\n",
       "       <use xlink:href=\"#DejaVuSans-33\"/>\n",
       "      </g>\n",
       "     </g>\n",
       "    </g>\n",
       "    <g id=\"xtick_9\">\n",
       "     <g id=\"line2d_9\">\n",
       "      <g>\n",
       "       <use xlink:href=\"#m0552cf98ea\" x=\"344.306103\" y=\"279\" style=\"stroke: #000000; stroke-width: 0.8\"/>\n",
       "      </g>\n",
       "     </g>\n",
       "     <g id=\"text_9\">\n",
       "      <!-- 4 -->\n",
       "      <g transform=\"translate(341.124853 293.598437)scale(0.1 -0.1)\">\n",
       "       <use xlink:href=\"#DejaVuSans-34\"/>\n",
       "      </g>\n",
       "     </g>\n",
       "    </g>\n",
       "    <g id=\"text_10\">\n",
       "     <!-- $x_0$ -->\n",
       "     <g transform=\"translate(189.452131 307.276562)scale(0.1 -0.1)\">\n",
       "      <defs>\n",
       "       <path id=\"DejaVuSans-Oblique-78\" d=\"M 3841 3500 \n",
       "L 2234 1784 \n",
       "L 3219 0 \n",
       "L 2559 0 \n",
       "L 1819 1388 \n",
       "L 531 0 \n",
       "L -166 0 \n",
       "L 1556 1844 \n",
       "L 641 3500 \n",
       "L 1300 3500 \n",
       "L 1972 2234 \n",
       "L 3144 3500 \n",
       "L 3841 3500 \n",
       "z\n",
       "\" transform=\"scale(0.015625)\"/>\n",
       "      </defs>\n",
       "      <use xlink:href=\"#DejaVuSans-Oblique-78\" transform=\"translate(0 0.3125)\"/>\n",
       "      <use xlink:href=\"#DejaVuSans-30\" transform=\"translate(59.179688 -16.09375)scale(0.7)\"/>\n",
       "     </g>\n",
       "    </g>\n",
       "   </g>\n",
       "   <g id=\"matplotlib.axis_2\">\n",
       "    <g id=\"ytick_1\">\n",
       "     <g id=\"line2d_10\">\n",
       "      <defs>\n",
       "       <path id=\"m75861d42d4\" d=\"M 0 0 \n",
       "L -3.5 0 \n",
       "\" style=\"stroke: #000000; stroke-width: 0.8\"/>\n",
       "      </defs>\n",
       "      <g>\n",
       "       <use xlink:href=\"#m75861d42d4\" x=\"42.620312\" y=\"266.686715\" style=\"stroke: #000000; stroke-width: 0.8\"/>\n",
       "      </g>\n",
       "     </g>\n",
       "     <g id=\"text_11\">\n",
       "      <!-- −4 -->\n",
       "      <g transform=\"translate(20.878125 270.485934)scale(0.1 -0.1)\">\n",
       "       <use xlink:href=\"#DejaVuSans-2212\"/>\n",
       "       <use xlink:href=\"#DejaVuSans-34\" x=\"83.789062\"/>\n",
       "      </g>\n",
       "     </g>\n",
       "    </g>\n",
       "    <g id=\"ytick_2\">\n",
       "     <g id=\"line2d_11\">\n",
       "      <g>\n",
       "       <use xlink:href=\"#m75861d42d4\" x=\"42.620312\" y=\"232.129934\" style=\"stroke: #000000; stroke-width: 0.8\"/>\n",
       "      </g>\n",
       "     </g>\n",
       "     <g id=\"text_12\">\n",
       "      <!-- −3 -->\n",
       "      <g transform=\"translate(20.878125 235.929153)scale(0.1 -0.1)\">\n",
       "       <use xlink:href=\"#DejaVuSans-2212\"/>\n",
       "       <use xlink:href=\"#DejaVuSans-33\" x=\"83.789062\"/>\n",
       "      </g>\n",
       "     </g>\n",
       "    </g>\n",
       "    <g id=\"ytick_3\">\n",
       "     <g id=\"line2d_12\">\n",
       "      <g>\n",
       "       <use xlink:href=\"#m75861d42d4\" x=\"42.620312\" y=\"197.573153\" style=\"stroke: #000000; stroke-width: 0.8\"/>\n",
       "      </g>\n",
       "     </g>\n",
       "     <g id=\"text_13\">\n",
       "      <!-- −2 -->\n",
       "      <g transform=\"translate(20.878125 201.372372)scale(0.1 -0.1)\">\n",
       "       <use xlink:href=\"#DejaVuSans-2212\"/>\n",
       "       <use xlink:href=\"#DejaVuSans-32\" x=\"83.789062\"/>\n",
       "      </g>\n",
       "     </g>\n",
       "    </g>\n",
       "    <g id=\"ytick_4\">\n",
       "     <g id=\"line2d_13\">\n",
       "      <g>\n",
       "       <use xlink:href=\"#m75861d42d4\" x=\"42.620312\" y=\"163.016372\" style=\"stroke: #000000; stroke-width: 0.8\"/>\n",
       "      </g>\n",
       "     </g>\n",
       "     <g id=\"text_14\">\n",
       "      <!-- −1 -->\n",
       "      <g transform=\"translate(20.878125 166.81559)scale(0.1 -0.1)\">\n",
       "       <use xlink:href=\"#DejaVuSans-2212\"/>\n",
       "       <use xlink:href=\"#DejaVuSans-31\" x=\"83.789062\"/>\n",
       "      </g>\n",
       "     </g>\n",
       "    </g>\n",
       "    <g id=\"ytick_5\">\n",
       "     <g id=\"line2d_14\">\n",
       "      <g>\n",
       "       <use xlink:href=\"#m75861d42d4\" x=\"42.620312\" y=\"128.45959\" style=\"stroke: #000000; stroke-width: 0.8\"/>\n",
       "      </g>\n",
       "     </g>\n",
       "     <g id=\"text_15\">\n",
       "      <!-- 0 -->\n",
       "      <g transform=\"translate(29.257812 132.258809)scale(0.1 -0.1)\">\n",
       "       <use xlink:href=\"#DejaVuSans-30\"/>\n",
       "      </g>\n",
       "     </g>\n",
       "    </g>\n",
       "    <g id=\"ytick_6\">\n",
       "     <g id=\"line2d_15\">\n",
       "      <g>\n",
       "       <use xlink:href=\"#m75861d42d4\" x=\"42.620312\" y=\"93.902809\" style=\"stroke: #000000; stroke-width: 0.8\"/>\n",
       "      </g>\n",
       "     </g>\n",
       "     <g id=\"text_16\">\n",
       "      <!-- 1 -->\n",
       "      <g transform=\"translate(29.257812 97.702028)scale(0.1 -0.1)\">\n",
       "       <use xlink:href=\"#DejaVuSans-31\"/>\n",
       "      </g>\n",
       "     </g>\n",
       "    </g>\n",
       "    <g id=\"ytick_7\">\n",
       "     <g id=\"line2d_16\">\n",
       "      <g>\n",
       "       <use xlink:href=\"#m75861d42d4\" x=\"42.620312\" y=\"59.346028\" style=\"stroke: #000000; stroke-width: 0.8\"/>\n",
       "      </g>\n",
       "     </g>\n",
       "     <g id=\"text_17\">\n",
       "      <!-- 2 -->\n",
       "      <g transform=\"translate(29.257812 63.145246)scale(0.1 -0.1)\">\n",
       "       <use xlink:href=\"#DejaVuSans-32\"/>\n",
       "      </g>\n",
       "     </g>\n",
       "    </g>\n",
       "    <g id=\"ytick_8\">\n",
       "     <g id=\"line2d_17\">\n",
       "      <g>\n",
       "       <use xlink:href=\"#m75861d42d4\" x=\"42.620312\" y=\"24.789246\" style=\"stroke: #000000; stroke-width: 0.8\"/>\n",
       "      </g>\n",
       "     </g>\n",
       "     <g id=\"text_18\">\n",
       "      <!-- 3 -->\n",
       "      <g transform=\"translate(29.257812 28.588465)scale(0.1 -0.1)\">\n",
       "       <use xlink:href=\"#DejaVuSans-33\"/>\n",
       "      </g>\n",
       "     </g>\n",
       "    </g>\n",
       "    <g id=\"text_19\">\n",
       "     <!-- $x_1$ -->\n",
       "     <g transform=\"translate(14.798437 148.45)rotate(-90)scale(0.1 -0.1)\">\n",
       "      <use xlink:href=\"#DejaVuSans-Oblique-78\" transform=\"translate(0 0.3125)\"/>\n",
       "      <use xlink:href=\"#DejaVuSans-31\" transform=\"translate(59.179688 -16.09375)scale(0.7)\"/>\n",
       "     </g>\n",
       "    </g>\n",
       "   </g>\n",
       "   <g id=\"patch_3\">\n",
       "    <path d=\"M 42.620312 279 \n",
       "L 42.620312 7.2 \n",
       "\" style=\"fill: none; stroke: #000000; stroke-width: 0.8; stroke-linejoin: miter; stroke-linecap: square\"/>\n",
       "   </g>\n",
       "   <g id=\"patch_4\">\n",
       "    <path d=\"M 346.983949 279 \n",
       "L 346.983949 7.2 \n",
       "\" style=\"fill: none; stroke: #000000; stroke-width: 0.8; stroke-linejoin: miter; stroke-linecap: square\"/>\n",
       "   </g>\n",
       "   <g id=\"patch_5\">\n",
       "    <path d=\"M 42.620313 279 \n",
       "L 346.983949 279 \n",
       "\" style=\"fill: none; stroke: #000000; stroke-width: 0.8; stroke-linejoin: miter; stroke-linecap: square\"/>\n",
       "   </g>\n",
       "   <g id=\"patch_6\">\n",
       "    <path d=\"M 42.620313 7.2 \n",
       "L 346.983949 7.2 \n",
       "\" style=\"fill: none; stroke: #000000; stroke-width: 0.8; stroke-linejoin: miter; stroke-linecap: square\"/>\n",
       "   </g>\n",
       "  </g>\n",
       "  <g id=\"axes_2\">\n",
       "   <g id=\"patch_7\">\n",
       "    <path d=\"M 407.856676 279 \n",
       "L 712.220312 279 \n",
       "L 712.220312 7.2 \n",
       "L 407.856676 7.2 \n",
       "z\n",
       "\" style=\"fill: #ffffff\"/>\n",
       "   </g>\n",
       "   <g id=\"PathCollection_2\">\n",
       "    <defs>\n",
       "     <path id=\"C1_0_8c881b770a\" d=\"M 0 3.872983 \n",
       "C 1.027127 3.872983 2.012324 3.464901 2.738613 2.738613 \n",
       "C 3.464901 2.012324 3.872983 1.027127 3.872983 -0 \n",
       "C 3.872983 -1.027127 3.464901 -2.012324 2.738613 -2.738613 \n",
       "C 2.012324 -3.464901 1.027127 -3.872983 0 -3.872983 \n",
       "C -1.027127 -3.872983 -2.012324 -3.464901 -2.738613 -2.738613 \n",
       "C -3.464901 -2.012324 -3.872983 -1.027127 -3.872983 0 \n",
       "C -3.872983 1.027127 -3.464901 2.012324 -2.738613 2.738613 \n",
       "C -2.012324 3.464901 -1.027127 3.872983 0 3.872983 \n",
       "z\n",
       "\"/>\n",
       "    </defs>\n",
       "    <g clip-path=\"url(#p3b8e548717)\">\n",
       "     <use xlink:href=\"#C1_0_8c881b770a\" x=\"504.912471\" y=\"197.189928\" style=\"fill: #006837\"/>\n",
       "    </g>\n",
       "    <g clip-path=\"url(#p3b8e548717)\">\n",
       "     <use xlink:href=\"#C1_0_8c881b770a\" x=\"622.874386\" y=\"66.374351\" style=\"fill: #a50026\"/>\n",
       "    </g>\n",
       "    <g clip-path=\"url(#p3b8e548717)\">\n",
       "     <use xlink:href=\"#C1_0_8c881b770a\" x=\"542.186842\" y=\"211.863538\" style=\"fill: #006837\"/>\n",
       "    </g>\n",
       "    <g clip-path=\"url(#p3b8e548717)\">\n",
       "     <use xlink:href=\"#C1_0_8c881b770a\" x=\"601.961908\" y=\"88.664503\" style=\"fill: #a50026\"/>\n",
       "    </g>\n",
       "    <g clip-path=\"url(#p3b8e548717)\">\n",
       "     <use xlink:href=\"#C1_0_8c881b770a\" x=\"528.079738\" y=\"190.366584\" style=\"fill: #006837\"/>\n",
       "    </g>\n",
       "    <g clip-path=\"url(#p3b8e548717)\">\n",
       "     <use xlink:href=\"#C1_0_8c881b770a\" x=\"517.683635\" y=\"177.250891\" style=\"fill: #006837\"/>\n",
       "    </g>\n",
       "    <g clip-path=\"url(#p3b8e548717)\">\n",
       "     <use xlink:href=\"#C1_0_8c881b770a\" x=\"478.163045\" y=\"206.290507\" style=\"fill: #006837\"/>\n",
       "    </g>\n",
       "    <g clip-path=\"url(#p3b8e548717)\">\n",
       "     <use xlink:href=\"#C1_0_8c881b770a\" x=\"527.140051\" y=\"214.044248\" style=\"fill: #006837\"/>\n",
       "    </g>\n",
       "    <g clip-path=\"url(#p3b8e548717)\">\n",
       "     <use xlink:href=\"#C1_0_8c881b770a\" x=\"625.996602\" y=\"76.949045\" style=\"fill: #a50026\"/>\n",
       "    </g>\n",
       "    <g clip-path=\"url(#p3b8e548717)\">\n",
       "     <use xlink:href=\"#C1_0_8c881b770a\" x=\"467.328675\" y=\"250.920149\" style=\"fill: #006837\"/>\n",
       "    </g>\n",
       "    <g clip-path=\"url(#p3b8e548717)\">\n",
       "     <use xlink:href=\"#C1_0_8c881b770a\" x=\"489.911913\" y=\"203.11868\" style=\"fill: #006837\"/>\n",
       "    </g>\n",
       "    <g clip-path=\"url(#p3b8e548717)\">\n",
       "     <use xlink:href=\"#C1_0_8c881b770a\" x=\"560.002592\" y=\"163.522847\" style=\"fill: #006837\"/>\n",
       "    </g>\n",
       "    <g clip-path=\"url(#p3b8e548717)\">\n",
       "     <use xlink:href=\"#C1_0_8c881b770a\" x=\"628.537463\" y=\"49.114319\" style=\"fill: #a50026\"/>\n",
       "    </g>\n",
       "    <g clip-path=\"url(#p3b8e548717)\">\n",
       "     <use xlink:href=\"#C1_0_8c881b770a\" x=\"591.993528\" y=\"99.848682\" style=\"fill: #a50026\"/>\n",
       "    </g>\n",
       "    <g clip-path=\"url(#p3b8e548717)\">\n",
       "     <use xlink:href=\"#C1_0_8c881b770a\" x=\"642.632645\" y=\"91.997771\" style=\"fill: #a50026\"/>\n",
       "    </g>\n",
       "    <g clip-path=\"url(#p3b8e548717)\">\n",
       "     <use xlink:href=\"#C1_0_8c881b770a\" x=\"645.895052\" y=\"19.554545\" style=\"fill: #a50026\"/>\n",
       "    </g>\n",
       "    <g clip-path=\"url(#p3b8e548717)\">\n",
       "     <use xlink:href=\"#C1_0_8c881b770a\" x=\"463.866223\" y=\"237.352425\" style=\"fill: #006837\"/>\n",
       "    </g>\n",
       "    <g clip-path=\"url(#p3b8e548717)\">\n",
       "     <use xlink:href=\"#C1_0_8c881b770a\" x=\"650.211561\" y=\"102.783871\" style=\"fill: #a50026\"/>\n",
       "    </g>\n",
       "    <g clip-path=\"url(#p3b8e548717)\">\n",
       "     <use xlink:href=\"#C1_0_8c881b770a\" x=\"431.313411\" y=\"183.097428\" style=\"fill: #006837\"/>\n",
       "    </g>\n",
       "    <g clip-path=\"url(#p3b8e548717)\">\n",
       "     <use xlink:href=\"#C1_0_8c881b770a\" x=\"621.721725\" y=\"91.990568\" style=\"fill: #a50026\"/>\n",
       "    </g>\n",
       "    <g clip-path=\"url(#p3b8e548717)\">\n",
       "     <use xlink:href=\"#C1_0_8c881b770a\" x=\"623.146346\" y=\"116.104047\" style=\"fill: #a50026\"/>\n",
       "    </g>\n",
       "    <g clip-path=\"url(#p3b8e548717)\">\n",
       "     <use xlink:href=\"#C1_0_8c881b770a\" x=\"466.023665\" y=\"135.845162\" style=\"fill: #006837\"/>\n",
       "    </g>\n",
       "    <g clip-path=\"url(#p3b8e548717)\">\n",
       "     <use xlink:href=\"#C1_0_8c881b770a\" x=\"493.369433\" y=\"178.521412\" style=\"fill: #006837\"/>\n",
       "    </g>\n",
       "    <g clip-path=\"url(#p3b8e548717)\">\n",
       "     <use xlink:href=\"#C1_0_8c881b770a\" x=\"488.871299\" y=\"242.847075\" style=\"fill: #006837\"/>\n",
       "    </g>\n",
       "    <g clip-path=\"url(#p3b8e548717)\">\n",
       "     <use xlink:href=\"#C1_0_8c881b770a\" x=\"502.466189\" y=\"202.437919\" style=\"fill: #006837\"/>\n",
       "    </g>\n",
       "    <g clip-path=\"url(#p3b8e548717)\">\n",
       "     <use xlink:href=\"#C1_0_8c881b770a\" x=\"507.735465\" y=\"257.788004\" style=\"fill: #006837\"/>\n",
       "    </g>\n",
       "    <g clip-path=\"url(#p3b8e548717)\">\n",
       "     <use xlink:href=\"#C1_0_8c881b770a\" x=\"505.550665\" y=\"152.732753\" style=\"fill: #006837\"/>\n",
       "    </g>\n",
       "    <g clip-path=\"url(#p3b8e548717)\">\n",
       "     <use xlink:href=\"#C1_0_8c881b770a\" x=\"596.822287\" y=\"61.242521\" style=\"fill: #a50026\"/>\n",
       "    </g>\n",
       "    <g clip-path=\"url(#p3b8e548717)\">\n",
       "     <use xlink:href=\"#C1_0_8c881b770a\" x=\"486.970117\" y=\"176.449726\" style=\"fill: #006837\"/>\n",
       "    </g>\n",
       "    <g clip-path=\"url(#p3b8e548717)\">\n",
       "     <use xlink:href=\"#C1_0_8c881b770a\" x=\"631.756371\" y=\"111.218222\" style=\"fill: #a50026\"/>\n",
       "    </g>\n",
       "    <g clip-path=\"url(#p3b8e548717)\">\n",
       "     <use xlink:href=\"#C1_0_8c881b770a\" x=\"658.450185\" y=\"69.210035\" style=\"fill: #a50026\"/>\n",
       "    </g>\n",
       "    <g clip-path=\"url(#p3b8e548717)\">\n",
       "     <use xlink:href=\"#C1_0_8c881b770a\" x=\"456.520326\" y=\"238.022929\" style=\"fill: #006837\"/>\n",
       "    </g>\n",
       "    <g clip-path=\"url(#p3b8e548717)\">\n",
       "     <use xlink:href=\"#C1_0_8c881b770a\" x=\"579.997875\" y=\"66.555833\" style=\"fill: #a50026\"/>\n",
       "    </g>\n",
       "    <g clip-path=\"url(#p3b8e548717)\">\n",
       "     <use xlink:href=\"#C1_0_8c881b770a\" x=\"528.477597\" y=\"231.607497\" style=\"fill: #006837\"/>\n",
       "    </g>\n",
       "    <g clip-path=\"url(#p3b8e548717)\">\n",
       "     <use xlink:href=\"#C1_0_8c881b770a\" x=\"576.574449\" y=\"78.288898\" style=\"fill: #a50026\"/>\n",
       "    </g>\n",
       "    <g clip-path=\"url(#p3b8e548717)\">\n",
       "     <use xlink:href=\"#C1_0_8c881b770a\" x=\"491.780739\" y=\"196.788897\" style=\"fill: #006837\"/>\n",
       "    </g>\n",
       "    <g clip-path=\"url(#p3b8e548717)\">\n",
       "     <use xlink:href=\"#C1_0_8c881b770a\" x=\"633.421632\" y=\"78.955945\" style=\"fill: #a50026\"/>\n",
       "    </g>\n",
       "    <g clip-path=\"url(#p3b8e548717)\">\n",
       "     <use xlink:href=\"#C1_0_8c881b770a\" x=\"627.47008\" y=\"121.524562\" style=\"fill: #a50026\"/>\n",
       "    </g>\n",
       "    <g clip-path=\"url(#p3b8e548717)\">\n",
       "     <use xlink:href=\"#C1_0_8c881b770a\" x=\"632.676161\" y=\"105.359209\" style=\"fill: #a50026\"/>\n",
       "    </g>\n",
       "    <g clip-path=\"url(#p3b8e548717)\">\n",
       "     <use xlink:href=\"#C1_0_8c881b770a\" x=\"531.407228\" y=\"201.923312\" style=\"fill: #006837\"/>\n",
       "    </g>\n",
       "    <g clip-path=\"url(#p3b8e548717)\">\n",
       "     <use xlink:href=\"#C1_0_8c881b770a\" x=\"444.040621\" y=\"248.947296\" style=\"fill: #006837\"/>\n",
       "    </g>\n",
       "    <g clip-path=\"url(#p3b8e548717)\">\n",
       "     <use xlink:href=\"#C1_0_8c881b770a\" x=\"524.783255\" y=\"197.804201\" style=\"fill: #006837\"/>\n",
       "    </g>\n",
       "    <g clip-path=\"url(#p3b8e548717)\">\n",
       "     <use xlink:href=\"#C1_0_8c881b770a\" x=\"511.747518\" y=\"176.446738\" style=\"fill: #006837\"/>\n",
       "    </g>\n",
       "    <g clip-path=\"url(#p3b8e548717)\">\n",
       "     <use xlink:href=\"#C1_0_8c881b770a\" x=\"552.375286\" y=\"220.237733\" style=\"fill: #006837\"/>\n",
       "    </g>\n",
       "    <g clip-path=\"url(#p3b8e548717)\">\n",
       "     <use xlink:href=\"#C1_0_8c881b770a\" x=\"469.113062\" y=\"182.249886\" style=\"fill: #006837\"/>\n",
       "    </g>\n",
       "    <g clip-path=\"url(#p3b8e548717)\">\n",
       "     <use xlink:href=\"#C1_0_8c881b770a\" x=\"647.360371\" y=\"98.717289\" style=\"fill: #a50026\"/>\n",
       "    </g>\n",
       "    <g clip-path=\"url(#p3b8e548717)\">\n",
       "     <use xlink:href=\"#C1_0_8c881b770a\" x=\"490.338676\" y=\"172.690904\" style=\"fill: #006837\"/>\n",
       "    </g>\n",
       "    <g clip-path=\"url(#p3b8e548717)\">\n",
       "     <use xlink:href=\"#C1_0_8c881b770a\" x=\"592.625632\" y=\"118.71533\" style=\"fill: #a50026\"/>\n",
       "    </g>\n",
       "    <g clip-path=\"url(#p3b8e548717)\">\n",
       "     <use xlink:href=\"#C1_0_8c881b770a\" x=\"583.053585\" y=\"75.31306\" style=\"fill: #a50026\"/>\n",
       "    </g>\n",
       "    <g clip-path=\"url(#p3b8e548717)\">\n",
       "     <use xlink:href=\"#C1_0_8c881b770a\" x=\"639.543314\" y=\"102.180473\" style=\"fill: #a50026\"/>\n",
       "    </g>\n",
       "    <g clip-path=\"url(#p3b8e548717)\">\n",
       "     <use xlink:href=\"#C1_0_8c881b770a\" x=\"482.687302\" y=\"147.867427\" style=\"fill: #006837\"/>\n",
       "    </g>\n",
       "    <g clip-path=\"url(#p3b8e548717)\">\n",
       "     <use xlink:href=\"#C1_0_8c881b770a\" x=\"520.044474\" y=\"193.397132\" style=\"fill: #006837\"/>\n",
       "    </g>\n",
       "    <g clip-path=\"url(#p3b8e548717)\">\n",
       "     <use xlink:href=\"#C1_0_8c881b770a\" x=\"642.119288\" y=\"81.655855\" style=\"fill: #a50026\"/>\n",
       "    </g>\n",
       "    <g clip-path=\"url(#p3b8e548717)\">\n",
       "     <use xlink:href=\"#C1_0_8c881b770a\" x=\"612.82419\" y=\"73.224269\" style=\"fill: #a50026\"/>\n",
       "    </g>\n",
       "    <g clip-path=\"url(#p3b8e548717)\">\n",
       "     <use xlink:href=\"#C1_0_8c881b770a\" x=\"486.842737\" y=\"226.891748\" style=\"fill: #006837\"/>\n",
       "    </g>\n",
       "    <g clip-path=\"url(#p3b8e548717)\">\n",
       "     <use xlink:href=\"#C1_0_8c881b770a\" x=\"578.43848\" y=\"151.047691\" style=\"fill: #a50026\"/>\n",
       "    </g>\n",
       "    <g clip-path=\"url(#p3b8e548717)\">\n",
       "     <use xlink:href=\"#C1_0_8c881b770a\" x=\"622.869101\" y=\"57.554633\" style=\"fill: #a50026\"/>\n",
       "    </g>\n",
       "    <g clip-path=\"url(#p3b8e548717)\">\n",
       "     <use xlink:href=\"#C1_0_8c881b770a\" x=\"610.31244\" y=\"94.23012\" style=\"fill: #a50026\"/>\n",
       "    </g>\n",
       "    <g clip-path=\"url(#p3b8e548717)\">\n",
       "     <use xlink:href=\"#C1_0_8c881b770a\" x=\"484.598973\" y=\"244.274017\" style=\"fill: #006837\"/>\n",
       "    </g>\n",
       "    <g clip-path=\"url(#p3b8e548717)\">\n",
       "     <use xlink:href=\"#C1_0_8c881b770a\" x=\"620.530196\" y=\"106.89474\" style=\"fill: #a50026\"/>\n",
       "    </g>\n",
       "    <g clip-path=\"url(#p3b8e548717)\">\n",
       "     <use xlink:href=\"#C1_0_8c881b770a\" x=\"572.591345\" y=\"102.124229\" style=\"fill: #a50026\"/>\n",
       "    </g>\n",
       "    <g clip-path=\"url(#p3b8e548717)\">\n",
       "     <use xlink:href=\"#C1_0_8c881b770a\" x=\"458.674828\" y=\"197.898715\" style=\"fill: #006837\"/>\n",
       "    </g>\n",
       "    <g clip-path=\"url(#p3b8e548717)\">\n",
       "     <use xlink:href=\"#C1_0_8c881b770a\" x=\"618.591718\" y=\"121.92549\" style=\"fill: #a50026\"/>\n",
       "    </g>\n",
       "    <g clip-path=\"url(#p3b8e548717)\">\n",
       "     <use xlink:href=\"#C1_0_8c881b770a\" x=\"647.840674\" y=\"94.895617\" style=\"fill: #a50026\"/>\n",
       "    </g>\n",
       "    <g clip-path=\"url(#p3b8e548717)\">\n",
       "     <use xlink:href=\"#C1_0_8c881b770a\" x=\"437.051674\" y=\"205.829898\" style=\"fill: #006837\"/>\n",
       "    </g>\n",
       "    <g clip-path=\"url(#p3b8e548717)\">\n",
       "     <use xlink:href=\"#C1_0_8c881b770a\" x=\"607.259699\" y=\"88.004997\" style=\"fill: #a50026\"/>\n",
       "    </g>\n",
       "    <g clip-path=\"url(#p3b8e548717)\">\n",
       "     <use xlink:href=\"#C1_0_8c881b770a\" x=\"540.665573\" y=\"189.088675\" style=\"fill: #006837\"/>\n",
       "    </g>\n",
       "    <g clip-path=\"url(#p3b8e548717)\">\n",
       "     <use xlink:href=\"#C1_0_8c881b770a\" x=\"535.361431\" y=\"208.890292\" style=\"fill: #006837\"/>\n",
       "    </g>\n",
       "    <g clip-path=\"url(#p3b8e548717)\">\n",
       "     <use xlink:href=\"#C1_0_8c881b770a\" x=\"596.884647\" y=\"102.981278\" style=\"fill: #a50026\"/>\n",
       "    </g>\n",
       "    <g clip-path=\"url(#p3b8e548717)\">\n",
       "     <use xlink:href=\"#C1_0_8c881b770a\" x=\"455.719184\" y=\"219.775851\" style=\"fill: #006837\"/>\n",
       "    </g>\n",
       "    <g clip-path=\"url(#p3b8e548717)\">\n",
       "     <use xlink:href=\"#C1_0_8c881b770a\" x=\"580.534492\" y=\"95.779923\" style=\"fill: #a50026\"/>\n",
       "    </g>\n",
       "    <g clip-path=\"url(#p3b8e548717)\">\n",
       "     <use xlink:href=\"#C1_0_8c881b770a\" x=\"611.211814\" y=\"74.777644\" style=\"fill: #a50026\"/>\n",
       "    </g>\n",
       "    <g clip-path=\"url(#p3b8e548717)\">\n",
       "     <use xlink:href=\"#C1_0_8c881b770a\" x=\"610.899042\" y=\"133.961216\" style=\"fill: #a50026\"/>\n",
       "    </g>\n",
       "    <g clip-path=\"url(#p3b8e548717)\">\n",
       "     <use xlink:href=\"#C1_0_8c881b770a\" x=\"493.542164\" y=\"207.136819\" style=\"fill: #006837\"/>\n",
       "    </g>\n",
       "    <g clip-path=\"url(#p3b8e548717)\">\n",
       "     <use xlink:href=\"#C1_0_8c881b770a\" x=\"456.278392\" y=\"182.317439\" style=\"fill: #006837\"/>\n",
       "    </g>\n",
       "    <g clip-path=\"url(#p3b8e548717)\">\n",
       "     <use xlink:href=\"#C1_0_8c881b770a\" x=\"567.936581\" y=\"129.363206\" style=\"fill: #a50026\"/>\n",
       "    </g>\n",
       "    <g clip-path=\"url(#p3b8e548717)\">\n",
       "     <use xlink:href=\"#C1_0_8c881b770a\" x=\"605.930069\" y=\"133.818123\" style=\"fill: #a50026\"/>\n",
       "    </g>\n",
       "    <g clip-path=\"url(#p3b8e548717)\">\n",
       "     <use xlink:href=\"#C1_0_8c881b770a\" x=\"610.534087\" y=\"109.369614\" style=\"fill: #a50026\"/>\n",
       "    </g>\n",
       "    <g clip-path=\"url(#p3b8e548717)\">\n",
       "     <use xlink:href=\"#C1_0_8c881b770a\" x=\"581.878947\" y=\"126.080742\" style=\"fill: #a50026\"/>\n",
       "    </g>\n",
       "    <g clip-path=\"url(#p3b8e548717)\">\n",
       "     <use xlink:href=\"#C1_0_8c881b770a\" x=\"514.418108\" y=\"188.992122\" style=\"fill: #006837\"/>\n",
       "    </g>\n",
       "    <g clip-path=\"url(#p3b8e548717)\">\n",
       "     <use xlink:href=\"#C1_0_8c881b770a\" x=\"441.887795\" y=\"200.039386\" style=\"fill: #006837\"/>\n",
       "    </g>\n",
       "    <g clip-path=\"url(#p3b8e548717)\">\n",
       "     <use xlink:href=\"#C1_0_8c881b770a\" x=\"604.549065\" y=\"96.193689\" style=\"fill: #a50026\"/>\n",
       "    </g>\n",
       "    <g clip-path=\"url(#p3b8e548717)\">\n",
       "     <use xlink:href=\"#C1_0_8c881b770a\" x=\"606.72565\" y=\"109.452762\" style=\"fill: #a50026\"/>\n",
       "    </g>\n",
       "    <g clip-path=\"url(#p3b8e548717)\">\n",
       "     <use xlink:href=\"#C1_0_8c881b770a\" x=\"581.599523\" y=\"46.935417\" style=\"fill: #a50026\"/>\n",
       "    </g>\n",
       "    <g clip-path=\"url(#p3b8e548717)\">\n",
       "     <use xlink:href=\"#C1_0_8c881b770a\" x=\"511.790738\" y=\"161.246115\" style=\"fill: #006837\"/>\n",
       "    </g>\n",
       "    <g clip-path=\"url(#p3b8e548717)\">\n",
       "     <use xlink:href=\"#C1_0_8c881b770a\" x=\"456.79721\" y=\"172.830137\" style=\"fill: #006837\"/>\n",
       "    </g>\n",
       "    <g clip-path=\"url(#p3b8e548717)\">\n",
       "     <use xlink:href=\"#C1_0_8c881b770a\" x=\"597.76024\" y=\"138.063427\" style=\"fill: #a50026\"/>\n",
       "    </g>\n",
       "    <g clip-path=\"url(#p3b8e548717)\">\n",
       "     <use xlink:href=\"#C1_0_8c881b770a\" x=\"573.337158\" y=\"154.526931\" style=\"fill: #a50026\"/>\n",
       "    </g>\n",
       "    <g clip-path=\"url(#p3b8e548717)\">\n",
       "     <use xlink:href=\"#C1_0_8c881b770a\" x=\"473.60683\" y=\"172.32035\" style=\"fill: #006837\"/>\n",
       "    </g>\n",
       "    <g clip-path=\"url(#p3b8e548717)\">\n",
       "     <use xlink:href=\"#C1_0_8c881b770a\" x=\"624.894334\" y=\"106.435919\" style=\"fill: #a50026\"/>\n",
       "    </g>\n",
       "    <g clip-path=\"url(#p3b8e548717)\">\n",
       "     <use xlink:href=\"#C1_0_8c881b770a\" x=\"469.089255\" y=\"218.722388\" style=\"fill: #006837\"/>\n",
       "    </g>\n",
       "    <g clip-path=\"url(#p3b8e548717)\">\n",
       "     <use xlink:href=\"#C1_0_8c881b770a\" x=\"633.442537\" y=\"62.90306\" style=\"fill: #a50026\"/>\n",
       "    </g>\n",
       "    <g clip-path=\"url(#p3b8e548717)\">\n",
       "     <use xlink:href=\"#C1_0_8c881b770a\" x=\"491.548537\" y=\"214.650011\" style=\"fill: #006837\"/>\n",
       "    </g>\n",
       "    <g clip-path=\"url(#p3b8e548717)\">\n",
       "     <use xlink:href=\"#C1_0_8c881b770a\" x=\"583.459331\" y=\"126.497457\" style=\"fill: #a50026\"/>\n",
       "    </g>\n",
       "    <g clip-path=\"url(#p3b8e548717)\">\n",
       "     <use xlink:href=\"#C1_0_8c881b770a\" x=\"629.224139\" y=\"80.103701\" style=\"fill: #a50026\"/>\n",
       "    </g>\n",
       "    <g clip-path=\"url(#p3b8e548717)\">\n",
       "     <use xlink:href=\"#C1_0_8c881b770a\" x=\"479.262071\" y=\"228.989867\" style=\"fill: #006837\"/>\n",
       "    </g>\n",
       "    <g clip-path=\"url(#p3b8e548717)\">\n",
       "     <use xlink:href=\"#C1_0_8c881b770a\" x=\"516.701945\" y=\"181.816132\" style=\"fill: #006837\"/>\n",
       "    </g>\n",
       "    <g clip-path=\"url(#p3b8e548717)\">\n",
       "     <use xlink:href=\"#C1_0_8c881b770a\" x=\"433.992612\" y=\"207.600575\" style=\"fill: #006837\"/>\n",
       "    </g>\n",
       "    <g clip-path=\"url(#p3b8e548717)\">\n",
       "     <use xlink:href=\"#C1_0_8c881b770a\" x=\"687.187695\" y=\"60.367585\" style=\"fill: #a50026\"/>\n",
       "    </g>\n",
       "    <g clip-path=\"url(#p3b8e548717)\">\n",
       "     <use xlink:href=\"#C1_0_8c881b770a\" x=\"507.400774\" y=\"156.075909\" style=\"fill: #006837\"/>\n",
       "    </g>\n",
       "    <g clip-path=\"url(#p3b8e548717)\">\n",
       "     <use xlink:href=\"#C1_0_8c881b770a\" x=\"618.012855\" y=\"83.594182\" style=\"fill: #a50026\"/>\n",
       "    </g>\n",
       "    <g clip-path=\"url(#p3b8e548717)\">\n",
       "     <use xlink:href=\"#C1_0_8c881b770a\" x=\"487.449883\" y=\"207.33135\" style=\"fill: #006837\"/>\n",
       "    </g>\n",
       "    <g clip-path=\"url(#p3b8e548717)\">\n",
       "     <use xlink:href=\"#C1_0_8c881b770a\" x=\"664.263295\" y=\"80.753814\" style=\"fill: #a50026\"/>\n",
       "    </g>\n",
       "    <g clip-path=\"url(#p3b8e548717)\">\n",
       "     <use xlink:href=\"#C1_0_8c881b770a\" x=\"592.673717\" y=\"121.71708\" style=\"fill: #a50026\"/>\n",
       "    </g>\n",
       "    <g clip-path=\"url(#p3b8e548717)\">\n",
       "     <use xlink:href=\"#C1_0_8c881b770a\" x=\"533.393567\" y=\"209.855465\" style=\"fill: #006837\"/>\n",
       "    </g>\n",
       "    <g clip-path=\"url(#p3b8e548717)\">\n",
       "     <use xlink:href=\"#C1_0_8c881b770a\" x=\"598.990159\" y=\"103.381316\" style=\"fill: #a50026\"/>\n",
       "    </g>\n",
       "    <g clip-path=\"url(#p3b8e548717)\">\n",
       "     <use xlink:href=\"#C1_0_8c881b770a\" x=\"495.545405\" y=\"219.562249\" style=\"fill: #006837\"/>\n",
       "    </g>\n",
       "    <g clip-path=\"url(#p3b8e548717)\">\n",
       "     <use xlink:href=\"#C1_0_8c881b770a\" x=\"627.190476\" y=\"110.996348\" style=\"fill: #a50026\"/>\n",
       "    </g>\n",
       "    <g clip-path=\"url(#p3b8e548717)\">\n",
       "     <use xlink:href=\"#C1_0_8c881b770a\" x=\"582.11015\" y=\"118.257208\" style=\"fill: #a50026\"/>\n",
       "    </g>\n",
       "    <g clip-path=\"url(#p3b8e548717)\">\n",
       "     <use xlink:href=\"#C1_0_8c881b770a\" x=\"549.093635\" y=\"169.537007\" style=\"fill: #006837\"/>\n",
       "    </g>\n",
       "    <g clip-path=\"url(#p3b8e548717)\">\n",
       "     <use xlink:href=\"#C1_0_8c881b770a\" x=\"630.323783\" y=\"120.227667\" style=\"fill: #a50026\"/>\n",
       "    </g>\n",
       "    <g clip-path=\"url(#p3b8e548717)\">\n",
       "     <use xlink:href=\"#C1_0_8c881b770a\" x=\"676.060983\" y=\"79.681333\" style=\"fill: #a50026\"/>\n",
       "    </g>\n",
       "    <g clip-path=\"url(#p3b8e548717)\">\n",
       "     <use xlink:href=\"#C1_0_8c881b770a\" x=\"560.813778\" y=\"75.426134\" style=\"fill: #a50026\"/>\n",
       "    </g>\n",
       "    <g clip-path=\"url(#p3b8e548717)\">\n",
       "     <use xlink:href=\"#C1_0_8c881b770a\" x=\"596.713907\" y=\"106.902518\" style=\"fill: #a50026\"/>\n",
       "    </g>\n",
       "    <g clip-path=\"url(#p3b8e548717)\">\n",
       "     <use xlink:href=\"#C1_0_8c881b770a\" x=\"574.037601\" y=\"138.288978\" style=\"fill: #a50026\"/>\n",
       "    </g>\n",
       "    <g clip-path=\"url(#p3b8e548717)\">\n",
       "     <use xlink:href=\"#C1_0_8c881b770a\" x=\"627.461318\" y=\"40.684356\" style=\"fill: #a50026\"/>\n",
       "    </g>\n",
       "    <g clip-path=\"url(#p3b8e548717)\">\n",
       "     <use xlink:href=\"#C1_0_8c881b770a\" x=\"497.941304\" y=\"232.538505\" style=\"fill: #006837\"/>\n",
       "    </g>\n",
       "    <g clip-path=\"url(#p3b8e548717)\">\n",
       "     <use xlink:href=\"#C1_0_8c881b770a\" x=\"460.429056\" y=\"257.952552\" style=\"fill: #006837\"/>\n",
       "    </g>\n",
       "    <g clip-path=\"url(#p3b8e548717)\">\n",
       "     <use xlink:href=\"#C1_0_8c881b770a\" x=\"463.16775\" y=\"223.135479\" style=\"fill: #006837\"/>\n",
       "    </g>\n",
       "    <g clip-path=\"url(#p3b8e548717)\">\n",
       "     <use xlink:href=\"#C1_0_8c881b770a\" x=\"616.666985\" y=\"91.148728\" style=\"fill: #a50026\"/>\n",
       "    </g>\n",
       "    <g clip-path=\"url(#p3b8e548717)\">\n",
       "     <use xlink:href=\"#C1_0_8c881b770a\" x=\"550.724523\" y=\"266.645455\" style=\"fill: #006837\"/>\n",
       "    </g>\n",
       "    <g clip-path=\"url(#p3b8e548717)\">\n",
       "     <use xlink:href=\"#C1_0_8c881b770a\" x=\"607.434208\" y=\"128.840657\" style=\"fill: #a50026\"/>\n",
       "    </g>\n",
       "    <g clip-path=\"url(#p3b8e548717)\">\n",
       "     <use xlink:href=\"#C1_0_8c881b770a\" x=\"578.398994\" y=\"50.026104\" style=\"fill: #a50026\"/>\n",
       "    </g>\n",
       "    <g clip-path=\"url(#p3b8e548717)\">\n",
       "     <use xlink:href=\"#C1_0_8c881b770a\" x=\"500.70776\" y=\"186.72423\" style=\"fill: #006837\"/>\n",
       "    </g>\n",
       "    <g clip-path=\"url(#p3b8e548717)\">\n",
       "     <use xlink:href=\"#C1_0_8c881b770a\" x=\"698.385602\" y=\"75.335957\" style=\"fill: #a50026\"/>\n",
       "    </g>\n",
       "    <g clip-path=\"url(#p3b8e548717)\">\n",
       "     <use xlink:href=\"#C1_0_8c881b770a\" x=\"468.517073\" y=\"181.870235\" style=\"fill: #006837\"/>\n",
       "    </g>\n",
       "    <g clip-path=\"url(#p3b8e548717)\">\n",
       "     <use xlink:href=\"#C1_0_8c881b770a\" x=\"611.040634\" y=\"106.325605\" style=\"fill: #a50026\"/>\n",
       "    </g>\n",
       "    <g clip-path=\"url(#p3b8e548717)\">\n",
       "     <use xlink:href=\"#C1_0_8c881b770a\" x=\"460.788925\" y=\"242.958533\" style=\"fill: #006837\"/>\n",
       "    </g>\n",
       "    <g clip-path=\"url(#p3b8e548717)\">\n",
       "     <use xlink:href=\"#C1_0_8c881b770a\" x=\"492.254655\" y=\"192.271106\" style=\"fill: #006837\"/>\n",
       "    </g>\n",
       "    <g clip-path=\"url(#p3b8e548717)\">\n",
       "     <use xlink:href=\"#C1_0_8c881b770a\" x=\"525.799977\" y=\"220.235622\" style=\"fill: #006837\"/>\n",
       "    </g>\n",
       "    <g clip-path=\"url(#p3b8e548717)\">\n",
       "     <use xlink:href=\"#C1_0_8c881b770a\" x=\"645.873479\" y=\"102.912045\" style=\"fill: #a50026\"/>\n",
       "    </g>\n",
       "    <g clip-path=\"url(#p3b8e548717)\">\n",
       "     <use xlink:href=\"#C1_0_8c881b770a\" x=\"604.581637\" y=\"107.146583\" style=\"fill: #a50026\"/>\n",
       "    </g>\n",
       "    <g clip-path=\"url(#p3b8e548717)\">\n",
       "     <use xlink:href=\"#C1_0_8c881b770a\" x=\"622.651372\" y=\"114.4776\" style=\"fill: #a50026\"/>\n",
       "    </g>\n",
       "    <g clip-path=\"url(#p3b8e548717)\">\n",
       "     <use xlink:href=\"#C1_0_8c881b770a\" x=\"518.386868\" y=\"206.769455\" style=\"fill: #006837\"/>\n",
       "    </g>\n",
       "    <g clip-path=\"url(#p3b8e548717)\">\n",
       "     <use xlink:href=\"#C1_0_8c881b770a\" x=\"459.870921\" y=\"201.625889\" style=\"fill: #006837\"/>\n",
       "    </g>\n",
       "    <g clip-path=\"url(#p3b8e548717)\">\n",
       "     <use xlink:href=\"#C1_0_8c881b770a\" x=\"514.940803\" y=\"137.454233\" style=\"fill: #006837\"/>\n",
       "    </g>\n",
       "    <g clip-path=\"url(#p3b8e548717)\">\n",
       "     <use xlink:href=\"#C1_0_8c881b770a\" x=\"458.194694\" y=\"172.709457\" style=\"fill: #006837\"/>\n",
       "    </g>\n",
       "    <g clip-path=\"url(#p3b8e548717)\">\n",
       "     <use xlink:href=\"#C1_0_8c881b770a\" x=\"421.691387\" y=\"225.361264\" style=\"fill: #006837\"/>\n",
       "    </g>\n",
       "    <g clip-path=\"url(#p3b8e548717)\">\n",
       "     <use xlink:href=\"#C1_0_8c881b770a\" x=\"469.476864\" y=\"232.728767\" style=\"fill: #006837\"/>\n",
       "    </g>\n",
       "    <g clip-path=\"url(#p3b8e548717)\">\n",
       "     <use xlink:href=\"#C1_0_8c881b770a\" x=\"514.039301\" y=\"180.691362\" style=\"fill: #006837\"/>\n",
       "    </g>\n",
       "    <g clip-path=\"url(#p3b8e548717)\">\n",
       "     <use xlink:href=\"#C1_0_8c881b770a\" x=\"625.089116\" y=\"113.885861\" style=\"fill: #a50026\"/>\n",
       "    </g>\n",
       "    <g clip-path=\"url(#p3b8e548717)\">\n",
       "     <use xlink:href=\"#C1_0_8c881b770a\" x=\"588.733572\" y=\"101.821717\" style=\"fill: #a50026\"/>\n",
       "    </g>\n",
       "    <g clip-path=\"url(#p3b8e548717)\">\n",
       "     <use xlink:href=\"#C1_0_8c881b770a\" x=\"502.517093\" y=\"180.853216\" style=\"fill: #006837\"/>\n",
       "    </g>\n",
       "    <g clip-path=\"url(#p3b8e548717)\">\n",
       "     <use xlink:href=\"#C1_0_8c881b770a\" x=\"487.360048\" y=\"235.003625\" style=\"fill: #006837\"/>\n",
       "    </g>\n",
       "    <g clip-path=\"url(#p3b8e548717)\">\n",
       "     <use xlink:href=\"#C1_0_8c881b770a\" x=\"519.012783\" y=\"211.792439\" style=\"fill: #006837\"/>\n",
       "    </g>\n",
       "    <g clip-path=\"url(#p3b8e548717)\">\n",
       "     <use xlink:href=\"#C1_0_8c881b770a\" x=\"632.347208\" y=\"87.243043\" style=\"fill: #a50026\"/>\n",
       "    </g>\n",
       "    <g clip-path=\"url(#p3b8e548717)\">\n",
       "     <use xlink:href=\"#C1_0_8c881b770a\" x=\"577.078651\" y=\"57.797221\" style=\"fill: #a50026\"/>\n",
       "    </g>\n",
       "    <g clip-path=\"url(#p3b8e548717)\">\n",
       "     <use xlink:href=\"#C1_0_8c881b770a\" x=\"508.228568\" y=\"192.517698\" style=\"fill: #006837\"/>\n",
       "    </g>\n",
       "    <g clip-path=\"url(#p3b8e548717)\">\n",
       "     <use xlink:href=\"#C1_0_8c881b770a\" x=\"497.319501\" y=\"174.313528\" style=\"fill: #006837\"/>\n",
       "    </g>\n",
       "    <g clip-path=\"url(#p3b8e548717)\">\n",
       "     <use xlink:href=\"#C1_0_8c881b770a\" x=\"651.858961\" y=\"99.77724\" style=\"fill: #a50026\"/>\n",
       "    </g>\n",
       "   </g>\n",
       "   <g id=\"matplotlib.axis_3\">\n",
       "    <g id=\"xtick_10\">\n",
       "     <g id=\"line2d_18\">\n",
       "      <g>\n",
       "       <use xlink:href=\"#m0552cf98ea\" x=\"432.498362\" y=\"279\" style=\"stroke: #000000; stroke-width: 0.8\"/>\n",
       "      </g>\n",
       "     </g>\n",
       "     <g id=\"text_20\">\n",
       "      <!-- −4 -->\n",
       "      <g transform=\"translate(425.127268 293.598437)scale(0.1 -0.1)\">\n",
       "       <use xlink:href=\"#DejaVuSans-2212\"/>\n",
       "       <use xlink:href=\"#DejaVuSans-34\" x=\"83.789062\"/>\n",
       "      </g>\n",
       "     </g>\n",
       "    </g>\n",
       "    <g id=\"xtick_11\">\n",
       "     <g id=\"line2d_19\">\n",
       "      <g>\n",
       "       <use xlink:href=\"#m0552cf98ea\" x=\"494.156844\" y=\"279\" style=\"stroke: #000000; stroke-width: 0.8\"/>\n",
       "      </g>\n",
       "     </g>\n",
       "     <g id=\"text_21\">\n",
       "      <!-- −2 -->\n",
       "      <g transform=\"translate(486.785751 293.598437)scale(0.1 -0.1)\">\n",
       "       <use xlink:href=\"#DejaVuSans-2212\"/>\n",
       "       <use xlink:href=\"#DejaVuSans-32\" x=\"83.789062\"/>\n",
       "      </g>\n",
       "     </g>\n",
       "    </g>\n",
       "    <g id=\"xtick_12\">\n",
       "     <g id=\"line2d_20\">\n",
       "      <g>\n",
       "       <use xlink:href=\"#m0552cf98ea\" x=\"555.815327\" y=\"279\" style=\"stroke: #000000; stroke-width: 0.8\"/>\n",
       "      </g>\n",
       "     </g>\n",
       "     <g id=\"text_22\">\n",
       "      <!-- 0 -->\n",
       "      <g transform=\"translate(552.634077 293.598437)scale(0.1 -0.1)\">\n",
       "       <use xlink:href=\"#DejaVuSans-30\"/>\n",
       "      </g>\n",
       "     </g>\n",
       "    </g>\n",
       "    <g id=\"xtick_13\">\n",
       "     <g id=\"line2d_21\">\n",
       "      <g>\n",
       "       <use xlink:href=\"#m0552cf98ea\" x=\"617.473809\" y=\"279\" style=\"stroke: #000000; stroke-width: 0.8\"/>\n",
       "      </g>\n",
       "     </g>\n",
       "     <g id=\"text_23\">\n",
       "      <!-- 2 -->\n",
       "      <g transform=\"translate(614.292559 293.598437)scale(0.1 -0.1)\">\n",
       "       <use xlink:href=\"#DejaVuSans-32\"/>\n",
       "      </g>\n",
       "     </g>\n",
       "    </g>\n",
       "    <g id=\"xtick_14\">\n",
       "     <g id=\"line2d_22\">\n",
       "      <g>\n",
       "       <use xlink:href=\"#m0552cf98ea\" x=\"679.132291\" y=\"279\" style=\"stroke: #000000; stroke-width: 0.8\"/>\n",
       "      </g>\n",
       "     </g>\n",
       "     <g id=\"text_24\">\n",
       "      <!-- 4 -->\n",
       "      <g transform=\"translate(675.951041 293.598437)scale(0.1 -0.1)\">\n",
       "       <use xlink:href=\"#DejaVuSans-34\"/>\n",
       "      </g>\n",
       "     </g>\n",
       "    </g>\n",
       "    <g id=\"text_25\">\n",
       "     <!-- $x_0$ -->\n",
       "     <g transform=\"translate(554.688494 307.276562)scale(0.1 -0.1)\">\n",
       "      <use xlink:href=\"#DejaVuSans-Oblique-78\" transform=\"translate(0 0.3125)\"/>\n",
       "      <use xlink:href=\"#DejaVuSans-30\" transform=\"translate(59.179688 -16.09375)scale(0.7)\"/>\n",
       "     </g>\n",
       "    </g>\n",
       "   </g>\n",
       "   <g id=\"matplotlib.axis_4\">\n",
       "    <g id=\"ytick_9\">\n",
       "     <g id=\"line2d_23\">\n",
       "      <g>\n",
       "       <use xlink:href=\"#m75861d42d4\" x=\"407.856676\" y=\"258.176748\" style=\"stroke: #000000; stroke-width: 0.8\"/>\n",
       "      </g>\n",
       "     </g>\n",
       "     <g id=\"text_26\">\n",
       "      <!-- −4 -->\n",
       "      <g transform=\"translate(386.114489 261.975967)scale(0.1 -0.1)\">\n",
       "       <use xlink:href=\"#DejaVuSans-2212\"/>\n",
       "       <use xlink:href=\"#DejaVuSans-34\" x=\"83.789062\"/>\n",
       "      </g>\n",
       "     </g>\n",
       "    </g>\n",
       "    <g id=\"ytick_10\">\n",
       "     <g id=\"line2d_24\">\n",
       "      <g>\n",
       "       <use xlink:href=\"#m75861d42d4\" x=\"407.856676\" y=\"202.839481\" style=\"stroke: #000000; stroke-width: 0.8\"/>\n",
       "      </g>\n",
       "     </g>\n",
       "     <g id=\"text_27\">\n",
       "      <!-- −2 -->\n",
       "      <g transform=\"translate(386.114489 206.6387)scale(0.1 -0.1)\">\n",
       "       <use xlink:href=\"#DejaVuSans-2212\"/>\n",
       "       <use xlink:href=\"#DejaVuSans-32\" x=\"83.789062\"/>\n",
       "      </g>\n",
       "     </g>\n",
       "    </g>\n",
       "    <g id=\"ytick_11\">\n",
       "     <g id=\"line2d_25\">\n",
       "      <g>\n",
       "       <use xlink:href=\"#m75861d42d4\" x=\"407.856676\" y=\"147.502213\" style=\"stroke: #000000; stroke-width: 0.8\"/>\n",
       "      </g>\n",
       "     </g>\n",
       "     <g id=\"text_28\">\n",
       "      <!-- 0 -->\n",
       "      <g transform=\"translate(394.494176 151.301432)scale(0.1 -0.1)\">\n",
       "       <use xlink:href=\"#DejaVuSans-30\"/>\n",
       "      </g>\n",
       "     </g>\n",
       "    </g>\n",
       "    <g id=\"ytick_12\">\n",
       "     <g id=\"line2d_26\">\n",
       "      <g>\n",
       "       <use xlink:href=\"#m75861d42d4\" x=\"407.856676\" y=\"92.164945\" style=\"stroke: #000000; stroke-width: 0.8\"/>\n",
       "      </g>\n",
       "     </g>\n",
       "     <g id=\"text_29\">\n",
       "      <!-- 2 -->\n",
       "      <g transform=\"translate(394.494176 95.964164)scale(0.1 -0.1)\">\n",
       "       <use xlink:href=\"#DejaVuSans-32\"/>\n",
       "      </g>\n",
       "     </g>\n",
       "    </g>\n",
       "    <g id=\"ytick_13\">\n",
       "     <g id=\"line2d_27\">\n",
       "      <g>\n",
       "       <use xlink:href=\"#m75861d42d4\" x=\"407.856676\" y=\"36.827678\" style=\"stroke: #000000; stroke-width: 0.8\"/>\n",
       "      </g>\n",
       "     </g>\n",
       "     <g id=\"text_30\">\n",
       "      <!-- 4 -->\n",
       "      <g transform=\"translate(394.494176 40.626897)scale(0.1 -0.1)\">\n",
       "       <use xlink:href=\"#DejaVuSans-34\"/>\n",
       "      </g>\n",
       "     </g>\n",
       "    </g>\n",
       "    <g id=\"text_31\">\n",
       "     <!-- $x_1$ -->\n",
       "     <g transform=\"translate(380.034801 148.45)rotate(-90)scale(0.1 -0.1)\">\n",
       "      <use xlink:href=\"#DejaVuSans-Oblique-78\" transform=\"translate(0 0.3125)\"/>\n",
       "      <use xlink:href=\"#DejaVuSans-31\" transform=\"translate(59.179688 -16.09375)scale(0.7)\"/>\n",
       "     </g>\n",
       "    </g>\n",
       "   </g>\n",
       "   <g id=\"patch_8\">\n",
       "    <path d=\"M 407.856676 279 \n",
       "L 407.856676 7.2 \n",
       "\" style=\"fill: none; stroke: #000000; stroke-width: 0.8; stroke-linejoin: miter; stroke-linecap: square\"/>\n",
       "   </g>\n",
       "   <g id=\"patch_9\">\n",
       "    <path d=\"M 712.220312 279 \n",
       "L 712.220312 7.2 \n",
       "\" style=\"fill: none; stroke: #000000; stroke-width: 0.8; stroke-linejoin: miter; stroke-linecap: square\"/>\n",
       "   </g>\n",
       "   <g id=\"patch_10\">\n",
       "    <path d=\"M 407.856676 279 \n",
       "L 712.220312 279 \n",
       "\" style=\"fill: none; stroke: #000000; stroke-width: 0.8; stroke-linejoin: miter; stroke-linecap: square\"/>\n",
       "   </g>\n",
       "   <g id=\"patch_11\">\n",
       "    <path d=\"M 407.856676 7.2 \n",
       "L 712.220312 7.2 \n",
       "\" style=\"fill: none; stroke: #000000; stroke-width: 0.8; stroke-linejoin: miter; stroke-linecap: square\"/>\n",
       "   </g>\n",
       "  </g>\n",
       " </g>\n",
       " <defs>\n",
       "  <clipPath id=\"p36729a0cc1\">\n",
       "   <rect x=\"42.620312\" y=\"7.2\" width=\"304.363636\" height=\"271.8\"/>\n",
       "  </clipPath>\n",
       "  <clipPath id=\"p3b8e548717\">\n",
       "   <rect x=\"407.856676\" y=\"7.2\" width=\"304.363636\" height=\"271.8\"/>\n",
       "  </clipPath>\n",
       " </defs>\n",
       "</svg>\n"
      ],
      "text/plain": [
       "<Figure size 864x360 with 2 Axes>"
      ]
     },
     "metadata": {
      "needs_background": "light"
     },
     "output_type": "display_data"
    }
   ],
   "source": [
    "fig = plt.figure(figsize=(12, 5))\n",
    "for i in range(2):\n",
    "    px = x_list[i]\n",
    "    py = y_list[i]\n",
    "    ax = fig.add_subplot(1, 2, i+1)\n",
    "    ax.set_xlabel('$x_0$')\n",
    "    ax.set_ylabel('$x_1$')\n",
    "    ax.scatter(px.data.numpy()[:,0], px.data.numpy()[:,1], c=py.data.numpy(), s=60, lw=0, cmap='RdYlGn')"
   ]
  },
  {
   "cell_type": "markdown",
   "metadata": {},
   "source": [
    "## 5. 案例： 垃圾邮件分类"
   ]
  },
  {
   "cell_type": "code",
   "execution_count": 127,
   "metadata": {},
   "outputs": [],
   "source": [
    "from torch.utils.data import TensorDataset, DataLoader\n",
    "from sklearn.model_selection import train_test_split, cross_val_score\n",
    "from sklearn.feature_extraction.text import TfidfVectorizer\n",
    "import pandas as pd\n",
    "import os"
   ]
  },
  {
   "cell_type": "markdown",
   "metadata": {},
   "source": [
    "利用`nn.Module`实现`Logit`回归"
   ]
  },
  {
   "cell_type": "code",
   "execution_count": 128,
   "metadata": {},
   "outputs": [],
   "source": [
    "class LogitNet(nn.Module):\n",
    "    def __init__(self, dim_feature, dim_output):\n",
    "        super(LogitNet, self).__init__()\n",
    "        self.output = nn.Linear(dim_feature, dim_output)\n",
    "    \n",
    "    def forward(self, X):  # 层之间的计算次序\n",
    "        h = self.output(X)  # 1 -> 2\n",
    "        o = nn.functional.softmax(h, dim=1)  # 2 -> 3\n",
    "        return o"
   ]
  },
  {
   "cell_type": "code",
   "execution_count": 129,
   "metadata": {},
   "outputs": [
    {
     "name": "stdout",
     "output_type": "stream",
     "text": [
      "垃圾邮件数量: 747 \n",
      "正常邮件数量: 747 \n"
     ]
    }
   ],
   "source": [
    "df = pd.read_csv('../dataset/smsspamcollection/SMSSpamCollection', delimiter='\\t', header=None, names=['category', 'message'])\n",
    "df['label'] = (df.category == 'ham').astype('int')\n",
    "print('垃圾邮件数量: %d ' % np.sum(df.label == 0))\n",
    "print('正常邮件数量: %d ' % np.sum(df.label == 0))"
   ]
  },
  {
   "cell_type": "code",
   "execution_count": 130,
   "metadata": {},
   "outputs": [],
   "source": [
    "X = df.message.values\n",
    "y = df.label.values\n",
    "X_train_raw, X_test_raw, y_train, y_test = train_test_split(X, y, test_size=0.5, random_state=200)\n",
    "# y转换为tensor\n",
    "y_train = torch.tensor(y_train).type(torch.LongTensor)  # 注意label的形式为1维，即类别的标签，无需reshape(-1, 1)\n",
    "y_test = torch.tensor(y_test).type(torch.LongTensor)\n",
    "# 获取词的tf-idf\n",
    "vectorizer = TfidfVectorizer()\n",
    "X_train = vectorizer.fit_transform(X_train_raw)\n",
    "X_test = vectorizer.transform(X_test_raw)\n",
    "# X转换为tensor\n",
    "X_train = torch.tensor(X_train.toarray(), dtype=torch.float)\n",
    "X_test = torch.tensor(X_test.toarray(), dtype=torch.float)"
   ]
  },
  {
   "cell_type": "code",
   "execution_count": 131,
   "metadata": {},
   "outputs": [],
   "source": [
    "batch_size = 300  # 构建每批次100个样本的训练集\n",
    "dataset = TensorDataset(X_train, y_train)\n",
    "data_iter = DataLoader(dataset=dataset, batch_size=batch_size, shuffle=True)"
   ]
  },
  {
   "cell_type": "code",
   "execution_count": 132,
   "metadata": {},
   "outputs": [],
   "source": [
    "snet = LogitNet(dim_feature=X_train.shape[1], dim_output=2)\n",
    "optimizer = torch.optim.SGD(snet.parameters(), lr=0.03)  # 指定需优化的参数\n",
    "# loss_func = nn.CrossEntropyLoss()  # 确定训练准则\n",
    "loss_func = nn.NLLLoss()"
   ]
  },
  {
   "cell_type": "code",
   "execution_count": 133,
   "metadata": {},
   "outputs": [
    {
     "name": "stdout",
     "output_type": "stream",
     "text": [
      "loss_train: -0.51918, loss_test: -0.51899\n",
      "loss_train: -0.76334, loss_test: -0.76073\n",
      "loss_train: -0.81675, loss_test: -0.81351\n",
      "loss_train: -0.83511, loss_test: -0.83164\n",
      "loss_train: -0.84403, loss_test: -0.84044\n"
     ]
    }
   ],
   "source": [
    "for i in range(100):\n",
    "    for X, y in data_iter:        \n",
    "        loss = loss_func(snet.forward(X), y)\n",
    "        optimizer.zero_grad()\n",
    "        loss.backward()\n",
    "        optimizer.step()\n",
    "        \n",
    "    if i % 20 == 0:\n",
    "        with torch.no_grad():\n",
    "            loss_train = loss_func(snet.forward(X_train), y_train)\n",
    "            out_test = snet.forward(X_test)\n",
    "            loss_test = loss_func(out_test, y_test)\n",
    "            print(f\"loss_train: {loss_train:.5f}, loss_test: {loss_test:.5f}\")"
   ]
  },
  {
   "cell_type": "code",
   "execution_count": 134,
   "metadata": {},
   "outputs": [
    {
     "name": "stdout",
     "output_type": "stream",
     "text": [
      "tensor(368) tensor(2418)\n"
     ]
    }
   ],
   "source": [
    "train_result = snet(X_train)\n",
    "predict_y_train = torch.max(train_result, 1)[1]\n",
    "print(torch.sum(predict_y_train != y_train), torch.sum(predict_y_train == y_train))"
   ]
  },
  {
   "cell_type": "code",
   "execution_count": null,
   "metadata": {},
   "outputs": [],
   "source": [
    "a = torch.randn(4, 8)"
   ]
  },
  {
   "cell_type": "code",
   "execution_count": null,
   "metadata": {},
   "outputs": [],
   "source": [
    "torch.std(a, 1)"
   ]
  },
  {
   "cell_type": "code",
   "execution_count": null,
   "metadata": {},
   "outputs": [],
   "source": []
  }
 ],
 "metadata": {
  "kernelspec": {
   "display_name": "Python 3",
   "language": "python",
   "name": "python3"
  },
  "language_info": {
   "codemirror_mode": {
    "name": "ipython",
    "version": 3
   },
   "file_extension": ".py",
   "mimetype": "text/x-python",
   "name": "python",
   "nbconvert_exporter": "python",
   "pygments_lexer": "ipython3",
   "version": "3.9.2"
  }
 },
 "nbformat": 4,
 "nbformat_minor": 4
}
