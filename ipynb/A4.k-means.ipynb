{
 "cells": [
  {
   "cell_type": "code",
   "execution_count": 1,
   "metadata": {},
   "outputs": [],
   "source": [
    "%matplotlib inline\n",
    "import numpy as np\n",
    "import matplotlib.pyplot as plt"
   ]
  },
  {
   "cell_type": "markdown",
   "metadata": {},
   "source": [
    "## K-Means 算法实现\n",
    "\n",
    "K-Means算法是一种聚类方法，它因速度和稳定性而广受欢迎。K-Means的算法过程是一个迭代移动聚类中心到聚类实例的均值位置，并找出离聚类中心最近的实例重新聚类的过程。"
   ]
  },
  {
   "cell_type": "markdown",
   "metadata": {},
   "source": [
    "- 输入: 训练样本X, 图心个数k\n",
    "- 输出: k个聚类中心位置\n",
    "- 算法过程:\n",
    "    "
   ]
  },
  {
   "cell_type": "code",
   "execution_count": 2,
   "metadata": {},
   "outputs": [],
   "source": [
    "def distance(xi, xj, p=2):\n",
    "    if np.isinf(p):\n",
    "        return np.max(np.abs(xi - xj))\n",
    "    else:\n",
    "        return np.sum((np.abs(xi - xj))**p)**(1/p)"
   ]
  },
  {
   "cell_type": "code",
   "execution_count": null,
   "metadata": {},
   "outputs": [],
   "source": [
    "def k_means(k, X):\n",
    "    # 初始化\n",
    "    bound = list(zip(np.min(X, axis=0), np.max(X, axis=0)))\n",
    "    c_indices = np.arange(len(x))\n",
    "    np.random.shuffle(c_indices)\n",
    "    centers = X[c_indices[:k]]\n",
    "    for center in centers:\n",
    "        center = np.sqrt(np.square(X - c))\n",
    "    "
   ]
  },
  {
   "cell_type": "code",
   "execution_count": 3,
   "metadata": {},
   "outputs": [],
   "source": [
    "X = np.random.randn(100, 6)"
   ]
  },
  {
   "cell_type": "code",
   "execution_count": null,
   "metadata": {},
   "outputs": [],
   "source": [
    "np."
   ]
  }
 ],
 "metadata": {
  "kernelspec": {
   "display_name": "Python 3",
   "language": "python",
   "name": "python3"
  },
  "language_info": {
   "codemirror_mode": {
    "name": "ipython",
    "version": 3
   },
   "file_extension": ".py",
   "mimetype": "text/x-python",
   "name": "python",
   "nbconvert_exporter": "python",
   "pygments_lexer": "ipython3",
   "version": "3.9.2"
  }
 },
 "nbformat": 4,
 "nbformat_minor": 4
}
