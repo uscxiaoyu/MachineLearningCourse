{
 "cells": [
  {
   "cell_type": "markdown",
   "metadata": {},
   "source": [
    "# 循环神经网络"
   ]
  },
  {
   "cell_type": "markdown",
   "metadata": {},
   "source": [
    "## 1. 数据准备\n",
    "\n",
    "将训练语料转换为字典形式"
   ]
  },
  {
   "cell_type": "code",
   "execution_count": 1,
   "metadata": {},
   "outputs": [],
   "source": [
    "%matplotlib inline\n",
    "import zipfile\n",
    "import torch\n",
    "import torch.nn as nn\n",
    "import numpy as np\n",
    "import matplotlib.pyplot as plt"
   ]
  },
  {
   "cell_type": "code",
   "execution_count": 4,
   "metadata": {},
   "outputs": [],
   "source": [
    "def load_data_jay_lyrics(num_sample=10000):\n",
    "    \"\"\"\n",
    "    加载周杰伦歌词数据集\n",
    "    \"\"\"\n",
    "    # 读取数据集\n",
    "    with open('../dataset/jaychou_lyrics.txt') as f:\n",
    "        corpus_chars = f.read()\n",
    "    # 把换行符替换为空格\n",
    "    corpus_chars = corpus_chars.replace('\\n', ' ').replace('\\r', ' ')\n",
    "    corpus_chars = corpus_chars[:num_sample]\n",
    "    # 建立字符索引\n",
    "    idx_to_char = list(set(corpus_chars))\n",
    "    char_to_idx = dict([(char, i) for i, char in enumerate(idx_to_char)])\n",
    "    vocab_size = len(char_to_idx)\n",
    "    # 将训练集中每个字符转换为索引\n",
    "    corpus_indices = [char_to_idx[char] for char in corpus_chars]\n",
    "    # 返回索引后的前num_sample个字符的文本，字符到索引的映射，索引到字符的映射，字符表大小\n",
    "    return corpus_indices, char_to_idx, idx_to_char, vocab_size"
   ]
  },
  {
   "cell_type": "code",
   "execution_count": 5,
   "metadata": {},
   "outputs": [],
   "source": [
    "corpus_indices, char_to_idx, idx_to_char, vocab_size = load_data_jay_lyrics()"
   ]
  },
  {
   "cell_type": "code",
   "execution_count": 6,
   "metadata": {},
   "outputs": [
    {
     "output_type": "execute_result",
     "data": {
      "text/plain": [
       "1027"
      ]
     },
     "metadata": {},
     "execution_count": 6
    }
   ],
   "source": [
    "vocab_size"
   ]
  },
  {
   "cell_type": "code",
   "execution_count": 7,
   "metadata": {},
   "outputs": [
    {
     "output_type": "execute_result",
     "data": {
      "text/plain": [
       "10000"
      ]
     },
     "metadata": {},
     "execution_count": 7
    }
   ],
   "source": [
    "len(corpus_indices)   # 10000"
   ]
  },
  {
   "cell_type": "code",
   "execution_count": 8,
   "metadata": {},
   "outputs": [
    {
     "output_type": "execute_result",
     "data": {
      "text/plain": [
       "11"
      ]
     },
     "metadata": {},
     "execution_count": 8
    }
   ],
   "source": [
    "char_to_idx['风']"
   ]
  },
  {
   "cell_type": "code",
   "execution_count": 9,
   "metadata": {},
   "outputs": [
    {
     "output_type": "execute_result",
     "data": {
      "text/plain": [
       "'膀'"
      ]
     },
     "metadata": {},
     "execution_count": 9
    }
   ],
   "source": [
    "idx_to_char[371]"
   ]
  },
  {
   "cell_type": "markdown",
   "metadata": {},
   "source": [
    "## 2. 采样"
   ]
  },
  {
   "cell_type": "markdown",
   "metadata": {},
   "source": [
    "### 2.1 随机采样\n",
    "\n",
    "下⾯的代码每次从数据⾥随机采样⼀个小批量。其中批量⼤小batch_size指每个小批量的样本数，num_steps为每个样本所包含的时间步数。在随机采样中，每个样本是原始序列上任意截取的⼀段序列。相邻的两个随机小批量在原始序列上的位置不⼀定相毗邻。因此，我们⽆法⽤⼀个小批量最终时间步的隐藏状态来初始化下⼀个小批量的隐藏状态。在训练模型时，每次随机采样前都需要重新初始化隐藏状态。"
   ]
  },
  {
   "cell_type": "code",
   "execution_count": 10,
   "metadata": {},
   "outputs": [],
   "source": [
    "def data_iter_random(corpus_indices, batch_size, num_steps):\n",
    "    '''\n",
    "    corpus_indices: 词典按先后次序的索引\n",
    "    batch_size: 每个批次的样本容量\n",
    "    num_steps: 每个样本的长度\n",
    "    '''\n",
    "    num_examples = (len(corpus_indices) - 1) // num_steps  # 可取的样本数量\n",
    "    epoch_size = num_examples // batch_size  # 总词汇数量 / (样本长度 * 样本数量)\n",
    "    example_indices = list(range(num_examples))\n",
    "    np.random.shuffle(example_indices)  # 打乱索引的顺序，即随机采样\n",
    "      \n",
    "    for i in range(epoch_size):\n",
    "        # 每次读取batch_size个随机样本\n",
    "        batch_indices = example_indices[i*batch_size: (i + 1)*batch_size ]\n",
    "        X = [corpus_indices[j*num_steps: (j + 1)*num_steps] for j in batch_indices]\n",
    "        Y = [corpus_indices[j*num_steps + 1: (j + 1)*num_steps + 1] for j in batch_indices]\n",
    "        yield np.array(X), np.array(Y)"
   ]
  },
  {
   "cell_type": "code",
   "execution_count": 29,
   "metadata": {},
   "outputs": [
    {
     "name": "stdout",
     "output_type": "stream",
     "text": [
      "0\n",
      "X:\n",
      " [[18 19 20 21 22 23]\n",
      " [ 6  7  8  9 10 11]\n",
      " [12 13 14 15 16 17]] \n",
      "Y:\n",
      " [[19 20 21 22 23 24]\n",
      " [ 7  8  9 10 11 12]\n",
      " [13 14 15 16 17 18]]\n"
     ]
    }
   ],
   "source": [
    "my_seq = list(range(30))\n",
    "i = 0\n",
    "for X, Y in data_iter_random(my_seq, batch_size=3, num_steps=6):\n",
    "    print(i)\n",
    "    print('X:\\n', X, '\\nY:\\n', Y)\n",
    "    i += 1"
   ]
  },
  {
   "cell_type": "markdown",
   "metadata": {},
   "source": [
    "### 2.2 相邻采样\n",
    "\n",
    "除对原始序列做随机采样之外，我们还可以令相邻的两个随机小批量在原始序列上的位置相毗邻。这时候，我们就可以用一个小批量最终时间步的隐藏状态来初始化下一个小批量的隐藏状态，从而使下一个小批量的输出也取决于当前小批量的输入，并如此循环下去。这对实现循环神经网络造成了两方面影响：一方面， 在训练模型时，我们只需在每一个迭代周期开始时初始化隐藏状态；另一方面，当多个相邻小批量通过传递隐藏状态串联起来时，模型参数的梯度计算将依赖所有串联起来的小批量序列。同一迭代周期中，随着迭代次数的增加，梯度的计算开销会越来越大。 为了使模型参数的梯度计算只依赖一次迭代读取的小批量序列，我们可以在每次读取小批量前将隐藏状态从计算图中分离出来。"
   ]
  },
  {
   "cell_type": "code",
   "execution_count": 11,
   "metadata": {},
   "outputs": [],
   "source": [
    "# 本函数已保存在d2lzh包中方便以后使用\n",
    "def data_iter_consecutive(corpus_indices, batch_size, num_steps):\n",
    "    '''\n",
    "    corpus_indices: 词典按先后次序的索引\n",
    "    batch_size: 每个批次的样本容量\n",
    "    num_steps: 每个样本的长度\n",
    "    '''\n",
    "    corpus_indices = np.array(corpus_indices)\n",
    "    data_len = len(corpus_indices)  # 单词个数\n",
    "    batch_len = data_len // batch_size  # 小批量的数量\n",
    "    indices = corpus_indices[0: batch_size*batch_len].reshape(batch_size, batch_len)  # 先取总量，再塑形\n",
    "    epoch_size = (batch_len - 1) // num_steps  # 批量数量\n",
    "    for i in range(epoch_size):\n",
    "        X = indices[:, i * num_steps: (i + 1) * num_steps]\n",
    "        Y = indices[:, i * num_steps + 1: (i + 1) * num_steps + 1]\n",
    "        yield X, Y"
   ]
  },
  {
   "cell_type": "code",
   "execution_count": 30,
   "metadata": {},
   "outputs": [
    {
     "name": "stdout",
     "output_type": "stream",
     "text": [
      "X:\n",
      " [[ 0  1  2  3  4  5]\n",
      " [15 16 17 18 19 20]] \n",
      "Y:\n",
      " [[ 1  2  3  4  5  6]\n",
      " [16 17 18 19 20 21]]\n",
      "X:\n",
      " [[ 6  7  8  9 10 11]\n",
      " [21 22 23 24 25 26]] \n",
      "Y:\n",
      " [[ 7  8  9 10 11 12]\n",
      " [22 23 24 25 26 27]]\n"
     ]
    }
   ],
   "source": [
    "my_seq = list(range(30))\n",
    "for X, Y in data_iter_consecutive(my_seq, batch_size=2, num_steps=6):\n",
    "    print('X:\\n', X, '\\nY:\\n', Y)"
   ]
  },
  {
   "cell_type": "markdown",
   "metadata": {},
   "source": [
    "## 2. `one_hot`编码\n",
    "\n",
    "对语料中的每个不同单词进行`one_hot`编码"
   ]
  },
  {
   "cell_type": "code",
   "execution_count": 46,
   "metadata": {},
   "outputs": [],
   "source": [
    "def one_hot(array, vocab_size):\n",
    "    '''\n",
    "    array: 需要编码的索引\n",
    "    vocab_size: 词典大小\n",
    "    '''\n",
    "    array = np.array(array)\n",
    "    shape = list(array.shape) + [vocab_size]\n",
    "    res = np.zeros(shape=shape)\n",
    "    if len(shape) == 2:\n",
    "        res[range(shape[0]), array] = 1\n",
    "    elif len(shape) == 3:\n",
    "        for i in range(shape[0]):\n",
    "            for j in range(shape[1]):\n",
    "                res[i, j, array[i, j]] = 1\n",
    "    else:\n",
    "        print('X超过2维!')\n",
    "\n",
    "    return res"
   ]
  },
  {
   "cell_type": "code",
   "execution_count": 47,
   "metadata": {},
   "outputs": [
    {
     "output_type": "execute_result",
     "data": {
      "text/plain": [
       "array([[[0., 1., 0., 0., 0., 0., 0., 0., 0., 0.],\n",
       "        [0., 0., 1., 0., 0., 0., 0., 0., 0., 0.]],\n",
       "\n",
       "       [[0., 0., 1., 0., 0., 0., 0., 0., 0., 0.],\n",
       "        [0., 0., 0., 1., 0., 0., 0., 0., 0., 0.]],\n",
       "\n",
       "       [[0., 0., 0., 1., 0., 0., 0., 0., 0., 0.],\n",
       "        [0., 0., 0., 0., 1., 0., 0., 0., 0., 0.]]])"
      ]
     },
     "metadata": {},
     "execution_count": 47
    }
   ],
   "source": [
    "one_hot([[1, 2],[2, 3],[3, 4]], 10)"
   ]
  },
  {
   "source": [
    "每次采样的小批量的形状是(批量大小, 时间步数)，以下函数将字符下标转换成字符的`one-hot`编码。"
   ],
   "cell_type": "markdown",
   "metadata": {}
  },
  {
   "cell_type": "code",
   "execution_count": 48,
   "metadata": {},
   "outputs": [],
   "source": [
    "def to_onehot(X, size):\n",
    "    \"\"\"\n",
    "    X: n*d, n为批量大小，d为输入个数\n",
    "    \"\"\"\n",
    "    return [one_hot(x, size) for x in X]"
   ]
  },
  {
   "cell_type": "code",
   "execution_count": 49,
   "metadata": {},
   "outputs": [],
   "source": [
    "X = np.arange(10).reshape((2, 5))\n",
    "inputs = to_onehot(X, 10)"
   ]
  },
  {
   "cell_type": "code",
   "execution_count": 51,
   "metadata": {},
   "outputs": [
    {
     "output_type": "execute_result",
     "data": {
      "text/plain": [
       "(2, (5, 10))"
      ]
     },
     "metadata": {},
     "execution_count": 51
    }
   ],
   "source": [
    "len(inputs), inputs[0].shape"
   ]
  },
  {
   "source": [
    "初始化模型参数"
   ],
   "cell_type": "markdown",
   "metadata": {}
  },
  {
   "cell_type": "code",
   "execution_count": null,
   "metadata": {},
   "outputs": [],
   "source": [
    "def inti_rnn_hidden"
   ]
  }
 ],
 "metadata": {
  "kernelspec": {
   "display_name": "Python 3",
   "language": "python",
   "name": "python3"
  },
  "language_info": {
   "codemirror_mode": {
    "name": "ipython",
    "version": 3
   },
   "file_extension": ".py",
   "mimetype": "text/x-python",
   "name": "python",
   "nbconvert_exporter": "python",
   "pygments_lexer": "ipython3",
   "version": "3.7.0-final"
  }
 },
 "nbformat": 4,
 "nbformat_minor": 4
}