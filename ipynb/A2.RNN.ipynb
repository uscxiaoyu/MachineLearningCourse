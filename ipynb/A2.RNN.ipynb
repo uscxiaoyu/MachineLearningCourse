{
 "cells": [
  {
   "cell_type": "markdown",
   "metadata": {},
   "source": [
    "# 循环神经网络"
   ]
  },
  {
   "cell_type": "markdown",
   "metadata": {},
   "source": [
    "## 1. 数据准备\n",
    "\n",
    "将训练语料转换为字典形式"
   ]
  },
  {
   "cell_type": "code",
   "execution_count": 1,
   "metadata": {},
   "outputs": [],
   "source": [
    "%matplotlib inline\n",
    "import zipfile\n",
    "import torch\n",
    "import torch.nn as nn\n",
    "import numpy as np\n",
    "import matplotlib.pyplot as plt"
   ]
  },
  {
   "cell_type": "code",
   "execution_count": 11,
   "metadata": {},
   "outputs": [],
   "source": [
    "def load_data_jay_lyrics(num_sample=10000):\n",
    "    \"\"\"\n",
    "    加载周杰伦歌词数据集\n",
    "    \"\"\"\n",
    "    # 读取数据集\n",
    "    with open('../dataset/jaychou_lyrics.txt', encoding='utf-8') as f:\n",
    "        corpus_chars = f.read()\n",
    "    # 把换行符替换为空格\n",
    "    corpus_chars = corpus_chars.replace('\\n', ' ').replace('\\r', ' ')\n",
    "    corpus_chars = corpus_chars[:num_sample]\n",
    "    # 建立字符索引\n",
    "    idx_to_char = list(set(corpus_chars))\n",
    "    char_to_idx = dict([(char, i) for i, char in enumerate(idx_to_char)])\n",
    "    vocab_size = len(char_to_idx)\n",
    "    # 将训练集中每个字符转换为索引\n",
    "    corpus_indices = [char_to_idx[char] for char in corpus_chars]\n",
    "    # 返回索引后的前num_sample个字符的文本，字符到索引的映射，索引到字符的映射，字符表大小\n",
    "    return corpus_indices, char_to_idx, idx_to_char, vocab_size"
   ]
  },
  {
   "cell_type": "code",
   "execution_count": 12,
   "metadata": {},
   "outputs": [],
   "source": [
    "corpus_indices, char_to_idx, idx_to_char, vocab_size = load_data_jay_lyrics()"
   ]
  },
  {
   "cell_type": "code",
   "execution_count": 13,
   "metadata": {},
   "outputs": [
    {
     "data": {
      "text/plain": [
       "1027"
      ]
     },
     "execution_count": 13,
     "metadata": {},
     "output_type": "execute_result"
    }
   ],
   "source": [
    "vocab_size"
   ]
  },
  {
   "cell_type": "code",
   "execution_count": 14,
   "metadata": {},
   "outputs": [
    {
     "data": {
      "text/plain": [
       "10000"
      ]
     },
     "execution_count": 14,
     "metadata": {},
     "output_type": "execute_result"
    }
   ],
   "source": [
    "len(corpus_indices)   # 10000"
   ]
  },
  {
   "cell_type": "code",
   "execution_count": 15,
   "metadata": {},
   "outputs": [
    {
     "data": {
      "text/plain": [
       "751"
      ]
     },
     "execution_count": 15,
     "metadata": {},
     "output_type": "execute_result"
    }
   ],
   "source": [
    "char_to_idx['风']"
   ]
  },
  {
   "cell_type": "code",
   "execution_count": 16,
   "metadata": {},
   "outputs": [
    {
     "data": {
      "text/plain": [
       "'映'"
      ]
     },
     "execution_count": 16,
     "metadata": {},
     "output_type": "execute_result"
    }
   ],
   "source": [
    "idx_to_char[371]"
   ]
  },
  {
   "cell_type": "markdown",
   "metadata": {},
   "source": [
    "## 2. 采样"
   ]
  },
  {
   "cell_type": "markdown",
   "metadata": {},
   "source": [
    "### 2.1 随机采样\n",
    "\n",
    "下⾯的代码每次从数据⾥随机采样⼀个小批量。其中批量⼤小batch_size指每个小批量的样本数，num_steps为每个样本所包含的时间步数。在随机采样中，每个样本是原始序列上任意截取的⼀段序列。相邻的两个随机小批量在原始序列上的位置不⼀定相毗邻。因此，我们⽆法⽤⼀个小批量最终时间步的隐藏状态来初始化下⼀个小批量的隐藏状态。在训练模型时，每次随机采样前都需要重新初始化隐藏状态。"
   ]
  },
  {
   "cell_type": "code",
   "execution_count": 17,
   "metadata": {},
   "outputs": [],
   "source": [
    "def data_iter_random(corpus_indices, batch_size, num_steps):\n",
    "    '''\n",
    "    corpus_indices: 词典按先后次序的索引\n",
    "    batch_size: 每个批次的样本容量\n",
    "    num_steps: 每个样本的长度\n",
    "    '''\n",
    "    num_examples = (len(corpus_indices) - 1) // num_steps  # 可取的样本数量\n",
    "    epoch_size = num_examples // batch_size  # 总词汇数量 / (样本长度 * 样本数量)\n",
    "    example_indices = list(range(num_examples))\n",
    "    np.random.shuffle(example_indices)  # 打乱索引的顺序，即随机采样\n",
    "      \n",
    "    for i in range(epoch_size):\n",
    "        # 每次读取batch_size个随机样本\n",
    "        batch_indices = example_indices[i*batch_size: (i + 1)*batch_size ]\n",
    "        X = [corpus_indices[j*num_steps: (j + 1)*num_steps] for j in batch_indices]\n",
    "        Y = [corpus_indices[j*num_steps + 1: (j + 1)*num_steps + 1] for j in batch_indices]\n",
    "        yield torch.IntTensor(X), torch.IntTensor(Y)"
   ]
  },
  {
   "cell_type": "code",
   "execution_count": 18,
   "metadata": {},
   "outputs": [
    {
     "name": "stdout",
     "output_type": "stream",
     "text": [
      "0\n",
      "X:\n",
      " tensor([[ 6,  7,  8,  9, 10, 11],\n",
      "        [18, 19, 20, 21, 22, 23],\n",
      "        [12, 13, 14, 15, 16, 17]], dtype=torch.int32) \n",
      "Y:\n",
      " tensor([[ 7,  8,  9, 10, 11, 12],\n",
      "        [19, 20, 21, 22, 23, 24],\n",
      "        [13, 14, 15, 16, 17, 18]], dtype=torch.int32)\n"
     ]
    }
   ],
   "source": [
    "my_seq = list(range(30))\n",
    "i = 0\n",
    "for X, Y in data_iter_random(my_seq, batch_size=3, num_steps=6):\n",
    "    print(i)\n",
    "    print('X:\\n', X, '\\nY:\\n', Y)\n",
    "    i += 1"
   ]
  },
  {
   "cell_type": "markdown",
   "metadata": {},
   "source": [
    "### 2.2 相邻采样\n",
    "\n",
    "除对原始序列做随机采样之外，我们还可以令相邻的两个随机小批量在原始序列上的位置相毗邻。这时候，我们就可以用一个小批量最终时间步的隐藏状态来初始化下一个小批量的隐藏状态，从而使下一个小批量的输出也取决于当前小批量的输入，并如此循环下去。这对实现循环神经网络造成了两方面影响：一方面， 在训练模型时，我们只需在每一个迭代周期开始时初始化隐藏状态；另一方面，当多个相邻小批量通过传递隐藏状态串联起来时，模型参数的梯度计算将依赖所有串联起来的小批量序列。同一迭代周期中，随着迭代次数的增加，梯度的计算开销会越来越大。 为了使模型参数的梯度计算只依赖一次迭代读取的小批量序列，我们可以在每次读取小批量前将隐藏状态从计算图中分离出来。"
   ]
  },
  {
   "cell_type": "code",
   "execution_count": 19,
   "metadata": {},
   "outputs": [],
   "source": [
    "# 本函数已保存在d2lzh包中方便以后使用\n",
    "def data_iter_consecutive(corpus_indices, batch_size, num_steps):\n",
    "    '''\n",
    "    corpus_indices: 词典按先后次序的索引\n",
    "    batch_size: 每个批次的样本容量\n",
    "    num_steps: 每个样本的长度\n",
    "    '''\n",
    "    corpus_indices = np.array(corpus_indices)\n",
    "    data_len = len(corpus_indices)  # 单词个数\n",
    "    batch_len = data_len // batch_size  # 小批量的数量\n",
    "    indices = corpus_indices[0: batch_size*batch_len].reshape(batch_size, batch_len)  # 先取总量，再塑形\n",
    "    epoch_size = (batch_len - 1) // num_steps  # 批量数量\n",
    "    for i in range(epoch_size):\n",
    "        X = indices[:, i * num_steps: (i + 1) * num_steps]\n",
    "        Y = indices[:, i * num_steps + 1: (i + 1) * num_steps + 1]\n",
    "        yield torch.IntTensor(X), torch.IntTensor(Y)"
   ]
  },
  {
   "cell_type": "code",
   "execution_count": 20,
   "metadata": {},
   "outputs": [
    {
     "name": "stdout",
     "output_type": "stream",
     "text": [
      "X:\n",
      " tensor([[ 0,  1,  2,  3,  4,  5],\n",
      "        [15, 16, 17, 18, 19, 20]], dtype=torch.int32) \n",
      "Y:\n",
      " tensor([[ 1,  2,  3,  4,  5,  6],\n",
      "        [16, 17, 18, 19, 20, 21]], dtype=torch.int32)\n",
      "X:\n",
      " tensor([[ 6,  7,  8,  9, 10, 11],\n",
      "        [21, 22, 23, 24, 25, 26]], dtype=torch.int32) \n",
      "Y:\n",
      " tensor([[ 7,  8,  9, 10, 11, 12],\n",
      "        [22, 23, 24, 25, 26, 27]], dtype=torch.int32)\n"
     ]
    }
   ],
   "source": [
    "my_seq = list(range(30))\n",
    "for X, Y in data_iter_consecutive(my_seq, batch_size=2, num_steps=6):\n",
    "    print('X:\\n', X, '\\nY:\\n', Y)"
   ]
  },
  {
   "cell_type": "markdown",
   "metadata": {},
   "source": [
    "## 2. `one_hot`编码\n",
    "\n",
    "对语料中的每个不同单词进行`one_hot`编码"
   ]
  },
  {
   "cell_type": "code",
   "execution_count": 99,
   "metadata": {},
   "outputs": [],
   "source": [
    "def one_hot(word_indices, vocab_size):\n",
    "    '''\n",
    "    word_indices: 需要编码的索引, torch.IntTensor\n",
    "    vocab_size: 词典大小, scalar\n",
    "    '''\n",
    "    shape = list(word_indices.shape) + [vocab_size]\n",
    "    res = torch.zeros(size=shape)\n",
    "    if len(shape) == 2:\n",
    "        res[range(shape[0]), word_indices] = 1\n",
    "    elif len(shape) == 3:\n",
    "        for i in range(shape[0]):\n",
    "            for j in range(shape[1]):\n",
    "                res[i, j, word_indices[i, j]] = 1\n",
    "    else:\n",
    "        print('X超过2维!')\n",
    "\n",
    "    return res"
   ]
  },
  {
   "cell_type": "code",
   "execution_count": 100,
   "metadata": {},
   "outputs": [
    {
     "data": {
      "text/plain": [
       "tensor([[[0., 1., 0., 0., 0., 0., 0., 0., 0., 0.],\n",
       "         [0., 0., 1., 0., 0., 0., 0., 0., 0., 0.]],\n",
       "\n",
       "        [[0., 0., 1., 0., 0., 0., 0., 0., 0., 0.],\n",
       "         [0., 0., 0., 1., 0., 0., 0., 0., 0., 0.]],\n",
       "\n",
       "        [[0., 0., 0., 1., 0., 0., 0., 0., 0., 0.],\n",
       "         [0., 0., 0., 0., 1., 0., 0., 0., 0., 0.]]])"
      ]
     },
     "execution_count": 100,
     "metadata": {},
     "output_type": "execute_result"
    }
   ],
   "source": [
    "x = torch.IntTensor([[1, 2],[2, 3],[3, 4]])\n",
    "one_hot(x, 10)"
   ]
  },
  {
   "cell_type": "markdown",
   "metadata": {},
   "source": [
    "每次采样的小批量的形状是(批量大小, 时间步数)，以下函数将字符下标转换成字符的`one-hot`编码。"
   ]
  },
  {
   "cell_type": "code",
   "execution_count": 122,
   "metadata": {},
   "outputs": [],
   "source": [
    "def to_onehot(X, size):\n",
    "    \"\"\"\n",
    "    X: n*t, n为批量大小，t为时间步长\n",
    "    返回包含t个矩阵的列表, x: (批量大小, 词典大小)\n",
    "    \"\"\"\n",
    "    return [one_hot(x, size) for x in X.t()]"
   ]
  },
  {
   "cell_type": "code",
   "execution_count": 126,
   "metadata": {},
   "outputs": [],
   "source": [
    "X = torch.arange(10).reshape(2, 5)\n",
    "inputs = to_onehot(X, vocab_size)"
   ]
  },
  {
   "cell_type": "code",
   "execution_count": 127,
   "metadata": {},
   "outputs": [
    {
     "data": {
      "text/plain": [
       "(5, torch.Size([2, 1027]))"
      ]
     },
     "execution_count": 127,
     "metadata": {},
     "output_type": "execute_result"
    }
   ],
   "source": [
    "len(inputs), inputs[0].shape  # 时间步, (小批量大小, 输入数量)"
   ]
  },
  {
   "cell_type": "markdown",
   "metadata": {},
   "source": [
    "初始化模型参数"
   ]
  },
  {
   "cell_type": "code",
   "execution_count": 105,
   "metadata": {},
   "outputs": [],
   "source": [
    "def get_params(num_inputs, num_hiddens, num_outputs):\n",
    "    # 隐藏层参数\n",
    "    W_xh = torch.randn(num_inputs, num_hiddens) * 0.01\n",
    "    W_hh = torch.randn(num_hiddens, num_hiddens) * 0.01\n",
    "    b_h = torch.zeros(num_hiddens)\n",
    "\n",
    "    # 输出层参数\n",
    "    W_ho = torch.randn(num_hiddens, num_outputs) * 0.01\n",
    "    b_o = torch.zeros(num_outputs)\n",
    "\n",
    "    # 附上梯度\n",
    "    W_xh.requires_grad_(True)\n",
    "    W_hh.requires_grad_(True)\n",
    "    b_h.requires_grad_(True)\n",
    "    W_ho.requires_grad_(True)\n",
    "    b_o.requires_grad_(True)\n",
    "    return W_xh, W_hh, b_h, W_ho, b_o"
   ]
  },
  {
   "cell_type": "markdown",
   "metadata": {},
   "source": [
    "初始化隐藏层的值"
   ]
  },
  {
   "cell_type": "code",
   "execution_count": 106,
   "metadata": {},
   "outputs": [],
   "source": [
    "def init_rnn_hidden_state(batch_size, num_hiddens):\n",
    "    return torch.zeros(batch_size, num_hiddens),"
   ]
  },
  {
   "cell_type": "markdown",
   "metadata": {},
   "source": [
    "构建循环神经网络"
   ]
  },
  {
   "cell_type": "code",
   "execution_count": 108,
   "metadata": {},
   "outputs": [],
   "source": [
    "def rnn(inputs, state, params):\n",
    "    '''\n",
    "    计算len(inputs)时间步， 初始状态为state，以及参数为params下的小批量样本对应的输出\n",
    "    '''\n",
    "    W_xh, W_hh, b_h, W_ho, b_o = params\n",
    "    H, = state\n",
    "    outputs = []\n",
    "    for X in inputs: # X: batch_size * vocab_size\n",
    "        H = torch.tanh(X@W_xh + H@W_hh + b_h)  # batch_size * hidden_size\n",
    "        Y = H@W_ho + b_o  # batch_size * vocab_size\n",
    "        outputs.append(Y)\n",
    "\n",
    "    return outputs, (H, )"
   ]
  },
  {
   "cell_type": "code",
   "execution_count": 131,
   "metadata": {},
   "outputs": [],
   "source": [
    "X = torch.arange(10).reshape(2, 5)  # 一个批次，样本量为2，时间步为5\n",
    "num_inputs, num_hiddens, num_outputs = vocab_size, 256, vocab_size  # \n",
    "state = init_rnn_hidden_state(X.shape[0], num_hiddens)\n",
    "inputs = to_onehot(X, vocab_size)\n",
    "params = get_params(num_inputs, num_hiddens, num_outputs)\n",
    "outputs, state_new = rnn(inputs, state, params)"
   ]
  },
  {
   "cell_type": "code",
   "execution_count": 132,
   "metadata": {},
   "outputs": [
    {
     "data": {
      "text/plain": [
       "(5, torch.Size([2, 1027]), torch.Size([2, 256]))"
      ]
     },
     "execution_count": 132,
     "metadata": {},
     "output_type": "execute_result"
    }
   ],
   "source": [
    "len(outputs), outputs[0].shape, state_new[0].shape"
   ]
  },
  {
   "cell_type": "code",
   "execution_count": 134,
   "metadata": {},
   "outputs": [
    {
     "data": {
      "text/plain": [
       "(torch.Size([2, 1027]), torch.Size([1027, 256]))"
      ]
     },
     "execution_count": 134,
     "metadata": {},
     "output_type": "execute_result"
    }
   ],
   "source": [
    "inputs[0].shape, params[0].shape"
   ]
  },
  {
   "cell_type": "code",
   "execution_count": 136,
   "metadata": {},
   "outputs": [
    {
     "data": {
      "text/plain": [
       "[tensor([[-1.1714e-03, -8.4034e-04,  2.3666e-03,  ..., -1.2565e-03,\n",
       "           7.3106e-04,  1.1451e-03],\n",
       "         [-1.6279e-03, -6.2816e-05, -3.3580e-03,  ..., -1.8083e-03,\n",
       "          -2.9904e-04, -8.0677e-04]], grad_fn=<AddBackward0>),\n",
       " tensor([[-0.0024, -0.0007,  0.0013,  ...,  0.0024, -0.0008, -0.0016],\n",
       "         [-0.0008,  0.0005,  0.0001,  ...,  0.0021,  0.0011, -0.0017]],\n",
       "        grad_fn=<AddBackward0>),\n",
       " tensor([[-5.3381e-04, -2.1063e-03, -4.5478e-04,  ..., -2.3647e-03,\n",
       "           3.2638e-04,  1.3879e-03],\n",
       "         [ 2.0157e-03, -2.9879e-05, -1.4161e-03,  ...,  2.1266e-04,\n",
       "          -5.3675e-04, -3.8626e-04]], grad_fn=<AddBackward0>),\n",
       " tensor([[ 0.0021,  0.0020,  0.0008,  ...,  0.0008,  0.0013, -0.0006],\n",
       "         [-0.0014, -0.0033,  0.0016,  ..., -0.0014,  0.0030,  0.0010]],\n",
       "        grad_fn=<AddBackward0>),\n",
       " tensor([[-2.0557e-05, -2.4210e-04, -8.0187e-04,  ..., -1.6461e-03,\n",
       "           4.6133e-03, -9.1111e-04],\n",
       "         [ 6.3191e-04, -3.1657e-03,  3.3037e-03,  ...,  9.7344e-04,\n",
       "           1.4479e-03,  1.8380e-03]], grad_fn=<AddBackward0>)]"
      ]
     },
     "execution_count": 136,
     "metadata": {},
     "output_type": "execute_result"
    }
   ],
   "source": [
    "outputs"
   ]
  },
  {
   "cell_type": "code",
   "execution_count": null,
   "metadata": {},
   "outputs": [],
   "source": []
  }
 ],
 "metadata": {
  "kernelspec": {
   "display_name": "Python 3",
   "language": "python",
   "name": "python3"
  },
  "language_info": {
   "codemirror_mode": {
    "name": "ipython",
    "version": 3
   },
   "file_extension": ".py",
   "mimetype": "text/x-python",
   "name": "python",
   "nbconvert_exporter": "python",
   "pygments_lexer": "ipython3",
   "version": "3.8.1"
  }
 },
 "nbformat": 4,
 "nbformat_minor": 4
}
