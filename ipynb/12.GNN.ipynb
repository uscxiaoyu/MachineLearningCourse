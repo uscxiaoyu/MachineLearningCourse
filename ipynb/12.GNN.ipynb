{
 "cells": [
  {
   "cell_type": "markdown",
   "metadata": {},
   "source": [
    "# 12. 图神经网络"
   ]
  },
  {
   "cell_type": "markdown",
   "metadata": {},
   "source": [
    "## 准备工作\n",
    "- 安装`torch_geometric`, 依次在命令行执行:\n",
    "```bash\n",
    "> pip install torch-cluster\n",
    "> pip install torch-spline-conv\n",
    "> pip install torch-sparse\n",
    "> pip install torch-scatter\n",
    "> pip install torch-geometric\n",
    "```"
   ]
  },
  {
   "cell_type": "markdown",
   "metadata": {},
   "source": [
    "## 课程目标\n",
    "\n",
    "* 了解图卷机神经网络的基本概念和原理\n",
    "* 掌握图卷机神经网络的常见模型和训练方法\n",
    "* 能够应用图卷机神经网络进行实际问题的解决\n"
   ]
  },
  {
   "cell_type": "markdown",
   "metadata": {},
   "source": [
    "\n",
    "## 课程内容\n",
    "\n",
    "### 第一部分：图卷机神经网络简介\n",
    "\n",
    "* 什么是图卷机神经网络?\n",
    "\n",
    "> 图卷机神经网络（`Graph Convolutional Neural Networks，GCN`）是一种用于处理图数据的深度学习模型。图数据是指由节点和边组成的结构化数据，例如社交网络、交通网络、生物网络等。图卷机神经网络通过学习图中节点之间的关系，来对图数据进行学习和推理。\n",
    "\n",
    "* 图卷机神经网络的优势\n",
    "  - 能够有效地处理图数据中的结构信息。\n",
    "  - 能够处理大规模图数据。\n",
    "  - 能够进行多种图数据分析任务。\n",
    "\n",
    "* 图卷机神经网络的应用\n",
    "  - 图像分类\n",
    "  - 文本分类\n",
    "  - 推荐系统\n",
    "  - 社交网络分析\n",
    "  - 生物信息学\n"
   ]
  },
  {
   "cell_type": "markdown",
   "metadata": {},
   "source": [
    "\n",
    "### 第二部分：图卷机神经网络的模型\n",
    "\n",
    "* 基本图卷机模型\n",
    "\n",
    "基本图卷机模型是一种卷积神经网络，它将卷积操作应用于图数据。在图卷机模型中，每个节点都被看作是卷积核，输入是来自其邻居节点的信息。\n",
    "\n",
    "假设图 $G = (V, E)$ 中，$V$ 是节点集合，$E$ 是边集合。对于节点 $v \\in V$，其邻居节点集合为 $N(v) = \\{u \\in V | (u, v) \\in E\\}$。基本图卷机模型的输出为节点 $v$ 的状态 $h_v$，其计算公式如下：\n",
    "\n",
    "$$h_v = f \\left( \\sum_{u \\in N(v)} h_u W_{vu} \\right)$$\n",
    "\n",
    "其中，$f$ 是激活函数，$W_{vu}$是节点 $v$ 和其邻居节点 $u$ 之间的权重矩阵。\n",
    "\n",
    "在基本图卷机模型中，卷积操作是通过邻接矩阵来实现的。邻接矩阵 A 是一个对称矩阵，其中 $A_{ij}$ 表示节点 $i$ 和节点 $j$ 之间是否存在边。因此，节点 $v$ 的状态 $h_v$ 可以表示为：\n",
    "\n",
    "$$h_v = f \\left( A_v h \\right)$$\n",
    "\n",
    "其中，$A_v$ 是节点 $v$ 的邻接矩阵。"
   ]
  },
  {
   "cell_type": "code",
   "execution_count": 16,
   "metadata": {},
   "outputs": [],
   "source": [
    "import torch\n",
    "import torch.nn.functional as F\n",
    "from torch import nn\n",
    "from torch_geometric.nn import GCNConv\n",
    "from torch_geometric.datasets import TUDataset, Planetoid\n",
    "from torch_geometric.loader import DataLoader\n",
    "from torch_geometric.data import Data"
   ]
  },
  {
   "cell_type": "code",
   "execution_count": 78,
   "metadata": {},
   "outputs": [],
   "source": [
    "def gcn_layer(h, A, W, activation=torch.nn.ReLU()):\n",
    "    \"\"\"\n",
    "    基本图卷机层\n",
    "    Args:\n",
    "        h: 节点的特征矩阵，shape=(n_nodes, d_in)\n",
    "        A: 邻接矩阵，shape=(n_nodes, n_nodes)\n",
    "        W: 权重矩阵，shape=(d_in, d_out)\n",
    "        activation: 激活函数\n",
    "\n",
    "    Returns:\n",
    "        h_v: 节点的状态矩阵，shape=(n_nodes, d_out)\n",
    "    \"\"\"\n",
    "    # 用邻接矩阵实现节点之间的属性值传递\n",
    "    h_v = torch.matmul(A, h) @ W\n",
    "    h_v = activation(h_v)\n",
    "    return h_v\n"
   ]
  },
  {
   "cell_type": "code",
   "execution_count": 79,
   "metadata": {},
   "outputs": [
    {
     "name": "stdout",
     "output_type": "stream",
     "text": [
      "torch.Size([10, 32])\n"
     ]
    }
   ],
   "source": [
    "# 生成节点特征矩阵: 10个节点，每个节点16维特征\n",
    "h = torch.rand(10, 16, dtype=torch.float)\n",
    "# 生成邻接矩阵: 10个节点，每个节点10个邻居\n",
    "A = torch.randint(0, 2, (10, 10), dtype=torch.float)\n",
    "# 生成权重矩阵: 16维特征转换为32维特征\n",
    "W = torch.rand(16, 32, dtype=torch.float)\n",
    "\n",
    "# 计算节点状态: 10个节点，每个节点32维特征\n",
    "h_v = gcn_layer(h, A, W)\n",
    "print(h_v.shape)"
   ]
  },
  {
   "cell_type": "markdown",
   "metadata": {},
   "source": [
    "- `torch_geometric` 中的基本图卷机模型"
   ]
  },
  {
   "cell_type": "code",
   "execution_count": 29,
   "metadata": {},
   "outputs": [],
   "source": [
    "class GCN(nn.Module):\n",
    "    def __init__(self, num_features, num_classes):\n",
    "        super().__init__()\n",
    "        self.conv1 = GCNConv(num_features, 16)\n",
    "        self.conv2 = GCNConv(16, num_classes)\n",
    "\n",
    "    def forward(self, data):\n",
    "        x, edge_index = data.x, data.edge_index\n",
    "\n",
    "        x = self.conv1(x, edge_index)\n",
    "        x = F.relu(x)\n",
    "        x = F.dropout(x, training=self.training)\n",
    "        x = self.conv2(x, edge_index)\n",
    "\n",
    "        return F.log_softmax(x, dim=1)  "
   ]
  },
  {
   "cell_type": "markdown",
   "metadata": {},
   "source": [
    "- 数据集的组织形式"
   ]
  },
  {
   "cell_type": "code",
   "execution_count": null,
   "metadata": {},
   "outputs": [],
   "source": [
    "edge_index = torch.tensor([[0, 1, 1, 2],\n",
    "                           [1, 0, 2, 1]], dtype=torch.long)  # 2 edges 0 <-> 1, 1 <-> 2，注意这里的值是x的索引\n",
    "x = torch.tensor([[-1], [0], [1]], dtype=torch.float)  # 3 nodes.\n",
    "data = Data(x=x, edge_index=edge_index)"
   ]
  },
  {
   "cell_type": "code",
   "execution_count": 72,
   "metadata": {},
   "outputs": [],
   "source": [
    "# device = torch.device('mps' if torch.backends.mps.is_available() else 'cpu')\n",
    "device = torch.device(\"cpu\")\n",
    "dataset = Planetoid(root='/tmp/Cora', name='Cora')\n",
    "data = dataset[0].to(device)"
   ]
  },
  {
   "cell_type": "code",
   "execution_count": 69,
   "metadata": {},
   "outputs": [
    {
     "data": {
      "text/plain": [
       "Data(x=[2708, 1433], edge_index=[2, 10556], y=[2708], train_mask=[2708], val_mask=[2708], test_mask=[2708])"
      ]
     },
     "execution_count": 69,
     "metadata": {},
     "output_type": "execute_result"
    }
   ],
   "source": [
    "data"
   ]
  },
  {
   "cell_type": "code",
   "execution_count": 68,
   "metadata": {},
   "outputs": [
    {
     "data": {
      "text/plain": [
       "torch.Size([2708, 1433])"
      ]
     },
     "execution_count": 68,
     "metadata": {},
     "output_type": "execute_result"
    }
   ],
   "source": [
    "data.x.size()  # 节点特征矩阵: 2708个节点，1433维特征"
   ]
  },
  {
   "cell_type": "code",
   "execution_count": 55,
   "metadata": {},
   "outputs": [
    {
     "data": {
      "text/plain": [
       "tensor([[   0,    0,    0,  ..., 2707, 2707, 2707],\n",
       "        [ 633, 1862, 2582,  ...,  598, 1473, 2706]])"
      ]
     },
     "execution_count": 55,
     "metadata": {},
     "output_type": "execute_result"
    }
   ],
   "source": [
    "data.edge_index  # 邻接矩阵: 10556条边，每条边由两个节点的索引组成, 注意组织形式： (2, n_edges)"
   ]
  },
  {
   "cell_type": "code",
   "execution_count": 65,
   "metadata": {},
   "outputs": [
    {
     "data": {
      "text/plain": [
       "tensor([3, 4, 4,  ..., 3, 3, 3])"
      ]
     },
     "execution_count": 65,
     "metadata": {},
     "output_type": "execute_result"
    }
   ],
   "source": [
    "data.y  # 节点标签: 2708个节点, 标签为0~6"
   ]
  },
  {
   "cell_type": "code",
   "execution_count": 75,
   "metadata": {},
   "outputs": [
    {
     "data": {
      "text/plain": [
       "tensor([ True,  True,  True,  ..., False, False, False])"
      ]
     },
     "execution_count": 75,
     "metadata": {},
     "output_type": "execute_result"
    }
   ],
   "source": [
    "data.train_mask  # 训练集掩码: 2708个节点, 1表示训练集，0表示非训练集"
   ]
  },
  {
   "cell_type": "code",
   "execution_count": 76,
   "metadata": {},
   "outputs": [
    {
     "data": {
      "text/plain": [
       "tensor([False, False, False,  ..., False, False, False])"
      ]
     },
     "execution_count": 76,
     "metadata": {},
     "output_type": "execute_result"
    }
   ],
   "source": [
    "data.val_mask  # 验证集掩码: 2708个节点, 1表示验证集，0表示非验证集"
   ]
  },
  {
   "cell_type": "code",
   "execution_count": 77,
   "metadata": {},
   "outputs": [
    {
     "data": {
      "text/plain": [
       "tensor([False, False, False,  ...,  True,  True,  True])"
      ]
     },
     "execution_count": 77,
     "metadata": {},
     "output_type": "execute_result"
    }
   ],
   "source": [
    "data.test_mask  # 测试集掩码: 2708个节点, 1表示测试集，0表示非测试集"
   ]
  },
  {
   "cell_type": "code",
   "execution_count": 27,
   "metadata": {},
   "outputs": [],
   "source": [
    "num_node_features = dataset.num_node_features  # 节点特征维度\n",
    "num_classes = dataset.num_classes  # 节点标签类别数\n",
    "print(num_node_features, num_classes)"
   ]
  },
  {
   "cell_type": "markdown",
   "metadata": {},
   "source": [
    "- 模型"
   ]
  },
  {
   "cell_type": "code",
   "execution_count": 73,
   "metadata": {},
   "outputs": [],
   "source": [
    "model = GCN(num_node_features, num_classes).to(device)\n",
    "optimizer = torch.optim.Adam(model.parameters(), lr=0.01, weight_decay=5e-4)\n",
    "\n",
    "model.train()\n",
    "for epoch in range(200):\n",
    "    optimizer.zero_grad()\n",
    "    out = model(data)\n",
    "    loss = F.nll_loss(out[data.train_mask], data.y[data.train_mask])\n",
    "    loss.backward()\n",
    "    optimizer.step()"
   ]
  },
  {
   "cell_type": "code",
   "execution_count": 74,
   "metadata": {},
   "outputs": [
    {
     "name": "stdout",
     "output_type": "stream",
     "text": [
      "Accuracy: 0.7990\n"
     ]
    }
   ],
   "source": [
    "model.eval()\n",
    "pred = model(data).argmax(dim=1)\n",
    "correct = (pred[data.test_mask] == data.y[data.test_mask]).sum()\n",
    "acc = int(correct) / int(data.test_mask.sum())\n",
    "print(f'Accuracy: {acc:.4f}')"
   ]
  },
  {
   "cell_type": "markdown",
   "metadata": {},
   "source": [
    "* 扩展图卷机模型\n"
   ]
  },
  {
   "cell_type": "code",
   "execution_count": null,
   "metadata": {},
   "outputs": [],
   "source": []
  },
  {
   "cell_type": "markdown",
   "metadata": {},
   "source": [
    "* 图卷机模型的选择\n"
   ]
  },
  {
   "cell_type": "code",
   "execution_count": null,
   "metadata": {},
   "outputs": [],
   "source": []
  },
  {
   "cell_type": "markdown",
   "metadata": {},
   "source": [
    "\n",
    "### 第三部分：图卷机神经网络的训练\n",
    "\n",
    "* 图卷机神经网络的损失函数\n",
    "* 图卷机神经网络的优化算法\n",
    "* 图卷机神经网络的训练策略\n",
    "\n",
    "### 第四部分：图卷机神经网络的应用\n",
    "\n",
    "* 图像分类\n",
    "* 文本分类\n",
    "* 推荐系统\n",
    "* 社交网络分析\n"
   ]
  },
  {
   "cell_type": "markdown",
   "metadata": {},
   "source": [
    "\n",
    "## 教学方法\n",
    "\n",
    "* 讲授：介绍图卷机神经网络的基本概念和原理\n",
    "* 演示：演示图卷机神经网络的模型和训练方法\n",
    "* 讨论：讨论图卷机神经网络的应用\n"
   ]
  },
  {
   "cell_type": "markdown",
   "metadata": {},
   "source": [
    "\n",
    "## 课程安排\n",
    "\n",
    "### 第一部分：图卷机神经网络简介（20分钟）\n",
    "\n",
    "* 介绍图卷机神经网络的基本概念和原理\n",
    "* 介绍图卷机神经网络的优势\n",
    "* 介绍图卷机神经网络的应用\n",
    "\n",
    "### 第二部分：图卷机神经网络的模型（30分钟）\n",
    "\n",
    "* 介绍基本图卷机模型\n",
    "* 介绍扩展图卷机模型\n",
    "* 介绍图卷机模型的选择\n",
    "\n",
    "### 第三部分：图卷机神经网络的训练（20分钟）\n",
    "\n",
    "* 介绍图卷机神经网络的损失函数\n",
    "* 介绍图卷机神经网络的优化算法\n",
    "* 介绍图卷机神经网络的训练策略\n",
    "\n",
    "### 第四部分：图卷机神经网络的应用（20分钟）\n",
    "\n",
    "* 介绍图像分类的应用\n",
    "* 介绍文本分类的应用\n",
    "* 介绍推荐系统的应用\n",
    "* 介绍社交网络分析的应用\n"
   ]
  },
  {
   "cell_type": "markdown",
   "metadata": {},
   "source": [
    "\n",
    "## 课程作业\n",
    "\n",
    "* 阅读相关文献，了解图卷机神经网络的最新进展\n",
    "* 实现一个图卷机神经网络，并在公开数据集上进行训练和测试\n",
    "\n",
    "## 课程评价\n",
    "\n",
    "* 课堂参与\n",
    "* 课程作业\n",
    "* 期末考试\n",
    "\n",
    "## 课程补充\n",
    "\n",
    "* 图卷机神经网络是近年来人工智能领域的一个重要研究方向，在图像分类、文本分类、推荐系统等领域取得了显著的成果。\n",
    "* 本课程将介绍图卷机神经网络的基本概念和原理，以及常见的模型和训练方法。\n",
    "* 希望通过本课程的学习，学生能够掌握图卷机神经网络的基本知识和技能，并能够应用图卷机神经网络进行实际问题的解决。\n"
   ]
  },
  {
   "cell_type": "markdown",
   "metadata": {},
   "source": [
    "- 导入`torch_geometric`"
   ]
  },
  {
   "cell_type": "markdown",
   "metadata": {},
   "source": [
    "- 构建GNN"
   ]
  },
  {
   "cell_type": "code",
   "execution_count": null,
   "metadata": {},
   "outputs": [],
   "source": []
  }
 ],
 "metadata": {
  "kernelspec": {
   "display_name": "base",
   "language": "python",
   "name": "python3"
  },
  "language_info": {
   "codemirror_mode": {
    "name": "ipython",
    "version": 3
   },
   "file_extension": ".py",
   "mimetype": "text/x-python",
   "name": "python",
   "nbconvert_exporter": "python",
   "pygments_lexer": "ipython3",
   "version": "3.9.18"
  }
 },
 "nbformat": 4,
 "nbformat_minor": 2
}
