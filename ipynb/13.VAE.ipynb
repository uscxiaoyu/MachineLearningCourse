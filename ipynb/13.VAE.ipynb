{
 "cells": [
  {
   "cell_type": "code",
   "execution_count": 1,
   "id": "9f4916b5",
   "metadata": {},
   "outputs": [],
   "source": [
    "import torch\n",
    "import torch.nn as nn\n",
    "import torch.nn.functional as F\n",
    "import torch.optim as optim\n",
    "from torchvision import datasets, transforms\n",
    "from torch.utils.data import DataLoader"
   ]
  },
  {
   "cell_type": "code",
   "execution_count": 2,
   "id": "03f25059",
   "metadata": {},
   "outputs": [],
   "source": [
    "# 定义VAE模型\n",
    "class VAE(nn.Module):\n",
    "    def __init__(self):\n",
    "        super(VAE, self).__init__()\n",
    "\n",
    "        # 编码器\n",
    "        self.fc1 = nn.Linear(784, 400)\n",
    "        self.fc21 = nn.Linear(400, 20) # 均值\n",
    "        self.fc22 = nn.Linear(400, 20) # 对数方差\n",
    "\n",
    "        # 解码器\n",
    "        self.fc3 = nn.Linear(20, 400)\n",
    "        self.fc4 = nn.Linear(400, 784)\n",
    "\n",
    "    def encode(self, x):\n",
    "        h1 = F.relu(self.fc1(x))\n",
    "        return self.fc21(h1), self.fc22(h1)\n",
    "\n",
    "    def reparameterize(self, mu, logvar):\n",
    "        std = torch.exp(0.5*logvar)\n",
    "        eps = torch.randn_like(std)\n",
    "        return mu + eps*std\n",
    "\n",
    "    def decode(self, z):\n",
    "        h3 = F.relu(self.fc3(z))\n",
    "        return torch.sigmoid(self.fc4(h3))\n",
    "\n",
    "    def forward(self, x):\n",
    "        mu, logvar = self.encode(x.view(-1, 784))#每个图像都被展平为一个长度为 784 的一维数组（对应于 28x28 像素的MNIST图像）\n",
    "        z = self.reparameterize(mu, logvar)#再参数化使得模型可以通过反向传播进行训练，同时保留了隐变量的随机性\n",
    "        return self.decode(z), mu, logvar"
   ]
  },
  {
   "cell_type": "code",
   "execution_count": 8,
   "id": "c07f6baa",
   "metadata": {},
   "outputs": [],
   "source": [
    "# 损失函数\n",
    "def loss_function(recon_x, x, mu, logvar):\n",
    "    BCE = F.binary_cross_entropy(recon_x, x.view(-1, 784), reduction='sum')\n",
    "    KLD = -0.5 * torch.sum(1 + logvar - mu.pow(2) - logvar.exp())\n",
    "    return BCE + KLD"
   ]
  },
  {
   "cell_type": "code",
   "execution_count": 9,
   "id": "87f575b5",
   "metadata": {},
   "outputs": [],
   "source": [
    "# 数据加载器\n",
    "transform = transforms.Compose([\n",
    "    transforms.ToTensor()\n",
    "#     transforms.Normalize((0.5,), (0.5,))\n",
    "])\n",
    "train_dataset = datasets.MNIST('./data', train=True, download=True, transform=transform)\n",
    "train_loader = DataLoader(train_dataset, batch_size=128, shuffle=True)"
   ]
  },
  {
   "cell_type": "code",
   "execution_count": 10,
   "id": "9e7964fb",
   "metadata": {},
   "outputs": [],
   "source": [
    "# 初始化模型和优化器\n",
    "model = VAE()\n",
    "optimizer = optim.Adam(model.parameters(), lr=1e-3)"
   ]
  },
  {
   "cell_type": "code",
   "execution_count": 11,
   "id": "8a62abfe",
   "metadata": {},
   "outputs": [],
   "source": [
    "# 训练过程\n",
    "def train(epoch):\n",
    "    model.train()\n",
    "    train_loss = 0\n",
    "    for batch_idx, (data, _) in enumerate(train_loader):\n",
    "        optimizer.zero_grad() #在进行反向传播之前，先将模型参数的梯度归零\n",
    "        recon_batch, mu, logvar = model(data) #模型进行前向传播得到重构图像 recon_batch，以及编码的均值 mu 和对数方差 logvar。\n",
    "        loss = loss_function(recon_batch, data, mu, logvar)\n",
    "        loss.backward()\n",
    "        train_loss += loss.item()\n",
    "        optimizer.step()\n",
    "        if batch_idx % 100 == 0:\n",
    "            print(f'Train Epoch: {epoch} [{batch_idx * len(data)}/{len(train_loader.dataset)} ({100. * batch_idx / len(train_loader):.0f}%)]\\tLoss: {loss.item() / len(data):.6f}')\n",
    "\n",
    "    print(f'====> Epoch: {epoch} Average loss: {train_loss / len(train_loader.dataset):.4f}')\n"
   ]
  },
  {
   "cell_type": "code",
   "execution_count": 12,
   "id": "ee1b2ba0",
   "metadata": {},
   "outputs": [
    {
     "name": "stdout",
     "output_type": "stream",
     "text": [
      "Train Epoch: 1 [0/60000 (0%)]\tLoss: 548.281067\n",
      "Train Epoch: 1 [12800/60000 (21%)]\tLoss: 187.146225\n",
      "Train Epoch: 1 [25600/60000 (43%)]\tLoss: 153.211121\n",
      "Train Epoch: 1 [38400/60000 (64%)]\tLoss: 137.638672\n",
      "Train Epoch: 1 [51200/60000 (85%)]\tLoss: 131.549942\n",
      "====> Epoch: 1 Average loss: 163.3530\n",
      "Train Epoch: 2 [0/60000 (0%)]\tLoss: 131.710815\n",
      "Train Epoch: 2 [12800/60000 (21%)]\tLoss: 124.288750\n",
      "Train Epoch: 2 [25600/60000 (43%)]\tLoss: 118.636330\n",
      "Train Epoch: 2 [38400/60000 (64%)]\tLoss: 120.739555\n",
      "Train Epoch: 2 [51200/60000 (85%)]\tLoss: 118.421089\n",
      "====> Epoch: 2 Average loss: 121.2747\n",
      "Train Epoch: 3 [0/60000 (0%)]\tLoss: 116.404205\n",
      "Train Epoch: 3 [12800/60000 (21%)]\tLoss: 116.913040\n",
      "Train Epoch: 3 [25600/60000 (43%)]\tLoss: 114.504669\n",
      "Train Epoch: 3 [38400/60000 (64%)]\tLoss: 112.415733\n",
      "Train Epoch: 3 [51200/60000 (85%)]\tLoss: 112.409851\n",
      "====> Epoch: 3 Average loss: 114.3030\n",
      "Train Epoch: 4 [0/60000 (0%)]\tLoss: 111.393570\n",
      "Train Epoch: 4 [12800/60000 (21%)]\tLoss: 111.784485\n",
      "Train Epoch: 4 [25600/60000 (43%)]\tLoss: 107.140053\n",
      "Train Epoch: 4 [38400/60000 (64%)]\tLoss: 109.483109\n",
      "Train Epoch: 4 [51200/60000 (85%)]\tLoss: 110.648384\n",
      "====> Epoch: 4 Average loss: 111.4394\n",
      "Train Epoch: 5 [0/60000 (0%)]\tLoss: 108.940804\n",
      "Train Epoch: 5 [12800/60000 (21%)]\tLoss: 106.891205\n",
      "Train Epoch: 5 [25600/60000 (43%)]\tLoss: 105.474236\n",
      "Train Epoch: 5 [38400/60000 (64%)]\tLoss: 109.102165\n",
      "Train Epoch: 5 [51200/60000 (85%)]\tLoss: 109.431480\n",
      "====> Epoch: 5 Average loss: 109.7427\n",
      "Train Epoch: 6 [0/60000 (0%)]\tLoss: 109.289200\n",
      "Train Epoch: 6 [12800/60000 (21%)]\tLoss: 111.977859\n",
      "Train Epoch: 6 [25600/60000 (43%)]\tLoss: 107.158646\n",
      "Train Epoch: 6 [38400/60000 (64%)]\tLoss: 110.332138\n",
      "Train Epoch: 6 [51200/60000 (85%)]\tLoss: 110.376968\n",
      "====> Epoch: 6 Average loss: 108.5880\n",
      "Train Epoch: 7 [0/60000 (0%)]\tLoss: 110.394501\n",
      "Train Epoch: 7 [12800/60000 (21%)]\tLoss: 109.611176\n",
      "Train Epoch: 7 [25600/60000 (43%)]\tLoss: 107.937347\n",
      "Train Epoch: 7 [38400/60000 (64%)]\tLoss: 112.506882\n",
      "Train Epoch: 7 [51200/60000 (85%)]\tLoss: 107.426010\n",
      "====> Epoch: 7 Average loss: 107.7486\n",
      "Train Epoch: 8 [0/60000 (0%)]\tLoss: 104.564400\n",
      "Train Epoch: 8 [12800/60000 (21%)]\tLoss: 106.271225\n",
      "Train Epoch: 8 [25600/60000 (43%)]\tLoss: 104.800468\n",
      "Train Epoch: 8 [38400/60000 (64%)]\tLoss: 106.567787\n",
      "Train Epoch: 8 [51200/60000 (85%)]\tLoss: 109.513367\n",
      "====> Epoch: 8 Average loss: 107.0784\n",
      "Train Epoch: 9 [0/60000 (0%)]\tLoss: 105.165588\n",
      "Train Epoch: 9 [12800/60000 (21%)]\tLoss: 106.489395\n",
      "Train Epoch: 9 [25600/60000 (43%)]\tLoss: 106.299957\n",
      "Train Epoch: 9 [38400/60000 (64%)]\tLoss: 104.050713\n",
      "Train Epoch: 9 [51200/60000 (85%)]\tLoss: 105.288773\n",
      "====> Epoch: 9 Average loss: 106.5675\n",
      "Train Epoch: 10 [0/60000 (0%)]\tLoss: 105.773849\n",
      "Train Epoch: 10 [12800/60000 (21%)]\tLoss: 105.780983\n",
      "Train Epoch: 10 [25600/60000 (43%)]\tLoss: 106.063774\n",
      "Train Epoch: 10 [38400/60000 (64%)]\tLoss: 108.507065\n",
      "Train Epoch: 10 [51200/60000 (85%)]\tLoss: 107.264015\n",
      "====> Epoch: 10 Average loss: 106.1237\n"
     ]
    }
   ],
   "source": [
    "# 执行训练\n",
    "for epoch in range(1, 11):\n",
    "    train(epoch)"
   ]
  },
  {
   "cell_type": "code",
   "execution_count": null,
   "id": "a082a41b",
   "metadata": {},
   "outputs": [],
   "source": []
  }
 ],
 "metadata": {
  "kernelspec": {
   "display_name": "Python 3 (ipykernel)",
   "language": "python",
   "name": "python3"
  },
  "language_info": {
   "codemirror_mode": {
    "name": "ipython",
    "version": 3
   },
   "file_extension": ".py",
   "mimetype": "text/x-python",
   "name": "python",
   "nbconvert_exporter": "python",
   "pygments_lexer": "ipython3",
   "version": "3.9.12"
  }
 },
 "nbformat": 4,
 "nbformat_minor": 5
}
