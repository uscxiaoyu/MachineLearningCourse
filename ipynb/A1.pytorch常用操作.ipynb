{
 "cells": [
  {
   "cell_type": "code",
   "execution_count": 1,
   "metadata": {},
   "outputs": [],
   "source": [
    "%config InlineBackend.figure_formats = ['svg']\n",
    "%matplotlib inline\n",
    "import matplotlib.pyplot as plt\n",
    "from torch import tensor, nn\n",
    "import numpy as np\n",
    "import torch"
   ]
  },
  {
   "cell_type": "markdown",
   "metadata": {},
   "source": [
    "## 0. Tensor"
   ]
  },
  {
   "cell_type": "markdown",
   "metadata": {},
   "source": [
    "torch.Tensor是一种包含单一数据类型元素的多维矩阵。Torch定义了七种CPU tensor类型和八种GPU tensor类型：\n",
    "\n",
    "|Data type|\t CPU tensor | GPU tensor|\n",
    "|:---|:---|:---|\n",
    "|32-bit floating point|\ttorch.FloatTensor|\ttorch.cuda.FloatTensor|\n",
    "|64-bit floating point|\ttorch.DoubleTensor|\ttorch.cuda.DoubleTensor|\n",
    "|16-bit floating point|\tN/A|\ttorch.cuda.HalfTensor|\n",
    "|8-bit integer (unsigned)|\ttorch.ByteTensor|\ttorch.cuda.ByteTensor|\n",
    "|8-bit integer (signed)|\ttorch.CharTensor|\ttorch.cuda.CharTensor|\n",
    "|16-bit integer (signed)|\ttorch.ShortTensor|\ttorch.cuda.ShortTensor|\n",
    "|32-bit integer (signed)|\ttorch.IntTensor|\ttorch.cuda.IntTensor|\n",
    "|64-bit integer (signed)|\ttorch.LongTensor|\ttorch.cuda.LongTensor|"
   ]
  },
  {
   "cell_type": "markdown",
   "metadata": {},
   "source": [
    "- `torch.tensor`和`torch.Tensor`的区别"
   ]
  },
  {
   "cell_type": "code",
   "execution_count": 2,
   "metadata": {},
   "outputs": [
    {
     "data": {
      "text/plain": [
       "'torch.FloatTensor'"
      ]
     },
     "execution_count": 2,
     "metadata": {},
     "output_type": "execute_result"
    }
   ],
   "source": [
    "torch.Tensor([5, 4]).type()"
   ]
  },
  {
   "cell_type": "code",
   "execution_count": 3,
   "metadata": {},
   "outputs": [
    {
     "data": {
      "text/plain": [
       "tensor([5., 4.])"
      ]
     },
     "execution_count": 3,
     "metadata": {},
     "output_type": "execute_result"
    }
   ],
   "source": [
    "torch.Tensor([5, 4])"
   ]
  },
  {
   "cell_type": "code",
   "execution_count": 4,
   "metadata": {},
   "outputs": [
    {
     "data": {
      "text/plain": [
       "'torch.LongTensor'"
      ]
     },
     "execution_count": 4,
     "metadata": {},
     "output_type": "execute_result"
    }
   ],
   "source": [
    "torch.tensor([5, 4]).type()  # tensor接受已经存在的数据"
   ]
  },
  {
   "cell_type": "code",
   "execution_count": 5,
   "metadata": {},
   "outputs": [
    {
     "data": {
      "text/plain": [
       "tensor([5, 4])"
      ]
     },
     "execution_count": 5,
     "metadata": {},
     "output_type": "execute_result"
    }
   ],
   "source": [
    "torch.tensor([5, 4])  # tensor接受已经存在的数据"
   ]
  },
  {
   "cell_type": "code",
   "execution_count": 6,
   "metadata": {},
   "outputs": [
    {
     "data": {
      "text/plain": [
       "tensor([[3.3631e-44,        nan, 5.7132e+14, 4.5674e-41],\n",
       "        [1.4013e-45, 0.0000e+00, 1.4013e-45, 7.0065e-45],\n",
       "        [1.4013e-45, 0.0000e+00, 1.4013e-45, 7.0065e-45],\n",
       "        [2.9427e-44, 0.0000e+00, 3.0880e-36, 0.0000e+00],\n",
       "        [1.1086e-09, 4.5674e-41, 1.4013e-45, 4.5674e-41]])"
      ]
     },
     "execution_count": 6,
     "metadata": {},
     "output_type": "execute_result"
    }
   ],
   "source": [
    "torch.Tensor(5, 4)  #  Tensor创建一个多维矩阵"
   ]
  },
  {
   "cell_type": "code",
   "execution_count": 7,
   "metadata": {
    "tags": []
   },
   "outputs": [
    {
     "name": "stdout",
     "output_type": "stream",
     "text": [
      "tensor([8.6987e+22, 4.5674e-41, 3.0891e-36, 0.0000e+00, 1.4013e-45])\n",
      "tensor([5.])\n",
      "tensor(5)\n"
     ]
    }
   ],
   "source": [
    "print(torch.Tensor(5), torch.Tensor([5]), torch.tensor(5), sep='\\n')"
   ]
  },
  {
   "cell_type": "markdown",
   "metadata": {},
   "source": [
    "- 不同类别的`Tensor`"
   ]
  },
  {
   "cell_type": "code",
   "execution_count": 8,
   "metadata": {},
   "outputs": [
    {
     "data": {
      "text/plain": [
       "tensor([[1, 2, 3],\n",
       "        [4, 5, 6]], dtype=torch.int32)"
      ]
     },
     "execution_count": 8,
     "metadata": {},
     "output_type": "execute_result"
    }
   ],
   "source": [
    "torch.IntTensor([[1, 2, 3], [4, 5, 6]])  # 一个张量tensor可以从Python的list或序列构建："
   ]
  },
  {
   "cell_type": "code",
   "execution_count": 9,
   "metadata": {},
   "outputs": [
    {
     "data": {
      "text/plain": [
       "tensor([[0, 0, 0, 0],\n",
       "        [0, 0, 0, 0]], dtype=torch.int16)"
      ]
     },
     "execution_count": 9,
     "metadata": {},
     "output_type": "execute_result"
    }
   ],
   "source": [
    "torch.ShortTensor(2, 4).zero_()  # 一个空张量tensor可以通过规定其大小来构建："
   ]
  },
  {
   "cell_type": "code",
   "execution_count": 10,
   "metadata": {},
   "outputs": [
    {
     "data": {
      "text/plain": [
       "tensor([0, 1, 2, 3, 4, 5, 6, 7, 8, 9], dtype=torch.uint8)"
      ]
     },
     "execution_count": 10,
     "metadata": {},
     "output_type": "execute_result"
    }
   ],
   "source": [
    "torch.ByteTensor(range(10))"
   ]
  },
  {
   "cell_type": "code",
   "execution_count": 11,
   "metadata": {},
   "outputs": [
    {
     "data": {
      "text/plain": [
       "tensor([0, 1, 2, 3, 4, 5, 6, 7, 8, 9], dtype=torch.int16)"
      ]
     },
     "execution_count": 11,
     "metadata": {},
     "output_type": "execute_result"
    }
   ],
   "source": [
    "torch.ShortTensor(np.arange(10))"
   ]
  },
  {
   "cell_type": "code",
   "execution_count": 12,
   "metadata": {},
   "outputs": [
    {
     "data": {
      "text/plain": [
       "'torch.LongTensor'"
      ]
     },
     "execution_count": 12,
     "metadata": {},
     "output_type": "execute_result"
    }
   ],
   "source": [
    "u = np.random.randint(10, size=(2, 10))\n",
    "u = torch.from_numpy(u)  # 默认转为LongTensor\n",
    "u.type()"
   ]
  },
  {
   "cell_type": "code",
   "execution_count": 13,
   "metadata": {},
   "outputs": [
    {
     "data": {
      "text/plain": [
       "tensor([[7, 0, 9, 5, 6, 9, 0, 3, 3, 2],\n",
       "        [2, 1, 2, 4, 1, 9, 1, 2, 3, 4]])"
      ]
     },
     "execution_count": 13,
     "metadata": {},
     "output_type": "execute_result"
    }
   ],
   "source": [
    "u"
   ]
  },
  {
   "cell_type": "code",
   "execution_count": 14,
   "metadata": {},
   "outputs": [
    {
     "data": {
      "text/plain": [
       "False"
      ]
     },
     "execution_count": 14,
     "metadata": {},
     "output_type": "execute_result"
    }
   ],
   "source": [
    "u.requires_grad"
   ]
  },
  {
   "cell_type": "code",
   "execution_count": 15,
   "metadata": {},
   "outputs": [
    {
     "data": {
      "text/plain": [
       "'torch.LongTensor'"
      ]
     },
     "execution_count": 15,
     "metadata": {},
     "output_type": "execute_result"
    }
   ],
   "source": [
    "u.type()"
   ]
  },
  {
   "cell_type": "code",
   "execution_count": 16,
   "metadata": {},
   "outputs": [],
   "source": [
    "u = u.type(torch.FloatTensor)"
   ]
  },
  {
   "cell_type": "code",
   "execution_count": 17,
   "metadata": {},
   "outputs": [],
   "source": [
    "u.requires_grad = True  # 附加梯度，反向传播时计算"
   ]
  },
  {
   "cell_type": "code",
   "execution_count": 18,
   "metadata": {},
   "outputs": [
    {
     "data": {
      "text/plain": [
       "tensor([[7., 0., 9., 5., 6., 9., 0., 3., 3., 2.],\n",
       "        [2., 1., 2., 4., 1., 9., 1., 2., 3., 4.]], requires_grad=True)"
      ]
     },
     "execution_count": 18,
     "metadata": {},
     "output_type": "execute_result"
    }
   ],
   "source": [
    "u"
   ]
  },
  {
   "cell_type": "markdown",
   "metadata": {},
   "source": [
    "## 1.常用函数"
   ]
  },
  {
   "cell_type": "code",
   "execution_count": 19,
   "metadata": {},
   "outputs": [
    {
     "data": {
      "text/plain": [
       "tensor([[25, 10, 31,  1, 41],\n",
       "        [30, 31,  2, 34, 48],\n",
       "        [24, 46, 42, 19, 42],\n",
       "        [18, 41,  9, 21, 47],\n",
       "        [47, 17,  9, 13, 47],\n",
       "        [49, 24,  8,  6, 39],\n",
       "        [48, 29, 33, 36, 33],\n",
       "        [22, 24, 40, 24, 23],\n",
       "        [26,  9, 20, 13, 34],\n",
       "        [12, 40, 41, 43, 10]])"
      ]
     },
     "execution_count": 19,
     "metadata": {},
     "output_type": "execute_result"
    }
   ],
   "source": [
    "x = torch.randint(1, 50, size=(10, 5))\n",
    "x"
   ]
  },
  {
   "cell_type": "code",
   "execution_count": 20,
   "metadata": {},
   "outputs": [
    {
     "data": {
      "text/plain": [
       "torch.Size([10, 5])"
      ]
     },
     "execution_count": 20,
     "metadata": {},
     "output_type": "execute_result"
    }
   ],
   "source": [
    "x.size()"
   ]
  },
  {
   "cell_type": "code",
   "execution_count": 21,
   "metadata": {},
   "outputs": [
    {
     "data": {
      "text/plain": [
       "torch.Size([10, 5])"
      ]
     },
     "execution_count": 21,
     "metadata": {},
     "output_type": "execute_result"
    }
   ],
   "source": [
    "x.shape  # 各维度上的数量"
   ]
  },
  {
   "cell_type": "code",
   "execution_count": 22,
   "metadata": {},
   "outputs": [
    {
     "data": {
      "text/plain": [
       "tensor([[25, 10, 31,  1, 41, 30, 31,  2, 34, 48],\n",
       "        [24, 46, 42, 19, 42, 18, 41,  9, 21, 47],\n",
       "        [47, 17,  9, 13, 47, 49, 24,  8,  6, 39],\n",
       "        [48, 29, 33, 36, 33, 22, 24, 40, 24, 23],\n",
       "        [26,  9, 20, 13, 34, 12, 40, 41, 43, 10]])"
      ]
     },
     "execution_count": 22,
     "metadata": {},
     "output_type": "execute_result"
    }
   ],
   "source": [
    "x.reshape(5, 10)  # 重塑形状"
   ]
  },
  {
   "cell_type": "code",
   "execution_count": 23,
   "metadata": {},
   "outputs": [
    {
     "data": {
      "text/plain": [
       "tensor([[25, 10, 31,  1, 41, 30, 31,  2, 34, 48],\n",
       "        [24, 46, 42, 19, 42, 18, 41,  9, 21, 47],\n",
       "        [47, 17,  9, 13, 47, 49, 24,  8,  6, 39],\n",
       "        [48, 29, 33, 36, 33, 22, 24, 40, 24, 23],\n",
       "        [26,  9, 20, 13, 34, 12, 40, 41, 43, 10]])"
      ]
     },
     "execution_count": 23,
     "metadata": {},
     "output_type": "execute_result"
    }
   ],
   "source": [
    "x.reshape(5, -1)  # 如果某一维度为-1，则根据总元素个数自动计算该轴长度"
   ]
  },
  {
   "cell_type": "code",
   "execution_count": 24,
   "metadata": {},
   "outputs": [
    {
     "data": {
      "text/plain": [
       "50"
      ]
     },
     "execution_count": 24,
     "metadata": {},
     "output_type": "execute_result"
    }
   ],
   "source": [
    "x.numel()  # 元素个数"
   ]
  },
  {
   "cell_type": "code",
   "execution_count": 25,
   "metadata": {},
   "outputs": [
    {
     "data": {
      "text/plain": [
       "tensor([25, 10, 31,  1, 41, 30, 31,  2, 34, 48, 24, 46, 42, 19, 42, 18, 41,  9,\n",
       "        21, 47, 47, 17,  9, 13, 47, 49, 24,  8,  6, 39, 48, 29, 33, 36, 33, 22,\n",
       "        24, 40, 24, 23, 26,  9, 20, 13, 34, 12, 40, 41, 43, 10])"
      ]
     },
     "execution_count": 25,
     "metadata": {},
     "output_type": "execute_result"
    }
   ],
   "source": [
    "x.reshape(50)"
   ]
  },
  {
   "cell_type": "code",
   "execution_count": 26,
   "metadata": {},
   "outputs": [
    {
     "data": {
      "text/plain": [
       "tensor([1, 3, 5, 7, 9])"
      ]
     },
     "execution_count": 26,
     "metadata": {},
     "output_type": "execute_result"
    }
   ],
   "source": [
    "torch.arange(1, 10, 2)  # torch.range()也可用，建议用前者"
   ]
  },
  {
   "cell_type": "code",
   "execution_count": 27,
   "metadata": {},
   "outputs": [
    {
     "data": {
      "text/plain": [
       "tensor([ 1.0000,  1.4737,  1.9474,  2.4211,  2.8947,  3.3684,  3.8421,  4.3158,\n",
       "         4.7895,  5.2632,  5.7368,  6.2105,  6.6842,  7.1579,  7.6316,  8.1053,\n",
       "         8.5789,  9.0526,  9.5263, 10.0000])"
      ]
     },
     "execution_count": 27,
     "metadata": {},
     "output_type": "execute_result"
    }
   ],
   "source": [
    "torch.linspace(1, 10, 20)"
   ]
  },
  {
   "cell_type": "code",
   "execution_count": 28,
   "metadata": {},
   "outputs": [
    {
     "data": {
      "text/plain": [
       "tensor([[1, 1, 1, 1, 1],\n",
       "        [1, 1, 1, 1, 1],\n",
       "        [1, 1, 1, 1, 1],\n",
       "        [1, 1, 1, 1, 1],\n",
       "        [1, 1, 1, 1, 1],\n",
       "        [1, 1, 1, 1, 1],\n",
       "        [1, 1, 1, 1, 1],\n",
       "        [1, 1, 1, 1, 1],\n",
       "        [1, 1, 1, 1, 1],\n",
       "        [1, 1, 1, 1, 1]])"
      ]
     },
     "execution_count": 28,
     "metadata": {},
     "output_type": "execute_result"
    }
   ],
   "source": [
    "torch.ones_like(x)"
   ]
  },
  {
   "cell_type": "code",
   "execution_count": 29,
   "metadata": {},
   "outputs": [
    {
     "data": {
      "text/plain": [
       "tensor([[1., 1., 1., 1., 1.],\n",
       "        [1., 1., 1., 1., 1.],\n",
       "        [1., 1., 1., 1., 1.],\n",
       "        [1., 1., 1., 1., 1.],\n",
       "        [1., 1., 1., 1., 1.],\n",
       "        [1., 1., 1., 1., 1.],\n",
       "        [1., 1., 1., 1., 1.],\n",
       "        [1., 1., 1., 1., 1.],\n",
       "        [1., 1., 1., 1., 1.],\n",
       "        [1., 1., 1., 1., 1.]])"
      ]
     },
     "execution_count": 29,
     "metadata": {},
     "output_type": "execute_result"
    }
   ],
   "source": [
    "torch.ones(size=x.shape)"
   ]
  },
  {
   "cell_type": "code",
   "execution_count": 30,
   "metadata": {},
   "outputs": [
    {
     "data": {
      "text/plain": [
       "tensor([0., 0., 0., 0., 0., 0., 0., 0., 0., 0.])"
      ]
     },
     "execution_count": 30,
     "metadata": {},
     "output_type": "execute_result"
    }
   ],
   "source": [
    "torch.zeros(10)"
   ]
  },
  {
   "cell_type": "code",
   "execution_count": 31,
   "metadata": {},
   "outputs": [
    {
     "data": {
      "text/plain": [
       "tensor([[0, 0, 0, 0, 0],\n",
       "        [0, 0, 0, 0, 0],\n",
       "        [0, 0, 0, 0, 0],\n",
       "        [0, 0, 0, 0, 0],\n",
       "        [0, 0, 0, 0, 0],\n",
       "        [0, 0, 0, 0, 0],\n",
       "        [0, 0, 0, 0, 0],\n",
       "        [0, 0, 0, 0, 0],\n",
       "        [0, 0, 0, 0, 0],\n",
       "        [0, 0, 0, 0, 0]])"
      ]
     },
     "execution_count": 31,
     "metadata": {},
     "output_type": "execute_result"
    }
   ],
   "source": [
    "torch.zeros_like(x)"
   ]
  },
  {
   "cell_type": "code",
   "execution_count": 32,
   "metadata": {},
   "outputs": [
    {
     "data": {
      "text/plain": [
       "tensor([[2.3672, 1.6774],\n",
       "        [2.4567, 1.7234],\n",
       "        [2.1893, 2.2081],\n",
       "        [2.3156, 1.9968],\n",
       "        [1.9375, 2.1267],\n",
       "        [1.0385, 2.5872],\n",
       "        [1.8325, 2.1550],\n",
       "        [1.3390, 1.7953],\n",
       "        [2.7948, 2.6278],\n",
       "        [1.9393, 1.8664]])"
      ]
     },
     "execution_count": 32,
     "metadata": {},
     "output_type": "execute_result"
    }
   ],
   "source": [
    "torch.randn(10, 2) * 0.5 + 2"
   ]
  },
  {
   "cell_type": "code",
   "execution_count": 33,
   "metadata": {},
   "outputs": [
    {
     "data": {
      "text/plain": [
       "tensor([[[[ 0.4569]]],\n",
       "\n",
       "\n",
       "        [[[-1.1981]]],\n",
       "\n",
       "\n",
       "        [[[-0.0924]]],\n",
       "\n",
       "\n",
       "        [[[-0.5526]]],\n",
       "\n",
       "\n",
       "        [[[-0.2381]]],\n",
       "\n",
       "\n",
       "        [[[ 0.0352]]],\n",
       "\n",
       "\n",
       "        [[[-0.4332]]],\n",
       "\n",
       "\n",
       "        [[[-0.2031]]],\n",
       "\n",
       "\n",
       "        [[[-0.8105]]],\n",
       "\n",
       "\n",
       "        [[[-1.7612]]]])"
      ]
     },
     "execution_count": 33,
     "metadata": {},
     "output_type": "execute_result"
    }
   ],
   "source": [
    "y = torch.randn(10, 1, 1, 1)  # 10*1*1*1\n",
    "y"
   ]
  },
  {
   "cell_type": "code",
   "execution_count": 34,
   "metadata": {},
   "outputs": [
    {
     "data": {
      "text/plain": [
       "tensor([ 0.4569, -1.1981, -0.0924, -0.5526, -0.2381,  0.0352, -0.4332, -0.2031,\n",
       "        -0.8105, -1.7612])"
      ]
     },
     "execution_count": 34,
     "metadata": {},
     "output_type": "execute_result"
    }
   ],
   "source": [
    "y = torch.squeeze(y)  # 10\n",
    "y"
   ]
  },
  {
   "cell_type": "code",
   "execution_count": 35,
   "metadata": {},
   "outputs": [
    {
     "data": {
      "text/plain": [
       "tensor([ 0.4569, -1.1981, -0.0924, -0.5526, -0.2381,  0.0352, -0.4332, -0.2031,\n",
       "        -0.8105, -1.7612])"
      ]
     },
     "execution_count": 35,
     "metadata": {},
     "output_type": "execute_result"
    }
   ],
   "source": [
    "y.reshape(-1)"
   ]
  },
  {
   "cell_type": "code",
   "execution_count": 36,
   "metadata": {},
   "outputs": [
    {
     "data": {
      "text/plain": [
       "tensor([[0, 1, 2, 3, 4],\n",
       "        [5, 6, 7, 8, 9]])"
      ]
     },
     "execution_count": 36,
     "metadata": {},
     "output_type": "execute_result"
    }
   ],
   "source": [
    "z = torch.arange(10).reshape(2, 5)\n",
    "z"
   ]
  },
  {
   "cell_type": "code",
   "execution_count": 37,
   "metadata": {},
   "outputs": [
    {
     "data": {
      "text/plain": [
       "tensor([[0, 5],\n",
       "        [1, 6],\n",
       "        [2, 7],\n",
       "        [3, 8],\n",
       "        [4, 9]])"
      ]
     },
     "execution_count": 37,
     "metadata": {},
     "output_type": "execute_result"
    }
   ],
   "source": [
    "z.t()  # 输入一个矩阵（2维张量），并转置0, 1维。 可以被视为函数transpose(input, 0, 1)的简写函数。"
   ]
  },
  {
   "cell_type": "code",
   "execution_count": 38,
   "metadata": {},
   "outputs": [
    {
     "data": {
      "text/plain": [
       "tensor([[0, 1],\n",
       "        [2, 3],\n",
       "        [4, 5],\n",
       "        [6, 7],\n",
       "        [8, 9]])"
      ]
     },
     "execution_count": 38,
     "metadata": {},
     "output_type": "execute_result"
    }
   ],
   "source": [
    "z.reshape(z.shape[1], -1)  # 注意和转置之间的区别"
   ]
  },
  {
   "cell_type": "code",
   "execution_count": 39,
   "metadata": {},
   "outputs": [
    {
     "data": {
      "text/plain": [
       "tensor([ 1., -1., -1., -1., -1.,  1., -1., -1., -1., -1.])"
      ]
     },
     "execution_count": 39,
     "metadata": {},
     "output_type": "execute_result"
    }
   ],
   "source": [
    "torch.sign(y)"
   ]
  },
  {
   "cell_type": "code",
   "execution_count": 40,
   "metadata": {},
   "outputs": [
    {
     "data": {
      "text/plain": [
       "tensor([0.6123, 0.2318, 0.4769, 0.3653, 0.4407, 0.5088, 0.3934, 0.4494, 0.3078,\n",
       "        0.1466])"
      ]
     },
     "execution_count": 40,
     "metadata": {},
     "output_type": "execute_result"
    }
   ],
   "source": [
    "torch.sigmoid(y)  # 返回一个新张量，包含输入input张量每个元素的sigmoid值。"
   ]
  },
  {
   "cell_type": "code",
   "execution_count": 41,
   "metadata": {},
   "outputs": [
    {
     "data": {
      "text/plain": [
       "tensor(2.4503)"
      ]
     },
     "execution_count": 41,
     "metadata": {},
     "output_type": "execute_result"
    }
   ],
   "source": [
    "torch.norm(y, p=2)  # 返回输入张量input 的p 范数"
   ]
  },
  {
   "cell_type": "code",
   "execution_count": 42,
   "metadata": {},
   "outputs": [
    {
     "data": {
      "text/plain": [
       "tensor(-0.4332)"
      ]
     },
     "execution_count": 42,
     "metadata": {},
     "output_type": "execute_result"
    }
   ],
   "source": [
    "torch.median(y)  # 返回输入张量给定维度每行的中位数，同时返回一个包含中位数的索引的LongTensor。"
   ]
  },
  {
   "cell_type": "code",
   "execution_count": 43,
   "metadata": {},
   "outputs": [
    {
     "data": {
      "text/plain": [
       "tensor(2.9444e-05)"
      ]
     },
     "execution_count": 43,
     "metadata": {},
     "output_type": "execute_result"
    }
   ],
   "source": [
    "torch.prod(y)  # 返回输入张量input 所有元素的积。"
   ]
  },
  {
   "cell_type": "code",
   "execution_count": 44,
   "metadata": {},
   "outputs": [
    {
     "data": {
      "text/plain": [
       "torch.return_types.sort(\n",
       "values=tensor([ 0.4569,  0.0352, -0.0924, -0.2031, -0.2381, -0.4332, -0.5526, -0.8105,\n",
       "        -1.1981, -1.7612]),\n",
       "indices=tensor([0, 5, 2, 7, 4, 6, 3, 8, 1, 9]))"
      ]
     },
     "execution_count": 44,
     "metadata": {},
     "output_type": "execute_result"
    }
   ],
   "source": [
    "torch.sort(y, dim=0, descending=True)  # 对输入张量input沿着指定维按升序排序。如果不给定dim，则默认为输入的最后一维。如果指定参数descending为True，则按降序排序"
   ]
  },
  {
   "cell_type": "code",
   "execution_count": 45,
   "metadata": {},
   "outputs": [
    {
     "data": {
      "text/plain": [
       "tensor([0.0000, 0.0000, 0.0000, 0.0000, 0.1271, 0.3936, 0.0000, 1.2244, 0.0000,\n",
       "        0.7660])"
      ]
     },
     "execution_count": 45,
     "metadata": {},
     "output_type": "execute_result"
    }
   ],
   "source": [
    "torch.relu(torch.randn(10))"
   ]
  },
  {
   "cell_type": "markdown",
   "metadata": {},
   "source": [
    "- 二元运算"
   ]
  },
  {
   "cell_type": "code",
   "execution_count": 46,
   "metadata": {},
   "outputs": [],
   "source": [
    "a = torch.arange(10)\n",
    "b = torch.arange(10, 20)"
   ]
  },
  {
   "cell_type": "code",
   "execution_count": 47,
   "metadata": {},
   "outputs": [
    {
     "data": {
      "text/plain": [
       "tensor([  0,  11,  24,  39,  56,  75,  96, 119, 144, 171])"
      ]
     },
     "execution_count": 47,
     "metadata": {},
     "output_type": "execute_result"
    }
   ],
   "source": [
    "a * b  # 按元素乘"
   ]
  },
  {
   "cell_type": "code",
   "execution_count": 48,
   "metadata": {},
   "outputs": [
    {
     "data": {
      "text/plain": [
       "tensor([  0,  11,  24,  39,  56,  75,  96, 119, 144, 171])"
      ]
     },
     "execution_count": 48,
     "metadata": {},
     "output_type": "execute_result"
    }
   ],
   "source": [
    "torch.mul(a, b)  # 按元素乘"
   ]
  },
  {
   "cell_type": "code",
   "execution_count": 49,
   "metadata": {},
   "outputs": [
    {
     "data": {
      "text/plain": [
       "tensor(735)"
      ]
     },
     "execution_count": 49,
     "metadata": {},
     "output_type": "execute_result"
    }
   ],
   "source": [
    "torch.matmul(a, b)  # 矩阵乘法，前者 矩阵乘 后者的转置"
   ]
  },
  {
   "cell_type": "code",
   "execution_count": 50,
   "metadata": {},
   "outputs": [
    {
     "data": {
      "text/plain": [
       "tensor([[735]])"
      ]
     },
     "execution_count": 50,
     "metadata": {},
     "output_type": "execute_result"
    }
   ],
   "source": [
    "torch.mm(a.reshape(1, -1), b.reshape(-1, 1))"
   ]
  },
  {
   "cell_type": "code",
   "execution_count": 52,
   "metadata": {},
   "outputs": [
    {
     "data": {
      "text/plain": [
       "(tensor([[0, 1, 2, 3, 4, 5, 6, 7, 8, 9]]),\n",
       " tensor([[10],\n",
       "         [11],\n",
       "         [12],\n",
       "         [13],\n",
       "         [14],\n",
       "         [15],\n",
       "         [16],\n",
       "         [17],\n",
       "         [18],\n",
       "         [19]]))"
      ]
     },
     "execution_count": 52,
     "metadata": {},
     "output_type": "execute_result"
    }
   ],
   "source": [
    "a.reshape(1, -1), b.reshape(-1, 1)"
   ]
  },
  {
   "cell_type": "code",
   "execution_count": 53,
   "metadata": {},
   "outputs": [
    {
     "data": {
      "text/plain": [
       "tensor(735)"
      ]
     },
     "execution_count": 53,
     "metadata": {},
     "output_type": "execute_result"
    }
   ],
   "source": [
    "torch.dot(a, b)  # 內积"
   ]
  },
  {
   "cell_type": "code",
   "execution_count": 54,
   "metadata": {},
   "outputs": [
    {
     "data": {
      "text/plain": [
       "tensor(735)"
      ]
     },
     "execution_count": 54,
     "metadata": {},
     "output_type": "execute_result"
    }
   ],
   "source": [
    "a @ b  # 矩阵乘， 前者 矩阵乘 后者的转置"
   ]
  },
  {
   "cell_type": "code",
   "execution_count": 55,
   "metadata": {},
   "outputs": [],
   "source": [
    "x = torch.rand(4, 3)\n",
    "y = torch.rand(3, 4)"
   ]
  },
  {
   "cell_type": "code",
   "execution_count": 56,
   "metadata": {},
   "outputs": [
    {
     "data": {
      "text/plain": [
       "tensor([[0.3232, 0.5432, 0.5409, 0.2988],\n",
       "        [0.5736, 0.9277, 1.0948, 1.1280],\n",
       "        [0.2581, 0.3654, 0.3985, 0.2193],\n",
       "        [0.2108, 1.0656, 0.8122, 0.8384]])"
      ]
     },
     "execution_count": 56,
     "metadata": {},
     "output_type": "execute_result"
    }
   ],
   "source": [
    "torch.mm(x, y)  # 矩阵乘法: 对矩阵mat1和mat2进行相乘。 如果mat1 是一个n×m张量，mat2 是一个 m×p张量，将会输出一个 n×p张量out。"
   ]
  },
  {
   "cell_type": "code",
   "execution_count": 57,
   "metadata": {},
   "outputs": [
    {
     "data": {
      "text/plain": [
       "tensor([[0.3232, 0.5432, 0.5409, 0.2988],\n",
       "        [0.5736, 0.9277, 1.0948, 1.1280],\n",
       "        [0.2581, 0.3654, 0.3985, 0.2193],\n",
       "        [0.2108, 1.0656, 0.8122, 0.8384]])"
      ]
     },
     "execution_count": 57,
     "metadata": {},
     "output_type": "execute_result"
    }
   ],
   "source": [
    "torch.matmul(x, y)"
   ]
  },
  {
   "cell_type": "code",
   "execution_count": 58,
   "metadata": {},
   "outputs": [
    {
     "data": {
      "text/plain": [
       "tensor([[0.3232, 0.5432, 0.5409, 0.2988],\n",
       "        [0.5736, 0.9277, 1.0948, 1.1280],\n",
       "        [0.2581, 0.3654, 0.3985, 0.2193],\n",
       "        [0.2108, 1.0656, 0.8122, 0.8384]])"
      ]
     },
     "execution_count": 58,
     "metadata": {},
     "output_type": "execute_result"
    }
   ],
   "source": [
    "x @ y  # 矩阵乘法运算符"
   ]
  },
  {
   "cell_type": "code",
   "execution_count": 59,
   "metadata": {},
   "outputs": [],
   "source": [
    "z = torch.rand(3)"
   ]
  },
  {
   "cell_type": "code",
   "execution_count": 60,
   "metadata": {},
   "outputs": [
    {
     "data": {
      "text/plain": [
       "tensor([0.4354, 0.6444, 0.3290, 0.3922])"
      ]
     },
     "execution_count": 60,
     "metadata": {},
     "output_type": "execute_result"
    }
   ],
   "source": [
    "torch.mv(x, z)  # 矩阵向量乘： 对矩阵mat和向量vec进行相乘。 如果mat 是一个n×m张量，vec 是一个m元 1维张量，将会输出一个n元 1维张量。"
   ]
  },
  {
   "cell_type": "code",
   "execution_count": 61,
   "metadata": {},
   "outputs": [
    {
     "data": {
      "text/plain": [
       "tensor([0.4354, 0.6444, 0.3290, 0.3922])"
      ]
     },
     "execution_count": 61,
     "metadata": {},
     "output_type": "execute_result"
    }
   ],
   "source": [
    "x @ z"
   ]
  },
  {
   "cell_type": "markdown",
   "metadata": {},
   "source": [
    "- 张量拼接"
   ]
  },
  {
   "cell_type": "code",
   "execution_count": 62,
   "metadata": {},
   "outputs": [],
   "source": [
    "a = tensor(range(10), dtype=torch.float32).reshape(2, 5)\n",
    "b = tensor(range(10, 20), dtype=torch.float32).reshape(2, 5)\n",
    "c = tensor(range(20, 30), dtype=torch.float32).reshape(2, 5)"
   ]
  },
  {
   "cell_type": "code",
   "execution_count": 63,
   "metadata": {},
   "outputs": [
    {
     "data": {
      "text/plain": [
       "(tensor([[0., 1., 2., 3., 4.],\n",
       "         [5., 6., 7., 8., 9.]]),\n",
       " tensor([[10., 11., 12., 13., 14.],\n",
       "         [15., 16., 17., 18., 19.]]),\n",
       " tensor([[20., 21., 22., 23., 24.],\n",
       "         [25., 26., 27., 28., 29.]]))"
      ]
     },
     "execution_count": 63,
     "metadata": {},
     "output_type": "execute_result"
    }
   ],
   "source": [
    "a, b, c"
   ]
  },
  {
   "cell_type": "code",
   "execution_count": 64,
   "metadata": {},
   "outputs": [
    {
     "data": {
      "text/plain": [
       "tensor([[ 0.,  1.,  2.,  3.,  4.],\n",
       "        [ 5.,  6.,  7.,  8.,  9.],\n",
       "        [10., 11., 12., 13., 14.],\n",
       "        [15., 16., 17., 18., 19.],\n",
       "        [20., 21., 22., 23., 24.],\n",
       "        [25., 26., 27., 28., 29.]])"
      ]
     },
     "execution_count": 64,
     "metadata": {},
     "output_type": "execute_result"
    }
   ],
   "source": [
    "cat_ = torch.cat([a, b, c], 0)  # 在给定维度上对输入的张量序列进行连接操作，和extend类似\n",
    "cat_"
   ]
  },
  {
   "cell_type": "code",
   "execution_count": 65,
   "metadata": {},
   "outputs": [
    {
     "name": "stdout",
     "output_type": "stream",
     "text": [
      "1\n"
     ]
    }
   ],
   "source": [
    "if torch.sum(a) > 10:\n",
    "    print(1)"
   ]
  },
  {
   "cell_type": "code",
   "execution_count": 66,
   "metadata": {},
   "outputs": [
    {
     "data": {
      "text/plain": [
       "tensor([[ 0.,  1.,  2.,  3.,  4., 10., 11., 12., 13., 14., 20., 21., 22., 23.,\n",
       "         24.],\n",
       "        [ 5.,  6.,  7.,  8.,  9., 15., 16., 17., 18., 19., 25., 26., 27., 28.,\n",
       "         29.]])"
      ]
     },
     "execution_count": 66,
     "metadata": {},
     "output_type": "execute_result"
    }
   ],
   "source": [
    "torch.cat([a, b, c], 1)"
   ]
  },
  {
   "cell_type": "code",
   "execution_count": 67,
   "metadata": {},
   "outputs": [],
   "source": [
    "stack_ = torch.stack([a, b, c], 0)  # 沿着一个新维度对输入张量序列进行连接。 序列中所有的张量都应该为相同形状。"
   ]
  },
  {
   "cell_type": "code",
   "execution_count": 68,
   "metadata": {},
   "outputs": [
    {
     "data": {
      "text/plain": [
       "tensor([[[ 0.,  1.,  2.,  3.,  4.],\n",
       "         [ 5.,  6.,  7.,  8.,  9.]],\n",
       "\n",
       "        [[10., 11., 12., 13., 14.],\n",
       "         [15., 16., 17., 18., 19.]],\n",
       "\n",
       "        [[20., 21., 22., 23., 24.],\n",
       "         [25., 26., 27., 28., 29.]]])"
      ]
     },
     "execution_count": 68,
     "metadata": {},
     "output_type": "execute_result"
    }
   ],
   "source": [
    "stack_"
   ]
  },
  {
   "cell_type": "code",
   "execution_count": 69,
   "metadata": {},
   "outputs": [
    {
     "data": {
      "text/plain": [
       "(tensor([[[ 0.,  1.],\n",
       "          [ 5.,  6.]],\n",
       " \n",
       "         [[10., 11.],\n",
       "          [15., 16.]],\n",
       " \n",
       "         [[20., 21.],\n",
       "          [25., 26.]]]),\n",
       " tensor([[[ 2.,  3.,  4.],\n",
       "          [ 7.,  8.,  9.]],\n",
       " \n",
       "         [[12., 13., 14.],\n",
       "          [17., 18., 19.]],\n",
       " \n",
       "         [[22., 23., 24.],\n",
       "          [27., 28., 29.]]]))"
      ]
     },
     "execution_count": 69,
     "metadata": {},
     "output_type": "execute_result"
    }
   ],
   "source": [
    "stack_.split([2, 3], -1)"
   ]
  },
  {
   "cell_type": "code",
   "execution_count": 70,
   "metadata": {},
   "outputs": [
    {
     "data": {
      "text/plain": [
       "(tensor([[[ 0.,  1.,  2.,  3.,  4.]],\n",
       " \n",
       "         [[10., 11., 12., 13., 14.]],\n",
       " \n",
       "         [[20., 21., 22., 23., 24.]]]),\n",
       " tensor([[[ 5.,  6.,  7.,  8.,  9.]],\n",
       " \n",
       "         [[15., 16., 17., 18., 19.]],\n",
       " \n",
       "         [[25., 26., 27., 28., 29.]]]))"
      ]
     },
     "execution_count": 70,
     "metadata": {},
     "output_type": "execute_result"
    }
   ],
   "source": [
    "stack_.chunk(2, 1)"
   ]
  },
  {
   "cell_type": "markdown",
   "metadata": {},
   "source": [
    "## 2. 自动求导`autograd`\n",
    "\n",
    "torch.autograd提供了类和函数用来对任意标量函数进行求导。"
   ]
  },
  {
   "cell_type": "markdown",
   "metadata": {},
   "source": [
    "实例:\n",
    "$$\n",
    "f(\\mathbf{x})=2\\mathbf{x}+1, g(y)=\\mathbf{y^2}+5, z=mean(\\mathbf{g(y)})\n",
    "$$\n",
    "求$\\frac{dz}{dx}$"
   ]
  },
  {
   "cell_type": "code",
   "execution_count": 71,
   "metadata": {},
   "outputs": [],
   "source": [
    "def f(x:tensor):\n",
    "    return 2*x + 1\n",
    "\n",
    "def g(x:tensor):\n",
    "    return x**2 + 5\n",
    "\n",
    "def mean(x:tensor):\n",
    "    return torch.mean(x)"
   ]
  },
  {
   "cell_type": "code",
   "execution_count": 72,
   "metadata": {},
   "outputs": [],
   "source": [
    "def dz_dx(x:tensor):  # 实际上的导数\n",
    "    return (8*x + 4) / x.numel()"
   ]
  },
  {
   "cell_type": "code",
   "execution_count": 73,
   "metadata": {},
   "outputs": [],
   "source": [
    "x = torch.randint(1, 10, size=(2, 5), dtype=torch.float32, requires_grad=True)"
   ]
  },
  {
   "cell_type": "code",
   "execution_count": 74,
   "metadata": {},
   "outputs": [
    {
     "data": {
      "text/plain": [
       "True"
      ]
     },
     "execution_count": 74,
     "metadata": {},
     "output_type": "execute_result"
    }
   ],
   "source": [
    "x.requires_grad\n",
    "# x.requires_grad_(True)  # 如果为False, 可以追加"
   ]
  },
  {
   "cell_type": "code",
   "execution_count": 75,
   "metadata": {},
   "outputs": [
    {
     "data": {
      "text/plain": [
       "tensor([[2., 3., 8., 7., 2.],\n",
       "        [1., 4., 8., 4., 5.]], requires_grad=True)"
      ]
     },
     "execution_count": 75,
     "metadata": {},
     "output_type": "execute_result"
    }
   ],
   "source": [
    "x.requires_grad_(True)"
   ]
  },
  {
   "cell_type": "markdown",
   "metadata": {},
   "source": [
    "torch自动求导结果"
   ]
  },
  {
   "cell_type": "code",
   "execution_count": 76,
   "metadata": {},
   "outputs": [
    {
     "data": {
      "text/plain": [
       "tensor([[2.0000, 2.8000, 6.8000, 6.0000, 2.0000],\n",
       "        [1.2000, 3.6000, 6.8000, 3.6000, 4.4000]])"
      ]
     },
     "execution_count": 76,
     "metadata": {},
     "output_type": "execute_result"
    }
   ],
   "source": [
    "z = mean(g(f(x)))\n",
    "z.backward()  # 反向传播，自动求微分\n",
    "x.grad  # dz/dx"
   ]
  },
  {
   "cell_type": "markdown",
   "metadata": {},
   "source": [
    "解析求导结果"
   ]
  },
  {
   "cell_type": "code",
   "execution_count": 77,
   "metadata": {},
   "outputs": [
    {
     "data": {
      "text/plain": [
       "tensor([[2.0000, 2.8000, 6.8000, 6.0000, 2.0000],\n",
       "        [1.2000, 3.6000, 6.8000, 3.6000, 4.4000]], grad_fn=<DivBackward0>)"
      ]
     },
     "execution_count": 77,
     "metadata": {},
     "output_type": "execute_result"
    }
   ],
   "source": [
    "dz_dx(x)  # dz/dx"
   ]
  },
  {
   "cell_type": "code",
   "execution_count": 78,
   "metadata": {},
   "outputs": [
    {
     "data": {
      "text/plain": [
       "<MeanBackward0 at 0x7f51d6dce2b0>"
      ]
     },
     "execution_count": 78,
     "metadata": {},
     "output_type": "execute_result"
    }
   ],
   "source": [
    "z.grad_fn"
   ]
  },
  {
   "cell_type": "code",
   "execution_count": 79,
   "metadata": {},
   "outputs": [
    {
     "data": {
      "text/plain": [
       "tensor([[0., 1., 2., 3., 4.],\n",
       "        [5., 6., 7., 8., 9.]])"
      ]
     },
     "execution_count": 79,
     "metadata": {},
     "output_type": "execute_result"
    }
   ],
   "source": [
    "a"
   ]
  },
  {
   "cell_type": "code",
   "execution_count": 80,
   "metadata": {},
   "outputs": [
    {
     "data": {
      "text/plain": [
       "tensor([[0., 1., 2., 3., 4.],\n",
       "        [5., 6., 7., 8., 9.],\n",
       "        [0., 1., 2., 3., 4.],\n",
       "        [5., 6., 7., 8., 9.]])"
      ]
     },
     "execution_count": 80,
     "metadata": {},
     "output_type": "execute_result"
    }
   ],
   "source": [
    "torch.cat([a, a[:5]])"
   ]
  },
  {
   "cell_type": "code",
   "execution_count": 81,
   "metadata": {},
   "outputs": [
    {
     "data": {
      "text/plain": [
       "tensor([[0., 1., 2., 3., 4.],\n",
       "        [5., 6., 7., 8., 9.]])"
      ]
     },
     "execution_count": 81,
     "metadata": {},
     "output_type": "execute_result"
    }
   ],
   "source": [
    "a"
   ]
  },
  {
   "cell_type": "markdown",
   "metadata": {},
   "source": [
    "## 3. 案例: Bass模型拟合"
   ]
  },
  {
   "cell_type": "code",
   "execution_count": 82,
   "metadata": {},
   "outputs": [],
   "source": [
    "def adaptive_momentum(lossfunc, w, x_dict, beta1=0.5, beta2=0.9, learn_rate=0.999, max_iter=1000, epsilon=1e-8):\n",
    "    trace_w = w.clone().data.reshape(1, -1)\n",
    "    v_0, s_0 = 0, 0\n",
    "    i = 1\n",
    "    while i <= max_iter:\n",
    "        l = lossfunc(w, **x_dict)\n",
    "        l.backward()\n",
    "        v_1 = (beta1 * v_0 + (1 - beta1) * w.grad.data) / (1 - beta1 ** i)\n",
    "        s_1 = (beta2 * s_0 + (1 - beta2) * w.grad.data ** 2) / (1 - beta2 ** i)\n",
    "        w.data.sub_(learn_rate * v_1 / (torch.sqrt(s_1) + epsilon))\n",
    "        with torch.no_grad():\n",
    "            trace_w = torch.cat([trace_w, w.detach().data.reshape(1, -1)], 0)\n",
    "            if i % 50 == 0:\n",
    "                loss = lossfunc(w, **x_dict).data.numpy()\n",
    "                print(f\"迭代次数: {i}, 损失函数值: {loss:.4f}\")\n",
    "\n",
    "            if torch.sum(torch.abs(trace_w[-1] - trace_w[-2])) < 1e-3:  # 停止条件\n",
    "                break\n",
    "\n",
    "        w.grad.zero_()\n",
    "        v_0, s_0 = v_1, s_1\n",
    "        i += 1\n",
    "\n",
    "    print(f\"共迭代{i - 1}次, 损失函数值: {lossfunc(w, **x_dict).data.numpy():.4f}, 最优参数值: {w.tolist()}\")\n",
    "    return trace_w"
   ]
  },
  {
   "cell_type": "code",
   "execution_count": 83,
   "metadata": {},
   "outputs": [],
   "source": [
    "def bass(params, T:int): # 如果要使用其它模型，可以重新定义\n",
    "    p, q, m = params\n",
    "    t_tensor = torch.arange(1, T + 1, dtype=torch.float32)\n",
    "    a = 1 - torch.exp(- (p + q) * t_tensor)\n",
    "    b = 1 + q / p * torch.exp(- (p + q) * t_tensor)\n",
    "    diffu_cont = m * a / b\n",
    "\n",
    "    adopt_cont = torch.zeros_like(diffu_cont)\n",
    "    adopt_cont[0] = diffu_cont[0]\n",
    "    for t in range(1, T):\n",
    "        adopt_cont[t] = diffu_cont[t] - diffu_cont[t - 1]\n",
    "        \n",
    "    return adopt_cont"
   ]
  },
  {
   "cell_type": "code",
   "execution_count": 84,
   "metadata": {},
   "outputs": [],
   "source": [
    "def meanSquaredLoss(params, y):  # 平均平方误差\n",
    "    T = y.numel()\n",
    "    hat_y = bass(params, T)\n",
    "    return torch.mean((hat_y - y)**2)"
   ]
  },
  {
   "cell_type": "code",
   "execution_count": 85,
   "metadata": {},
   "outputs": [],
   "source": [
    "def r_2(params, y):  # R2\n",
    "    T = y.numel()\n",
    "    hat_y = bass(params, T)\n",
    "    tse = torch.sum((y - hat_y)**2)\n",
    "    ssl = torch.sum((y - torch.mean(y))**2)\n",
    "    R_2 = (ssl - tse)/ssl\n",
    "    return R_2"
   ]
  },
  {
   "cell_type": "code",
   "execution_count": 86,
   "metadata": {},
   "outputs": [],
   "source": [
    "y = tensor([96, 195, 238, 380, 1045, 1230, 1267, 1828, 1586, 1673, 1800, 1580, 1500], dtype=torch.float32) / 1000"
   ]
  },
  {
   "cell_type": "code",
   "execution_count": 87,
   "metadata": {},
   "outputs": [
    {
     "name": "stdout",
     "output_type": "stream",
     "text": [
      "迭代次数: 50, 损失函数值: 0.0284\n",
      "迭代次数: 100, 损失函数值: 0.0280\n",
      "迭代次数: 150, 损失函数值: 0.0278\n",
      "迭代次数: 200, 损失函数值: 0.0284\n",
      "迭代次数: 250, 损失函数值: 0.0281\n",
      "迭代次数: 300, 损失函数值: 0.0271\n",
      "迭代次数: 350, 损失函数值: 0.0280\n",
      "迭代次数: 400, 损失函数值: 0.0275\n",
      "迭代次数: 450, 损失函数值: 0.0264\n",
      "迭代次数: 500, 损失函数值: 0.0272\n",
      "迭代次数: 550, 损失函数值: 0.0278\n",
      "迭代次数: 600, 损失函数值: 0.0264\n",
      "共迭代628次, 损失函数值: 0.0265, 最优参数值: [0.009357522241771221, 0.3703031837940216, 18.873661041259766]\n",
      "r2: 0.9325102\n"
     ]
    }
   ],
   "source": [
    "params = torch.FloatTensor([0.001, 0.3, 20])\n",
    "params.requires_grad_(True)\n",
    "# res = grad_desc(meanSquaredLoss, params, y, learn_rate=1e-9)\n",
    "res = adaptive_momentum(meanSquaredLoss, params, x_dict={\"y\": y}, beta1=0.6, beta2=0.5, learn_rate=0.003, max_iter=1000)\n",
    "r2 = r_2(res[-1], y).numpy()\n",
    "print(\"r2:\", r2)"
   ]
  },
  {
   "cell_type": "code",
   "execution_count": 89,
   "metadata": {},
   "outputs": [
    {
     "data": {
      "text/plain": [
       "<matplotlib.collections.PathCollection at 0x7f51d44919d0>"
      ]
     },
     "execution_count": 89,
     "metadata": {},
     "output_type": "execute_result"
    },
    {
     "data": {
      "image/svg+xml": [
       "<?xml version=\"1.0\" encoding=\"utf-8\" standalone=\"no\"?>\n",
       "<!DOCTYPE svg PUBLIC \"-//W3C//DTD SVG 1.1//EN\"\n",
       "  \"http://www.w3.org/Graphics/SVG/1.1/DTD/svg11.dtd\">\n",
       "<!-- Created with matplotlib (https://matplotlib.org/) -->\n",
       "<svg height=\"259.09pt\" version=\"1.1\" viewBox=\"0 0 388.325 259.09\" width=\"388.325pt\" xmlns=\"http://www.w3.org/2000/svg\" xmlns:xlink=\"http://www.w3.org/1999/xlink\">\n",
       " <metadata>\n",
       "  <rdf:RDF xmlns:cc=\"http://creativecommons.org/ns#\" xmlns:dc=\"http://purl.org/dc/elements/1.1/\" xmlns:rdf=\"http://www.w3.org/1999/02/22-rdf-syntax-ns#\">\n",
       "   <cc:Work>\n",
       "    <dc:type rdf:resource=\"http://purl.org/dc/dcmitype/StillImage\"/>\n",
       "    <dc:date>2021-10-12T23:28:03.089453</dc:date>\n",
       "    <dc:format>image/svg+xml</dc:format>\n",
       "    <dc:creator>\n",
       "     <cc:Agent>\n",
       "      <dc:title>Matplotlib v3.3.4, https://matplotlib.org/</dc:title>\n",
       "     </cc:Agent>\n",
       "    </dc:creator>\n",
       "   </cc:Work>\n",
       "  </rdf:RDF>\n",
       " </metadata>\n",
       " <defs>\n",
       "  <style type=\"text/css\">*{stroke-linecap:butt;stroke-linejoin:round;}</style>\n",
       " </defs>\n",
       " <g id=\"figure_1\">\n",
       "  <g id=\"patch_1\">\n",
       "   <path d=\"M 0 259.09 \n",
       "L 388.325 259.09 \n",
       "L 388.325 0 \n",
       "L 0 0 \n",
       "z\n",
       "\" style=\"fill:none;\"/>\n",
       "  </g>\n",
       "  <g id=\"axes_1\">\n",
       "   <g id=\"patch_2\">\n",
       "    <path d=\"M 46.325 224.64 \n",
       "L 381.125 224.64 \n",
       "L 381.125 7.2 \n",
       "L 46.325 7.2 \n",
       "z\n",
       "\" style=\"fill:#ffffff;\"/>\n",
       "   </g>\n",
       "   <g id=\"PathCollection_1\">\n",
       "    <defs>\n",
       "     <path d=\"M 0 3 \n",
       "C 0.795609 3 1.55874 2.683901 2.12132 2.12132 \n",
       "C 2.683901 1.55874 3 0.795609 3 0 \n",
       "C 3 -0.795609 2.683901 -1.55874 2.12132 -2.12132 \n",
       "C 1.55874 -2.683901 0.795609 -3 0 -3 \n",
       "C -0.795609 -3 -1.55874 -2.683901 -2.12132 -2.12132 \n",
       "C -2.683901 -1.55874 -3 -0.795609 -3 0 \n",
       "C -3 0.795609 -2.683901 1.55874 -2.12132 2.12132 \n",
       "C -1.55874 2.683901 -0.795609 3 0 3 \n",
       "z\n",
       "\" id=\"meabc3ad306\" style=\"stroke:#ff0000;\"/>\n",
       "    </defs>\n",
       "    <g clip-path=\"url(#pd6e7c141fb)\">\n",
       "     <use style=\"fill:#ff0000;stroke:#ff0000;\" x=\"61.543182\" xlink:href=\"#meabc3ad306\" y=\"214.756364\"/>\n",
       "     <use style=\"fill:#ff0000;stroke:#ff0000;\" x=\"86.906818\" xlink:href=\"#meabc3ad306\" y=\"203.46314\"/>\n",
       "     <use style=\"fill:#ff0000;stroke:#ff0000;\" x=\"112.270455\" xlink:href=\"#meabc3ad306\" y=\"198.558003\"/>\n",
       "     <use style=\"fill:#ff0000;stroke:#ff0000;\" x=\"137.634091\" xlink:href=\"#meabc3ad306\" y=\"182.359642\"/>\n",
       "     <use style=\"fill:#ff0000;stroke:#ff0000;\" x=\"162.997727\" xlink:href=\"#meabc3ad306\" y=\"106.50112\"/>\n",
       "     <use style=\"fill:#ff0000;stroke:#ff0000;\" x=\"188.361364\" xlink:href=\"#meabc3ad306\" y=\"85.397621\"/>\n",
       "     <use style=\"fill:#ff0000;stroke:#ff0000;\" x=\"213.725\" xlink:href=\"#meabc3ad306\" y=\"81.176922\"/>\n",
       "     <use style=\"fill:#ff0000;stroke:#ff0000;\" x=\"239.088636\" xlink:href=\"#meabc3ad306\" y=\"17.181988\"/>\n",
       "     <use style=\"fill:#ff0000;stroke:#ff0000;\" x=\"264.452273\" xlink:href=\"#meabc3ad306\" y=\"44.787646\"/>\n",
       "     <use style=\"fill:#ff0000;stroke:#ff0000;\" x=\"289.815909\" xlink:href=\"#meabc3ad306\" y=\"34.863298\"/>\n",
       "     <use style=\"fill:#ff0000;stroke:#ff0000;\" x=\"315.179545\" xlink:href=\"#meabc3ad306\" y=\"20.376031\"/>\n",
       "     <use style=\"fill:#ff0000;stroke:#ff0000;\" x=\"340.543182\" xlink:href=\"#meabc3ad306\" y=\"45.472083\"/>\n",
       "     <use style=\"fill:#ff0000;stroke:#ff0000;\" x=\"365.906818\" xlink:href=\"#meabc3ad306\" y=\"54.597921\"/>\n",
       "    </g>\n",
       "   </g>\n",
       "   <g id=\"matplotlib.axis_1\">\n",
       "    <g id=\"xtick_1\">\n",
       "     <g id=\"line2d_1\">\n",
       "      <defs>\n",
       "       <path d=\"M 0 0 \n",
       "L 0 3.5 \n",
       "\" id=\"m8876704a2d\" style=\"stroke:#000000;stroke-width:0.8;\"/>\n",
       "      </defs>\n",
       "      <g>\n",
       "       <use style=\"stroke:#000000;stroke-width:0.8;\" x=\"61.543182\" xlink:href=\"#m8876704a2d\" y=\"224.64\"/>\n",
       "      </g>\n",
       "     </g>\n",
       "     <g id=\"text_1\">\n",
       "      <!-- 0 -->\n",
       "      <g transform=\"translate(59.043182 238.515)scale(0.1 -0.1)\">\n",
       "       <defs>\n",
       "        <path d=\"M 3.125 29.296875 \n",
       "Q 3.90625 50 6.4375 56.046875 \n",
       "Q 8.984375 62.109375 13.671875 66.015625 \n",
       "Q 18.359375 69.921875 25.1875 69.921875 \n",
       "Q 32.03125 69.921875 37.109375 64.25 \n",
       "Q 42.1875 58.59375 43.75 50 \n",
       "Q 45.3125 41.40625 44.71875 30.265625 \n",
       "Q 44.140625 19.140625 40.8125 12.109375 \n",
       "Q 37.5 5.078125 30.859375 2.34375 \n",
       "Q 24.21875 -0.390625 17.578125 2.921875 \n",
       "Q 10.9375 6.25 8.203125 11.71875 \n",
       "Q 5.46875 17.1875 4.296875 23.234375 \n",
       "Q 3.125 29.296875 3.90625 50 \n",
       "z\n",
       "M 12.890625 52.734375 \n",
       "Q 10.546875 31.25 12.5 22.84375 \n",
       "Q 14.453125 14.453125 18.9375 10.9375 \n",
       "Q 23.4375 7.421875 28.125 9.5625 \n",
       "Q 32.8125 11.71875 34.953125 18.15625 \n",
       "Q 37.109375 24.609375 37.109375 32.21875 \n",
       "Q 37.109375 39.84375 36.515625 46.09375 \n",
       "Q 35.9375 52.34375 33 57.421875 \n",
       "Q 30.078125 62.5 25.1875 62.6875 \n",
       "Q 20.3125 62.890625 16.59375 57.8125 \n",
       "Q 12.890625 52.734375 10.546875 31.25 \n",
       "z\n",
       "\" id=\"SimHei-48\"/>\n",
       "       </defs>\n",
       "       <use xlink:href=\"#SimHei-48\"/>\n",
       "      </g>\n",
       "     </g>\n",
       "    </g>\n",
       "    <g id=\"xtick_2\">\n",
       "     <g id=\"line2d_2\">\n",
       "      <g>\n",
       "       <use style=\"stroke:#000000;stroke-width:0.8;\" x=\"112.270455\" xlink:href=\"#m8876704a2d\" y=\"224.64\"/>\n",
       "      </g>\n",
       "     </g>\n",
       "     <g id=\"text_2\">\n",
       "      <!-- 2 -->\n",
       "      <g transform=\"translate(109.770455 238.515)scale(0.1 -0.1)\">\n",
       "       <defs>\n",
       "        <path d=\"M 4.6875 3.90625 \n",
       "Q 5.078125 9.765625 10.15625 14.453125 \n",
       "Q 15.234375 19.140625 23.046875 29.09375 \n",
       "Q 30.859375 39.0625 33.203125 44.53125 \n",
       "Q 35.546875 50 34.953125 53.90625 \n",
       "Q 34.375 57.8125 31.25 60.34375 \n",
       "Q 28.125 62.890625 24.015625 62.5 \n",
       "Q 19.921875 62.109375 16.203125 59.375 \n",
       "Q 12.5 56.640625 10.546875 51.171875 \n",
       "L 3.125 52.34375 \n",
       "Q 6.25 61.328125 11.125 65.421875 \n",
       "Q 16.015625 69.53125 22.65625 69.921875 \n",
       "Q 26.5625 70.3125 29.6875 69.71875 \n",
       "Q 32.8125 69.140625 36.125 66.984375 \n",
       "Q 39.453125 64.84375 41.59375 60.546875 \n",
       "Q 43.75 56.25 43.15625 50.1875 \n",
       "Q 42.578125 44.140625 37.109375 35.734375 \n",
       "Q 31.640625 27.34375 16.015625 9.375 \n",
       "L 44.140625 9.375 \n",
       "L 44.140625 2.34375 \n",
       "L 4.6875 2.34375 \n",
       "z\n",
       "\" id=\"SimHei-50\"/>\n",
       "       </defs>\n",
       "       <use xlink:href=\"#SimHei-50\"/>\n",
       "      </g>\n",
       "     </g>\n",
       "    </g>\n",
       "    <g id=\"xtick_3\">\n",
       "     <g id=\"line2d_3\">\n",
       "      <g>\n",
       "       <use style=\"stroke:#000000;stroke-width:0.8;\" x=\"162.997727\" xlink:href=\"#m8876704a2d\" y=\"224.64\"/>\n",
       "      </g>\n",
       "     </g>\n",
       "     <g id=\"text_3\">\n",
       "      <!-- 4 -->\n",
       "      <g transform=\"translate(160.497727 238.515)scale(0.1 -0.1)\">\n",
       "       <defs>\n",
       "        <path d=\"M 31.25 17.1875 \n",
       "L 1.171875 17.1875 \n",
       "L 1.171875 23.828125 \n",
       "L 32.8125 69.53125 \n",
       "L 38.671875 69.53125 \n",
       "L 38.671875 23.828125 \n",
       "L 48.046875 23.828125 \n",
       "L 48.046875 17.1875 \n",
       "L 38.671875 17.1875 \n",
       "L 38.671875 2.34375 \n",
       "L 31.25 2.34375 \n",
       "z\n",
       "M 31.25 23.828125 \n",
       "L 31.25 54.6875 \n",
       "L 9.375 23.828125 \n",
       "z\n",
       "\" id=\"SimHei-52\"/>\n",
       "       </defs>\n",
       "       <use xlink:href=\"#SimHei-52\"/>\n",
       "      </g>\n",
       "     </g>\n",
       "    </g>\n",
       "    <g id=\"xtick_4\">\n",
       "     <g id=\"line2d_4\">\n",
       "      <g>\n",
       "       <use style=\"stroke:#000000;stroke-width:0.8;\" x=\"213.725\" xlink:href=\"#m8876704a2d\" y=\"224.64\"/>\n",
       "      </g>\n",
       "     </g>\n",
       "     <g id=\"text_4\">\n",
       "      <!-- 6 -->\n",
       "      <g transform=\"translate(211.225 238.515)scale(0.1 -0.1)\">\n",
       "       <defs>\n",
       "        <path d=\"M 3.515625 19.53125 \n",
       "Q 4.296875 30.859375 6.046875 34.765625 \n",
       "Q 7.8125 38.671875 11.328125 44.53125 \n",
       "L 27.34375 69.53125 \n",
       "L 36.328125 69.53125 \n",
       "L 19.921875 43.75 \n",
       "Q 30.46875 46.484375 36.71875 42.96875 \n",
       "Q 42.96875 39.453125 45.109375 34.953125 \n",
       "Q 47.265625 30.46875 47.453125 25.1875 \n",
       "Q 47.65625 19.921875 45.890625 14.84375 \n",
       "Q 44.140625 9.765625 39.640625 5.65625 \n",
       "Q 35.15625 1.5625 27.140625 1.171875 \n",
       "Q 19.140625 0.78125 13.46875 4.09375 \n",
       "Q 7.8125 7.421875 5.65625 13.46875 \n",
       "Q 3.515625 19.53125 4.296875 30.859375 \n",
       "z\n",
       "M 12.5 16.015625 \n",
       "Q 19.53125 8.59375 25.390625 8.203125 \n",
       "Q 31.25 7.8125 35.15625 12.109375 \n",
       "Q 39.0625 16.40625 39.0625 24.609375 \n",
       "Q 39.0625 32.8125 34.171875 35.9375 \n",
       "Q 29.296875 39.0625 23.234375 38.28125 \n",
       "Q 17.1875 37.5 14.453125 32.421875 \n",
       "Q 11.71875 27.34375 12.109375 21.671875 \n",
       "Q 12.5 16.015625 19.53125 8.59375 \n",
       "z\n",
       "\" id=\"SimHei-54\"/>\n",
       "       </defs>\n",
       "       <use xlink:href=\"#SimHei-54\"/>\n",
       "      </g>\n",
       "     </g>\n",
       "    </g>\n",
       "    <g id=\"xtick_5\">\n",
       "     <g id=\"line2d_5\">\n",
       "      <g>\n",
       "       <use style=\"stroke:#000000;stroke-width:0.8;\" x=\"264.452273\" xlink:href=\"#m8876704a2d\" y=\"224.64\"/>\n",
       "      </g>\n",
       "     </g>\n",
       "     <g id=\"text_5\">\n",
       "      <!-- 8 -->\n",
       "      <g transform=\"translate(261.952273 238.515)scale(0.1 -0.1)\">\n",
       "       <defs>\n",
       "        <path d=\"M 2.734375 16.796875 \n",
       "Q 2.734375 26.171875 5.078125 30.65625 \n",
       "Q 7.421875 35.15625 12.890625 37.890625 \n",
       "Q 8.203125 40.625 6.640625 43.9375 \n",
       "Q 5.078125 47.265625 4.875 51.5625 \n",
       "Q 4.6875 55.859375 6.046875 58.984375 \n",
       "Q 7.421875 62.109375 10.15625 64.84375 \n",
       "Q 12.890625 67.578125 16.203125 68.546875 \n",
       "Q 19.53125 69.53125 23.4375 69.53125 \n",
       "Q 27.34375 69.53125 30.46875 68.75 \n",
       "Q 33.59375 67.96875 37.109375 65.421875 \n",
       "Q 40.625 62.890625 42.1875 58.203125 \n",
       "Q 43.75 53.515625 41.984375 47.265625 \n",
       "Q 40.234375 41.015625 32.8125 37.5 \n",
       "Q 39.453125 35.546875 42.1875 31.4375 \n",
       "Q 44.921875 27.34375 44.921875 21.484375 \n",
       "Q 44.921875 15.625 43.15625 12.109375 \n",
       "Q 41.40625 8.59375 39.25 6.25 \n",
       "Q 37.109375 3.90625 33.390625 2.53125 \n",
       "Q 29.6875 1.171875 24.015625 1.171875 \n",
       "Q 18.359375 1.171875 14.25 2.53125 \n",
       "Q 10.15625 3.90625 7.421875 6.640625 \n",
       "Q 4.6875 9.375 3.703125 13.078125 \n",
       "Q 2.734375 16.796875 2.734375 26.171875 \n",
       "z\n",
       "M 10.9375 26.5625 \n",
       "Q 10.546875 17.1875 12.296875 13.671875 \n",
       "Q 14.0625 10.15625 18.75 9.171875 \n",
       "Q 23.4375 8.203125 28.515625 9.375 \n",
       "Q 33.59375 10.546875 35.546875 14.84375 \n",
       "Q 37.5 19.140625 36.90625 23.4375 \n",
       "Q 36.328125 27.734375 32.03125 30.65625 \n",
       "Q 27.734375 33.59375 22.65625 33.203125 \n",
       "Q 17.578125 32.8125 14.25 29.6875 \n",
       "Q 10.9375 26.5625 10.546875 17.1875 \n",
       "z\n",
       "M 12.109375 56.25 \n",
       "Q 12.109375 48.4375 14.84375 44.921875 \n",
       "Q 17.578125 41.40625 23.4375 41.40625 \n",
       "Q 29.296875 41.40625 32.21875 44.921875 \n",
       "Q 35.15625 48.4375 34.953125 53.3125 \n",
       "Q 34.765625 58.203125 31.4375 60.546875 \n",
       "Q 28.125 62.890625 22.453125 62.5 \n",
       "Q 16.796875 62.109375 14.453125 59.171875 \n",
       "Q 12.109375 56.25 12.109375 48.4375 \n",
       "z\n",
       "\" id=\"SimHei-56\"/>\n",
       "       </defs>\n",
       "       <use xlink:href=\"#SimHei-56\"/>\n",
       "      </g>\n",
       "     </g>\n",
       "    </g>\n",
       "    <g id=\"xtick_6\">\n",
       "     <g id=\"line2d_6\">\n",
       "      <g>\n",
       "       <use style=\"stroke:#000000;stroke-width:0.8;\" x=\"315.179545\" xlink:href=\"#m8876704a2d\" y=\"224.64\"/>\n",
       "      </g>\n",
       "     </g>\n",
       "     <g id=\"text_6\">\n",
       "      <!-- 10 -->\n",
       "      <g transform=\"translate(310.179545 238.515)scale(0.1 -0.1)\">\n",
       "       <defs>\n",
       "        <path d=\"M 21.875 56.25 \n",
       "Q 16.796875 51.171875 8.984375 46.484375 \n",
       "L 8.984375 53.90625 \n",
       "Q 18.75 60.546875 25 69.53125 \n",
       "L 29.6875 69.53125 \n",
       "L 29.6875 2.34375 \n",
       "L 21.875 2.34375 \n",
       "z\n",
       "\" id=\"SimHei-49\"/>\n",
       "       </defs>\n",
       "       <use xlink:href=\"#SimHei-49\"/>\n",
       "       <use x=\"50\" xlink:href=\"#SimHei-48\"/>\n",
       "      </g>\n",
       "     </g>\n",
       "    </g>\n",
       "    <g id=\"xtick_7\">\n",
       "     <g id=\"line2d_7\">\n",
       "      <g>\n",
       "       <use style=\"stroke:#000000;stroke-width:0.8;\" x=\"365.906818\" xlink:href=\"#m8876704a2d\" y=\"224.64\"/>\n",
       "      </g>\n",
       "     </g>\n",
       "     <g id=\"text_7\">\n",
       "      <!-- 12 -->\n",
       "      <g transform=\"translate(360.906818 238.515)scale(0.1 -0.1)\">\n",
       "       <use xlink:href=\"#SimHei-49\"/>\n",
       "       <use x=\"50\" xlink:href=\"#SimHei-50\"/>\n",
       "      </g>\n",
       "     </g>\n",
       "    </g>\n",
       "    <g id=\"text_8\">\n",
       "     <!-- Time -->\n",
       "     <g transform=\"translate(203.725 250.64)scale(0.1 -0.1)\">\n",
       "      <defs>\n",
       "       <path d=\"M 44.53125 61.328125 \n",
       "L 28.90625 61.328125 \n",
       "L 28.90625 1.953125 \n",
       "L 19.921875 1.953125 \n",
       "L 19.921875 61.328125 \n",
       "L 4.296875 61.328125 \n",
       "L 4.296875 68.75 \n",
       "L 44.53125 68.75 \n",
       "z\n",
       "\" id=\"SimHei-84\"/>\n",
       "       <path d=\"M 28.125 58.203125 \n",
       "L 20.3125 58.203125 \n",
       "L 20.3125 68.359375 \n",
       "L 28.125 68.359375 \n",
       "z\n",
       "M 28.125 1.953125 \n",
       "L 20.3125 1.953125 \n",
       "L 20.3125 45.703125 \n",
       "L 28.125 45.703125 \n",
       "z\n",
       "\" id=\"SimHei-105\"/>\n",
       "       <path d=\"M 47.65625 1.953125 \n",
       "L 39.84375 1.953125 \n",
       "L 39.84375 33.59375 \n",
       "Q 39.84375 35.9375 39.0625 37.5 \n",
       "Q 38.28125 39.0625 35.9375 39.0625 \n",
       "Q 33.203125 39.0625 30.859375 36.125 \n",
       "Q 28.515625 33.203125 28.515625 28.515625 \n",
       "L 28.515625 1.953125 \n",
       "L 20.703125 1.953125 \n",
       "L 20.703125 33.59375 \n",
       "Q 20.703125 35.9375 19.921875 37.5 \n",
       "Q 19.140625 39.0625 16.796875 39.0625 \n",
       "Q 14.0625 39.0625 11.71875 36.125 \n",
       "Q 9.375 33.203125 9.375 28.515625 \n",
       "L 9.375 1.953125 \n",
       "L 1.5625 1.953125 \n",
       "L 1.5625 45.703125 \n",
       "L 9.375 45.703125 \n",
       "L 9.375 39.84375 \n",
       "Q 11.328125 42.96875 14.0625 44.71875 \n",
       "Q 16.796875 46.484375 19.921875 46.484375 \n",
       "Q 23.046875 46.484375 25.1875 44.71875 \n",
       "Q 27.34375 42.96875 28.125 39.84375 \n",
       "Q 30.078125 42.96875 32.609375 44.71875 \n",
       "Q 35.15625 46.484375 38.28125 46.484375 \n",
       "Q 42.96875 46.484375 45.3125 43.9375 \n",
       "Q 47.65625 41.40625 47.65625 36.71875 \n",
       "z\n",
       "\" id=\"SimHei-109\"/>\n",
       "       <path d=\"M 44.53125 16.796875 \n",
       "Q 43.75 9.765625 38.28125 5.46875 \n",
       "Q 32.8125 1.171875 25.390625 1.171875 \n",
       "Q 16.015625 1.171875 9.953125 7.21875 \n",
       "Q 3.90625 13.28125 3.90625 23.828125 \n",
       "Q 3.90625 34.375 9.953125 40.421875 \n",
       "Q 16.015625 46.484375 25.390625 46.484375 \n",
       "Q 33.59375 46.484375 38.859375 41.203125 \n",
       "Q 44.140625 35.9375 44.140625 23.828125 \n",
       "L 12.5 23.828125 \n",
       "Q 12.5 15.234375 16.203125 11.71875 \n",
       "Q 19.921875 8.203125 25.390625 8.203125 \n",
       "Q 29.6875 8.203125 32.421875 10.34375 \n",
       "Q 35.15625 12.5 35.9375 16.796875 \n",
       "z\n",
       "M 35.15625 30.078125 \n",
       "Q 34.375 35.546875 31.640625 37.6875 \n",
       "Q 28.90625 39.84375 24.609375 39.84375 \n",
       "Q 20.703125 39.84375 17.578125 37.6875 \n",
       "Q 14.453125 35.546875 12.890625 30.078125 \n",
       "z\n",
       "\" id=\"SimHei-101\"/>\n",
       "      </defs>\n",
       "      <use xlink:href=\"#SimHei-84\"/>\n",
       "      <use x=\"50\" xlink:href=\"#SimHei-105\"/>\n",
       "      <use x=\"100\" xlink:href=\"#SimHei-109\"/>\n",
       "      <use x=\"150\" xlink:href=\"#SimHei-101\"/>\n",
       "     </g>\n",
       "    </g>\n",
       "   </g>\n",
       "   <g id=\"matplotlib.axis_2\">\n",
       "    <g id=\"ytick_1\">\n",
       "     <g id=\"line2d_8\">\n",
       "      <defs>\n",
       "       <path d=\"M 0 0 \n",
       "L -3.5 0 \n",
       "\" id=\"m27d409dc60\" style=\"stroke:#000000;stroke-width:0.8;\"/>\n",
       "      </defs>\n",
       "      <g>\n",
       "       <use style=\"stroke:#000000;stroke-width:0.8;\" x=\"46.325\" xlink:href=\"#m27d409dc60\" y=\"197.189127\"/>\n",
       "      </g>\n",
       "     </g>\n",
       "     <g id=\"text_9\">\n",
       "      <!-- 250 -->\n",
       "      <g transform=\"translate(24.325 200.626627)scale(0.1 -0.1)\">\n",
       "       <defs>\n",
       "        <path d=\"M 8.59375 20.703125 \n",
       "Q 11.328125 10.15625 17.96875 8.984375 \n",
       "Q 24.609375 7.8125 28.703125 10.34375 \n",
       "Q 32.8125 12.890625 34.5625 16.984375 \n",
       "Q 36.328125 21.09375 36.125 26.171875 \n",
       "Q 35.9375 31.25 33.390625 34.765625 \n",
       "Q 30.859375 38.28125 26.953125 39.453125 \n",
       "Q 23.046875 40.625 18.15625 39.453125 \n",
       "Q 13.28125 38.28125 10.15625 33.984375 \n",
       "L 3.515625 34.765625 \n",
       "Q 4.296875 37.109375 10.9375 68.359375 \n",
       "L 41.796875 68.359375 \n",
       "L 41.796875 61.328125 \n",
       "L 16.796875 61.328125 \n",
       "Q 14.84375 50.78125 12.890625 44.53125 \n",
       "Q 18.75 47.265625 23.828125 47.0625 \n",
       "Q 28.90625 46.875 33.59375 44.71875 \n",
       "Q 38.28125 42.578125 40.421875 38.859375 \n",
       "Q 42.578125 35.15625 43.546875 31.4375 \n",
       "Q 44.53125 27.734375 44.328125 23.4375 \n",
       "Q 44.140625 19.140625 42.578125 14.640625 \n",
       "Q 41.015625 10.15625 37.890625 7.21875 \n",
       "Q 34.765625 4.296875 30.265625 2.53125 \n",
       "Q 25.78125 0.78125 19.921875 1.171875 \n",
       "Q 14.0625 1.5625 8.78125 5.46875 \n",
       "Q 3.515625 9.375 1.5625 18.75 \n",
       "z\n",
       "\" id=\"SimHei-53\"/>\n",
       "       </defs>\n",
       "       <use xlink:href=\"#SimHei-50\"/>\n",
       "       <use x=\"50\" xlink:href=\"#SimHei-53\"/>\n",
       "       <use x=\"100\" xlink:href=\"#SimHei-48\"/>\n",
       "      </g>\n",
       "     </g>\n",
       "    </g>\n",
       "    <g id=\"ytick_2\">\n",
       "     <g id=\"line2d_9\">\n",
       "      <g>\n",
       "       <use style=\"stroke:#000000;stroke-width:0.8;\" x=\"46.325\" xlink:href=\"#m27d409dc60\" y=\"168.670886\"/>\n",
       "      </g>\n",
       "     </g>\n",
       "     <g id=\"text_10\">\n",
       "      <!-- 500 -->\n",
       "      <g transform=\"translate(24.325 172.108386)scale(0.1 -0.1)\">\n",
       "       <use xlink:href=\"#SimHei-53\"/>\n",
       "       <use x=\"50\" xlink:href=\"#SimHei-48\"/>\n",
       "       <use x=\"100\" xlink:href=\"#SimHei-48\"/>\n",
       "      </g>\n",
       "     </g>\n",
       "    </g>\n",
       "    <g id=\"ytick_3\">\n",
       "     <g id=\"line2d_10\">\n",
       "      <g>\n",
       "       <use style=\"stroke:#000000;stroke-width:0.8;\" x=\"46.325\" xlink:href=\"#m27d409dc60\" y=\"140.152644\"/>\n",
       "      </g>\n",
       "     </g>\n",
       "     <g id=\"text_11\">\n",
       "      <!-- 750 -->\n",
       "      <g transform=\"translate(24.325 143.590144)scale(0.1 -0.1)\">\n",
       "       <defs>\n",
       "        <path d=\"M 13.28125 2.34375 \n",
       "Q 20.3125 32.03125 37.890625 61.328125 \n",
       "L 4.296875 61.328125 \n",
       "L 4.296875 68.359375 \n",
       "L 46.09375 68.359375 \n",
       "L 46.09375 61.71875 \n",
       "Q 27.734375 32.03125 21.875 2.34375 \n",
       "L 13.28125 2.34375 \n",
       "z\n",
       "\" id=\"SimHei-55\"/>\n",
       "       </defs>\n",
       "       <use xlink:href=\"#SimHei-55\"/>\n",
       "       <use x=\"50\" xlink:href=\"#SimHei-53\"/>\n",
       "       <use x=\"100\" xlink:href=\"#SimHei-48\"/>\n",
       "      </g>\n",
       "     </g>\n",
       "    </g>\n",
       "    <g id=\"ytick_4\">\n",
       "     <g id=\"line2d_11\">\n",
       "      <g>\n",
       "       <use style=\"stroke:#000000;stroke-width:0.8;\" x=\"46.325\" xlink:href=\"#m27d409dc60\" y=\"111.634403\"/>\n",
       "      </g>\n",
       "     </g>\n",
       "     <g id=\"text_12\">\n",
       "      <!-- 1000 -->\n",
       "      <g transform=\"translate(19.325 115.071903)scale(0.1 -0.1)\">\n",
       "       <use xlink:href=\"#SimHei-49\"/>\n",
       "       <use x=\"50\" xlink:href=\"#SimHei-48\"/>\n",
       "       <use x=\"100\" xlink:href=\"#SimHei-48\"/>\n",
       "       <use x=\"150\" xlink:href=\"#SimHei-48\"/>\n",
       "      </g>\n",
       "     </g>\n",
       "    </g>\n",
       "    <g id=\"ytick_5\">\n",
       "     <g id=\"line2d_12\">\n",
       "      <g>\n",
       "       <use style=\"stroke:#000000;stroke-width:0.8;\" x=\"46.325\" xlink:href=\"#m27d409dc60\" y=\"83.116162\"/>\n",
       "      </g>\n",
       "     </g>\n",
       "     <g id=\"text_13\">\n",
       "      <!-- 1250 -->\n",
       "      <g transform=\"translate(19.325 86.553662)scale(0.1 -0.1)\">\n",
       "       <use xlink:href=\"#SimHei-49\"/>\n",
       "       <use x=\"50\" xlink:href=\"#SimHei-50\"/>\n",
       "       <use x=\"100\" xlink:href=\"#SimHei-53\"/>\n",
       "       <use x=\"150\" xlink:href=\"#SimHei-48\"/>\n",
       "      </g>\n",
       "     </g>\n",
       "    </g>\n",
       "    <g id=\"ytick_6\">\n",
       "     <g id=\"line2d_13\">\n",
       "      <g>\n",
       "       <use style=\"stroke:#000000;stroke-width:0.8;\" x=\"46.325\" xlink:href=\"#m27d409dc60\" y=\"54.597921\"/>\n",
       "      </g>\n",
       "     </g>\n",
       "     <g id=\"text_14\">\n",
       "      <!-- 1500 -->\n",
       "      <g transform=\"translate(19.325 58.035421)scale(0.1 -0.1)\">\n",
       "       <use xlink:href=\"#SimHei-49\"/>\n",
       "       <use x=\"50\" xlink:href=\"#SimHei-53\"/>\n",
       "       <use x=\"100\" xlink:href=\"#SimHei-48\"/>\n",
       "       <use x=\"150\" xlink:href=\"#SimHei-48\"/>\n",
       "      </g>\n",
       "     </g>\n",
       "    </g>\n",
       "    <g id=\"ytick_7\">\n",
       "     <g id=\"line2d_14\">\n",
       "      <g>\n",
       "       <use style=\"stroke:#000000;stroke-width:0.8;\" x=\"46.325\" xlink:href=\"#m27d409dc60\" y=\"26.079679\"/>\n",
       "      </g>\n",
       "     </g>\n",
       "     <g id=\"text_15\">\n",
       "      <!-- 1750 -->\n",
       "      <g transform=\"translate(19.325 29.517179)scale(0.1 -0.1)\">\n",
       "       <use xlink:href=\"#SimHei-49\"/>\n",
       "       <use x=\"50\" xlink:href=\"#SimHei-55\"/>\n",
       "       <use x=\"100\" xlink:href=\"#SimHei-53\"/>\n",
       "       <use x=\"150\" xlink:href=\"#SimHei-48\"/>\n",
       "      </g>\n",
       "     </g>\n",
       "    </g>\n",
       "    <g id=\"text_16\">\n",
       "     <!-- Sales volumn -->\n",
       "     <g transform=\"translate(14.075 145.92)rotate(-90)scale(0.1 -0.1)\">\n",
       "      <defs>\n",
       "       <path d=\"M 45.3125 20.703125 \n",
       "Q 45.3125 11.71875 39.640625 6.4375 \n",
       "Q 33.984375 1.171875 24.21875 1.171875 \n",
       "Q 14.453125 1.171875 8.984375 6.640625 \n",
       "Q 3.515625 12.109375 3.515625 20.3125 \n",
       "L 3.515625 23.046875 \n",
       "L 12.5 23.046875 \n",
       "L 12.5 20.703125 \n",
       "Q 12.5 14.84375 16.015625 11.71875 \n",
       "Q 19.53125 8.59375 24.21875 8.59375 \n",
       "Q 30.46875 8.59375 33.390625 11.90625 \n",
       "Q 36.328125 15.234375 36.328125 19.921875 \n",
       "Q 36.328125 23.828125 32.8125 27.140625 \n",
       "Q 29.296875 30.46875 22.65625 33.203125 \n",
       "Q 13.28125 36.71875 9.171875 41.015625 \n",
       "Q 5.078125 45.3125 5.078125 51.171875 \n",
       "Q 5.078125 59.375 10.734375 64.453125 \n",
       "Q 16.40625 69.53125 24.21875 69.53125 \n",
       "Q 34.375 69.53125 38.859375 63.46875 \n",
       "Q 43.359375 57.421875 43.359375 50.390625 \n",
       "L 34.375 50.390625 \n",
       "Q 34.765625 54.6875 32.03125 58.203125 \n",
       "Q 29.296875 61.71875 24.21875 61.71875 \n",
       "Q 19.53125 61.71875 16.796875 59.171875 \n",
       "Q 14.0625 56.640625 14.0625 52.34375 \n",
       "Q 14.0625 48.828125 16.203125 46.28125 \n",
       "Q 18.359375 43.75 27.34375 40.234375 \n",
       "Q 35.9375 36.71875 40.625 31.828125 \n",
       "Q 45.3125 26.953125 45.3125 20.703125 \n",
       "z\n",
       "\" id=\"SimHei-83\"/>\n",
       "       <path d=\"M 44.921875 1.953125 \n",
       "L 35.546875 1.953125 \n",
       "Q 34.765625 2.734375 34.375 4.09375 \n",
       "Q 33.984375 5.46875 33.984375 7.421875 \n",
       "Q 31.25 4.296875 27.34375 2.734375 \n",
       "Q 23.4375 1.171875 19.140625 1.171875 \n",
       "Q 12.890625 1.171875 8.59375 4.296875 \n",
       "Q 4.296875 7.421875 4.296875 13.28125 \n",
       "Q 4.296875 19.140625 8.203125 22.65625 \n",
       "Q 12.109375 26.171875 20.3125 27.34375 \n",
       "Q 25.78125 28.125 29.875 29.296875 \n",
       "Q 33.984375 30.46875 33.984375 32.421875 \n",
       "Q 33.984375 34.765625 32.21875 37.109375 \n",
       "Q 30.46875 39.453125 24.609375 39.453125 \n",
       "Q 19.921875 39.453125 17.765625 37.6875 \n",
       "Q 15.625 35.9375 14.84375 32.8125 \n",
       "L 6.25 32.8125 \n",
       "Q 7.03125 39.0625 11.90625 42.765625 \n",
       "Q 16.796875 46.484375 24.609375 46.484375 \n",
       "Q 33.203125 46.484375 37.5 42.578125 \n",
       "Q 41.796875 38.671875 41.796875 31.640625 \n",
       "L 41.796875 10.15625 \n",
       "Q 41.796875 7.8125 42.578125 5.859375 \n",
       "Q 43.359375 3.90625 44.921875 1.953125 \n",
       "z\n",
       "M 33.984375 16.40625 \n",
       "L 33.984375 24.21875 \n",
       "Q 31.640625 23.4375 29.484375 22.84375 \n",
       "Q 27.34375 22.265625 22.265625 21.484375 \n",
       "Q 16.40625 20.703125 14.640625 18.75 \n",
       "Q 12.890625 16.796875 12.890625 14.0625 \n",
       "Q 12.890625 11.71875 14.640625 9.953125 \n",
       "Q 16.40625 8.203125 19.921875 8.203125 \n",
       "Q 23.4375 8.203125 27.53125 10.15625 \n",
       "Q 31.640625 12.109375 33.984375 16.40625 \n",
       "z\n",
       "\" id=\"SimHei-97\"/>\n",
       "       <path d=\"M 28.515625 1.953125 \n",
       "L 20.703125 1.953125 \n",
       "L 20.703125 68.75 \n",
       "L 28.515625 68.75 \n",
       "z\n",
       "\" id=\"SimHei-108\"/>\n",
       "       <path d=\"M 42.96875 14.0625 \n",
       "Q 42.96875 7.8125 38.078125 4.484375 \n",
       "Q 33.203125 1.171875 25.78125 1.171875 \n",
       "Q 16.40625 1.171875 11.328125 4.875 \n",
       "Q 6.25 8.59375 6.25 15.625 \n",
       "L 14.0625 15.625 \n",
       "Q 14.0625 10.9375 17.375 9.375 \n",
       "Q 20.703125 7.8125 25.390625 7.8125 \n",
       "Q 30.078125 7.8125 32.421875 9.5625 \n",
       "Q 34.765625 11.328125 34.765625 14.0625 \n",
       "Q 34.765625 16.015625 32.8125 17.96875 \n",
       "Q 30.859375 19.921875 23.046875 21.09375 \n",
       "Q 14.0625 22.265625 10.734375 25.578125 \n",
       "Q 7.421875 28.90625 7.421875 34.375 \n",
       "Q 7.421875 39.0625 11.90625 42.765625 \n",
       "Q 16.40625 46.484375 25 46.484375 \n",
       "Q 32.8125 46.484375 37.296875 42.96875 \n",
       "Q 41.796875 39.453125 41.796875 33.59375 \n",
       "L 33.984375 33.59375 \n",
       "Q 33.984375 37.109375 31.4375 38.46875 \n",
       "Q 28.90625 39.84375 25 39.84375 \n",
       "Q 19.921875 39.84375 17.765625 38.078125 \n",
       "Q 15.625 36.328125 15.625 33.984375 \n",
       "Q 15.625 31.25 17.578125 29.6875 \n",
       "Q 19.53125 28.125 25.78125 27.34375 \n",
       "Q 35.9375 25.78125 39.453125 22.453125 \n",
       "Q 42.96875 19.140625 42.96875 14.0625 \n",
       "z\n",
       "\" id=\"SimHei-115\"/>\n",
       "       <path id=\"SimHei-32\"/>\n",
       "       <path d=\"M 44.921875 45.703125 \n",
       "L 28.515625 1.171875 \n",
       "L 19.921875 1.171875 \n",
       "L 3.515625 45.703125 \n",
       "L 11.71875 45.703125 \n",
       "L 23.828125 11.71875 \n",
       "L 24.609375 11.71875 \n",
       "L 36.71875 45.703125 \n",
       "z\n",
       "\" id=\"SimHei-118\"/>\n",
       "       <path d=\"M 45.703125 23.828125 \n",
       "Q 45.703125 13.671875 39.453125 7.421875 \n",
       "Q 33.203125 1.171875 24.609375 1.171875 \n",
       "Q 16.015625 1.171875 9.765625 7.421875 \n",
       "Q 3.515625 13.671875 3.515625 23.828125 \n",
       "Q 3.515625 33.984375 9.765625 40.234375 \n",
       "Q 16.015625 46.484375 24.609375 46.484375 \n",
       "Q 33.203125 46.484375 39.453125 40.234375 \n",
       "Q 45.703125 33.984375 45.703125 23.828125 \n",
       "z\n",
       "M 37.109375 23.828125 \n",
       "Q 37.109375 31.640625 33.203125 35.546875 \n",
       "Q 29.296875 39.453125 24.609375 39.453125 \n",
       "Q 19.921875 39.453125 16.015625 35.546875 \n",
       "Q 12.109375 31.640625 12.109375 23.828125 \n",
       "Q 12.109375 16.015625 16.015625 12.109375 \n",
       "Q 19.921875 8.203125 24.609375 8.203125 \n",
       "Q 29.296875 8.203125 33.203125 12.109375 \n",
       "Q 37.109375 16.015625 37.109375 23.828125 \n",
       "z\n",
       "\" id=\"SimHei-111\"/>\n",
       "       <path d=\"M 43.75 1.953125 \n",
       "L 35.9375 1.953125 \n",
       "L 35.9375 10.15625 \n",
       "Q 32.8125 5.859375 29.09375 3.515625 \n",
       "Q 25.390625 1.171875 19.53125 1.171875 \n",
       "Q 12.5 1.171875 8.984375 5.078125 \n",
       "Q 5.46875 8.984375 5.46875 14.84375 \n",
       "L 5.46875 45.703125 \n",
       "L 13.28125 45.703125 \n",
       "L 13.28125 17.578125 \n",
       "Q 13.28125 12.890625 15.625 10.15625 \n",
       "Q 17.96875 7.421875 21.875 7.421875 \n",
       "Q 26.953125 7.421875 31.4375 12.6875 \n",
       "Q 35.9375 17.96875 35.9375 25.78125 \n",
       "L 35.9375 45.703125 \n",
       "L 43.75 45.703125 \n",
       "z\n",
       "\" id=\"SimHei-117\"/>\n",
       "       <path d=\"M 43.75 1.953125 \n",
       "L 35.9375 1.953125 \n",
       "L 35.9375 30.078125 \n",
       "Q 35.9375 34.765625 33.59375 37.5 \n",
       "Q 31.25 40.234375 27.34375 40.234375 \n",
       "Q 22.265625 40.234375 17.765625 34.953125 \n",
       "Q 13.28125 29.6875 13.28125 21.875 \n",
       "L 13.28125 1.953125 \n",
       "L 5.46875 1.953125 \n",
       "L 5.46875 45.703125 \n",
       "L 13.28125 45.703125 \n",
       "L 13.28125 37.5 \n",
       "Q 16.40625 41.796875 20.109375 44.140625 \n",
       "Q 23.828125 46.484375 29.6875 46.484375 \n",
       "Q 36.71875 46.484375 40.234375 42.578125 \n",
       "Q 43.75 38.671875 43.75 32.8125 \n",
       "z\n",
       "\" id=\"SimHei-110\"/>\n",
       "      </defs>\n",
       "      <use xlink:href=\"#SimHei-83\"/>\n",
       "      <use x=\"50\" xlink:href=\"#SimHei-97\"/>\n",
       "      <use x=\"100\" xlink:href=\"#SimHei-108\"/>\n",
       "      <use x=\"150\" xlink:href=\"#SimHei-101\"/>\n",
       "      <use x=\"200\" xlink:href=\"#SimHei-115\"/>\n",
       "      <use x=\"250\" xlink:href=\"#SimHei-32\"/>\n",
       "      <use x=\"300\" xlink:href=\"#SimHei-118\"/>\n",
       "      <use x=\"350\" xlink:href=\"#SimHei-111\"/>\n",
       "      <use x=\"400\" xlink:href=\"#SimHei-108\"/>\n",
       "      <use x=\"450\" xlink:href=\"#SimHei-117\"/>\n",
       "      <use x=\"500\" xlink:href=\"#SimHei-109\"/>\n",
       "      <use x=\"550\" xlink:href=\"#SimHei-110\"/>\n",
       "     </g>\n",
       "    </g>\n",
       "   </g>\n",
       "   <g id=\"line2d_15\">\n",
       "    <path clip-path=\"url(#pd6e7c141fb)\" d=\"M 61.543182 201.478555 \n",
       "L 86.906818 191.255296 \n",
       "L 112.270455 177.305873 \n",
       "L 137.634091 158.848496 \n",
       "L 162.997727 135.478076 \n",
       "L 188.361364 107.690197 \n",
       "L 213.725 77.506437 \n",
       "L 239.088636 48.838225 \n",
       "L 264.452273 27.006118 \n",
       "L 289.815909 17.083636 \n",
       "L 315.179545 21.663627 \n",
       "L 340.543182 39.527019 \n",
       "L 365.906818 66.283646 \n",
       "\" style=\"fill:none;stroke:#1f77b4;stroke-linecap:square;stroke-width:1.5;\"/>\n",
       "   </g>\n",
       "   <g id=\"patch_3\">\n",
       "    <path d=\"M 46.325 224.64 \n",
       "L 46.325 7.2 \n",
       "\" style=\"fill:none;stroke:#000000;stroke-linecap:square;stroke-linejoin:miter;stroke-width:0.8;\"/>\n",
       "   </g>\n",
       "   <g id=\"patch_4\">\n",
       "    <path d=\"M 381.125 224.64 \n",
       "L 381.125 7.2 \n",
       "\" style=\"fill:none;stroke:#000000;stroke-linecap:square;stroke-linejoin:miter;stroke-width:0.8;\"/>\n",
       "   </g>\n",
       "   <g id=\"patch_5\">\n",
       "    <path d=\"M 46.325 224.64 \n",
       "L 381.125 224.64 \n",
       "\" style=\"fill:none;stroke:#000000;stroke-linecap:square;stroke-linejoin:miter;stroke-width:0.8;\"/>\n",
       "   </g>\n",
       "   <g id=\"patch_6\">\n",
       "    <path d=\"M 46.325 7.2 \n",
       "L 381.125 7.2 \n",
       "\" style=\"fill:none;stroke:#000000;stroke-linecap:square;stroke-linejoin:miter;stroke-width:0.8;\"/>\n",
       "   </g>\n",
       "  </g>\n",
       " </g>\n",
       " <defs>\n",
       "  <clipPath id=\"pd6e7c141fb\">\n",
       "   <rect height=\"217.44\" width=\"334.8\" x=\"46.325\" y=\"7.2\"/>\n",
       "  </clipPath>\n",
       " </defs>\n",
       "</svg>\n"
      ],
      "text/plain": [
       "<Figure size 432x288 with 1 Axes>"
      ]
     },
     "metadata": {
      "needs_background": "light"
     },
     "output_type": "display_data"
    }
   ],
   "source": [
    "T = y.numel()\n",
    "plt.xlabel(\"Time\")\n",
    "plt.ylabel(\"Sales volumn\")\n",
    "plt.plot(np.arange(T), bass(res[-1], T).numpy() * 1000)\n",
    "plt.scatter(np.arange(T), y.numpy() * 1000, marker='o', color='red')"
   ]
  },
  {
   "cell_type": "markdown",
   "metadata": {},
   "source": [
    "## 4. 构建网络的流程"
   ]
  },
  {
   "cell_type": "markdown",
   "metadata": {},
   "source": [
    "### 1. 定义计算架构"
   ]
  },
  {
   "cell_type": "code",
   "execution_count": 63,
   "metadata": {},
   "outputs": [],
   "source": [
    "class Net(nn.Module):\n",
    "    def __init__(self, dim_feature, dim_hidden, dim_output):\n",
    "        super(Net, self).__init__()\n",
    "        self.hidden = nn.Linear(dim_feature, dim_hidden)\n",
    "        self.output = nn.Linear(dim_hidden, dim_output)\n",
    "    \n",
    "    def forward(self, X):  # 层之间的计算次序\n",
    "        f1 = torch.relu(self.hidden(X))  # 0-1\n",
    "        f2 = self.output(f1)  # 1->2\n",
    "        f3 = nn.functional.softmax(f2, dim=1)  # 2->3\n",
    "        return f3"
   ]
  },
  {
   "cell_type": "code",
   "execution_count": 64,
   "metadata": {},
   "outputs": [],
   "source": [
    "net = Net(dim_feature=2, dim_hidden=10, dim_output=2)"
   ]
  },
  {
   "cell_type": "code",
   "execution_count": 65,
   "metadata": {},
   "outputs": [],
   "source": [
    "optimizer = torch.optim.SGD(net.parameters(), lr=0.05)  # 指定需优化的参数\n",
    "loss_func = nn.CrossEntropyLoss()  # 确定训练准则"
   ]
  },
  {
   "cell_type": "markdown",
   "metadata": {},
   "source": [
    "### 2. 生成测试数据"
   ]
  },
  {
   "cell_type": "code",
   "execution_count": 66,
   "metadata": {},
   "outputs": [],
   "source": [
    "x0 = torch.randn(100, 2) + 2  # 均值为 2\n",
    "y0 = torch.zeros(100)\n",
    "x1 = torch.randn(100, 2) - 2  # 均值为 -2\n",
    "y1 = torch.ones(100)\n",
    "\n",
    "x = torch.cat((x0, x1)).type(torch.FloatTensor)\n",
    "y = torch.cat((y0, y1)).type(torch.LongTensor)"
   ]
  },
  {
   "cell_type": "code",
   "execution_count": 67,
   "metadata": {},
   "outputs": [],
   "source": [
    "idx = np.arange(len(x))\n",
    "np.random.shuffle(idx)\n",
    "train_x, train_y = x[idx[:50]], y[idx[:50]]  # 随机选取50个\n",
    "test_x, test_y = x[idx[50:]], y[idx[50:]]"
   ]
  },
  {
   "cell_type": "code",
   "execution_count": 68,
   "metadata": {},
   "outputs": [
    {
     "data": {
      "text/plain": [
       "tensor([1, 1, 0, 0, 1, 0, 0, 0, 0, 0, 1, 0, 1, 0, 1, 0, 0, 1, 0, 1, 0, 0, 0, 1,\n",
       "        0, 0, 1, 0, 0, 0, 0, 1, 1, 0, 1, 1, 1, 0, 1, 1, 0, 1, 1, 0, 0, 1, 0, 0,\n",
       "        0, 1])"
      ]
     },
     "execution_count": 68,
     "metadata": {},
     "output_type": "execute_result"
    }
   ],
   "source": [
    "train_y"
   ]
  },
  {
   "cell_type": "markdown",
   "metadata": {},
   "source": [
    "### 3. 训练"
   ]
  },
  {
   "cell_type": "code",
   "execution_count": 72,
   "metadata": {},
   "outputs": [
    {
     "name": "stdout",
     "output_type": "stream",
     "text": [
      "loss_train: 0.3178035318851471, loss_test: 0.3183439373970032\n",
      "loss_train: 0.31761178374290466, loss_test: 0.31825724244117737\n",
      "loss_train: 0.3174333870410919, loss_test: 0.31817612051963806\n",
      "loss_train: 0.3172672986984253, loss_test: 0.3180997371673584\n",
      "loss_train: 0.31711241602897644, loss_test: 0.3180275857448578\n",
      "loss_train: 0.3169676959514618, loss_test: 0.31795942783355713\n",
      "loss_train: 0.316832035779953, loss_test: 0.3178946375846863\n",
      "loss_train: 0.31670480966567993, loss_test: 0.31783339381217957\n",
      "loss_train: 0.3165852427482605, loss_test: 0.3177746832370758\n",
      "loss_train: 0.3164726495742798, loss_test: 0.3177189528942108\n"
     ]
    }
   ],
   "source": [
    "for i in range(400):\n",
    "    out = net.forward(train_x)\n",
    "    loss = loss_func(out, train_y)\n",
    "    \n",
    "    optimizer.zero_grad()\n",
    "    loss.backward()\n",
    "    optimizer.step()\n",
    "    if i % 40 == 0:\n",
    "        with torch.no_grad():\n",
    "            loss_train = loss_func(out, train_y)\n",
    "            out_test = net.forward(test_x)\n",
    "            loss_test = loss_func(out_test, test_y)\n",
    "            print(f\"loss_train: {loss_train}, loss_test: {loss_test}\")"
   ]
  },
  {
   "cell_type": "code",
   "execution_count": 73,
   "metadata": {},
   "outputs": [],
   "source": [
    "train_result = net(train_x)\n",
    "predict_train_y = torch.max(train_result, 1)[1]\n",
    "\n",
    "test_result = net(test_x)\n",
    "predict_test_y = torch.max(test_result, 1)[1]\n",
    "\n",
    "x_list = [train_x, test_x]\n",
    "y_list = [predict_train_y, predict_test_y]"
   ]
  },
  {
   "cell_type": "code",
   "execution_count": 74,
   "metadata": {},
   "outputs": [
    {
     "data": {
      "image/png": "[encoded data removed]",
      "text/plain": [
       "<Figure size 864x360 with 2 Axes>"
      ]
     },
     "metadata": {
      "needs_background": "light"
     },
     "output_type": "display_data"
    }
   ],
   "source": [
    "fig = plt.figure(figsize=(12, 5))\n",
    "for i in range(2):\n",
    "    px = x_list[i]\n",
    "    py = y_list[i]\n",
    "    ax = fig.add_subplot(1, 2, i+1)\n",
    "    ax.set_xlabel('$x_0$')\n",
    "    ax.set_ylabel('$x_1$')\n",
    "    ax.scatter(px.data.numpy()[:,0], px.data.numpy()[:,1], c=py.data.numpy(), s=60, lw=0, cmap='RdYlGn')"
   ]
  },
  {
   "cell_type": "markdown",
   "metadata": {},
   "source": [
    "## 5. 案例： 垃圾邮件分类"
   ]
  },
  {
   "cell_type": "code",
   "execution_count": null,
   "metadata": {},
   "outputs": [],
   "source": [
    "from torch.utils.data import TensorDataset, DataLoader\n",
    "from sklearn.model_selection import train_test_split, cross_val_score\n",
    "from sklearn.feature_extraction.text import TfidfVectorizer\n",
    "import pandas as pd\n",
    "import os"
   ]
  },
  {
   "cell_type": "markdown",
   "metadata": {},
   "source": [
    "利用`nn.Module`实现`Logit`回归"
   ]
  },
  {
   "cell_type": "code",
   "execution_count": null,
   "metadata": {},
   "outputs": [],
   "source": [
    "class LogitNet(nn.Module):\n",
    "    def __init__(self, dim_feature, dim_output):\n",
    "        super(LogitNet, self).__init__()\n",
    "        self.output = nn.Linear(dim_feature, dim_output)\n",
    "    \n",
    "    def forward(self, X):  # 层之间的计算次序\n",
    "        h = self.output(X)  # 1 -> 2\n",
    "        o = nn.functional.softmax(h, dim=1)  # 2 -> 3\n",
    "        return o"
   ]
  },
  {
   "cell_type": "code",
   "execution_count": null,
   "metadata": {},
   "outputs": [],
   "source": [
    "df = pd.read_csv('../dataset/smsspamcollection/SMSSpamCollection', delimiter='\\t', header=None, names=['category', 'message'])\n",
    "df['label'] = (df.category == 'ham').astype('int')\n",
    "print('垃圾邮件数量: %d ' % np.sum(df.label == 0))\n",
    "print('正常邮件数量: %d ' % np.sum(df.label == 0))"
   ]
  },
  {
   "cell_type": "code",
   "execution_count": null,
   "metadata": {},
   "outputs": [],
   "source": [
    "X = df.message.values\n",
    "y = df.label.values\n",
    "X_train_raw, X_test_raw, y_train, y_test = train_test_split(X, y, test_size=0.5, random_state=200)\n",
    "# y转换为tensor\n",
    "y_train = torch.tensor(y_train).type(torch.LongTensor)  # 注意label的形式为1维，即类别的标签，无需reshape(-1, 1)\n",
    "y_test = torch.tensor(y_test).type(torch.LongTensor)\n",
    "# 获取词的tf-idf\n",
    "vectorizer = TfidfVectorizer()\n",
    "X_train = vectorizer.fit_transform(X_train_raw)\n",
    "X_test = vectorizer.transform(X_test_raw)\n",
    "# X转换为tensor\n",
    "X_train = torch.tensor(X_train.toarray(), dtype=torch.float)\n",
    "X_test = torch.tensor(X_test.toarray(), dtype=torch.float)"
   ]
  },
  {
   "cell_type": "code",
   "execution_count": null,
   "metadata": {},
   "outputs": [],
   "source": [
    "batch_size = 300  # 构建每批次100个样本的训练集\n",
    "dataset = TensorDataset(X_train, y_train)\n",
    "data_iter = DataLoader(dataset=dataset, batch_size=batch_size, shuffle=True)"
   ]
  },
  {
   "cell_type": "code",
   "execution_count": null,
   "metadata": {},
   "outputs": [],
   "source": [
    "snet = LogitNet(dim_feature=X_train.shape[1], dim_output=2)\n",
    "optimizer = torch.optim.SGD(snet.parameters(), lr=0.03)  # 指定需优化的参数\n",
    "# loss_func = nn.CrossEntropyLoss()  # 确定训练准则\n",
    "loss_func = nn.NLLLoss()"
   ]
  },
  {
   "cell_type": "code",
   "execution_count": null,
   "metadata": {},
   "outputs": [],
   "source": [
    "for i in range(100):\n",
    "    for X, y in data_iter:        \n",
    "        loss = loss_func(snet.forward(X), y)\n",
    "        optimizer.zero_grad()\n",
    "        loss.backward()\n",
    "        optimizer.step()\n",
    "        \n",
    "    if i % 20 == 0:\n",
    "        with torch.no_grad():\n",
    "            loss_train = loss_func(snet.forward(X_train), y_train)\n",
    "            out_test = snet.forward(X_test)\n",
    "            loss_test = loss_func(out_test, y_test)\n",
    "            print(f\"loss_train: {loss_train:.5f}, loss_test: {loss_test:.5f}\")"
   ]
  },
  {
   "cell_type": "code",
   "execution_count": null,
   "metadata": {},
   "outputs": [],
   "source": [
    "train_result = snet(X_train)\n",
    "predict_y_train = torch.max(train_result, 1)[1]\n",
    "print(torch.sum(predict_y_train != y_train), torch.sum(predict_y_train == y_train))"
   ]
  },
  {
   "cell_type": "code",
   "execution_count": null,
   "metadata": {},
   "outputs": [],
   "source": [
    "a = torch.randn(4, 8)"
   ]
  },
  {
   "cell_type": "code",
   "execution_count": null,
   "metadata": {},
   "outputs": [],
   "source": [
    "torch.std(a, 1)"
   ]
  },
  {
   "cell_type": "code",
   "execution_count": null,
   "metadata": {},
   "outputs": [],
   "source": []
  }
 ],
 "metadata": {
  "kernelspec": {
   "display_name": "Python 3",
   "language": "python",
   "name": "python3"
  },
  "language_info": {
   "codemirror_mode": {
    "name": "ipython",
    "version": 3
   },
   "file_extension": ".py",
   "mimetype": "text/x-python",
   "name": "python",
   "nbconvert_exporter": "python",
   "pygments_lexer": "ipython3",
   "version": "3.9.2"
  }
 },
 "nbformat": 4,
 "nbformat_minor": 4
}
