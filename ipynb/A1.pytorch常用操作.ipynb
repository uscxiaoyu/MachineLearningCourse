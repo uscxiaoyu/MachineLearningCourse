{
 "cells": [
  {
   "cell_type": "code",
   "execution_count": 1,
   "metadata": {},
   "outputs": [],
   "source": [
    "%config InlineBackend.figure_formats = ['svg']\n",
    "%matplotlib inline\n",
    "import matplotlib.pyplot as plt\n",
    "from torch import tensor, nn\n",
    "import numpy as np\n",
    "import torch"
   ]
  },
  {
   "cell_type": "markdown",
   "metadata": {},
   "source": [
    "## 0. Tensor"
   ]
  },
  {
   "cell_type": "markdown",
   "metadata": {},
   "source": [
    "torch.Tensor是一种包含单一数据类型元素的多维矩阵。Torch定义了七种CPU tensor类型和八种GPU tensor类型：\n",
    "\n",
    "|Data type|\t CPU tensor | GPU tensor|\n",
    "|:---|:---|:---|\n",
    "|32-bit floating point|\ttorch.FloatTensor|\ttorch.cuda.FloatTensor|\n",
    "|64-bit floating point|\ttorch.DoubleTensor|\ttorch.cuda.DoubleTensor|\n",
    "|16-bit floating point|\tN/A|\ttorch.cuda.HalfTensor|\n",
    "|8-bit integer (unsigned)|\ttorch.ByteTensor|\ttorch.cuda.ByteTensor|\n",
    "|8-bit integer (signed)|\ttorch.CharTensor|\ttorch.cuda.CharTensor|\n",
    "|16-bit integer (signed)|\ttorch.ShortTensor|\ttorch.cuda.ShortTensor|\n",
    "|32-bit integer (signed)|\ttorch.IntTensor|\ttorch.cuda.IntTensor|\n",
    "|64-bit integer (signed)|\ttorch.LongTensor|\ttorch.cuda.LongTensor|"
   ]
  },
  {
   "cell_type": "markdown",
   "metadata": {},
   "source": [
    "- `torch.tensor`和`torch.Tensor`的区别"
   ]
  },
  {
   "cell_type": "code",
   "execution_count": 2,
   "metadata": {},
   "outputs": [
    {
     "data": {
      "text/plain": [
       "'torch.FloatTensor'"
      ]
     },
     "execution_count": 2,
     "metadata": {},
     "output_type": "execute_result"
    }
   ],
   "source": [
    "torch.Tensor([5, 4]).type()"
   ]
  },
  {
   "cell_type": "code",
   "execution_count": 3,
   "metadata": {},
   "outputs": [
    {
     "data": {
      "text/plain": [
       "tensor([5., 4.])"
      ]
     },
     "execution_count": 3,
     "metadata": {},
     "output_type": "execute_result"
    }
   ],
   "source": [
    "torch.Tensor([5, 4])"
   ]
  },
  {
   "cell_type": "code",
   "execution_count": 4,
   "metadata": {},
   "outputs": [
    {
     "data": {
      "text/plain": [
       "'torch.LongTensor'"
      ]
     },
     "execution_count": 4,
     "metadata": {},
     "output_type": "execute_result"
    }
   ],
   "source": [
    "torch.tensor([5, 4]).type()  # tensor接受已经存在的数据"
   ]
  },
  {
   "cell_type": "code",
   "execution_count": 5,
   "metadata": {},
   "outputs": [
    {
     "data": {
      "text/plain": [
       "tensor([5, 4])"
      ]
     },
     "execution_count": 5,
     "metadata": {},
     "output_type": "execute_result"
    }
   ],
   "source": [
    "torch.tensor([5, 4])  # tensor接受已经存在的数据"
   ]
  },
  {
   "cell_type": "code",
   "execution_count": 6,
   "metadata": {},
   "outputs": [
    {
     "data": {
      "text/plain": [
       "tensor([[ 3.3631e-44,         nan, -3.1080e+00,  4.5586e-41],\n",
       "        [ 1.4013e-45,  0.0000e+00,  1.4013e-45,  7.0065e-45],\n",
       "        [ 1.4013e-45,  0.0000e+00,  1.4013e-45,  7.0065e-45],\n",
       "        [ 2.9427e-44,  0.0000e+00,  7.7262e-36,  0.0000e+00],\n",
       "        [-7.1427e-25,  4.5586e-41,  1.4013e-45,  4.5586e-41]])"
      ]
     },
     "execution_count": 6,
     "metadata": {},
     "output_type": "execute_result"
    }
   ],
   "source": [
    "torch.Tensor(5, 4)  #  Tensor创建一个多维矩阵"
   ]
  },
  {
   "cell_type": "code",
   "execution_count": 7,
   "metadata": {
    "tags": []
   },
   "outputs": [
    {
     "name": "stdout",
     "output_type": "stream",
     "text": [
      "tensor([-5.6669e+07,  4.5586e-41,  7.7284e-36,  0.0000e+00,  1.4013e-45])\n",
      "tensor([5.])\n",
      "tensor(5)\n"
     ]
    }
   ],
   "source": [
    "print(torch.Tensor(5), torch.Tensor([5]), torch.tensor(5), sep='\\n')"
   ]
  },
  {
   "cell_type": "markdown",
   "metadata": {},
   "source": [
    "- 不同类别的`Tensor`"
   ]
  },
  {
   "cell_type": "code",
   "execution_count": 8,
   "metadata": {},
   "outputs": [
    {
     "data": {
      "text/plain": [
       "tensor([[1, 2, 3],\n",
       "        [4, 5, 6]], dtype=torch.int32)"
      ]
     },
     "execution_count": 8,
     "metadata": {},
     "output_type": "execute_result"
    }
   ],
   "source": [
    "torch.IntTensor([[1, 2, 3], [4, 5, 6]])  # 一个张量tensor可以从Python的list或序列构建："
   ]
  },
  {
   "cell_type": "code",
   "execution_count": 9,
   "metadata": {},
   "outputs": [
    {
     "data": {
      "text/plain": [
       "tensor([[0, 0, 0, 0],\n",
       "        [0, 0, 0, 0]], dtype=torch.int16)"
      ]
     },
     "execution_count": 9,
     "metadata": {},
     "output_type": "execute_result"
    }
   ],
   "source": [
    "torch.ShortTensor(2, 4).zero_()  # 一个空张量tensor可以通过规定其大小来构建："
   ]
  },
  {
   "cell_type": "code",
   "execution_count": 10,
   "metadata": {},
   "outputs": [
    {
     "data": {
      "text/plain": [
       "tensor([0, 1, 2, 3, 4, 5, 6, 7, 8, 9], dtype=torch.uint8)"
      ]
     },
     "execution_count": 10,
     "metadata": {},
     "output_type": "execute_result"
    }
   ],
   "source": [
    "torch.ByteTensor(range(10))"
   ]
  },
  {
   "cell_type": "code",
   "execution_count": 11,
   "metadata": {},
   "outputs": [
    {
     "data": {
      "text/plain": [
       "tensor([0, 1, 2, 3, 4, 5, 6, 7, 8, 9], dtype=torch.int16)"
      ]
     },
     "execution_count": 11,
     "metadata": {},
     "output_type": "execute_result"
    }
   ],
   "source": [
    "torch.ShortTensor(np.arange(10))"
   ]
  },
  {
   "cell_type": "code",
   "execution_count": 12,
   "metadata": {},
   "outputs": [
    {
     "data": {
      "text/plain": [
       "'torch.LongTensor'"
      ]
     },
     "execution_count": 12,
     "metadata": {},
     "output_type": "execute_result"
    }
   ],
   "source": [
    "u = np.random.randint(10, size=(2, 10))\n",
    "u = torch.from_numpy(u)  # 默认转为LongTensor\n",
    "u.type()"
   ]
  },
  {
   "cell_type": "code",
   "execution_count": 13,
   "metadata": {},
   "outputs": [
    {
     "data": {
      "text/plain": [
       "tensor([[1, 1, 0, 0, 3, 5, 5, 6, 2, 6],\n",
       "        [8, 0, 3, 5, 0, 5, 5, 5, 8, 1]])"
      ]
     },
     "execution_count": 13,
     "metadata": {},
     "output_type": "execute_result"
    }
   ],
   "source": [
    "u"
   ]
  },
  {
   "cell_type": "code",
   "execution_count": 14,
   "metadata": {},
   "outputs": [
    {
     "data": {
      "text/plain": [
       "False"
      ]
     },
     "execution_count": 14,
     "metadata": {},
     "output_type": "execute_result"
    }
   ],
   "source": [
    "u.requires_grad"
   ]
  },
  {
   "cell_type": "code",
   "execution_count": 15,
   "metadata": {},
   "outputs": [
    {
     "data": {
      "text/plain": [
       "'torch.LongTensor'"
      ]
     },
     "execution_count": 15,
     "metadata": {},
     "output_type": "execute_result"
    }
   ],
   "source": [
    "u.type()"
   ]
  },
  {
   "cell_type": "code",
   "execution_count": 16,
   "metadata": {},
   "outputs": [],
   "source": [
    "u = u.type(torch.FloatTensor)"
   ]
  },
  {
   "cell_type": "code",
   "execution_count": 18,
   "metadata": {},
   "outputs": [],
   "source": [
    "u.requires_grad = True  # 附加梯度，反向传播时计算"
   ]
  },
  {
   "cell_type": "code",
   "execution_count": 19,
   "metadata": {},
   "outputs": [
    {
     "data": {
      "text/plain": [
       "tensor([[1., 1., 0., 0., 3., 5., 5., 6., 2., 6.],\n",
       "        [8., 0., 3., 5., 0., 5., 5., 5., 8., 1.]], requires_grad=True)"
      ]
     },
     "execution_count": 19,
     "metadata": {},
     "output_type": "execute_result"
    }
   ],
   "source": [
    "u"
   ]
  },
  {
   "cell_type": "markdown",
   "metadata": {},
   "source": [
    "## 1.常用函数"
   ]
  },
  {
   "cell_type": "code",
   "execution_count": 20,
   "metadata": {},
   "outputs": [
    {
     "data": {
      "text/plain": [
       "tensor([[35, 37, 33, 17, 20],\n",
       "        [36, 32, 26,  5, 22],\n",
       "        [47, 38, 22, 10, 21],\n",
       "        [40, 22,  5, 36, 14],\n",
       "        [ 3,  7, 11, 17,  1],\n",
       "        [41, 16,  6, 42,  4],\n",
       "        [25, 37, 27, 17, 24],\n",
       "        [21, 46,  5,  7, 25],\n",
       "        [44, 11, 21, 48, 42],\n",
       "        [30, 33,  3,  5, 26]])"
      ]
     },
     "execution_count": 20,
     "metadata": {},
     "output_type": "execute_result"
    }
   ],
   "source": [
    "x = torch.randint(1, 50, size=(10, 5))\n",
    "x"
   ]
  },
  {
   "cell_type": "code",
   "execution_count": 21,
   "metadata": {},
   "outputs": [
    {
     "data": {
      "text/plain": [
       "array([[24, 21, 47, 22,  4],\n",
       "       [ 8, 41, 43, 21, 22],\n",
       "       [39,  2, 46, 38, 15],\n",
       "       [ 5, 17, 41,  7, 25],\n",
       "       [27, 10, 29, 11, 32],\n",
       "       [19,  1,  2, 48,  6],\n",
       "       [21,  1, 32, 41, 33],\n",
       "       [ 3, 23, 44, 10,  7],\n",
       "       [28, 43, 12, 14, 32],\n",
       "       [31, 28, 24, 23,  9]])"
      ]
     },
     "execution_count": 21,
     "metadata": {},
     "output_type": "execute_result"
    }
   ],
   "source": [
    "np.random.randint(1, 50, size=(10, 5))"
   ]
  },
  {
   "cell_type": "code",
   "execution_count": 22,
   "metadata": {},
   "outputs": [
    {
     "data": {
      "text/plain": [
       "torch.Size([10, 5])"
      ]
     },
     "execution_count": 22,
     "metadata": {},
     "output_type": "execute_result"
    }
   ],
   "source": [
    "x.size()"
   ]
  },
  {
   "cell_type": "code",
   "execution_count": 23,
   "metadata": {},
   "outputs": [
    {
     "data": {
      "text/plain": [
       "torch.Size([10, 5])"
      ]
     },
     "execution_count": 23,
     "metadata": {},
     "output_type": "execute_result"
    }
   ],
   "source": [
    "x.shape  # 各维度上的数量"
   ]
  },
  {
   "cell_type": "code",
   "execution_count": 24,
   "metadata": {},
   "outputs": [
    {
     "data": {
      "text/plain": [
       "tensor([[35, 37, 33, 17, 20, 36, 32, 26,  5, 22],\n",
       "        [47, 38, 22, 10, 21, 40, 22,  5, 36, 14],\n",
       "        [ 3,  7, 11, 17,  1, 41, 16,  6, 42,  4],\n",
       "        [25, 37, 27, 17, 24, 21, 46,  5,  7, 25],\n",
       "        [44, 11, 21, 48, 42, 30, 33,  3,  5, 26]])"
      ]
     },
     "execution_count": 24,
     "metadata": {},
     "output_type": "execute_result"
    }
   ],
   "source": [
    "x.reshape(5, 10)  # 重塑形状"
   ]
  },
  {
   "cell_type": "code",
   "execution_count": 27,
   "metadata": {},
   "outputs": [
    {
     "data": {
      "text/plain": [
       "tensor([[35, 37, 33, 17, 20, 36, 32, 26,  5, 22, 47, 38, 22, 10, 21, 40, 22,  5,\n",
       "         36, 14,  3,  7, 11, 17,  1],\n",
       "        [41, 16,  6, 42,  4, 25, 37, 27, 17, 24, 21, 46,  5,  7, 25, 44, 11, 21,\n",
       "         48, 42, 30, 33,  3,  5, 26]])"
      ]
     },
     "execution_count": 27,
     "metadata": {},
     "output_type": "execute_result"
    }
   ],
   "source": [
    "x.reshape(2, -1)  # 如果某一维度为-1，则根据总元素个数自动计算该轴长度"
   ]
  },
  {
   "cell_type": "code",
   "execution_count": 28,
   "metadata": {},
   "outputs": [
    {
     "data": {
      "text/plain": [
       "50"
      ]
     },
     "execution_count": 28,
     "metadata": {},
     "output_type": "execute_result"
    }
   ],
   "source": [
    "x.numel()  # 元素个数"
   ]
  },
  {
   "cell_type": "code",
   "execution_count": 29,
   "metadata": {},
   "outputs": [
    {
     "data": {
      "text/plain": [
       "tensor([35, 37, 33, 17, 20, 36, 32, 26,  5, 22, 47, 38, 22, 10, 21, 40, 22,  5,\n",
       "        36, 14,  3,  7, 11, 17,  1, 41, 16,  6, 42,  4, 25, 37, 27, 17, 24, 21,\n",
       "        46,  5,  7, 25, 44, 11, 21, 48, 42, 30, 33,  3,  5, 26])"
      ]
     },
     "execution_count": 29,
     "metadata": {},
     "output_type": "execute_result"
    }
   ],
   "source": [
    "x.reshape(50)"
   ]
  },
  {
   "cell_type": "code",
   "execution_count": 30,
   "metadata": {},
   "outputs": [
    {
     "data": {
      "text/plain": [
       "tensor([35, 37, 33, 17, 20, 36, 32, 26,  5, 22, 47, 38, 22, 10, 21, 40, 22,  5,\n",
       "        36, 14,  3,  7, 11, 17,  1, 41, 16,  6, 42,  4, 25, 37, 27, 17, 24, 21,\n",
       "        46,  5,  7, 25, 44, 11, 21, 48, 42, 30, 33,  3,  5, 26])"
      ]
     },
     "execution_count": 30,
     "metadata": {},
     "output_type": "execute_result"
    }
   ],
   "source": [
    "x.reshape(-1)"
   ]
  },
  {
   "cell_type": "code",
   "execution_count": 31,
   "metadata": {},
   "outputs": [
    {
     "data": {
      "text/plain": [
       "tensor([1, 3, 5, 7, 9])"
      ]
     },
     "execution_count": 31,
     "metadata": {},
     "output_type": "execute_result"
    }
   ],
   "source": [
    "torch.arange(1, 10, 2)  # torch.range()也可用，建议用前者"
   ]
  },
  {
   "cell_type": "code",
   "execution_count": 32,
   "metadata": {},
   "outputs": [
    {
     "data": {
      "text/plain": [
       "tensor([ 1.0000,  1.4737,  1.9474,  2.4211,  2.8947,  3.3684,  3.8421,  4.3158,\n",
       "         4.7895,  5.2632,  5.7368,  6.2105,  6.6842,  7.1579,  7.6316,  8.1053,\n",
       "         8.5789,  9.0526,  9.5263, 10.0000])"
      ]
     },
     "execution_count": 32,
     "metadata": {},
     "output_type": "execute_result"
    }
   ],
   "source": [
    "torch.linspace(1, 10, 20)"
   ]
  },
  {
   "cell_type": "code",
   "execution_count": 33,
   "metadata": {},
   "outputs": [
    {
     "data": {
      "text/plain": [
       "tensor([[1, 1, 1, 1, 1],\n",
       "        [1, 1, 1, 1, 1],\n",
       "        [1, 1, 1, 1, 1],\n",
       "        [1, 1, 1, 1, 1],\n",
       "        [1, 1, 1, 1, 1],\n",
       "        [1, 1, 1, 1, 1],\n",
       "        [1, 1, 1, 1, 1],\n",
       "        [1, 1, 1, 1, 1],\n",
       "        [1, 1, 1, 1, 1],\n",
       "        [1, 1, 1, 1, 1]])"
      ]
     },
     "execution_count": 33,
     "metadata": {},
     "output_type": "execute_result"
    }
   ],
   "source": [
    "torch.ones_like(x)"
   ]
  },
  {
   "cell_type": "code",
   "execution_count": 34,
   "metadata": {},
   "outputs": [
    {
     "data": {
      "text/plain": [
       "tensor([[1., 1., 1., 1., 1.],\n",
       "        [1., 1., 1., 1., 1.],\n",
       "        [1., 1., 1., 1., 1.],\n",
       "        [1., 1., 1., 1., 1.],\n",
       "        [1., 1., 1., 1., 1.],\n",
       "        [1., 1., 1., 1., 1.],\n",
       "        [1., 1., 1., 1., 1.],\n",
       "        [1., 1., 1., 1., 1.],\n",
       "        [1., 1., 1., 1., 1.],\n",
       "        [1., 1., 1., 1., 1.]])"
      ]
     },
     "execution_count": 34,
     "metadata": {},
     "output_type": "execute_result"
    }
   ],
   "source": [
    "torch.ones(size=x.shape)"
   ]
  },
  {
   "cell_type": "code",
   "execution_count": 35,
   "metadata": {},
   "outputs": [
    {
     "data": {
      "text/plain": [
       "tensor([0., 0., 0., 0., 0., 0., 0., 0., 0., 0.])"
      ]
     },
     "execution_count": 35,
     "metadata": {},
     "output_type": "execute_result"
    }
   ],
   "source": [
    "torch.zeros(10)"
   ]
  },
  {
   "cell_type": "code",
   "execution_count": 36,
   "metadata": {},
   "outputs": [
    {
     "data": {
      "text/plain": [
       "tensor([[0, 0, 0, 0, 0],\n",
       "        [0, 0, 0, 0, 0],\n",
       "        [0, 0, 0, 0, 0],\n",
       "        [0, 0, 0, 0, 0],\n",
       "        [0, 0, 0, 0, 0],\n",
       "        [0, 0, 0, 0, 0],\n",
       "        [0, 0, 0, 0, 0],\n",
       "        [0, 0, 0, 0, 0],\n",
       "        [0, 0, 0, 0, 0],\n",
       "        [0, 0, 0, 0, 0]])"
      ]
     },
     "execution_count": 36,
     "metadata": {},
     "output_type": "execute_result"
    }
   ],
   "source": [
    "torch.zeros_like(x)"
   ]
  },
  {
   "cell_type": "code",
   "execution_count": 37,
   "metadata": {},
   "outputs": [
    {
     "data": {
      "text/plain": [
       "tensor([[2.0001, 1.8997],\n",
       "        [1.6858, 2.1689],\n",
       "        [1.1472, 2.0109],\n",
       "        [2.0577, 2.6276],\n",
       "        [0.9179, 0.9357],\n",
       "        [2.4835, 2.0823],\n",
       "        [1.7982, 2.4352],\n",
       "        [2.4890, 1.6386],\n",
       "        [1.7093, 2.7012],\n",
       "        [1.3283, 1.7144]])"
      ]
     },
     "execution_count": 37,
     "metadata": {},
     "output_type": "execute_result"
    }
   ],
   "source": [
    "torch.randn(10, 2) * 0.5 + 2"
   ]
  },
  {
   "cell_type": "code",
   "execution_count": 38,
   "metadata": {},
   "outputs": [
    {
     "data": {
      "text/plain": [
       "tensor([[[[ 0.5510]]],\n",
       "\n",
       "\n",
       "        [[[-0.8024]]],\n",
       "\n",
       "\n",
       "        [[[ 0.6547]]],\n",
       "\n",
       "\n",
       "        [[[ 1.4303]]],\n",
       "\n",
       "\n",
       "        [[[ 0.3374]]],\n",
       "\n",
       "\n",
       "        [[[ 0.7947]]],\n",
       "\n",
       "\n",
       "        [[[-0.4177]]],\n",
       "\n",
       "\n",
       "        [[[ 0.2774]]],\n",
       "\n",
       "\n",
       "        [[[-0.2601]]],\n",
       "\n",
       "\n",
       "        [[[ 0.7847]]]])"
      ]
     },
     "execution_count": 38,
     "metadata": {},
     "output_type": "execute_result"
    }
   ],
   "source": [
    "y = torch.randn(10, 1, 1, 1)  # 10*1*1*1\n",
    "y"
   ]
  },
  {
   "cell_type": "code",
   "execution_count": 39,
   "metadata": {},
   "outputs": [
    {
     "data": {
      "text/plain": [
       "tensor([ 0.5510, -0.8024,  0.6547,  1.4303,  0.3374,  0.7947, -0.4177,  0.2774,\n",
       "        -0.2601,  0.7847])"
      ]
     },
     "execution_count": 39,
     "metadata": {},
     "output_type": "execute_result"
    }
   ],
   "source": [
    "y = torch.squeeze(y)  # 10\n",
    "y"
   ]
  },
  {
   "cell_type": "code",
   "execution_count": 40,
   "metadata": {},
   "outputs": [
    {
     "data": {
      "text/plain": [
       "tensor([ 0.5510, -0.8024,  0.6547,  1.4303,  0.3374,  0.7947, -0.4177,  0.2774,\n",
       "        -0.2601,  0.7847])"
      ]
     },
     "execution_count": 40,
     "metadata": {},
     "output_type": "execute_result"
    }
   ],
   "source": [
    "y.reshape(-1)"
   ]
  },
  {
   "cell_type": "code",
   "execution_count": 41,
   "metadata": {},
   "outputs": [
    {
     "data": {
      "text/plain": [
       "tensor([[0, 1, 2, 3, 4],\n",
       "        [5, 6, 7, 8, 9]])"
      ]
     },
     "execution_count": 41,
     "metadata": {},
     "output_type": "execute_result"
    }
   ],
   "source": [
    "z = torch.arange(10).reshape(2, 5)\n",
    "z"
   ]
  },
  {
   "cell_type": "code",
   "execution_count": 42,
   "metadata": {},
   "outputs": [
    {
     "data": {
      "text/plain": [
       "tensor([[0, 5],\n",
       "        [1, 6],\n",
       "        [2, 7],\n",
       "        [3, 8],\n",
       "        [4, 9]])"
      ]
     },
     "execution_count": 42,
     "metadata": {},
     "output_type": "execute_result"
    }
   ],
   "source": [
    "z.t()  # 输入一个矩阵（2维张量），并转置0, 1维。 可以被视为函数transpose(input, 0, 1)的简写函数。"
   ]
  },
  {
   "cell_type": "code",
   "execution_count": 43,
   "metadata": {},
   "outputs": [
    {
     "data": {
      "text/plain": [
       "tensor([[0, 1],\n",
       "        [2, 3],\n",
       "        [4, 5],\n",
       "        [6, 7],\n",
       "        [8, 9]])"
      ]
     },
     "execution_count": 43,
     "metadata": {},
     "output_type": "execute_result"
    }
   ],
   "source": [
    "z.reshape(z.shape[1], -1)  # 注意和转置之间的区别"
   ]
  },
  {
   "cell_type": "code",
   "execution_count": 44,
   "metadata": {},
   "outputs": [
    {
     "data": {
      "text/plain": [
       "tensor([ 0.5510, -0.8024,  0.6547,  1.4303,  0.3374,  0.7947, -0.4177,  0.2774,\n",
       "        -0.2601,  0.7847])"
      ]
     },
     "execution_count": 44,
     "metadata": {},
     "output_type": "execute_result"
    }
   ],
   "source": [
    "y"
   ]
  },
  {
   "cell_type": "code",
   "execution_count": 45,
   "metadata": {},
   "outputs": [
    {
     "data": {
      "text/plain": [
       "tensor([ 1., -1.,  1.,  1.,  1.,  1., -1.,  1., -1.,  1.])"
      ]
     },
     "execution_count": 45,
     "metadata": {},
     "output_type": "execute_result"
    }
   ],
   "source": [
    "torch.sign(y)"
   ]
  },
  {
   "cell_type": "code",
   "execution_count": 46,
   "metadata": {},
   "outputs": [
    {
     "data": {
      "text/plain": [
       "tensor([0.6344, 0.3095, 0.6581, 0.8069, 0.5836, 0.6888, 0.3971, 0.5689, 0.4353,\n",
       "        0.6867])"
      ]
     },
     "execution_count": 46,
     "metadata": {},
     "output_type": "execute_result"
    }
   ],
   "source": [
    "torch.sigmoid(y)  # 返回一个新张量，包含输入input张量每个元素的sigmoid值。"
   ]
  },
  {
   "cell_type": "code",
   "execution_count": 47,
   "metadata": {},
   "outputs": [
    {
     "data": {
      "text/plain": [
       "tensor(2.2588)"
      ]
     },
     "execution_count": 47,
     "metadata": {},
     "output_type": "execute_result"
    }
   ],
   "source": [
    "torch.norm(y, p=2)  # 返回输入张量input 的p 范数"
   ]
  },
  {
   "cell_type": "code",
   "execution_count": 48,
   "metadata": {},
   "outputs": [
    {
     "data": {
      "text/plain": [
       "tensor(0.3374)"
      ]
     },
     "execution_count": 48,
     "metadata": {},
     "output_type": "execute_result"
    }
   ],
   "source": [
    "torch.median(y)  # 返回输入张量给定维度每行的中位数，同时返回一个包含中位数的索引的LongTensor。"
   ]
  },
  {
   "cell_type": "code",
   "execution_count": 49,
   "metadata": {},
   "outputs": [
    {
     "data": {
      "text/plain": [
       "tensor(-0.0026)"
      ]
     },
     "execution_count": 49,
     "metadata": {},
     "output_type": "execute_result"
    }
   ],
   "source": [
    "torch.prod(y)  # 返回输入张量input 所有元素的积。"
   ]
  },
  {
   "cell_type": "code",
   "execution_count": 50,
   "metadata": {},
   "outputs": [
    {
     "data": {
      "text/plain": [
       "torch.return_types.sort(\n",
       "values=tensor([ 1.4303,  0.7947,  0.7847,  0.6547,  0.5510,  0.3374,  0.2774, -0.2601,\n",
       "        -0.4177, -0.8024]),\n",
       "indices=tensor([3, 5, 9, 2, 0, 4, 7, 8, 6, 1]))"
      ]
     },
     "execution_count": 50,
     "metadata": {},
     "output_type": "execute_result"
    }
   ],
   "source": [
    "torch.sort(y, dim=0, descending=True)  # 对输入张量input沿着指定维按升序排序。如果不给定dim，则默认为输入的最后一维。如果指定参数descending为True，则按降序排序"
   ]
  },
  {
   "cell_type": "code",
   "execution_count": 51,
   "metadata": {},
   "outputs": [
    {
     "data": {
      "text/plain": [
       "tensor([0.8863, 1.1355, 0.0000, 0.5523, 0.0000, 1.6754, 0.0379, 0.1781, 1.4163,\n",
       "        0.1856])"
      ]
     },
     "execution_count": 51,
     "metadata": {},
     "output_type": "execute_result"
    }
   ],
   "source": [
    "torch.relu(torch.randn(10))"
   ]
  },
  {
   "cell_type": "markdown",
   "metadata": {},
   "source": [
    "- 二元运算"
   ]
  },
  {
   "cell_type": "code",
   "execution_count": 52,
   "metadata": {},
   "outputs": [],
   "source": [
    "a = torch.arange(10)\n",
    "b = torch.arange(10, 20)"
   ]
  },
  {
   "cell_type": "code",
   "execution_count": 53,
   "metadata": {},
   "outputs": [
    {
     "data": {
      "text/plain": [
       "tensor([0, 1, 2, 3, 4, 5, 6, 7, 8, 9])"
      ]
     },
     "execution_count": 53,
     "metadata": {},
     "output_type": "execute_result"
    }
   ],
   "source": [
    "a"
   ]
  },
  {
   "cell_type": "code",
   "execution_count": 54,
   "metadata": {},
   "outputs": [
    {
     "data": {
      "text/plain": [
       "tensor([10, 11, 12, 13, 14, 15, 16, 17, 18, 19])"
      ]
     },
     "execution_count": 54,
     "metadata": {},
     "output_type": "execute_result"
    }
   ],
   "source": [
    "b"
   ]
  },
  {
   "cell_type": "code",
   "execution_count": 55,
   "metadata": {},
   "outputs": [
    {
     "data": {
      "text/plain": [
       "tensor([  0,  11,  24,  39,  56,  75,  96, 119, 144, 171])"
      ]
     },
     "execution_count": 55,
     "metadata": {},
     "output_type": "execute_result"
    }
   ],
   "source": [
    "a * b  # 按元素乘"
   ]
  },
  {
   "cell_type": "code",
   "execution_count": 56,
   "metadata": {},
   "outputs": [
    {
     "data": {
      "text/plain": [
       "tensor([  0,  11,  24,  39,  56,  75,  96, 119, 144, 171])"
      ]
     },
     "execution_count": 56,
     "metadata": {},
     "output_type": "execute_result"
    }
   ],
   "source": [
    "torch.mul(a, b)  # 按元素乘"
   ]
  },
  {
   "cell_type": "code",
   "execution_count": 57,
   "metadata": {},
   "outputs": [
    {
     "data": {
      "text/plain": [
       "tensor(735)"
      ]
     },
     "execution_count": 57,
     "metadata": {},
     "output_type": "execute_result"
    }
   ],
   "source": [
    "torch.matmul(a, b)  # 矩阵乘法，前者 矩阵乘 后者的转置"
   ]
  },
  {
   "cell_type": "code",
   "execution_count": 58,
   "metadata": {},
   "outputs": [
    {
     "data": {
      "text/plain": [
       "tensor([[735]])"
      ]
     },
     "execution_count": 58,
     "metadata": {},
     "output_type": "execute_result"
    }
   ],
   "source": [
    "torch.mm(a.reshape(1, -1), b.reshape(-1, 1))"
   ]
  },
  {
   "cell_type": "code",
   "execution_count": 59,
   "metadata": {},
   "outputs": [
    {
     "data": {
      "text/plain": [
       "(tensor([[0, 1, 2, 3, 4, 5, 6, 7, 8, 9]]),\n",
       " tensor([[10],\n",
       "         [11],\n",
       "         [12],\n",
       "         [13],\n",
       "         [14],\n",
       "         [15],\n",
       "         [16],\n",
       "         [17],\n",
       "         [18],\n",
       "         [19]]))"
      ]
     },
     "execution_count": 59,
     "metadata": {},
     "output_type": "execute_result"
    }
   ],
   "source": [
    "a.reshape(1, -1), b.reshape(-1, 1)"
   ]
  },
  {
   "cell_type": "code",
   "execution_count": 60,
   "metadata": {},
   "outputs": [
    {
     "data": {
      "text/plain": [
       "tensor(735)"
      ]
     },
     "execution_count": 60,
     "metadata": {},
     "output_type": "execute_result"
    }
   ],
   "source": [
    "torch.dot(a, b)  # 內积"
   ]
  },
  {
   "cell_type": "code",
   "execution_count": 61,
   "metadata": {},
   "outputs": [
    {
     "data": {
      "text/plain": [
       "tensor(735)"
      ]
     },
     "execution_count": 61,
     "metadata": {},
     "output_type": "execute_result"
    }
   ],
   "source": [
    "a @ b  # 矩阵乘， 前者 矩阵乘 后者的转置"
   ]
  },
  {
   "cell_type": "code",
   "execution_count": 62,
   "metadata": {},
   "outputs": [],
   "source": [
    "x = torch.rand(4, 3)\n",
    "y = torch.rand(3, 4)"
   ]
  },
  {
   "cell_type": "code",
   "execution_count": 63,
   "metadata": {},
   "outputs": [
    {
     "data": {
      "text/plain": [
       "tensor([[0.3324, 0.1976, 0.7460, 0.7168],\n",
       "        [0.3197, 0.2903, 0.7517, 0.8176],\n",
       "        [0.9712, 0.2695, 1.1398, 0.9090],\n",
       "        [1.1486, 0.5601, 1.3421, 1.3089]])"
      ]
     },
     "execution_count": 63,
     "metadata": {},
     "output_type": "execute_result"
    }
   ],
   "source": [
    "torch.mm(x, y)  # 矩阵乘法: 对矩阵mat1和mat2进行相乘。 如果mat1 是一个n×m张量，mat2 是一个 m×p张量，将会输出一个 n×p张量out。"
   ]
  },
  {
   "cell_type": "code",
   "execution_count": 64,
   "metadata": {},
   "outputs": [
    {
     "data": {
      "text/plain": [
       "tensor([[0.3324, 0.1976, 0.7460, 0.7168],\n",
       "        [0.3197, 0.2903, 0.7517, 0.8176],\n",
       "        [0.9712, 0.2695, 1.1398, 0.9090],\n",
       "        [1.1486, 0.5601, 1.3421, 1.3089]])"
      ]
     },
     "execution_count": 64,
     "metadata": {},
     "output_type": "execute_result"
    }
   ],
   "source": [
    "torch.matmul(x, y)"
   ]
  },
  {
   "cell_type": "code",
   "execution_count": 65,
   "metadata": {},
   "outputs": [
    {
     "data": {
      "text/plain": [
       "tensor([[0.3324, 0.1976, 0.7460, 0.7168],\n",
       "        [0.3197, 0.2903, 0.7517, 0.8176],\n",
       "        [0.9712, 0.2695, 1.1398, 0.9090],\n",
       "        [1.1486, 0.5601, 1.3421, 1.3089]])"
      ]
     },
     "execution_count": 65,
     "metadata": {},
     "output_type": "execute_result"
    }
   ],
   "source": [
    "x @ y  # 矩阵乘法运算符"
   ]
  },
  {
   "cell_type": "code",
   "execution_count": 66,
   "metadata": {},
   "outputs": [],
   "source": [
    "z = torch.rand(3)"
   ]
  },
  {
   "cell_type": "code",
   "execution_count": 67,
   "metadata": {},
   "outputs": [
    {
     "data": {
      "text/plain": [
       "tensor([0.4439, 0.4370, 0.5803, 0.6458])"
      ]
     },
     "execution_count": 67,
     "metadata": {},
     "output_type": "execute_result"
    }
   ],
   "source": [
    "torch.mv(x, z)  # 矩阵向量乘： 对矩阵mat和向量vec进行相乘。 如果mat 是一个n×m张量，vec 是一个m元 1维张量，将会输出一个n元 1维张量。"
   ]
  },
  {
   "cell_type": "code",
   "execution_count": 68,
   "metadata": {},
   "outputs": [
    {
     "data": {
      "text/plain": [
       "tensor([0.4439, 0.4370, 0.5803, 0.6458])"
      ]
     },
     "execution_count": 68,
     "metadata": {},
     "output_type": "execute_result"
    }
   ],
   "source": [
    "x @ z"
   ]
  },
  {
   "cell_type": "markdown",
   "metadata": {},
   "source": [
    "- 张量拼接"
   ]
  },
  {
   "cell_type": "code",
   "execution_count": 69,
   "metadata": {},
   "outputs": [],
   "source": [
    "a = tensor(range(10), dtype=torch.float32).reshape(2, 5)\n",
    "b = tensor(range(10, 20), dtype=torch.float32).reshape(2, 5)\n",
    "c = tensor(range(20, 30), dtype=torch.float32).reshape(2, 5)"
   ]
  },
  {
   "cell_type": "code",
   "execution_count": 70,
   "metadata": {},
   "outputs": [
    {
     "data": {
      "text/plain": [
       "(tensor([[0., 1., 2., 3., 4.],\n",
       "         [5., 6., 7., 8., 9.]]),\n",
       " tensor([[10., 11., 12., 13., 14.],\n",
       "         [15., 16., 17., 18., 19.]]),\n",
       " tensor([[20., 21., 22., 23., 24.],\n",
       "         [25., 26., 27., 28., 29.]]))"
      ]
     },
     "execution_count": 70,
     "metadata": {},
     "output_type": "execute_result"
    }
   ],
   "source": [
    "a, b, c"
   ]
  },
  {
   "cell_type": "code",
   "execution_count": 71,
   "metadata": {},
   "outputs": [
    {
     "data": {
      "text/plain": [
       "tensor([[ 0.,  1.,  2.,  3.,  4.],\n",
       "        [ 5.,  6.,  7.,  8.,  9.],\n",
       "        [10., 11., 12., 13., 14.],\n",
       "        [15., 16., 17., 18., 19.],\n",
       "        [20., 21., 22., 23., 24.],\n",
       "        [25., 26., 27., 28., 29.]])"
      ]
     },
     "execution_count": 71,
     "metadata": {},
     "output_type": "execute_result"
    }
   ],
   "source": [
    "cat_ = torch.cat([a, b, c], 0)  # 在给定维度上对输入的张量序列进行连接操作，和extend类似\n",
    "cat_"
   ]
  },
  {
   "cell_type": "code",
   "execution_count": null,
   "metadata": {},
   "outputs": [],
   "source": [
    "if torch.sum(a) > 10:\n",
    "    print(1)"
   ]
  },
  {
   "cell_type": "code",
   "execution_count": 72,
   "metadata": {},
   "outputs": [
    {
     "data": {
      "text/plain": [
       "tensor([[ 0.,  1.,  2.,  3.,  4., 10., 11., 12., 13., 14., 20., 21., 22., 23.,\n",
       "         24.],\n",
       "        [ 5.,  6.,  7.,  8.,  9., 15., 16., 17., 18., 19., 25., 26., 27., 28.,\n",
       "         29.]])"
      ]
     },
     "execution_count": 72,
     "metadata": {},
     "output_type": "execute_result"
    }
   ],
   "source": [
    "torch.cat([a, b, c], 1)"
   ]
  },
  {
   "cell_type": "code",
   "execution_count": 73,
   "metadata": {},
   "outputs": [],
   "source": [
    "stack_ = torch.stack([a, b, c], 0)  # 沿着一个新维度对输入张量序列进行连接。 序列中所有的张量都应该为相同形状。"
   ]
  },
  {
   "cell_type": "code",
   "execution_count": 74,
   "metadata": {},
   "outputs": [
    {
     "data": {
      "text/plain": [
       "tensor([[[ 0.,  1.,  2.,  3.,  4.],\n",
       "         [ 5.,  6.,  7.,  8.,  9.]],\n",
       "\n",
       "        [[10., 11., 12., 13., 14.],\n",
       "         [15., 16., 17., 18., 19.]],\n",
       "\n",
       "        [[20., 21., 22., 23., 24.],\n",
       "         [25., 26., 27., 28., 29.]]])"
      ]
     },
     "execution_count": 74,
     "metadata": {},
     "output_type": "execute_result"
    }
   ],
   "source": [
    "stack_"
   ]
  },
  {
   "cell_type": "code",
   "execution_count": 75,
   "metadata": {},
   "outputs": [
    {
     "data": {
      "text/plain": [
       "(tensor([[[ 0.,  1.],\n",
       "          [ 5.,  6.]],\n",
       " \n",
       "         [[10., 11.],\n",
       "          [15., 16.]],\n",
       " \n",
       "         [[20., 21.],\n",
       "          [25., 26.]]]),\n",
       " tensor([[[ 2.,  3.,  4.],\n",
       "          [ 7.,  8.,  9.]],\n",
       " \n",
       "         [[12., 13., 14.],\n",
       "          [17., 18., 19.]],\n",
       " \n",
       "         [[22., 23., 24.],\n",
       "          [27., 28., 29.]]]))"
      ]
     },
     "execution_count": 75,
     "metadata": {},
     "output_type": "execute_result"
    }
   ],
   "source": [
    "stack_.split([2, 3], -1)"
   ]
  },
  {
   "cell_type": "code",
   "execution_count": 76,
   "metadata": {},
   "outputs": [
    {
     "data": {
      "text/plain": [
       "(tensor([[[ 0.,  1.,  2.,  3.,  4.]],\n",
       " \n",
       "         [[10., 11., 12., 13., 14.]],\n",
       " \n",
       "         [[20., 21., 22., 23., 24.]]]),\n",
       " tensor([[[ 5.,  6.,  7.,  8.,  9.]],\n",
       " \n",
       "         [[15., 16., 17., 18., 19.]],\n",
       " \n",
       "         [[25., 26., 27., 28., 29.]]]))"
      ]
     },
     "execution_count": 76,
     "metadata": {},
     "output_type": "execute_result"
    }
   ],
   "source": [
    "stack_.chunk(2, 1)"
   ]
  },
  {
   "cell_type": "markdown",
   "metadata": {},
   "source": [
    "## 2. 自动求导`autograd`\n",
    "\n",
    "torch.autograd提供了类和函数用来对任意标量函数进行求导。"
   ]
  },
  {
   "cell_type": "markdown",
   "metadata": {},
   "source": [
    "实例:\n",
    "$$\n",
    "f(\\mathbf{x})=2\\mathbf{x}+1, g(y)=\\mathbf{y^2}+5, z=mean(\\mathbf{g(y)})\n",
    "$$\n",
    "求$\\frac{dz}{dx}$"
   ]
  },
  {
   "cell_type": "code",
   "execution_count": 77,
   "metadata": {},
   "outputs": [],
   "source": [
    "def f(x:tensor):\n",
    "    return 2*x + 1\n",
    "\n",
    "def g(x:tensor):\n",
    "    return x**2 + 5\n",
    "\n",
    "def mean(x:tensor):\n",
    "    return torch.mean(x)"
   ]
  },
  {
   "cell_type": "code",
   "execution_count": 78,
   "metadata": {},
   "outputs": [],
   "source": [
    "def dz_dx(x:tensor):  # 实际上的导数\n",
    "    return (8*x + 4) / x.numel()"
   ]
  },
  {
   "cell_type": "code",
   "execution_count": 79,
   "metadata": {},
   "outputs": [],
   "source": [
    "x = torch.randint(1, 10, size=(2, 5), dtype=torch.float32, requires_grad=True)"
   ]
  },
  {
   "cell_type": "code",
   "execution_count": 80,
   "metadata": {},
   "outputs": [
    {
     "data": {
      "text/plain": [
       "tensor([[7., 9., 8., 3., 5.],\n",
       "        [3., 9., 7., 7., 9.]], requires_grad=True)"
      ]
     },
     "execution_count": 80,
     "metadata": {},
     "output_type": "execute_result"
    }
   ],
   "source": [
    "x"
   ]
  },
  {
   "cell_type": "code",
   "execution_count": 81,
   "metadata": {},
   "outputs": [
    {
     "data": {
      "text/plain": [
       "True"
      ]
     },
     "execution_count": 81,
     "metadata": {},
     "output_type": "execute_result"
    }
   ],
   "source": [
    "x.requires_grad\n",
    "# x.requires_grad_(True)  # 如果为False, 可以追加"
   ]
  },
  {
   "cell_type": "code",
   "execution_count": 82,
   "metadata": {},
   "outputs": [
    {
     "data": {
      "text/plain": [
       "tensor([[7., 9., 8., 3., 5.],\n",
       "        [3., 9., 7., 7., 9.]], requires_grad=True)"
      ]
     },
     "execution_count": 82,
     "metadata": {},
     "output_type": "execute_result"
    }
   ],
   "source": [
    "x.requires_grad_(True)"
   ]
  },
  {
   "cell_type": "markdown",
   "metadata": {},
   "source": [
    "torch自动求导结果"
   ]
  },
  {
   "cell_type": "code",
   "execution_count": 83,
   "metadata": {},
   "outputs": [
    {
     "data": {
      "text/plain": [
       "tensor([[6.0000, 7.6000, 6.8000, 2.8000, 4.4000],\n",
       "        [2.8000, 7.6000, 6.0000, 6.0000, 7.6000]])"
      ]
     },
     "execution_count": 83,
     "metadata": {},
     "output_type": "execute_result"
    }
   ],
   "source": [
    "z = mean(g(f(x)))\n",
    "z.backward()  # 反向传播，自动求微分\n",
    "x.grad  # dz/dx"
   ]
  },
  {
   "cell_type": "markdown",
   "metadata": {},
   "source": [
    "解析求导结果"
   ]
  },
  {
   "cell_type": "code",
   "execution_count": 84,
   "metadata": {},
   "outputs": [
    {
     "data": {
      "text/plain": [
       "tensor([[6.0000, 7.6000, 6.8000, 2.8000, 4.4000],\n",
       "        [2.8000, 7.6000, 6.0000, 6.0000, 7.6000]], grad_fn=<DivBackward0>)"
      ]
     },
     "execution_count": 84,
     "metadata": {},
     "output_type": "execute_result"
    }
   ],
   "source": [
    "dz_dx(x)  # dz/dx"
   ]
  },
  {
   "cell_type": "code",
   "execution_count": 85,
   "metadata": {},
   "outputs": [
    {
     "data": {
      "text/plain": [
       "<MeanBackward0 at 0x7f133da15820>"
      ]
     },
     "execution_count": 85,
     "metadata": {},
     "output_type": "execute_result"
    }
   ],
   "source": [
    "z.grad_fn"
   ]
  },
  {
   "cell_type": "code",
   "execution_count": 86,
   "metadata": {},
   "outputs": [
    {
     "data": {
      "text/plain": [
       "tensor([[0., 1., 2., 3., 4.],\n",
       "        [5., 6., 7., 8., 9.]])"
      ]
     },
     "execution_count": 86,
     "metadata": {},
     "output_type": "execute_result"
    }
   ],
   "source": [
    "a"
   ]
  },
  {
   "cell_type": "code",
   "execution_count": 87,
   "metadata": {},
   "outputs": [
    {
     "data": {
      "text/plain": [
       "tensor([[0., 1., 2., 3., 4.],\n",
       "        [5., 6., 7., 8., 9.],\n",
       "        [0., 1., 2., 3., 4.],\n",
       "        [5., 6., 7., 8., 9.]])"
      ]
     },
     "execution_count": 87,
     "metadata": {},
     "output_type": "execute_result"
    }
   ],
   "source": [
    "torch.cat([a, a[:5]])"
   ]
  },
  {
   "cell_type": "code",
   "execution_count": 88,
   "metadata": {},
   "outputs": [
    {
     "data": {
      "text/plain": [
       "tensor([[0., 1., 2., 3., 4.],\n",
       "        [5., 6., 7., 8., 9.]])"
      ]
     },
     "execution_count": 88,
     "metadata": {},
     "output_type": "execute_result"
    }
   ],
   "source": [
    "a"
   ]
  },
  {
   "cell_type": "markdown",
   "metadata": {},
   "source": [
    "## 3. 案例: Bass模型拟合"
   ]
  },
  {
   "cell_type": "markdown",
   "metadata": {},
   "source": [
    "Bass扩散模型针对创新产品、服务和扩散进行建模，常被用作市场分析工具，对新产品、新技术需求进行预测。\n",
    "\n",
    "新产品创新扩散是指新产品从创造研制到进入市场推广、最终使用的过程，表现为广大消费者从知晓、兴趣、评估、试用到最终采用新产品的行为。\n",
    "\n",
    "Bass扩散模型的许多变形也已被开发出来，用以满足某些特殊情形的精确需求。\n",
    "\n",
    "$$\n",
    "N(t)=m\\frac{1-e^{-(p+1)t}}{1+\\frac{q}{p}e^{-(p+q)t}}\n",
    "$$"
   ]
  },
  {
   "cell_type": "code",
   "execution_count": 89,
   "metadata": {},
   "outputs": [],
   "source": [
    "def adaptive_momentum(lossfunc, w, x_dict, beta1=0.5, beta2=0.9, learn_rate=0.999, max_iter=1000, epsilon=1e-8):\n",
    "    trace_w = w.clone().data.reshape(1, -1)\n",
    "    v_0, s_0 = 0, 0\n",
    "    i = 1\n",
    "    while i <= max_iter:\n",
    "        l = lossfunc(w, **x_dict)\n",
    "        l.backward()\n",
    "        v_1 = (beta1 * v_0 + (1 - beta1) * w.grad.data) / (1 - beta1 ** i)\n",
    "        s_1 = (beta2 * s_0 + (1 - beta2) * w.grad.data ** 2) / (1 - beta2 ** i)\n",
    "        w.data.sub_(learn_rate * v_1 / (torch.sqrt(s_1) + epsilon))\n",
    "        with torch.no_grad():\n",
    "            trace_w = torch.cat([trace_w, w.detach().data.reshape(1, -1)], 0)\n",
    "            if i % 50 == 0:\n",
    "                loss = lossfunc(w, **x_dict).data.numpy()\n",
    "                print(f\"迭代次数: {i}, 损失函数值: {loss:.4f}\")\n",
    "\n",
    "            if torch.sum(torch.abs(trace_w[-1] - trace_w[-2])) < 1e-3:  # 停止条件\n",
    "                break\n",
    "\n",
    "        w.grad.zero_()\n",
    "        v_0, s_0 = v_1, s_1\n",
    "        i += 1\n",
    "\n",
    "    print(f\"共迭代{i - 1}次, 损失函数值: {lossfunc(w, **x_dict).data.numpy():.4f}, 最优参数值: {w.tolist()}\")\n",
    "    return trace_w"
   ]
  },
  {
   "cell_type": "code",
   "execution_count": 90,
   "metadata": {},
   "outputs": [],
   "source": [
    "def bass(params, T:int): # 如果要使用其它模型，可以重新定义\n",
    "    p, q, m = params\n",
    "    t_tensor = torch.arange(1, T + 1, dtype=torch.float32)\n",
    "    a = 1 - torch.exp(- (p + q) * t_tensor)\n",
    "    b = 1 + q / p * torch.exp(- (p + q) * t_tensor)\n",
    "    diffu_cont = m * a / b\n",
    "\n",
    "    adopt_cont = torch.zeros_like(diffu_cont)\n",
    "    adopt_cont[0] = diffu_cont[0]\n",
    "    for t in range(1, T):\n",
    "        adopt_cont[t] = diffu_cont[t] - diffu_cont[t - 1]\n",
    "        \n",
    "    return adopt_cont"
   ]
  },
  {
   "cell_type": "code",
   "execution_count": 91,
   "metadata": {},
   "outputs": [],
   "source": [
    "def meanSquaredLoss(params, y):  # 平均平方误差\n",
    "    T = y.numel()\n",
    "    hat_y = bass(params, T)\n",
    "    return torch.mean((hat_y - y)**2)"
   ]
  },
  {
   "cell_type": "code",
   "execution_count": 92,
   "metadata": {},
   "outputs": [],
   "source": [
    "def r_2(params, y):  # R2\n",
    "    T = y.numel()\n",
    "    hat_y = bass(params, T)\n",
    "    tse = torch.sum((y - hat_y)**2)\n",
    "    ssl = torch.sum((y - torch.mean(y))**2)\n",
    "    R_2 = (ssl - tse)/ssl\n",
    "    return R_2"
   ]
  },
  {
   "cell_type": "code",
   "execution_count": 94,
   "metadata": {},
   "outputs": [],
   "source": [
    "y = tensor([96, 195, 238, 380, 1045, 1230, 1267, 1828, 1586, 1673, 1800, 1580, 1500], dtype=torch.float32) / 1000"
   ]
  },
  {
   "cell_type": "code",
   "execution_count": 95,
   "metadata": {},
   "outputs": [
    {
     "name": "stdout",
     "output_type": "stream",
     "text": [
      "迭代次数: 50, 损失函数值: 0.0284\n",
      "迭代次数: 100, 损失函数值: 0.0280\n",
      "迭代次数: 150, 损失函数值: 0.0278\n",
      "迭代次数: 200, 损失函数值: 0.0284\n",
      "迭代次数: 250, 损失函数值: 0.0281\n",
      "迭代次数: 300, 损失函数值: 0.0271\n",
      "迭代次数: 350, 损失函数值: 0.0280\n",
      "迭代次数: 400, 损失函数值: 0.0275\n",
      "迭代次数: 450, 损失函数值: 0.0264\n",
      "迭代次数: 500, 损失函数值: 0.0272\n",
      "迭代次数: 550, 损失函数值: 0.0278\n",
      "迭代次数: 600, 损失函数值: 0.0264\n",
      "共迭代628次, 损失函数值: 0.0265, 最优参数值: [0.009357522241771221, 0.3703031837940216, 18.873661041259766]\n",
      "r2: 0.9325102\n"
     ]
    }
   ],
   "source": [
    "params = torch.FloatTensor([0.001, 0.3, 20])\n",
    "params.requires_grad_(True)\n",
    "# res = grad_desc(meanSquaredLoss, params, y, learn_rate=1e-9)\n",
    "res = adaptive_momentum(meanSquaredLoss, params, x_dict={\"y\": y}, beta1=0.6, beta2=0.5, learn_rate=0.003, max_iter=1000)\n",
    "r2 = r_2(res[-1], y).numpy()\n",
    "print(\"r2:\", r2)"
   ]
  },
  {
   "cell_type": "code",
   "execution_count": 96,
   "metadata": {},
   "outputs": [
    {
     "data": {
      "text/plain": [
       "<matplotlib.collections.PathCollection at 0x7f133d14abb0>"
      ]
     },
     "execution_count": 96,
     "metadata": {},
     "output_type": "execute_result"
    },
    {
     "data": {
      "image/svg+xml": [
       "<?xml version=\"1.0\" encoding=\"utf-8\" standalone=\"no\"?>\n",
       "<!DOCTYPE svg PUBLIC \"-//W3C//DTD SVG 1.1//EN\"\n",
       "  \"http://www.w3.org/Graphics/SVG/1.1/DTD/svg11.dtd\">\n",
       "<!-- Created with matplotlib (https://matplotlib.org/) -->\n",
       "<svg height=\"259.09pt\" version=\"1.1\" viewBox=\"0 0 388.325 259.09\" width=\"388.325pt\" xmlns=\"http://www.w3.org/2000/svg\" xmlns:xlink=\"http://www.w3.org/1999/xlink\">\n",
       " <metadata>\n",
       "  <rdf:RDF xmlns:cc=\"http://creativecommons.org/ns#\" xmlns:dc=\"http://purl.org/dc/elements/1.1/\" xmlns:rdf=\"http://www.w3.org/1999/02/22-rdf-syntax-ns#\">\n",
       "   <cc:Work>\n",
       "    <dc:type rdf:resource=\"http://purl.org/dc/dcmitype/StillImage\"/>\n",
       "    <dc:date>2021-10-13T19:21:41.078632</dc:date>\n",
       "    <dc:format>image/svg+xml</dc:format>\n",
       "    <dc:creator>\n",
       "     <cc:Agent>\n",
       "      <dc:title>Matplotlib v3.3.4, https://matplotlib.org/</dc:title>\n",
       "     </cc:Agent>\n",
       "    </dc:creator>\n",
       "   </cc:Work>\n",
       "  </rdf:RDF>\n",
       " </metadata>\n",
       " <defs>\n",
       "  <style type=\"text/css\">*{stroke-linecap:butt;stroke-linejoin:round;}</style>\n",
       " </defs>\n",
       " <g id=\"figure_1\">\n",
       "  <g id=\"patch_1\">\n",
       "   <path d=\"M 0 259.09 \n",
       "L 388.325 259.09 \n",
       "L 388.325 0 \n",
       "L 0 0 \n",
       "z\n",
       "\" style=\"fill:none;\"/>\n",
       "  </g>\n",
       "  <g id=\"axes_1\">\n",
       "   <g id=\"patch_2\">\n",
       "    <path d=\"M 46.325 224.64 \n",
       "L 381.125 224.64 \n",
       "L 381.125 7.2 \n",
       "L 46.325 7.2 \n",
       "z\n",
       "\" style=\"fill:#ffffff;\"/>\n",
       "   </g>\n",
       "   <g id=\"PathCollection_1\">\n",
       "    <defs>\n",
       "     <path d=\"M 0 3 \n",
       "C 0.795609 3 1.55874 2.683901 2.12132 2.12132 \n",
       "C 2.683901 1.55874 3 0.795609 3 0 \n",
       "C 3 -0.795609 2.683901 -1.55874 2.12132 -2.12132 \n",
       "C 1.55874 -2.683901 0.795609 -3 0 -3 \n",
       "C -0.795609 -3 -1.55874 -2.683901 -2.12132 -2.12132 \n",
       "C -2.683901 -1.55874 -3 -0.795609 -3 0 \n",
       "C -3 0.795609 -2.683901 1.55874 -2.12132 2.12132 \n",
       "C -1.55874 2.683901 -0.795609 3 0 3 \n",
       "z\n",
       "\" id=\"mb2463f2c86\" style=\"stroke:#ff0000;\"/>\n",
       "    </defs>\n",
       "    <g clip-path=\"url(#p65f1115062)\">\n",
       "     <use style=\"fill:#ff0000;stroke:#ff0000;\" x=\"61.543182\" xlink:href=\"#mb2463f2c86\" y=\"214.756364\"/>\n",
       "     <use style=\"fill:#ff0000;stroke:#ff0000;\" x=\"86.906818\" xlink:href=\"#mb2463f2c86\" y=\"203.46314\"/>\n",
       "     <use style=\"fill:#ff0000;stroke:#ff0000;\" x=\"112.270455\" xlink:href=\"#mb2463f2c86\" y=\"198.558003\"/>\n",
       "     <use style=\"fill:#ff0000;stroke:#ff0000;\" x=\"137.634091\" xlink:href=\"#mb2463f2c86\" y=\"182.359642\"/>\n",
       "     <use style=\"fill:#ff0000;stroke:#ff0000;\" x=\"162.997727\" xlink:href=\"#mb2463f2c86\" y=\"106.50112\"/>\n",
       "     <use style=\"fill:#ff0000;stroke:#ff0000;\" x=\"188.361364\" xlink:href=\"#mb2463f2c86\" y=\"85.397621\"/>\n",
       "     <use style=\"fill:#ff0000;stroke:#ff0000;\" x=\"213.725\" xlink:href=\"#mb2463f2c86\" y=\"81.176922\"/>\n",
       "     <use style=\"fill:#ff0000;stroke:#ff0000;\" x=\"239.088636\" xlink:href=\"#mb2463f2c86\" y=\"17.181988\"/>\n",
       "     <use style=\"fill:#ff0000;stroke:#ff0000;\" x=\"264.452273\" xlink:href=\"#mb2463f2c86\" y=\"44.787646\"/>\n",
       "     <use style=\"fill:#ff0000;stroke:#ff0000;\" x=\"289.815909\" xlink:href=\"#mb2463f2c86\" y=\"34.863298\"/>\n",
       "     <use style=\"fill:#ff0000;stroke:#ff0000;\" x=\"315.179545\" xlink:href=\"#mb2463f2c86\" y=\"20.376031\"/>\n",
       "     <use style=\"fill:#ff0000;stroke:#ff0000;\" x=\"340.543182\" xlink:href=\"#mb2463f2c86\" y=\"45.472083\"/>\n",
       "     <use style=\"fill:#ff0000;stroke:#ff0000;\" x=\"365.906818\" xlink:href=\"#mb2463f2c86\" y=\"54.597921\"/>\n",
       "    </g>\n",
       "   </g>\n",
       "   <g id=\"matplotlib.axis_1\">\n",
       "    <g id=\"xtick_1\">\n",
       "     <g id=\"line2d_1\">\n",
       "      <defs>\n",
       "       <path d=\"M 0 0 \n",
       "L 0 3.5 \n",
       "\" id=\"m53e30e079d\" style=\"stroke:#000000;stroke-width:0.8;\"/>\n",
       "      </defs>\n",
       "      <g>\n",
       "       <use style=\"stroke:#000000;stroke-width:0.8;\" x=\"61.543182\" xlink:href=\"#m53e30e079d\" y=\"224.64\"/>\n",
       "      </g>\n",
       "     </g>\n",
       "     <g id=\"text_1\">\n",
       "      <!-- 0 -->\n",
       "      <g transform=\"translate(59.043182 238.515)scale(0.1 -0.1)\">\n",
       "       <defs>\n",
       "        <path d=\"M 3.125 29.296875 \n",
       "Q 3.90625 50 6.4375 56.046875 \n",
       "Q 8.984375 62.109375 13.671875 66.015625 \n",
       "Q 18.359375 69.921875 25.1875 69.921875 \n",
       "Q 32.03125 69.921875 37.109375 64.25 \n",
       "Q 42.1875 58.59375 43.75 50 \n",
       "Q 45.3125 41.40625 44.71875 30.265625 \n",
       "Q 44.140625 19.140625 40.8125 12.109375 \n",
       "Q 37.5 5.078125 30.859375 2.34375 \n",
       "Q 24.21875 -0.390625 17.578125 2.921875 \n",
       "Q 10.9375 6.25 8.203125 11.71875 \n",
       "Q 5.46875 17.1875 4.296875 23.234375 \n",
       "Q 3.125 29.296875 3.90625 50 \n",
       "z\n",
       "M 12.890625 52.734375 \n",
       "Q 10.546875 31.25 12.5 22.84375 \n",
       "Q 14.453125 14.453125 18.9375 10.9375 \n",
       "Q 23.4375 7.421875 28.125 9.5625 \n",
       "Q 32.8125 11.71875 34.953125 18.15625 \n",
       "Q 37.109375 24.609375 37.109375 32.21875 \n",
       "Q 37.109375 39.84375 36.515625 46.09375 \n",
       "Q 35.9375 52.34375 33 57.421875 \n",
       "Q 30.078125 62.5 25.1875 62.6875 \n",
       "Q 20.3125 62.890625 16.59375 57.8125 \n",
       "Q 12.890625 52.734375 10.546875 31.25 \n",
       "z\n",
       "\" id=\"SimHei-48\"/>\n",
       "       </defs>\n",
       "       <use xlink:href=\"#SimHei-48\"/>\n",
       "      </g>\n",
       "     </g>\n",
       "    </g>\n",
       "    <g id=\"xtick_2\">\n",
       "     <g id=\"line2d_2\">\n",
       "      <g>\n",
       "       <use style=\"stroke:#000000;stroke-width:0.8;\" x=\"112.270455\" xlink:href=\"#m53e30e079d\" y=\"224.64\"/>\n",
       "      </g>\n",
       "     </g>\n",
       "     <g id=\"text_2\">\n",
       "      <!-- 2 -->\n",
       "      <g transform=\"translate(109.770455 238.515)scale(0.1 -0.1)\">\n",
       "       <defs>\n",
       "        <path d=\"M 4.6875 3.90625 \n",
       "Q 5.078125 9.765625 10.15625 14.453125 \n",
       "Q 15.234375 19.140625 23.046875 29.09375 \n",
       "Q 30.859375 39.0625 33.203125 44.53125 \n",
       "Q 35.546875 50 34.953125 53.90625 \n",
       "Q 34.375 57.8125 31.25 60.34375 \n",
       "Q 28.125 62.890625 24.015625 62.5 \n",
       "Q 19.921875 62.109375 16.203125 59.375 \n",
       "Q 12.5 56.640625 10.546875 51.171875 \n",
       "L 3.125 52.34375 \n",
       "Q 6.25 61.328125 11.125 65.421875 \n",
       "Q 16.015625 69.53125 22.65625 69.921875 \n",
       "Q 26.5625 70.3125 29.6875 69.71875 \n",
       "Q 32.8125 69.140625 36.125 66.984375 \n",
       "Q 39.453125 64.84375 41.59375 60.546875 \n",
       "Q 43.75 56.25 43.15625 50.1875 \n",
       "Q 42.578125 44.140625 37.109375 35.734375 \n",
       "Q 31.640625 27.34375 16.015625 9.375 \n",
       "L 44.140625 9.375 \n",
       "L 44.140625 2.34375 \n",
       "L 4.6875 2.34375 \n",
       "z\n",
       "\" id=\"SimHei-50\"/>\n",
       "       </defs>\n",
       "       <use xlink:href=\"#SimHei-50\"/>\n",
       "      </g>\n",
       "     </g>\n",
       "    </g>\n",
       "    <g id=\"xtick_3\">\n",
       "     <g id=\"line2d_3\">\n",
       "      <g>\n",
       "       <use style=\"stroke:#000000;stroke-width:0.8;\" x=\"162.997727\" xlink:href=\"#m53e30e079d\" y=\"224.64\"/>\n",
       "      </g>\n",
       "     </g>\n",
       "     <g id=\"text_3\">\n",
       "      <!-- 4 -->\n",
       "      <g transform=\"translate(160.497727 238.515)scale(0.1 -0.1)\">\n",
       "       <defs>\n",
       "        <path d=\"M 31.25 17.1875 \n",
       "L 1.171875 17.1875 \n",
       "L 1.171875 23.828125 \n",
       "L 32.8125 69.53125 \n",
       "L 38.671875 69.53125 \n",
       "L 38.671875 23.828125 \n",
       "L 48.046875 23.828125 \n",
       "L 48.046875 17.1875 \n",
       "L 38.671875 17.1875 \n",
       "L 38.671875 2.34375 \n",
       "L 31.25 2.34375 \n",
       "z\n",
       "M 31.25 23.828125 \n",
       "L 31.25 54.6875 \n",
       "L 9.375 23.828125 \n",
       "z\n",
       "\" id=\"SimHei-52\"/>\n",
       "       </defs>\n",
       "       <use xlink:href=\"#SimHei-52\"/>\n",
       "      </g>\n",
       "     </g>\n",
       "    </g>\n",
       "    <g id=\"xtick_4\">\n",
       "     <g id=\"line2d_4\">\n",
       "      <g>\n",
       "       <use style=\"stroke:#000000;stroke-width:0.8;\" x=\"213.725\" xlink:href=\"#m53e30e079d\" y=\"224.64\"/>\n",
       "      </g>\n",
       "     </g>\n",
       "     <g id=\"text_4\">\n",
       "      <!-- 6 -->\n",
       "      <g transform=\"translate(211.225 238.515)scale(0.1 -0.1)\">\n",
       "       <defs>\n",
       "        <path d=\"M 3.515625 19.53125 \n",
       "Q 4.296875 30.859375 6.046875 34.765625 \n",
       "Q 7.8125 38.671875 11.328125 44.53125 \n",
       "L 27.34375 69.53125 \n",
       "L 36.328125 69.53125 \n",
       "L 19.921875 43.75 \n",
       "Q 30.46875 46.484375 36.71875 42.96875 \n",
       "Q 42.96875 39.453125 45.109375 34.953125 \n",
       "Q 47.265625 30.46875 47.453125 25.1875 \n",
       "Q 47.65625 19.921875 45.890625 14.84375 \n",
       "Q 44.140625 9.765625 39.640625 5.65625 \n",
       "Q 35.15625 1.5625 27.140625 1.171875 \n",
       "Q 19.140625 0.78125 13.46875 4.09375 \n",
       "Q 7.8125 7.421875 5.65625 13.46875 \n",
       "Q 3.515625 19.53125 4.296875 30.859375 \n",
       "z\n",
       "M 12.5 16.015625 \n",
       "Q 19.53125 8.59375 25.390625 8.203125 \n",
       "Q 31.25 7.8125 35.15625 12.109375 \n",
       "Q 39.0625 16.40625 39.0625 24.609375 \n",
       "Q 39.0625 32.8125 34.171875 35.9375 \n",
       "Q 29.296875 39.0625 23.234375 38.28125 \n",
       "Q 17.1875 37.5 14.453125 32.421875 \n",
       "Q 11.71875 27.34375 12.109375 21.671875 \n",
       "Q 12.5 16.015625 19.53125 8.59375 \n",
       "z\n",
       "\" id=\"SimHei-54\"/>\n",
       "       </defs>\n",
       "       <use xlink:href=\"#SimHei-54\"/>\n",
       "      </g>\n",
       "     </g>\n",
       "    </g>\n",
       "    <g id=\"xtick_5\">\n",
       "     <g id=\"line2d_5\">\n",
       "      <g>\n",
       "       <use style=\"stroke:#000000;stroke-width:0.8;\" x=\"264.452273\" xlink:href=\"#m53e30e079d\" y=\"224.64\"/>\n",
       "      </g>\n",
       "     </g>\n",
       "     <g id=\"text_5\">\n",
       "      <!-- 8 -->\n",
       "      <g transform=\"translate(261.952273 238.515)scale(0.1 -0.1)\">\n",
       "       <defs>\n",
       "        <path d=\"M 2.734375 16.796875 \n",
       "Q 2.734375 26.171875 5.078125 30.65625 \n",
       "Q 7.421875 35.15625 12.890625 37.890625 \n",
       "Q 8.203125 40.625 6.640625 43.9375 \n",
       "Q 5.078125 47.265625 4.875 51.5625 \n",
       "Q 4.6875 55.859375 6.046875 58.984375 \n",
       "Q 7.421875 62.109375 10.15625 64.84375 \n",
       "Q 12.890625 67.578125 16.203125 68.546875 \n",
       "Q 19.53125 69.53125 23.4375 69.53125 \n",
       "Q 27.34375 69.53125 30.46875 68.75 \n",
       "Q 33.59375 67.96875 37.109375 65.421875 \n",
       "Q 40.625 62.890625 42.1875 58.203125 \n",
       "Q 43.75 53.515625 41.984375 47.265625 \n",
       "Q 40.234375 41.015625 32.8125 37.5 \n",
       "Q 39.453125 35.546875 42.1875 31.4375 \n",
       "Q 44.921875 27.34375 44.921875 21.484375 \n",
       "Q 44.921875 15.625 43.15625 12.109375 \n",
       "Q 41.40625 8.59375 39.25 6.25 \n",
       "Q 37.109375 3.90625 33.390625 2.53125 \n",
       "Q 29.6875 1.171875 24.015625 1.171875 \n",
       "Q 18.359375 1.171875 14.25 2.53125 \n",
       "Q 10.15625 3.90625 7.421875 6.640625 \n",
       "Q 4.6875 9.375 3.703125 13.078125 \n",
       "Q 2.734375 16.796875 2.734375 26.171875 \n",
       "z\n",
       "M 10.9375 26.5625 \n",
       "Q 10.546875 17.1875 12.296875 13.671875 \n",
       "Q 14.0625 10.15625 18.75 9.171875 \n",
       "Q 23.4375 8.203125 28.515625 9.375 \n",
       "Q 33.59375 10.546875 35.546875 14.84375 \n",
       "Q 37.5 19.140625 36.90625 23.4375 \n",
       "Q 36.328125 27.734375 32.03125 30.65625 \n",
       "Q 27.734375 33.59375 22.65625 33.203125 \n",
       "Q 17.578125 32.8125 14.25 29.6875 \n",
       "Q 10.9375 26.5625 10.546875 17.1875 \n",
       "z\n",
       "M 12.109375 56.25 \n",
       "Q 12.109375 48.4375 14.84375 44.921875 \n",
       "Q 17.578125 41.40625 23.4375 41.40625 \n",
       "Q 29.296875 41.40625 32.21875 44.921875 \n",
       "Q 35.15625 48.4375 34.953125 53.3125 \n",
       "Q 34.765625 58.203125 31.4375 60.546875 \n",
       "Q 28.125 62.890625 22.453125 62.5 \n",
       "Q 16.796875 62.109375 14.453125 59.171875 \n",
       "Q 12.109375 56.25 12.109375 48.4375 \n",
       "z\n",
       "\" id=\"SimHei-56\"/>\n",
       "       </defs>\n",
       "       <use xlink:href=\"#SimHei-56\"/>\n",
       "      </g>\n",
       "     </g>\n",
       "    </g>\n",
       "    <g id=\"xtick_6\">\n",
       "     <g id=\"line2d_6\">\n",
       "      <g>\n",
       "       <use style=\"stroke:#000000;stroke-width:0.8;\" x=\"315.179545\" xlink:href=\"#m53e30e079d\" y=\"224.64\"/>\n",
       "      </g>\n",
       "     </g>\n",
       "     <g id=\"text_6\">\n",
       "      <!-- 10 -->\n",
       "      <g transform=\"translate(310.179545 238.515)scale(0.1 -0.1)\">\n",
       "       <defs>\n",
       "        <path d=\"M 21.875 56.25 \n",
       "Q 16.796875 51.171875 8.984375 46.484375 \n",
       "L 8.984375 53.90625 \n",
       "Q 18.75 60.546875 25 69.53125 \n",
       "L 29.6875 69.53125 \n",
       "L 29.6875 2.34375 \n",
       "L 21.875 2.34375 \n",
       "z\n",
       "\" id=\"SimHei-49\"/>\n",
       "       </defs>\n",
       "       <use xlink:href=\"#SimHei-49\"/>\n",
       "       <use x=\"50\" xlink:href=\"#SimHei-48\"/>\n",
       "      </g>\n",
       "     </g>\n",
       "    </g>\n",
       "    <g id=\"xtick_7\">\n",
       "     <g id=\"line2d_7\">\n",
       "      <g>\n",
       "       <use style=\"stroke:#000000;stroke-width:0.8;\" x=\"365.906818\" xlink:href=\"#m53e30e079d\" y=\"224.64\"/>\n",
       "      </g>\n",
       "     </g>\n",
       "     <g id=\"text_7\">\n",
       "      <!-- 12 -->\n",
       "      <g transform=\"translate(360.906818 238.515)scale(0.1 -0.1)\">\n",
       "       <use xlink:href=\"#SimHei-49\"/>\n",
       "       <use x=\"50\" xlink:href=\"#SimHei-50\"/>\n",
       "      </g>\n",
       "     </g>\n",
       "    </g>\n",
       "    <g id=\"text_8\">\n",
       "     <!-- Time -->\n",
       "     <g transform=\"translate(203.725 250.64)scale(0.1 -0.1)\">\n",
       "      <defs>\n",
       "       <path d=\"M 44.53125 61.328125 \n",
       "L 28.90625 61.328125 \n",
       "L 28.90625 1.953125 \n",
       "L 19.921875 1.953125 \n",
       "L 19.921875 61.328125 \n",
       "L 4.296875 61.328125 \n",
       "L 4.296875 68.75 \n",
       "L 44.53125 68.75 \n",
       "z\n",
       "\" id=\"SimHei-84\"/>\n",
       "       <path d=\"M 28.125 58.203125 \n",
       "L 20.3125 58.203125 \n",
       "L 20.3125 68.359375 \n",
       "L 28.125 68.359375 \n",
       "z\n",
       "M 28.125 1.953125 \n",
       "L 20.3125 1.953125 \n",
       "L 20.3125 45.703125 \n",
       "L 28.125 45.703125 \n",
       "z\n",
       "\" id=\"SimHei-105\"/>\n",
       "       <path d=\"M 47.65625 1.953125 \n",
       "L 39.84375 1.953125 \n",
       "L 39.84375 33.59375 \n",
       "Q 39.84375 35.9375 39.0625 37.5 \n",
       "Q 38.28125 39.0625 35.9375 39.0625 \n",
       "Q 33.203125 39.0625 30.859375 36.125 \n",
       "Q 28.515625 33.203125 28.515625 28.515625 \n",
       "L 28.515625 1.953125 \n",
       "L 20.703125 1.953125 \n",
       "L 20.703125 33.59375 \n",
       "Q 20.703125 35.9375 19.921875 37.5 \n",
       "Q 19.140625 39.0625 16.796875 39.0625 \n",
       "Q 14.0625 39.0625 11.71875 36.125 \n",
       "Q 9.375 33.203125 9.375 28.515625 \n",
       "L 9.375 1.953125 \n",
       "L 1.5625 1.953125 \n",
       "L 1.5625 45.703125 \n",
       "L 9.375 45.703125 \n",
       "L 9.375 39.84375 \n",
       "Q 11.328125 42.96875 14.0625 44.71875 \n",
       "Q 16.796875 46.484375 19.921875 46.484375 \n",
       "Q 23.046875 46.484375 25.1875 44.71875 \n",
       "Q 27.34375 42.96875 28.125 39.84375 \n",
       "Q 30.078125 42.96875 32.609375 44.71875 \n",
       "Q 35.15625 46.484375 38.28125 46.484375 \n",
       "Q 42.96875 46.484375 45.3125 43.9375 \n",
       "Q 47.65625 41.40625 47.65625 36.71875 \n",
       "z\n",
       "\" id=\"SimHei-109\"/>\n",
       "       <path d=\"M 44.53125 16.796875 \n",
       "Q 43.75 9.765625 38.28125 5.46875 \n",
       "Q 32.8125 1.171875 25.390625 1.171875 \n",
       "Q 16.015625 1.171875 9.953125 7.21875 \n",
       "Q 3.90625 13.28125 3.90625 23.828125 \n",
       "Q 3.90625 34.375 9.953125 40.421875 \n",
       "Q 16.015625 46.484375 25.390625 46.484375 \n",
       "Q 33.59375 46.484375 38.859375 41.203125 \n",
       "Q 44.140625 35.9375 44.140625 23.828125 \n",
       "L 12.5 23.828125 \n",
       "Q 12.5 15.234375 16.203125 11.71875 \n",
       "Q 19.921875 8.203125 25.390625 8.203125 \n",
       "Q 29.6875 8.203125 32.421875 10.34375 \n",
       "Q 35.15625 12.5 35.9375 16.796875 \n",
       "z\n",
       "M 35.15625 30.078125 \n",
       "Q 34.375 35.546875 31.640625 37.6875 \n",
       "Q 28.90625 39.84375 24.609375 39.84375 \n",
       "Q 20.703125 39.84375 17.578125 37.6875 \n",
       "Q 14.453125 35.546875 12.890625 30.078125 \n",
       "z\n",
       "\" id=\"SimHei-101\"/>\n",
       "      </defs>\n",
       "      <use xlink:href=\"#SimHei-84\"/>\n",
       "      <use x=\"50\" xlink:href=\"#SimHei-105\"/>\n",
       "      <use x=\"100\" xlink:href=\"#SimHei-109\"/>\n",
       "      <use x=\"150\" xlink:href=\"#SimHei-101\"/>\n",
       "     </g>\n",
       "    </g>\n",
       "   </g>\n",
       "   <g id=\"matplotlib.axis_2\">\n",
       "    <g id=\"ytick_1\">\n",
       "     <g id=\"line2d_8\">\n",
       "      <defs>\n",
       "       <path d=\"M 0 0 \n",
       "L -3.5 0 \n",
       "\" id=\"m45046697da\" style=\"stroke:#000000;stroke-width:0.8;\"/>\n",
       "      </defs>\n",
       "      <g>\n",
       "       <use style=\"stroke:#000000;stroke-width:0.8;\" x=\"46.325\" xlink:href=\"#m45046697da\" y=\"197.189127\"/>\n",
       "      </g>\n",
       "     </g>\n",
       "     <g id=\"text_9\">\n",
       "      <!-- 250 -->\n",
       "      <g transform=\"translate(24.325 200.626627)scale(0.1 -0.1)\">\n",
       "       <defs>\n",
       "        <path d=\"M 8.59375 20.703125 \n",
       "Q 11.328125 10.15625 17.96875 8.984375 \n",
       "Q 24.609375 7.8125 28.703125 10.34375 \n",
       "Q 32.8125 12.890625 34.5625 16.984375 \n",
       "Q 36.328125 21.09375 36.125 26.171875 \n",
       "Q 35.9375 31.25 33.390625 34.765625 \n",
       "Q 30.859375 38.28125 26.953125 39.453125 \n",
       "Q 23.046875 40.625 18.15625 39.453125 \n",
       "Q 13.28125 38.28125 10.15625 33.984375 \n",
       "L 3.515625 34.765625 \n",
       "Q 4.296875 37.109375 10.9375 68.359375 \n",
       "L 41.796875 68.359375 \n",
       "L 41.796875 61.328125 \n",
       "L 16.796875 61.328125 \n",
       "Q 14.84375 50.78125 12.890625 44.53125 \n",
       "Q 18.75 47.265625 23.828125 47.0625 \n",
       "Q 28.90625 46.875 33.59375 44.71875 \n",
       "Q 38.28125 42.578125 40.421875 38.859375 \n",
       "Q 42.578125 35.15625 43.546875 31.4375 \n",
       "Q 44.53125 27.734375 44.328125 23.4375 \n",
       "Q 44.140625 19.140625 42.578125 14.640625 \n",
       "Q 41.015625 10.15625 37.890625 7.21875 \n",
       "Q 34.765625 4.296875 30.265625 2.53125 \n",
       "Q 25.78125 0.78125 19.921875 1.171875 \n",
       "Q 14.0625 1.5625 8.78125 5.46875 \n",
       "Q 3.515625 9.375 1.5625 18.75 \n",
       "z\n",
       "\" id=\"SimHei-53\"/>\n",
       "       </defs>\n",
       "       <use xlink:href=\"#SimHei-50\"/>\n",
       "       <use x=\"50\" xlink:href=\"#SimHei-53\"/>\n",
       "       <use x=\"100\" xlink:href=\"#SimHei-48\"/>\n",
       "      </g>\n",
       "     </g>\n",
       "    </g>\n",
       "    <g id=\"ytick_2\">\n",
       "     <g id=\"line2d_9\">\n",
       "      <g>\n",
       "       <use style=\"stroke:#000000;stroke-width:0.8;\" x=\"46.325\" xlink:href=\"#m45046697da\" y=\"168.670886\"/>\n",
       "      </g>\n",
       "     </g>\n",
       "     <g id=\"text_10\">\n",
       "      <!-- 500 -->\n",
       "      <g transform=\"translate(24.325 172.108386)scale(0.1 -0.1)\">\n",
       "       <use xlink:href=\"#SimHei-53\"/>\n",
       "       <use x=\"50\" xlink:href=\"#SimHei-48\"/>\n",
       "       <use x=\"100\" xlink:href=\"#SimHei-48\"/>\n",
       "      </g>\n",
       "     </g>\n",
       "    </g>\n",
       "    <g id=\"ytick_3\">\n",
       "     <g id=\"line2d_10\">\n",
       "      <g>\n",
       "       <use style=\"stroke:#000000;stroke-width:0.8;\" x=\"46.325\" xlink:href=\"#m45046697da\" y=\"140.152644\"/>\n",
       "      </g>\n",
       "     </g>\n",
       "     <g id=\"text_11\">\n",
       "      <!-- 750 -->\n",
       "      <g transform=\"translate(24.325 143.590144)scale(0.1 -0.1)\">\n",
       "       <defs>\n",
       "        <path d=\"M 13.28125 2.34375 \n",
       "Q 20.3125 32.03125 37.890625 61.328125 \n",
       "L 4.296875 61.328125 \n",
       "L 4.296875 68.359375 \n",
       "L 46.09375 68.359375 \n",
       "L 46.09375 61.71875 \n",
       "Q 27.734375 32.03125 21.875 2.34375 \n",
       "L 13.28125 2.34375 \n",
       "z\n",
       "\" id=\"SimHei-55\"/>\n",
       "       </defs>\n",
       "       <use xlink:href=\"#SimHei-55\"/>\n",
       "       <use x=\"50\" xlink:href=\"#SimHei-53\"/>\n",
       "       <use x=\"100\" xlink:href=\"#SimHei-48\"/>\n",
       "      </g>\n",
       "     </g>\n",
       "    </g>\n",
       "    <g id=\"ytick_4\">\n",
       "     <g id=\"line2d_11\">\n",
       "      <g>\n",
       "       <use style=\"stroke:#000000;stroke-width:0.8;\" x=\"46.325\" xlink:href=\"#m45046697da\" y=\"111.634403\"/>\n",
       "      </g>\n",
       "     </g>\n",
       "     <g id=\"text_12\">\n",
       "      <!-- 1000 -->\n",
       "      <g transform=\"translate(19.325 115.071903)scale(0.1 -0.1)\">\n",
       "       <use xlink:href=\"#SimHei-49\"/>\n",
       "       <use x=\"50\" xlink:href=\"#SimHei-48\"/>\n",
       "       <use x=\"100\" xlink:href=\"#SimHei-48\"/>\n",
       "       <use x=\"150\" xlink:href=\"#SimHei-48\"/>\n",
       "      </g>\n",
       "     </g>\n",
       "    </g>\n",
       "    <g id=\"ytick_5\">\n",
       "     <g id=\"line2d_12\">\n",
       "      <g>\n",
       "       <use style=\"stroke:#000000;stroke-width:0.8;\" x=\"46.325\" xlink:href=\"#m45046697da\" y=\"83.116162\"/>\n",
       "      </g>\n",
       "     </g>\n",
       "     <g id=\"text_13\">\n",
       "      <!-- 1250 -->\n",
       "      <g transform=\"translate(19.325 86.553662)scale(0.1 -0.1)\">\n",
       "       <use xlink:href=\"#SimHei-49\"/>\n",
       "       <use x=\"50\" xlink:href=\"#SimHei-50\"/>\n",
       "       <use x=\"100\" xlink:href=\"#SimHei-53\"/>\n",
       "       <use x=\"150\" xlink:href=\"#SimHei-48\"/>\n",
       "      </g>\n",
       "     </g>\n",
       "    </g>\n",
       "    <g id=\"ytick_6\">\n",
       "     <g id=\"line2d_13\">\n",
       "      <g>\n",
       "       <use style=\"stroke:#000000;stroke-width:0.8;\" x=\"46.325\" xlink:href=\"#m45046697da\" y=\"54.597921\"/>\n",
       "      </g>\n",
       "     </g>\n",
       "     <g id=\"text_14\">\n",
       "      <!-- 1500 -->\n",
       "      <g transform=\"translate(19.325 58.035421)scale(0.1 -0.1)\">\n",
       "       <use xlink:href=\"#SimHei-49\"/>\n",
       "       <use x=\"50\" xlink:href=\"#SimHei-53\"/>\n",
       "       <use x=\"100\" xlink:href=\"#SimHei-48\"/>\n",
       "       <use x=\"150\" xlink:href=\"#SimHei-48\"/>\n",
       "      </g>\n",
       "     </g>\n",
       "    </g>\n",
       "    <g id=\"ytick_7\">\n",
       "     <g id=\"line2d_14\">\n",
       "      <g>\n",
       "       <use style=\"stroke:#000000;stroke-width:0.8;\" x=\"46.325\" xlink:href=\"#m45046697da\" y=\"26.079679\"/>\n",
       "      </g>\n",
       "     </g>\n",
       "     <g id=\"text_15\">\n",
       "      <!-- 1750 -->\n",
       "      <g transform=\"translate(19.325 29.517179)scale(0.1 -0.1)\">\n",
       "       <use xlink:href=\"#SimHei-49\"/>\n",
       "       <use x=\"50\" xlink:href=\"#SimHei-55\"/>\n",
       "       <use x=\"100\" xlink:href=\"#SimHei-53\"/>\n",
       "       <use x=\"150\" xlink:href=\"#SimHei-48\"/>\n",
       "      </g>\n",
       "     </g>\n",
       "    </g>\n",
       "    <g id=\"text_16\">\n",
       "     <!-- Sales volumn -->\n",
       "     <g transform=\"translate(14.075 145.92)rotate(-90)scale(0.1 -0.1)\">\n",
       "      <defs>\n",
       "       <path d=\"M 45.3125 20.703125 \n",
       "Q 45.3125 11.71875 39.640625 6.4375 \n",
       "Q 33.984375 1.171875 24.21875 1.171875 \n",
       "Q 14.453125 1.171875 8.984375 6.640625 \n",
       "Q 3.515625 12.109375 3.515625 20.3125 \n",
       "L 3.515625 23.046875 \n",
       "L 12.5 23.046875 \n",
       "L 12.5 20.703125 \n",
       "Q 12.5 14.84375 16.015625 11.71875 \n",
       "Q 19.53125 8.59375 24.21875 8.59375 \n",
       "Q 30.46875 8.59375 33.390625 11.90625 \n",
       "Q 36.328125 15.234375 36.328125 19.921875 \n",
       "Q 36.328125 23.828125 32.8125 27.140625 \n",
       "Q 29.296875 30.46875 22.65625 33.203125 \n",
       "Q 13.28125 36.71875 9.171875 41.015625 \n",
       "Q 5.078125 45.3125 5.078125 51.171875 \n",
       "Q 5.078125 59.375 10.734375 64.453125 \n",
       "Q 16.40625 69.53125 24.21875 69.53125 \n",
       "Q 34.375 69.53125 38.859375 63.46875 \n",
       "Q 43.359375 57.421875 43.359375 50.390625 \n",
       "L 34.375 50.390625 \n",
       "Q 34.765625 54.6875 32.03125 58.203125 \n",
       "Q 29.296875 61.71875 24.21875 61.71875 \n",
       "Q 19.53125 61.71875 16.796875 59.171875 \n",
       "Q 14.0625 56.640625 14.0625 52.34375 \n",
       "Q 14.0625 48.828125 16.203125 46.28125 \n",
       "Q 18.359375 43.75 27.34375 40.234375 \n",
       "Q 35.9375 36.71875 40.625 31.828125 \n",
       "Q 45.3125 26.953125 45.3125 20.703125 \n",
       "z\n",
       "\" id=\"SimHei-83\"/>\n",
       "       <path d=\"M 44.921875 1.953125 \n",
       "L 35.546875 1.953125 \n",
       "Q 34.765625 2.734375 34.375 4.09375 \n",
       "Q 33.984375 5.46875 33.984375 7.421875 \n",
       "Q 31.25 4.296875 27.34375 2.734375 \n",
       "Q 23.4375 1.171875 19.140625 1.171875 \n",
       "Q 12.890625 1.171875 8.59375 4.296875 \n",
       "Q 4.296875 7.421875 4.296875 13.28125 \n",
       "Q 4.296875 19.140625 8.203125 22.65625 \n",
       "Q 12.109375 26.171875 20.3125 27.34375 \n",
       "Q 25.78125 28.125 29.875 29.296875 \n",
       "Q 33.984375 30.46875 33.984375 32.421875 \n",
       "Q 33.984375 34.765625 32.21875 37.109375 \n",
       "Q 30.46875 39.453125 24.609375 39.453125 \n",
       "Q 19.921875 39.453125 17.765625 37.6875 \n",
       "Q 15.625 35.9375 14.84375 32.8125 \n",
       "L 6.25 32.8125 \n",
       "Q 7.03125 39.0625 11.90625 42.765625 \n",
       "Q 16.796875 46.484375 24.609375 46.484375 \n",
       "Q 33.203125 46.484375 37.5 42.578125 \n",
       "Q 41.796875 38.671875 41.796875 31.640625 \n",
       "L 41.796875 10.15625 \n",
       "Q 41.796875 7.8125 42.578125 5.859375 \n",
       "Q 43.359375 3.90625 44.921875 1.953125 \n",
       "z\n",
       "M 33.984375 16.40625 \n",
       "L 33.984375 24.21875 \n",
       "Q 31.640625 23.4375 29.484375 22.84375 \n",
       "Q 27.34375 22.265625 22.265625 21.484375 \n",
       "Q 16.40625 20.703125 14.640625 18.75 \n",
       "Q 12.890625 16.796875 12.890625 14.0625 \n",
       "Q 12.890625 11.71875 14.640625 9.953125 \n",
       "Q 16.40625 8.203125 19.921875 8.203125 \n",
       "Q 23.4375 8.203125 27.53125 10.15625 \n",
       "Q 31.640625 12.109375 33.984375 16.40625 \n",
       "z\n",
       "\" id=\"SimHei-97\"/>\n",
       "       <path d=\"M 28.515625 1.953125 \n",
       "L 20.703125 1.953125 \n",
       "L 20.703125 68.75 \n",
       "L 28.515625 68.75 \n",
       "z\n",
       "\" id=\"SimHei-108\"/>\n",
       "       <path d=\"M 42.96875 14.0625 \n",
       "Q 42.96875 7.8125 38.078125 4.484375 \n",
       "Q 33.203125 1.171875 25.78125 1.171875 \n",
       "Q 16.40625 1.171875 11.328125 4.875 \n",
       "Q 6.25 8.59375 6.25 15.625 \n",
       "L 14.0625 15.625 \n",
       "Q 14.0625 10.9375 17.375 9.375 \n",
       "Q 20.703125 7.8125 25.390625 7.8125 \n",
       "Q 30.078125 7.8125 32.421875 9.5625 \n",
       "Q 34.765625 11.328125 34.765625 14.0625 \n",
       "Q 34.765625 16.015625 32.8125 17.96875 \n",
       "Q 30.859375 19.921875 23.046875 21.09375 \n",
       "Q 14.0625 22.265625 10.734375 25.578125 \n",
       "Q 7.421875 28.90625 7.421875 34.375 \n",
       "Q 7.421875 39.0625 11.90625 42.765625 \n",
       "Q 16.40625 46.484375 25 46.484375 \n",
       "Q 32.8125 46.484375 37.296875 42.96875 \n",
       "Q 41.796875 39.453125 41.796875 33.59375 \n",
       "L 33.984375 33.59375 \n",
       "Q 33.984375 37.109375 31.4375 38.46875 \n",
       "Q 28.90625 39.84375 25 39.84375 \n",
       "Q 19.921875 39.84375 17.765625 38.078125 \n",
       "Q 15.625 36.328125 15.625 33.984375 \n",
       "Q 15.625 31.25 17.578125 29.6875 \n",
       "Q 19.53125 28.125 25.78125 27.34375 \n",
       "Q 35.9375 25.78125 39.453125 22.453125 \n",
       "Q 42.96875 19.140625 42.96875 14.0625 \n",
       "z\n",
       "\" id=\"SimHei-115\"/>\n",
       "       <path id=\"SimHei-32\"/>\n",
       "       <path d=\"M 44.921875 45.703125 \n",
       "L 28.515625 1.171875 \n",
       "L 19.921875 1.171875 \n",
       "L 3.515625 45.703125 \n",
       "L 11.71875 45.703125 \n",
       "L 23.828125 11.71875 \n",
       "L 24.609375 11.71875 \n",
       "L 36.71875 45.703125 \n",
       "z\n",
       "\" id=\"SimHei-118\"/>\n",
       "       <path d=\"M 45.703125 23.828125 \n",
       "Q 45.703125 13.671875 39.453125 7.421875 \n",
       "Q 33.203125 1.171875 24.609375 1.171875 \n",
       "Q 16.015625 1.171875 9.765625 7.421875 \n",
       "Q 3.515625 13.671875 3.515625 23.828125 \n",
       "Q 3.515625 33.984375 9.765625 40.234375 \n",
       "Q 16.015625 46.484375 24.609375 46.484375 \n",
       "Q 33.203125 46.484375 39.453125 40.234375 \n",
       "Q 45.703125 33.984375 45.703125 23.828125 \n",
       "z\n",
       "M 37.109375 23.828125 \n",
       "Q 37.109375 31.640625 33.203125 35.546875 \n",
       "Q 29.296875 39.453125 24.609375 39.453125 \n",
       "Q 19.921875 39.453125 16.015625 35.546875 \n",
       "Q 12.109375 31.640625 12.109375 23.828125 \n",
       "Q 12.109375 16.015625 16.015625 12.109375 \n",
       "Q 19.921875 8.203125 24.609375 8.203125 \n",
       "Q 29.296875 8.203125 33.203125 12.109375 \n",
       "Q 37.109375 16.015625 37.109375 23.828125 \n",
       "z\n",
       "\" id=\"SimHei-111\"/>\n",
       "       <path d=\"M 43.75 1.953125 \n",
       "L 35.9375 1.953125 \n",
       "L 35.9375 10.15625 \n",
       "Q 32.8125 5.859375 29.09375 3.515625 \n",
       "Q 25.390625 1.171875 19.53125 1.171875 \n",
       "Q 12.5 1.171875 8.984375 5.078125 \n",
       "Q 5.46875 8.984375 5.46875 14.84375 \n",
       "L 5.46875 45.703125 \n",
       "L 13.28125 45.703125 \n",
       "L 13.28125 17.578125 \n",
       "Q 13.28125 12.890625 15.625 10.15625 \n",
       "Q 17.96875 7.421875 21.875 7.421875 \n",
       "Q 26.953125 7.421875 31.4375 12.6875 \n",
       "Q 35.9375 17.96875 35.9375 25.78125 \n",
       "L 35.9375 45.703125 \n",
       "L 43.75 45.703125 \n",
       "z\n",
       "\" id=\"SimHei-117\"/>\n",
       "       <path d=\"M 43.75 1.953125 \n",
       "L 35.9375 1.953125 \n",
       "L 35.9375 30.078125 \n",
       "Q 35.9375 34.765625 33.59375 37.5 \n",
       "Q 31.25 40.234375 27.34375 40.234375 \n",
       "Q 22.265625 40.234375 17.765625 34.953125 \n",
       "Q 13.28125 29.6875 13.28125 21.875 \n",
       "L 13.28125 1.953125 \n",
       "L 5.46875 1.953125 \n",
       "L 5.46875 45.703125 \n",
       "L 13.28125 45.703125 \n",
       "L 13.28125 37.5 \n",
       "Q 16.40625 41.796875 20.109375 44.140625 \n",
       "Q 23.828125 46.484375 29.6875 46.484375 \n",
       "Q 36.71875 46.484375 40.234375 42.578125 \n",
       "Q 43.75 38.671875 43.75 32.8125 \n",
       "z\n",
       "\" id=\"SimHei-110\"/>\n",
       "      </defs>\n",
       "      <use xlink:href=\"#SimHei-83\"/>\n",
       "      <use x=\"50\" xlink:href=\"#SimHei-97\"/>\n",
       "      <use x=\"100\" xlink:href=\"#SimHei-108\"/>\n",
       "      <use x=\"150\" xlink:href=\"#SimHei-101\"/>\n",
       "      <use x=\"200\" xlink:href=\"#SimHei-115\"/>\n",
       "      <use x=\"250\" xlink:href=\"#SimHei-32\"/>\n",
       "      <use x=\"300\" xlink:href=\"#SimHei-118\"/>\n",
       "      <use x=\"350\" xlink:href=\"#SimHei-111\"/>\n",
       "      <use x=\"400\" xlink:href=\"#SimHei-108\"/>\n",
       "      <use x=\"450\" xlink:href=\"#SimHei-117\"/>\n",
       "      <use x=\"500\" xlink:href=\"#SimHei-109\"/>\n",
       "      <use x=\"550\" xlink:href=\"#SimHei-110\"/>\n",
       "     </g>\n",
       "    </g>\n",
       "   </g>\n",
       "   <g id=\"line2d_15\">\n",
       "    <path clip-path=\"url(#p65f1115062)\" d=\"M 61.543182 201.478555 \n",
       "L 86.906818 191.255296 \n",
       "L 112.270455 177.305873 \n",
       "L 137.634091 158.848496 \n",
       "L 162.997727 135.478076 \n",
       "L 188.361364 107.690197 \n",
       "L 213.725 77.506437 \n",
       "L 239.088636 48.838225 \n",
       "L 264.452273 27.006118 \n",
       "L 289.815909 17.083636 \n",
       "L 315.179545 21.663627 \n",
       "L 340.543182 39.527019 \n",
       "L 365.906818 66.283646 \n",
       "\" style=\"fill:none;stroke:#1f77b4;stroke-linecap:square;stroke-width:1.5;\"/>\n",
       "   </g>\n",
       "   <g id=\"patch_3\">\n",
       "    <path d=\"M 46.325 224.64 \n",
       "L 46.325 7.2 \n",
       "\" style=\"fill:none;stroke:#000000;stroke-linecap:square;stroke-linejoin:miter;stroke-width:0.8;\"/>\n",
       "   </g>\n",
       "   <g id=\"patch_4\">\n",
       "    <path d=\"M 381.125 224.64 \n",
       "L 381.125 7.2 \n",
       "\" style=\"fill:none;stroke:#000000;stroke-linecap:square;stroke-linejoin:miter;stroke-width:0.8;\"/>\n",
       "   </g>\n",
       "   <g id=\"patch_5\">\n",
       "    <path d=\"M 46.325 224.64 \n",
       "L 381.125 224.64 \n",
       "\" style=\"fill:none;stroke:#000000;stroke-linecap:square;stroke-linejoin:miter;stroke-width:0.8;\"/>\n",
       "   </g>\n",
       "   <g id=\"patch_6\">\n",
       "    <path d=\"M 46.325 7.2 \n",
       "L 381.125 7.2 \n",
       "\" style=\"fill:none;stroke:#000000;stroke-linecap:square;stroke-linejoin:miter;stroke-width:0.8;\"/>\n",
       "   </g>\n",
       "  </g>\n",
       " </g>\n",
       " <defs>\n",
       "  <clipPath id=\"p65f1115062\">\n",
       "   <rect height=\"217.44\" width=\"334.8\" x=\"46.325\" y=\"7.2\"/>\n",
       "  </clipPath>\n",
       " </defs>\n",
       "</svg>\n"
      ],
      "text/plain": [
       "<Figure size 432x288 with 1 Axes>"
      ]
     },
     "metadata": {
      "needs_background": "light"
     },
     "output_type": "display_data"
    }
   ],
   "source": [
    "T = y.numel()\n",
    "plt.xlabel(\"Time\")\n",
    "plt.ylabel(\"Sales volumn\")\n",
    "plt.plot(np.arange(T), bass(res[-1], T).numpy() * 1000)\n",
    "plt.scatter(np.arange(T), y.numpy() * 1000, marker='o', color='red')"
   ]
  },
  {
   "cell_type": "markdown",
   "metadata": {},
   "source": [
    "## 4. 构建神经网络的流程"
   ]
  },
  {
   "cell_type": "markdown",
   "metadata": {},
   "source": [
    "### 4.1. 定义计算架构"
   ]
  },
  {
   "cell_type": "code",
   "execution_count": 97,
   "metadata": {},
   "outputs": [],
   "source": [
    "class Net(nn.Module):\n",
    "    def __init__(self, dim_feature, dim_hidden, dim_output):\n",
    "        super(Net, self).__init__()\n",
    "        self.hidden = nn.Linear(dim_feature, dim_hidden)\n",
    "        self.output = nn.Linear(dim_hidden, dim_output)\n",
    "    \n",
    "    def forward(self, X):  # 层之间的计算次序\n",
    "        f1 = torch.relu(self.hidden(X))  # 0-1\n",
    "        f2 = self.output(f1)  # 1->2\n",
    "        f3 = nn.functional.softmax(f2, dim=1)  # 2->3\n",
    "        return f3"
   ]
  },
  {
   "cell_type": "code",
   "execution_count": 98,
   "metadata": {},
   "outputs": [],
   "source": [
    "net = Net(dim_feature=2, dim_hidden=10, dim_output=2)"
   ]
  },
  {
   "cell_type": "code",
   "execution_count": 99,
   "metadata": {},
   "outputs": [],
   "source": [
    "optimizer = torch.optim.SGD(net.parameters(), lr=0.05)  # 指定需优化的参数\n",
    "loss_func = nn.CrossEntropyLoss()  # 确定训练准则"
   ]
  },
  {
   "cell_type": "markdown",
   "metadata": {},
   "source": [
    "### 4.2. 生成测试数据"
   ]
  },
  {
   "cell_type": "code",
   "execution_count": 100,
   "metadata": {},
   "outputs": [],
   "source": [
    "x0 = torch.randn(100, 2) + 2  # 均值为 2\n",
    "y0 = torch.zeros(100)\n",
    "x1 = torch.randn(100, 2) - 2  # 均值为 -2\n",
    "y1 = torch.ones(100)\n",
    "\n",
    "x = torch.cat((x0, x1)).type(torch.FloatTensor)\n",
    "y = torch.cat((y0, y1)).type(torch.LongTensor)"
   ]
  },
  {
   "cell_type": "code",
   "execution_count": 101,
   "metadata": {},
   "outputs": [],
   "source": [
    "idx = np.arange(len(x))\n",
    "np.random.shuffle(idx)\n",
    "train_x, train_y = x[idx[:50]], y[idx[:50]]  # 随机选取50个\n",
    "test_x, test_y = x[idx[50:]], y[idx[50:]]"
   ]
  },
  {
   "cell_type": "code",
   "execution_count": 102,
   "metadata": {},
   "outputs": [
    {
     "data": {
      "text/plain": [
       "tensor([0, 0, 0, 1, 1, 0, 0, 0, 1, 0, 1, 0, 0, 0, 0, 0, 0, 1, 1, 1, 1, 1, 1, 1,\n",
       "        0, 1, 0, 0, 1, 1, 1, 1, 0, 0, 0, 1, 1, 1, 0, 1, 0, 0, 1, 0, 0, 0, 1, 1,\n",
       "        0, 0])"
      ]
     },
     "execution_count": 102,
     "metadata": {},
     "output_type": "execute_result"
    }
   ],
   "source": [
    "train_y"
   ]
  },
  {
   "cell_type": "markdown",
   "metadata": {},
   "source": [
    "### 4.3. 训练"
   ]
  },
  {
   "cell_type": "code",
   "execution_count": 103,
   "metadata": {},
   "outputs": [
    {
     "name": "stdout",
     "output_type": "stream",
     "text": [
      "loss_train: 0.7425095438957214, loss_test: 0.7468312382698059\n",
      "loss_train: 0.42974036931991577, loss_test: 0.43078139424324036\n",
      "loss_train: 0.36417511105537415, loss_test: 0.36264023184776306\n",
      "loss_train: 0.34592339396476746, loss_test: 0.34282994270324707\n",
      "loss_train: 0.3379115164279938, loss_test: 0.3340129852294922\n",
      "loss_train: 0.33348411321640015, loss_test: 0.32912465929985046\n",
      "loss_train: 0.3306400179862976, loss_test: 0.3260180652141571\n",
      "loss_train: 0.32863563299179077, loss_test: 0.3238734304904938\n",
      "loss_train: 0.32712796330451965, loss_test: 0.32230502367019653\n",
      "loss_train: 0.32593658566474915, loss_test: 0.32110872864723206\n"
     ]
    }
   ],
   "source": [
    "for i in range(400):\n",
    "    out = net.forward(train_x)\n",
    "    loss = loss_func(out, train_y)\n",
    "    \n",
    "    optimizer.zero_grad()\n",
    "    loss.backward()\n",
    "    optimizer.step()\n",
    "    if i % 40 == 0:\n",
    "        with torch.no_grad():\n",
    "            loss_train = loss_func(out, train_y)\n",
    "            out_test = net.forward(test_x)\n",
    "            loss_test = loss_func(out_test, test_y)\n",
    "            print(f\"loss_train: {loss_train}, loss_test: {loss_test}\")"
   ]
  },
  {
   "cell_type": "code",
   "execution_count": 104,
   "metadata": {},
   "outputs": [],
   "source": [
    "train_result = net(train_x)\n",
    "predict_train_y = torch.max(train_result, 1)[1]\n",
    "\n",
    "test_result = net(test_x)\n",
    "predict_test_y = torch.max(test_result, 1)[1]\n",
    "\n",
    "x_list = [train_x, test_x]\n",
    "y_list = [predict_train_y, predict_test_y]"
   ]
  },
  {
   "cell_type": "code",
   "execution_count": 105,
   "metadata": {},
   "outputs": [
    {
     "data": {
      "image/svg+xml": [
       "<?xml version=\"1.0\" encoding=\"utf-8\" standalone=\"no\"?>\n",
       "<!DOCTYPE svg PUBLIC \"-//W3C//DTD SVG 1.1//EN\"\n",
       "  \"http://www.w3.org/Graphics/SVG/1.1/DTD/svg11.dtd\">\n",
       "<!-- Created with matplotlib (https://matplotlib.org/) -->\n",
       "<svg height=\"313.45pt\" version=\"1.1\" viewBox=\"0 0 713.125 313.45\" width=\"713.125pt\" xmlns=\"http://www.w3.org/2000/svg\" xmlns:xlink=\"http://www.w3.org/1999/xlink\">\n",
       " <metadata>\n",
       "  <rdf:RDF xmlns:cc=\"http://creativecommons.org/ns#\" xmlns:dc=\"http://purl.org/dc/elements/1.1/\" xmlns:rdf=\"http://www.w3.org/1999/02/22-rdf-syntax-ns#\">\n",
       "   <cc:Work>\n",
       "    <dc:type rdf:resource=\"http://purl.org/dc/dcmitype/StillImage\"/>\n",
       "    <dc:date>2021-10-13T19:25:38.336055</dc:date>\n",
       "    <dc:format>image/svg+xml</dc:format>\n",
       "    <dc:creator>\n",
       "     <cc:Agent>\n",
       "      <dc:title>Matplotlib v3.3.4, https://matplotlib.org/</dc:title>\n",
       "     </cc:Agent>\n",
       "    </dc:creator>\n",
       "   </cc:Work>\n",
       "  </rdf:RDF>\n",
       " </metadata>\n",
       " <defs>\n",
       "  <style type=\"text/css\">*{stroke-linecap:butt;stroke-linejoin:round;}</style>\n",
       " </defs>\n",
       " <g id=\"figure_1\">\n",
       "  <g id=\"patch_1\">\n",
       "   <path d=\"M 0 313.45 \n",
       "L 713.125 313.45 \n",
       "L 713.125 0 \n",
       "L 0 0 \n",
       "z\n",
       "\" style=\"fill:none;\"/>\n",
       "  </g>\n",
       "  <g id=\"axes_1\">\n",
       "   <g id=\"patch_2\">\n",
       "    <path d=\"M 36.325 279 \n",
       "L 340.688636 279 \n",
       "L 340.688636 7.2 \n",
       "L 36.325 7.2 \n",
       "z\n",
       "\" style=\"fill:#ffffff;\"/>\n",
       "   </g>\n",
       "   <g id=\"PathCollection_1\">\n",
       "    <defs>\n",
       "     <path d=\"M 0 3.872983 \n",
       "C 1.027127 3.872983 2.012324 3.464901 2.738613 2.738613 \n",
       "C 3.464901 2.012324 3.872983 1.027127 3.872983 -0 \n",
       "C 3.872983 -1.027127 3.464901 -2.012324 2.738613 -2.738613 \n",
       "C 2.012324 -3.464901 1.027127 -3.872983 0 -3.872983 \n",
       "C -1.027127 -3.872983 -2.012324 -3.464901 -2.738613 -2.738613 \n",
       "C -3.464901 -2.012324 -3.872983 -1.027127 -3.872983 0 \n",
       "C -3.872983 1.027127 -3.464901 2.012324 -2.738613 2.738613 \n",
       "C -2.012324 3.464901 -1.027127 3.872983 0 3.872983 \n",
       "z\n",
       "\" id=\"C0_0_ef69ebf6d3\"/>\n",
       "    </defs>\n",
       "    <g clip-path=\"url(#p79a2d8bd80)\">\n",
       "     <use style=\"fill:#a50026;\" x=\"230.525281\" xlink:href=\"#C0_0_ef69ebf6d3\" y=\"93.571517\"/>\n",
       "    </g>\n",
       "    <g clip-path=\"url(#p79a2d8bd80)\">\n",
       "     <use style=\"fill:#a50026;\" x=\"295.078655\" xlink:href=\"#C0_0_ef69ebf6d3\" y=\"48.126788\"/>\n",
       "    </g>\n",
       "    <g clip-path=\"url(#p79a2d8bd80)\">\n",
       "     <use style=\"fill:#a50026;\" x=\"267.874094\" xlink:href=\"#C0_0_ef69ebf6d3\" y=\"114.460432\"/>\n",
       "    </g>\n",
       "    <g clip-path=\"url(#p79a2d8bd80)\">\n",
       "     <use style=\"fill:#006837;\" x=\"99.270375\" xlink:href=\"#C0_0_ef69ebf6d3\" y=\"199.556557\"/>\n",
       "    </g>\n",
       "    <g clip-path=\"url(#p79a2d8bd80)\">\n",
       "     <use style=\"fill:#006837;\" x=\"118.598612\" xlink:href=\"#C0_0_ef69ebf6d3\" y=\"189.716513\"/>\n",
       "    </g>\n",
       "    <g clip-path=\"url(#p79a2d8bd80)\">\n",
       "     <use style=\"fill:#a50026;\" x=\"217.929298\" xlink:href=\"#C0_0_ef69ebf6d3\" y=\"111.605296\"/>\n",
       "    </g>\n",
       "    <g clip-path=\"url(#p79a2d8bd80)\">\n",
       "     <use style=\"fill:#a50026;\" x=\"222.100984\" xlink:href=\"#C0_0_ef69ebf6d3\" y=\"104.120687\"/>\n",
       "    </g>\n",
       "    <g clip-path=\"url(#p79a2d8bd80)\">\n",
       "     <use style=\"fill:#a50026;\" x=\"254.605461\" xlink:href=\"#C0_0_ef69ebf6d3\" y=\"57.390819\"/>\n",
       "    </g>\n",
       "    <g clip-path=\"url(#p79a2d8bd80)\">\n",
       "     <use style=\"fill:#006837;\" x=\"109.846234\" xlink:href=\"#C0_0_ef69ebf6d3\" y=\"182.812496\"/>\n",
       "    </g>\n",
       "    <g clip-path=\"url(#p79a2d8bd80)\">\n",
       "     <use style=\"fill:#a50026;\" x=\"271.112315\" xlink:href=\"#C0_0_ef69ebf6d3\" y=\"53.730269\"/>\n",
       "    </g>\n",
       "    <g clip-path=\"url(#p79a2d8bd80)\">\n",
       "     <use style=\"fill:#006837;\" x=\"146.050279\" xlink:href=\"#C0_0_ef69ebf6d3\" y=\"212.113015\"/>\n",
       "    </g>\n",
       "    <g clip-path=\"url(#p79a2d8bd80)\">\n",
       "     <use style=\"fill:#a50026;\" x=\"215.322073\" xlink:href=\"#C0_0_ef69ebf6d3\" y=\"99.776661\"/>\n",
       "    </g>\n",
       "    <g clip-path=\"url(#p79a2d8bd80)\">\n",
       "     <use style=\"fill:#a50026;\" x=\"302.863839\" xlink:href=\"#C0_0_ef69ebf6d3\" y=\"98.915552\"/>\n",
       "    </g>\n",
       "    <g clip-path=\"url(#p79a2d8bd80)\">\n",
       "     <use style=\"fill:#a50026;\" x=\"285.543553\" xlink:href=\"#C0_0_ef69ebf6d3\" y=\"119.658876\"/>\n",
       "    </g>\n",
       "    <g clip-path=\"url(#p79a2d8bd80)\">\n",
       "     <use style=\"fill:#a50026;\" x=\"293.374635\" xlink:href=\"#C0_0_ef69ebf6d3\" y=\"68.42377\"/>\n",
       "    </g>\n",
       "    <g clip-path=\"url(#p79a2d8bd80)\">\n",
       "     <use style=\"fill:#a50026;\" x=\"301.682659\" xlink:href=\"#C0_0_ef69ebf6d3\" y=\"142.429827\"/>\n",
       "    </g>\n",
       "    <g clip-path=\"url(#p79a2d8bd80)\">\n",
       "     <use style=\"fill:#a50026;\" x=\"278.667432\" xlink:href=\"#C0_0_ef69ebf6d3\" y=\"75.671891\"/>\n",
       "    </g>\n",
       "    <g clip-path=\"url(#p79a2d8bd80)\">\n",
       "     <use style=\"fill:#006837;\" x=\"86.080037\" xlink:href=\"#C0_0_ef69ebf6d3\" y=\"212.475761\"/>\n",
       "    </g>\n",
       "    <g clip-path=\"url(#p79a2d8bd80)\">\n",
       "     <use style=\"fill:#006837;\" x=\"129.076344\" xlink:href=\"#C0_0_ef69ebf6d3\" y=\"202.052816\"/>\n",
       "    </g>\n",
       "    <g clip-path=\"url(#p79a2d8bd80)\">\n",
       "     <use style=\"fill:#006837;\" x=\"161.827092\" xlink:href=\"#C0_0_ef69ebf6d3\" y=\"154.580041\"/>\n",
       "    </g>\n",
       "    <g clip-path=\"url(#p79a2d8bd80)\">\n",
       "     <use style=\"fill:#006837;\" x=\"93.849897\" xlink:href=\"#C0_0_ef69ebf6d3\" y=\"180.859483\"/>\n",
       "    </g>\n",
       "    <g clip-path=\"url(#p79a2d8bd80)\">\n",
       "     <use style=\"fill:#006837;\" x=\"85.021252\" xlink:href=\"#C0_0_ef69ebf6d3\" y=\"187.000468\"/>\n",
       "    </g>\n",
       "    <g clip-path=\"url(#p79a2d8bd80)\">\n",
       "     <use style=\"fill:#006837;\" x=\"131.714744\" xlink:href=\"#C0_0_ef69ebf6d3\" y=\"178.999815\"/>\n",
       "    </g>\n",
       "    <g clip-path=\"url(#p79a2d8bd80)\">\n",
       "     <use style=\"fill:#006837;\" x=\"116.492714\" xlink:href=\"#C0_0_ef69ebf6d3\" y=\"237.023936\"/>\n",
       "    </g>\n",
       "    <g clip-path=\"url(#p79a2d8bd80)\">\n",
       "     <use style=\"fill:#a50026;\" x=\"200.703023\" xlink:href=\"#C0_0_ef69ebf6d3\" y=\"79.286245\"/>\n",
       "    </g>\n",
       "    <g clip-path=\"url(#p79a2d8bd80)\">\n",
       "     <use style=\"fill:#006837;\" x=\"103.904551\" xlink:href=\"#C0_0_ef69ebf6d3\" y=\"266.645455\"/>\n",
       "    </g>\n",
       "    <g clip-path=\"url(#p79a2d8bd80)\">\n",
       "     <use style=\"fill:#a50026;\" x=\"325.484312\" xlink:href=\"#C0_0_ef69ebf6d3\" y=\"47.209946\"/>\n",
       "    </g>\n",
       "    <g clip-path=\"url(#p79a2d8bd80)\">\n",
       "     <use style=\"fill:#a50026;\" x=\"300.194665\" xlink:href=\"#C0_0_ef69ebf6d3\" y=\"123.15313\"/>\n",
       "    </g>\n",
       "    <g clip-path=\"url(#p79a2d8bd80)\">\n",
       "     <use style=\"fill:#006837;\" x=\"106.429971\" xlink:href=\"#C0_0_ef69ebf6d3\" y=\"137.327306\"/>\n",
       "    </g>\n",
       "    <g clip-path=\"url(#p79a2d8bd80)\">\n",
       "     <use style=\"fill:#006837;\" x=\"99.549728\" xlink:href=\"#C0_0_ef69ebf6d3\" y=\"192.20996\"/>\n",
       "    </g>\n",
       "    <g clip-path=\"url(#p79a2d8bd80)\">\n",
       "     <use style=\"fill:#006837;\" x=\"138.961349\" xlink:href=\"#C0_0_ef69ebf6d3\" y=\"222.02178\"/>\n",
       "    </g>\n",
       "    <g clip-path=\"url(#p79a2d8bd80)\">\n",
       "     <use style=\"fill:#006837;\" x=\"156.100118\" xlink:href=\"#C0_0_ef69ebf6d3\" y=\"245.41739\"/>\n",
       "    </g>\n",
       "    <g clip-path=\"url(#p79a2d8bd80)\">\n",
       "     <use style=\"fill:#a50026;\" x=\"326.853926\" xlink:href=\"#C0_0_ef69ebf6d3\" y=\"132.239504\"/>\n",
       "    </g>\n",
       "    <g clip-path=\"url(#p79a2d8bd80)\">\n",
       "     <use style=\"fill:#a50026;\" x=\"263.649878\" xlink:href=\"#C0_0_ef69ebf6d3\" y=\"19.554545\"/>\n",
       "    </g>\n",
       "    <g clip-path=\"url(#p79a2d8bd80)\">\n",
       "     <use style=\"fill:#a50026;\" x=\"265.28539\" xlink:href=\"#C0_0_ef69ebf6d3\" y=\"76.519637\"/>\n",
       "    </g>\n",
       "    <g clip-path=\"url(#p79a2d8bd80)\">\n",
       "     <use style=\"fill:#006837;\" x=\"50.159711\" xlink:href=\"#C0_0_ef69ebf6d3\" y=\"213.453586\"/>\n",
       "    </g>\n",
       "    <g clip-path=\"url(#p79a2d8bd80)\">\n",
       "     <use style=\"fill:#006837;\" x=\"51.718893\" xlink:href=\"#C0_0_ef69ebf6d3\" y=\"224.786164\"/>\n",
       "    </g>\n",
       "    <g clip-path=\"url(#p79a2d8bd80)\">\n",
       "     <use style=\"fill:#006837;\" x=\"90.964003\" xlink:href=\"#C0_0_ef69ebf6d3\" y=\"203.323754\"/>\n",
       "    </g>\n",
       "    <g clip-path=\"url(#p79a2d8bd80)\">\n",
       "     <use style=\"fill:#a50026;\" x=\"246.869843\" xlink:href=\"#C0_0_ef69ebf6d3\" y=\"70.287607\"/>\n",
       "    </g>\n",
       "    <g clip-path=\"url(#p79a2d8bd80)\">\n",
       "     <use style=\"fill:#006837;\" x=\"94.36611\" xlink:href=\"#C0_0_ef69ebf6d3\" y=\"165.175909\"/>\n",
       "    </g>\n",
       "    <g clip-path=\"url(#p79a2d8bd80)\">\n",
       "     <use style=\"fill:#a50026;\" x=\"221.55143\" xlink:href=\"#C0_0_ef69ebf6d3\" y=\"129.572258\"/>\n",
       "    </g>\n",
       "    <g clip-path=\"url(#p79a2d8bd80)\">\n",
       "     <use style=\"fill:#a50026;\" x=\"244.677837\" xlink:href=\"#C0_0_ef69ebf6d3\" y=\"86.856266\"/>\n",
       "    </g>\n",
       "    <g clip-path=\"url(#p79a2d8bd80)\">\n",
       "     <use style=\"fill:#006837;\" x=\"138.242255\" xlink:href=\"#C0_0_ef69ebf6d3\" y=\"231.15449\"/>\n",
       "    </g>\n",
       "    <g clip-path=\"url(#p79a2d8bd80)\">\n",
       "     <use style=\"fill:#a50026;\" x=\"191.304576\" xlink:href=\"#C0_0_ef69ebf6d3\" y=\"147.855555\"/>\n",
       "    </g>\n",
       "    <g clip-path=\"url(#p79a2d8bd80)\">\n",
       "     <use style=\"fill:#a50026;\" x=\"279.863687\" xlink:href=\"#C0_0_ef69ebf6d3\" y=\"120.74964\"/>\n",
       "    </g>\n",
       "    <g clip-path=\"url(#p79a2d8bd80)\">\n",
       "     <use style=\"fill:#a50026;\" x=\"249.146672\" xlink:href=\"#C0_0_ef69ebf6d3\" y=\"54.069767\"/>\n",
       "    </g>\n",
       "    <g clip-path=\"url(#p79a2d8bd80)\">\n",
       "     <use style=\"fill:#006837;\" x=\"121.072091\" xlink:href=\"#C0_0_ef69ebf6d3\" y=\"153.827824\"/>\n",
       "    </g>\n",
       "    <g clip-path=\"url(#p79a2d8bd80)\">\n",
       "     <use style=\"fill:#006837;\" x=\"137.362383\" xlink:href=\"#C0_0_ef69ebf6d3\" y=\"196.559227\"/>\n",
       "    </g>\n",
       "    <g clip-path=\"url(#p79a2d8bd80)\">\n",
       "     <use style=\"fill:#a50026;\" x=\"259.374923\" xlink:href=\"#C0_0_ef69ebf6d3\" y=\"118.986042\"/>\n",
       "    </g>\n",
       "    <g clip-path=\"url(#p79a2d8bd80)\">\n",
       "     <use style=\"fill:#a50026;\" x=\"258.079745\" xlink:href=\"#C0_0_ef69ebf6d3\" y=\"99.100804\"/>\n",
       "    </g>\n",
       "   </g>\n",
       "   <g id=\"matplotlib.axis_1\">\n",
       "    <g id=\"xtick_1\">\n",
       "     <g id=\"line2d_1\">\n",
       "      <defs>\n",
       "       <path d=\"M 0 0 \n",
       "L 0 3.5 \n",
       "\" id=\"m87f5ca38f0\" style=\"stroke:#000000;stroke-width:0.8;\"/>\n",
       "      </defs>\n",
       "      <g>\n",
       "       <use style=\"stroke:#000000;stroke-width:0.8;\" x=\"45.971611\" xlink:href=\"#m87f5ca38f0\" y=\"279\"/>\n",
       "      </g>\n",
       "     </g>\n",
       "     <g id=\"text_1\">\n",
       "      <!-- -4 -->\n",
       "      <g transform=\"translate(40.971611 292.875)scale(0.1 -0.1)\">\n",
       "       <defs>\n",
       "        <path d=\"M 46.484375 33.203125 \n",
       "L 1.953125 33.203125 \n",
       "L 1.953125 39.453125 \n",
       "L 46.484375 39.453125 \n",
       "z\n",
       "\" id=\"SimHei-45\"/>\n",
       "        <path d=\"M 31.25 17.1875 \n",
       "L 1.171875 17.1875 \n",
       "L 1.171875 23.828125 \n",
       "L 32.8125 69.53125 \n",
       "L 38.671875 69.53125 \n",
       "L 38.671875 23.828125 \n",
       "L 48.046875 23.828125 \n",
       "L 48.046875 17.1875 \n",
       "L 38.671875 17.1875 \n",
       "L 38.671875 2.34375 \n",
       "L 31.25 2.34375 \n",
       "z\n",
       "M 31.25 23.828125 \n",
       "L 31.25 54.6875 \n",
       "L 9.375 23.828125 \n",
       "z\n",
       "\" id=\"SimHei-52\"/>\n",
       "       </defs>\n",
       "       <use xlink:href=\"#SimHei-45\"/>\n",
       "       <use x=\"50\" xlink:href=\"#SimHei-52\"/>\n",
       "      </g>\n",
       "     </g>\n",
       "    </g>\n",
       "    <g id=\"xtick_2\">\n",
       "     <g id=\"line2d_2\">\n",
       "      <g>\n",
       "       <use style=\"stroke:#000000;stroke-width:0.8;\" x=\"80.979869\" xlink:href=\"#m87f5ca38f0\" y=\"279\"/>\n",
       "      </g>\n",
       "     </g>\n",
       "     <g id=\"text_2\">\n",
       "      <!-- -3 -->\n",
       "      <g transform=\"translate(75.979869 292.875)scale(0.1 -0.1)\">\n",
       "       <defs>\n",
       "        <path d=\"M 3.90625 19.140625 \n",
       "L 10.9375 20.3125 \n",
       "Q 12.5 15.234375 16.015625 11.90625 \n",
       "Q 19.53125 8.59375 24.796875 8.78125 \n",
       "Q 30.078125 8.984375 33.203125 13.078125 \n",
       "Q 36.328125 17.1875 35.9375 22.453125 \n",
       "Q 35.546875 27.734375 31.828125 30.65625 \n",
       "Q 28.125 33.59375 19.921875 34.765625 \n",
       "L 19.921875 39.84375 \n",
       "Q 28.125 40.625 31.828125 44.140625 \n",
       "Q 35.546875 47.65625 35.15625 53.3125 \n",
       "Q 34.765625 58.984375 30.078125 61.515625 \n",
       "Q 25.390625 64.0625 20.109375 62.109375 \n",
       "Q 14.84375 60.15625 11.71875 51.171875 \n",
       "L 4.6875 52.34375 \n",
       "Q 7.03125 59.375 11.125 64.0625 \n",
       "Q 15.234375 68.75 22.265625 69.53125 \n",
       "Q 29.296875 70.3125 34.5625 67.765625 \n",
       "Q 39.84375 65.234375 41.984375 59.953125 \n",
       "Q 44.140625 54.6875 42.578125 48.4375 \n",
       "Q 41.015625 42.1875 33.59375 37.5 \n",
       "Q 39.0625 35.15625 41.984375 30.46875 \n",
       "Q 44.921875 25.78125 43.9375 18.15625 \n",
       "Q 42.96875 10.546875 37.109375 5.859375 \n",
       "Q 31.25 1.171875 23.828125 1.359375 \n",
       "Q 16.40625 1.5625 10.9375 6.046875 \n",
       "Q 5.46875 10.546875 3.90625 19.140625 \n",
       "z\n",
       "\" id=\"SimHei-51\"/>\n",
       "       </defs>\n",
       "       <use xlink:href=\"#SimHei-45\"/>\n",
       "       <use x=\"50\" xlink:href=\"#SimHei-51\"/>\n",
       "      </g>\n",
       "     </g>\n",
       "    </g>\n",
       "    <g id=\"xtick_3\">\n",
       "     <g id=\"line2d_3\">\n",
       "      <g>\n",
       "       <use style=\"stroke:#000000;stroke-width:0.8;\" x=\"115.988127\" xlink:href=\"#m87f5ca38f0\" y=\"279\"/>\n",
       "      </g>\n",
       "     </g>\n",
       "     <g id=\"text_3\">\n",
       "      <!-- -2 -->\n",
       "      <g transform=\"translate(110.988127 292.875)scale(0.1 -0.1)\">\n",
       "       <defs>\n",
       "        <path d=\"M 4.6875 3.90625 \n",
       "Q 5.078125 9.765625 10.15625 14.453125 \n",
       "Q 15.234375 19.140625 23.046875 29.09375 \n",
       "Q 30.859375 39.0625 33.203125 44.53125 \n",
       "Q 35.546875 50 34.953125 53.90625 \n",
       "Q 34.375 57.8125 31.25 60.34375 \n",
       "Q 28.125 62.890625 24.015625 62.5 \n",
       "Q 19.921875 62.109375 16.203125 59.375 \n",
       "Q 12.5 56.640625 10.546875 51.171875 \n",
       "L 3.125 52.34375 \n",
       "Q 6.25 61.328125 11.125 65.421875 \n",
       "Q 16.015625 69.53125 22.65625 69.921875 \n",
       "Q 26.5625 70.3125 29.6875 69.71875 \n",
       "Q 32.8125 69.140625 36.125 66.984375 \n",
       "Q 39.453125 64.84375 41.59375 60.546875 \n",
       "Q 43.75 56.25 43.15625 50.1875 \n",
       "Q 42.578125 44.140625 37.109375 35.734375 \n",
       "Q 31.640625 27.34375 16.015625 9.375 \n",
       "L 44.140625 9.375 \n",
       "L 44.140625 2.34375 \n",
       "L 4.6875 2.34375 \n",
       "z\n",
       "\" id=\"SimHei-50\"/>\n",
       "       </defs>\n",
       "       <use xlink:href=\"#SimHei-45\"/>\n",
       "       <use x=\"50\" xlink:href=\"#SimHei-50\"/>\n",
       "      </g>\n",
       "     </g>\n",
       "    </g>\n",
       "    <g id=\"xtick_4\">\n",
       "     <g id=\"line2d_4\">\n",
       "      <g>\n",
       "       <use style=\"stroke:#000000;stroke-width:0.8;\" x=\"150.996385\" xlink:href=\"#m87f5ca38f0\" y=\"279\"/>\n",
       "      </g>\n",
       "     </g>\n",
       "     <g id=\"text_4\">\n",
       "      <!-- -1 -->\n",
       "      <g transform=\"translate(145.996385 292.875)scale(0.1 -0.1)\">\n",
       "       <defs>\n",
       "        <path d=\"M 21.875 56.25 \n",
       "Q 16.796875 51.171875 8.984375 46.484375 \n",
       "L 8.984375 53.90625 \n",
       "Q 18.75 60.546875 25 69.53125 \n",
       "L 29.6875 69.53125 \n",
       "L 29.6875 2.34375 \n",
       "L 21.875 2.34375 \n",
       "z\n",
       "\" id=\"SimHei-49\"/>\n",
       "       </defs>\n",
       "       <use xlink:href=\"#SimHei-45\"/>\n",
       "       <use x=\"50\" xlink:href=\"#SimHei-49\"/>\n",
       "      </g>\n",
       "     </g>\n",
       "    </g>\n",
       "    <g id=\"xtick_5\">\n",
       "     <g id=\"line2d_5\">\n",
       "      <g>\n",
       "       <use style=\"stroke:#000000;stroke-width:0.8;\" x=\"186.004644\" xlink:href=\"#m87f5ca38f0\" y=\"279\"/>\n",
       "      </g>\n",
       "     </g>\n",
       "     <g id=\"text_5\">\n",
       "      <!-- 0 -->\n",
       "      <g transform=\"translate(183.504644 292.875)scale(0.1 -0.1)\">\n",
       "       <defs>\n",
       "        <path d=\"M 3.125 29.296875 \n",
       "Q 3.90625 50 6.4375 56.046875 \n",
       "Q 8.984375 62.109375 13.671875 66.015625 \n",
       "Q 18.359375 69.921875 25.1875 69.921875 \n",
       "Q 32.03125 69.921875 37.109375 64.25 \n",
       "Q 42.1875 58.59375 43.75 50 \n",
       "Q 45.3125 41.40625 44.71875 30.265625 \n",
       "Q 44.140625 19.140625 40.8125 12.109375 \n",
       "Q 37.5 5.078125 30.859375 2.34375 \n",
       "Q 24.21875 -0.390625 17.578125 2.921875 \n",
       "Q 10.9375 6.25 8.203125 11.71875 \n",
       "Q 5.46875 17.1875 4.296875 23.234375 \n",
       "Q 3.125 29.296875 3.90625 50 \n",
       "z\n",
       "M 12.890625 52.734375 \n",
       "Q 10.546875 31.25 12.5 22.84375 \n",
       "Q 14.453125 14.453125 18.9375 10.9375 \n",
       "Q 23.4375 7.421875 28.125 9.5625 \n",
       "Q 32.8125 11.71875 34.953125 18.15625 \n",
       "Q 37.109375 24.609375 37.109375 32.21875 \n",
       "Q 37.109375 39.84375 36.515625 46.09375 \n",
       "Q 35.9375 52.34375 33 57.421875 \n",
       "Q 30.078125 62.5 25.1875 62.6875 \n",
       "Q 20.3125 62.890625 16.59375 57.8125 \n",
       "Q 12.890625 52.734375 10.546875 31.25 \n",
       "z\n",
       "\" id=\"SimHei-48\"/>\n",
       "       </defs>\n",
       "       <use xlink:href=\"#SimHei-48\"/>\n",
       "      </g>\n",
       "     </g>\n",
       "    </g>\n",
       "    <g id=\"xtick_6\">\n",
       "     <g id=\"line2d_6\">\n",
       "      <g>\n",
       "       <use style=\"stroke:#000000;stroke-width:0.8;\" x=\"221.012902\" xlink:href=\"#m87f5ca38f0\" y=\"279\"/>\n",
       "      </g>\n",
       "     </g>\n",
       "     <g id=\"text_6\">\n",
       "      <!-- 1 -->\n",
       "      <g transform=\"translate(218.512902 292.875)scale(0.1 -0.1)\">\n",
       "       <use xlink:href=\"#SimHei-49\"/>\n",
       "      </g>\n",
       "     </g>\n",
       "    </g>\n",
       "    <g id=\"xtick_7\">\n",
       "     <g id=\"line2d_7\">\n",
       "      <g>\n",
       "       <use style=\"stroke:#000000;stroke-width:0.8;\" x=\"256.02116\" xlink:href=\"#m87f5ca38f0\" y=\"279\"/>\n",
       "      </g>\n",
       "     </g>\n",
       "     <g id=\"text_7\">\n",
       "      <!-- 2 -->\n",
       "      <g transform=\"translate(253.52116 292.875)scale(0.1 -0.1)\">\n",
       "       <use xlink:href=\"#SimHei-50\"/>\n",
       "      </g>\n",
       "     </g>\n",
       "    </g>\n",
       "    <g id=\"xtick_8\">\n",
       "     <g id=\"line2d_8\">\n",
       "      <g>\n",
       "       <use style=\"stroke:#000000;stroke-width:0.8;\" x=\"291.029418\" xlink:href=\"#m87f5ca38f0\" y=\"279\"/>\n",
       "      </g>\n",
       "     </g>\n",
       "     <g id=\"text_8\">\n",
       "      <!-- 3 -->\n",
       "      <g transform=\"translate(288.529418 292.875)scale(0.1 -0.1)\">\n",
       "       <use xlink:href=\"#SimHei-51\"/>\n",
       "      </g>\n",
       "     </g>\n",
       "    </g>\n",
       "    <g id=\"xtick_9\">\n",
       "     <g id=\"line2d_9\">\n",
       "      <g>\n",
       "       <use style=\"stroke:#000000;stroke-width:0.8;\" x=\"326.037676\" xlink:href=\"#m87f5ca38f0\" y=\"279\"/>\n",
       "      </g>\n",
       "     </g>\n",
       "     <g id=\"text_9\">\n",
       "      <!-- 4 -->\n",
       "      <g transform=\"translate(323.537676 292.875)scale(0.1 -0.1)\">\n",
       "       <use xlink:href=\"#SimHei-52\"/>\n",
       "      </g>\n",
       "     </g>\n",
       "    </g>\n",
       "    <g id=\"text_10\">\n",
       "     <!-- $x_0$ -->\n",
       "     <g transform=\"translate(183.156818 304.45)scale(0.1 -0.1)\">\n",
       "      <defs>\n",
       "       <path d=\"M 60.015625 54.6875 \n",
       "L 34.90625 27.875 \n",
       "L 50.296875 0 \n",
       "L 39.984375 0 \n",
       "L 28.421875 21.6875 \n",
       "L 8.296875 0 \n",
       "L -2.59375 0 \n",
       "L 24.3125 28.8125 \n",
       "L 10.015625 54.6875 \n",
       "L 20.3125 54.6875 \n",
       "L 30.8125 34.90625 \n",
       "L 49.125 54.6875 \n",
       "z\n",
       "\" id=\"DejaVuSans-Oblique-120\"/>\n",
       "       <path d=\"M 31.78125 66.40625 \n",
       "Q 24.171875 66.40625 20.328125 58.90625 \n",
       "Q 16.5 51.421875 16.5 36.375 \n",
       "Q 16.5 21.390625 20.328125 13.890625 \n",
       "Q 24.171875 6.390625 31.78125 6.390625 \n",
       "Q 39.453125 6.390625 43.28125 13.890625 \n",
       "Q 47.125 21.390625 47.125 36.375 \n",
       "Q 47.125 51.421875 43.28125 58.90625 \n",
       "Q 39.453125 66.40625 31.78125 66.40625 \n",
       "z\n",
       "M 31.78125 74.21875 \n",
       "Q 44.046875 74.21875 50.515625 64.515625 \n",
       "Q 56.984375 54.828125 56.984375 36.375 \n",
       "Q 56.984375 17.96875 50.515625 8.265625 \n",
       "Q 44.046875 -1.421875 31.78125 -1.421875 \n",
       "Q 19.53125 -1.421875 13.0625 8.265625 \n",
       "Q 6.59375 17.96875 6.59375 36.375 \n",
       "Q 6.59375 54.828125 13.0625 64.515625 \n",
       "Q 19.53125 74.21875 31.78125 74.21875 \n",
       "z\n",
       "\" id=\"DejaVuSans-48\"/>\n",
       "      </defs>\n",
       "      <use transform=\"translate(0 0.3125)\" xlink:href=\"#DejaVuSans-Oblique-120\"/>\n",
       "      <use transform=\"translate(59.179688 -16.09375)scale(0.7)\" xlink:href=\"#DejaVuSans-48\"/>\n",
       "     </g>\n",
       "    </g>\n",
       "   </g>\n",
       "   <g id=\"matplotlib.axis_2\">\n",
       "    <g id=\"ytick_1\">\n",
       "     <g id=\"line2d_10\">\n",
       "      <defs>\n",
       "       <path d=\"M 0 0 \n",
       "L -3.5 0 \n",
       "\" id=\"mbad29b1f67\" style=\"stroke:#000000;stroke-width:0.8;\"/>\n",
       "      </defs>\n",
       "      <g>\n",
       "       <use style=\"stroke:#000000;stroke-width:0.8;\" x=\"36.325\" xlink:href=\"#mbad29b1f67\" y=\"262.464893\"/>\n",
       "      </g>\n",
       "     </g>\n",
       "     <g id=\"text_11\">\n",
       "      <!-- -4 -->\n",
       "      <g transform=\"translate(19.325 265.902393)scale(0.1 -0.1)\">\n",
       "       <use xlink:href=\"#SimHei-45\"/>\n",
       "       <use x=\"50\" xlink:href=\"#SimHei-52\"/>\n",
       "      </g>\n",
       "     </g>\n",
       "    </g>\n",
       "    <g id=\"ytick_2\">\n",
       "     <g id=\"line2d_11\">\n",
       "      <g>\n",
       "       <use style=\"stroke:#000000;stroke-width:0.8;\" x=\"36.325\" xlink:href=\"#mbad29b1f67\" y=\"205.223812\"/>\n",
       "      </g>\n",
       "     </g>\n",
       "     <g id=\"text_12\">\n",
       "      <!-- -2 -->\n",
       "      <g transform=\"translate(19.325 208.661312)scale(0.1 -0.1)\">\n",
       "       <use xlink:href=\"#SimHei-45\"/>\n",
       "       <use x=\"50\" xlink:href=\"#SimHei-50\"/>\n",
       "      </g>\n",
       "     </g>\n",
       "    </g>\n",
       "    <g id=\"ytick_3\">\n",
       "     <g id=\"line2d_12\">\n",
       "      <g>\n",
       "       <use style=\"stroke:#000000;stroke-width:0.8;\" x=\"36.325\" xlink:href=\"#mbad29b1f67\" y=\"147.982731\"/>\n",
       "      </g>\n",
       "     </g>\n",
       "     <g id=\"text_13\">\n",
       "      <!-- 0 -->\n",
       "      <g transform=\"translate(24.325 151.420231)scale(0.1 -0.1)\">\n",
       "       <use xlink:href=\"#SimHei-48\"/>\n",
       "      </g>\n",
       "     </g>\n",
       "    </g>\n",
       "    <g id=\"ytick_4\">\n",
       "     <g id=\"line2d_13\">\n",
       "      <g>\n",
       "       <use style=\"stroke:#000000;stroke-width:0.8;\" x=\"36.325\" xlink:href=\"#mbad29b1f67\" y=\"90.741649\"/>\n",
       "      </g>\n",
       "     </g>\n",
       "     <g id=\"text_14\">\n",
       "      <!-- 2 -->\n",
       "      <g transform=\"translate(24.325 94.179149)scale(0.1 -0.1)\">\n",
       "       <use xlink:href=\"#SimHei-50\"/>\n",
       "      </g>\n",
       "     </g>\n",
       "    </g>\n",
       "    <g id=\"ytick_5\">\n",
       "     <g id=\"line2d_14\">\n",
       "      <g>\n",
       "       <use style=\"stroke:#000000;stroke-width:0.8;\" x=\"36.325\" xlink:href=\"#mbad29b1f67\" y=\"33.500568\"/>\n",
       "      </g>\n",
       "     </g>\n",
       "     <g id=\"text_15\">\n",
       "      <!-- 4 -->\n",
       "      <g transform=\"translate(24.325 36.938068)scale(0.1 -0.1)\">\n",
       "       <use xlink:href=\"#SimHei-52\"/>\n",
       "      </g>\n",
       "     </g>\n",
       "    </g>\n",
       "    <g id=\"text_16\">\n",
       "     <!-- $x_1$ -->\n",
       "     <g transform=\"translate(13.625 148.45)rotate(-90)scale(0.1 -0.1)\">\n",
       "      <defs>\n",
       "       <path d=\"M 12.40625 8.296875 \n",
       "L 28.515625 8.296875 \n",
       "L 28.515625 63.921875 \n",
       "L 10.984375 60.40625 \n",
       "L 10.984375 69.390625 \n",
       "L 28.421875 72.90625 \n",
       "L 38.28125 72.90625 \n",
       "L 38.28125 8.296875 \n",
       "L 54.390625 8.296875 \n",
       "L 54.390625 0 \n",
       "L 12.40625 0 \n",
       "z\n",
       "\" id=\"DejaVuSans-49\"/>\n",
       "      </defs>\n",
       "      <use transform=\"translate(0 0.3125)\" xlink:href=\"#DejaVuSans-Oblique-120\"/>\n",
       "      <use transform=\"translate(59.179688 -16.09375)scale(0.7)\" xlink:href=\"#DejaVuSans-49\"/>\n",
       "     </g>\n",
       "    </g>\n",
       "   </g>\n",
       "   <g id=\"patch_3\">\n",
       "    <path d=\"M 36.325 279 \n",
       "L 36.325 7.2 \n",
       "\" style=\"fill:none;stroke:#000000;stroke-linecap:square;stroke-linejoin:miter;stroke-width:0.8;\"/>\n",
       "   </g>\n",
       "   <g id=\"patch_4\">\n",
       "    <path d=\"M 340.688636 279 \n",
       "L 340.688636 7.2 \n",
       "\" style=\"fill:none;stroke:#000000;stroke-linecap:square;stroke-linejoin:miter;stroke-width:0.8;\"/>\n",
       "   </g>\n",
       "   <g id=\"patch_5\">\n",
       "    <path d=\"M 36.325 279 \n",
       "L 340.688636 279 \n",
       "\" style=\"fill:none;stroke:#000000;stroke-linecap:square;stroke-linejoin:miter;stroke-width:0.8;\"/>\n",
       "   </g>\n",
       "   <g id=\"patch_6\">\n",
       "    <path d=\"M 36.325 7.2 \n",
       "L 340.688636 7.2 \n",
       "\" style=\"fill:none;stroke:#000000;stroke-linecap:square;stroke-linejoin:miter;stroke-width:0.8;\"/>\n",
       "   </g>\n",
       "  </g>\n",
       "  <g id=\"axes_2\">\n",
       "   <g id=\"patch_7\">\n",
       "    <path d=\"M 401.561364 279 \n",
       "L 705.925 279 \n",
       "L 705.925 7.2 \n",
       "L 401.561364 7.2 \n",
       "z\n",
       "\" style=\"fill:#ffffff;\"/>\n",
       "   </g>\n",
       "   <g id=\"PathCollection_2\">\n",
       "    <defs>\n",
       "     <path d=\"M 0 3.872983 \n",
       "C 1.027127 3.872983 2.012324 3.464901 2.738613 2.738613 \n",
       "C 3.464901 2.012324 3.872983 1.027127 3.872983 -0 \n",
       "C 3.872983 -1.027127 3.464901 -2.012324 2.738613 -2.738613 \n",
       "C 2.012324 -3.464901 1.027127 -3.872983 0 -3.872983 \n",
       "C -1.027127 -3.872983 -2.012324 -3.464901 -2.738613 -2.738613 \n",
       "C -3.464901 -2.012324 -3.872983 -1.027127 -3.872983 0 \n",
       "C -3.872983 1.027127 -3.464901 2.012324 -2.738613 2.738613 \n",
       "C -2.012324 3.464901 -1.027127 3.872983 0 3.872983 \n",
       "z\n",
       "\" id=\"C1_0_215dcb72d8\"/>\n",
       "    </defs>\n",
       "    <g clip-path=\"url(#p8eabfa84ba)\">\n",
       "     <use style=\"fill:#006837;\" x=\"517.724914\" xlink:href=\"#C1_0_215dcb72d8\" y=\"181.662974\"/>\n",
       "    </g>\n",
       "    <g clip-path=\"url(#p8eabfa84ba)\">\n",
       "     <use style=\"fill:#a50026;\" x=\"612.92658\" xlink:href=\"#C1_0_215dcb72d8\" y=\"69.11531\"/>\n",
       "    </g>\n",
       "    <g clip-path=\"url(#p8eabfa84ba)\">\n",
       "     <use style=\"fill:#a50026;\" x=\"619.945003\" xlink:href=\"#C1_0_215dcb72d8\" y=\"93.191589\"/>\n",
       "    </g>\n",
       "    <g clip-path=\"url(#p8eabfa84ba)\">\n",
       "     <use style=\"fill:#006837;\" x=\"492.58151\" xlink:href=\"#C1_0_215dcb72d8\" y=\"228.85224\"/>\n",
       "    </g>\n",
       "    <g clip-path=\"url(#p8eabfa84ba)\">\n",
       "     <use style=\"fill:#006837;\" x=\"523.990992\" xlink:href=\"#C1_0_215dcb72d8\" y=\"236.908581\"/>\n",
       "    </g>\n",
       "    <g clip-path=\"url(#p8eabfa84ba)\">\n",
       "     <use style=\"fill:#a50026;\" x=\"611.036356\" xlink:href=\"#C1_0_215dcb72d8\" y=\"64.636134\"/>\n",
       "    </g>\n",
       "    <g clip-path=\"url(#p8eabfa84ba)\">\n",
       "     <use style=\"fill:#a50026;\" x=\"608.202017\" xlink:href=\"#C1_0_215dcb72d8\" y=\"119.078324\"/>\n",
       "    </g>\n",
       "    <g clip-path=\"url(#p8eabfa84ba)\">\n",
       "     <use style=\"fill:#006837;\" x=\"491.113801\" xlink:href=\"#C1_0_215dcb72d8\" y=\"210.140626\"/>\n",
       "    </g>\n",
       "    <g clip-path=\"url(#p8eabfa84ba)\">\n",
       "     <use style=\"fill:#a50026;\" x=\"615.042745\" xlink:href=\"#C1_0_215dcb72d8\" y=\"113.102606\"/>\n",
       "    </g>\n",
       "    <g clip-path=\"url(#p8eabfa84ba)\">\n",
       "     <use style=\"fill:#006837;\" x=\"527.844789\" xlink:href=\"#C1_0_215dcb72d8\" y=\"231.003932\"/>\n",
       "    </g>\n",
       "    <g clip-path=\"url(#p8eabfa84ba)\">\n",
       "     <use style=\"fill:#006837;\" x=\"485.184045\" xlink:href=\"#C1_0_215dcb72d8\" y=\"199.419055\"/>\n",
       "    </g>\n",
       "    <g clip-path=\"url(#p8eabfa84ba)\">\n",
       "     <use style=\"fill:#006837;\" x=\"511.638097\" xlink:href=\"#C1_0_215dcb72d8\" y=\"213.774424\"/>\n",
       "    </g>\n",
       "    <g clip-path=\"url(#p8eabfa84ba)\">\n",
       "     <use style=\"fill:#006837;\" x=\"497.8555\" xlink:href=\"#C1_0_215dcb72d8\" y=\"188.563312\"/>\n",
       "    </g>\n",
       "    <g clip-path=\"url(#p8eabfa84ba)\">\n",
       "     <use style=\"fill:#a50026;\" x=\"617.263655\" xlink:href=\"#C1_0_215dcb72d8\" y=\"105.110726\"/>\n",
       "    </g>\n",
       "    <g clip-path=\"url(#p8eabfa84ba)\">\n",
       "     <use style=\"fill:#a50026;\" x=\"666.701078\" xlink:href=\"#C1_0_215dcb72d8\" y=\"107.807383\"/>\n",
       "    </g>\n",
       "    <g clip-path=\"url(#p8eabfa84ba)\">\n",
       "     <use style=\"fill:#a50026;\" x=\"565.191378\" xlink:href=\"#C1_0_215dcb72d8\" y=\"100.510865\"/>\n",
       "    </g>\n",
       "    <g clip-path=\"url(#p8eabfa84ba)\">\n",
       "     <use style=\"fill:#a50026;\" x=\"582.794542\" xlink:href=\"#C1_0_215dcb72d8\" y=\"95.536334\"/>\n",
       "    </g>\n",
       "    <g clip-path=\"url(#p8eabfa84ba)\">\n",
       "     <use style=\"fill:#a50026;\" x=\"623.197235\" xlink:href=\"#C1_0_215dcb72d8\" y=\"94.475207\"/>\n",
       "    </g>\n",
       "    <g clip-path=\"url(#p8eabfa84ba)\">\n",
       "     <use style=\"fill:#a50026;\" x=\"569.92441\" xlink:href=\"#C1_0_215dcb72d8\" y=\"107.591238\"/>\n",
       "    </g>\n",
       "    <g clip-path=\"url(#p8eabfa84ba)\">\n",
       "     <use style=\"fill:#006837;\" x=\"440.804775\" xlink:href=\"#C1_0_215dcb72d8\" y=\"227.982046\"/>\n",
       "    </g>\n",
       "    <g clip-path=\"url(#p8eabfa84ba)\">\n",
       "     <use style=\"fill:#a50026;\" x=\"661.345195\" xlink:href=\"#C1_0_215dcb72d8\" y=\"101.35139\"/>\n",
       "    </g>\n",
       "    <g clip-path=\"url(#p8eabfa84ba)\">\n",
       "     <use style=\"fill:#a50026;\" x=\"637.281742\" xlink:href=\"#C1_0_215dcb72d8\" y=\"92.614747\"/>\n",
       "    </g>\n",
       "    <g clip-path=\"url(#p8eabfa84ba)\">\n",
       "     <use style=\"fill:#006837;\" x=\"481.100038\" xlink:href=\"#C1_0_215dcb72d8\" y=\"204.98711\"/>\n",
       "    </g>\n",
       "    <g clip-path=\"url(#p8eabfa84ba)\">\n",
       "     <use style=\"fill:#006837;\" x=\"521.881955\" xlink:href=\"#C1_0_215dcb72d8\" y=\"197.868437\"/>\n",
       "    </g>\n",
       "    <g clip-path=\"url(#p8eabfa84ba)\">\n",
       "     <use style=\"fill:#a50026;\" x=\"658.469438\" xlink:href=\"#C1_0_215dcb72d8\" y=\"110.97846\"/>\n",
       "    </g>\n",
       "    <g clip-path=\"url(#p8eabfa84ba)\">\n",
       "     <use style=\"fill:#a50026;\" x=\"583.132903\" xlink:href=\"#C1_0_215dcb72d8\" y=\"118.781321\"/>\n",
       "    </g>\n",
       "    <g clip-path=\"url(#p8eabfa84ba)\">\n",
       "     <use style=\"fill:#a50026;\" x=\"683.116796\" xlink:href=\"#C1_0_215dcb72d8\" y=\"79.51447\"/>\n",
       "    </g>\n",
       "    <g clip-path=\"url(#p8eabfa84ba)\">\n",
       "     <use style=\"fill:#a50026;\" x=\"623.938016\" xlink:href=\"#C1_0_215dcb72d8\" y=\"79.767316\"/>\n",
       "    </g>\n",
       "    <g clip-path=\"url(#p8eabfa84ba)\">\n",
       "     <use style=\"fill:#a50026;\" x=\"631.771239\" xlink:href=\"#C1_0_215dcb72d8\" y=\"50.722714\"/>\n",
       "    </g>\n",
       "    <g clip-path=\"url(#p8eabfa84ba)\">\n",
       "     <use style=\"fill:#006837;\" x=\"498.204114\" xlink:href=\"#C1_0_215dcb72d8\" y=\"243.291279\"/>\n",
       "    </g>\n",
       "    <g clip-path=\"url(#p8eabfa84ba)\">\n",
       "     <use style=\"fill:#006837;\" x=\"487.652155\" xlink:href=\"#C1_0_215dcb72d8\" y=\"214.516108\"/>\n",
       "    </g>\n",
       "    <g clip-path=\"url(#p8eabfa84ba)\">\n",
       "     <use style=\"fill:#a50026;\" x=\"649.127255\" xlink:href=\"#C1_0_215dcb72d8\" y=\"184.574822\"/>\n",
       "    </g>\n",
       "    <g clip-path=\"url(#p8eabfa84ba)\">\n",
       "     <use style=\"fill:#a50026;\" x=\"587.276033\" xlink:href=\"#C1_0_215dcb72d8\" y=\"112.954369\"/>\n",
       "    </g>\n",
       "    <g clip-path=\"url(#p8eabfa84ba)\">\n",
       "     <use style=\"fill:#006837;\" x=\"460.431421\" xlink:href=\"#C1_0_215dcb72d8\" y=\"168.084402\"/>\n",
       "    </g>\n",
       "    <g clip-path=\"url(#p8eabfa84ba)\">\n",
       "     <use style=\"fill:#a50026;\" x=\"612.743807\" xlink:href=\"#C1_0_215dcb72d8\" y=\"86.008578\"/>\n",
       "    </g>\n",
       "    <g clip-path=\"url(#p8eabfa84ba)\">\n",
       "     <use style=\"fill:#006837;\" x=\"470.721391\" xlink:href=\"#C1_0_215dcb72d8\" y=\"194.850318\"/>\n",
       "    </g>\n",
       "    <g clip-path=\"url(#p8eabfa84ba)\">\n",
       "     <use style=\"fill:#a50026;\" x=\"588.545403\" xlink:href=\"#C1_0_215dcb72d8\" y=\"166.716109\"/>\n",
       "    </g>\n",
       "    <g clip-path=\"url(#p8eabfa84ba)\">\n",
       "     <use style=\"fill:#006837;\" x=\"487.616267\" xlink:href=\"#C1_0_215dcb72d8\" y=\"182.988134\"/>\n",
       "    </g>\n",
       "    <g clip-path=\"url(#p8eabfa84ba)\">\n",
       "     <use style=\"fill:#a50026;\" x=\"578.042738\" xlink:href=\"#C1_0_215dcb72d8\" y=\"115.441151\"/>\n",
       "    </g>\n",
       "    <g clip-path=\"url(#p8eabfa84ba)\">\n",
       "     <use style=\"fill:#006837;\" x=\"474.361134\" xlink:href=\"#C1_0_215dcb72d8\" y=\"184.26732\"/>\n",
       "    </g>\n",
       "    <g clip-path=\"url(#p8eabfa84ba)\">\n",
       "     <use style=\"fill:#006837;\" x=\"513.5034\" xlink:href=\"#C1_0_215dcb72d8\" y=\"199.201915\"/>\n",
       "    </g>\n",
       "    <g clip-path=\"url(#p8eabfa84ba)\">\n",
       "     <use style=\"fill:#a50026;\" x=\"666.054373\" xlink:href=\"#C1_0_215dcb72d8\" y=\"81.198109\"/>\n",
       "    </g>\n",
       "    <g clip-path=\"url(#p8eabfa84ba)\">\n",
       "     <use style=\"fill:#a50026;\" x=\"572.516645\" xlink:href=\"#C1_0_215dcb72d8\" y=\"113.233026\"/>\n",
       "    </g>\n",
       "    <g clip-path=\"url(#p8eabfa84ba)\">\n",
       "     <use style=\"fill:#a50026;\" x=\"578.071479\" xlink:href=\"#C1_0_215dcb72d8\" y=\"137.094478\"/>\n",
       "    </g>\n",
       "    <g clip-path=\"url(#p8eabfa84ba)\">\n",
       "     <use style=\"fill:#006837;\" x=\"498.067799\" xlink:href=\"#C1_0_215dcb72d8\" y=\"237.081332\"/>\n",
       "    </g>\n",
       "    <g clip-path=\"url(#p8eabfa84ba)\">\n",
       "     <use style=\"fill:#a50026;\" x=\"615.318014\" xlink:href=\"#C1_0_215dcb72d8\" y=\"114.387081\"/>\n",
       "    </g>\n",
       "    <g clip-path=\"url(#p8eabfa84ba)\">\n",
       "     <use style=\"fill:#006837;\" x=\"452.831432\" xlink:href=\"#C1_0_215dcb72d8\" y=\"221.86427\"/>\n",
       "    </g>\n",
       "    <g clip-path=\"url(#p8eabfa84ba)\">\n",
       "     <use style=\"fill:#006837;\" x=\"480.275304\" xlink:href=\"#C1_0_215dcb72d8\" y=\"215.21272\"/>\n",
       "    </g>\n",
       "    <g clip-path=\"url(#p8eabfa84ba)\">\n",
       "     <use style=\"fill:#a50026;\" x=\"621.224805\" xlink:href=\"#C1_0_215dcb72d8\" y=\"32.828816\"/>\n",
       "    </g>\n",
       "    <g clip-path=\"url(#p8eabfa84ba)\">\n",
       "     <use style=\"fill:#006837;\" x=\"510.417838\" xlink:href=\"#C1_0_215dcb72d8\" y=\"235.452135\"/>\n",
       "    </g>\n",
       "    <g clip-path=\"url(#p8eabfa84ba)\">\n",
       "     <use style=\"fill:#a50026;\" x=\"605.302797\" xlink:href=\"#C1_0_215dcb72d8\" y=\"120.733786\"/>\n",
       "    </g>\n",
       "    <g clip-path=\"url(#p8eabfa84ba)\">\n",
       "     <use style=\"fill:#006837;\" x=\"542.107861\" xlink:href=\"#C1_0_215dcb72d8\" y=\"195.327399\"/>\n",
       "    </g>\n",
       "    <g clip-path=\"url(#p8eabfa84ba)\">\n",
       "     <use style=\"fill:#006837;\" x=\"515.947961\" xlink:href=\"#C1_0_215dcb72d8\" y=\"218.402778\"/>\n",
       "    </g>\n",
       "    <g clip-path=\"url(#p8eabfa84ba)\">\n",
       "     <use style=\"fill:#006837;\" x=\"512.787938\" xlink:href=\"#C1_0_215dcb72d8\" y=\"144.616479\"/>\n",
       "    </g>\n",
       "    <g clip-path=\"url(#p8eabfa84ba)\">\n",
       "     <use style=\"fill:#a50026;\" x=\"575.74606\" xlink:href=\"#C1_0_215dcb72d8\" y=\"119.524834\"/>\n",
       "    </g>\n",
       "    <g clip-path=\"url(#p8eabfa84ba)\">\n",
       "     <use style=\"fill:#006837;\" x=\"527.048158\" xlink:href=\"#C1_0_215dcb72d8\" y=\"240.652585\"/>\n",
       "    </g>\n",
       "    <g clip-path=\"url(#p8eabfa84ba)\">\n",
       "     <use style=\"fill:#006837;\" x=\"480.693212\" xlink:href=\"#C1_0_215dcb72d8\" y=\"204.145854\"/>\n",
       "    </g>\n",
       "    <g clip-path=\"url(#p8eabfa84ba)\">\n",
       "     <use style=\"fill:#006837;\" x=\"491.69062\" xlink:href=\"#C1_0_215dcb72d8\" y=\"200.831682\"/>\n",
       "    </g>\n",
       "    <g clip-path=\"url(#p8eabfa84ba)\">\n",
       "     <use style=\"fill:#006837;\" x=\"498.392777\" xlink:href=\"#C1_0_215dcb72d8\" y=\"197.348965\"/>\n",
       "    </g>\n",
       "    <g clip-path=\"url(#p8eabfa84ba)\">\n",
       "     <use style=\"fill:#a50026;\" x=\"652.846993\" xlink:href=\"#C1_0_215dcb72d8\" y=\"60.030438\"/>\n",
       "    </g>\n",
       "    <g clip-path=\"url(#p8eabfa84ba)\">\n",
       "     <use style=\"fill:#006837;\" x=\"452.29723\" xlink:href=\"#C1_0_215dcb72d8\" y=\"215.742965\"/>\n",
       "    </g>\n",
       "    <g clip-path=\"url(#p8eabfa84ba)\">\n",
       "     <use style=\"fill:#a50026;\" x=\"654.694702\" xlink:href=\"#C1_0_215dcb72d8\" y=\"99.873536\"/>\n",
       "    </g>\n",
       "    <g clip-path=\"url(#p8eabfa84ba)\">\n",
       "     <use style=\"fill:#006837;\" x=\"478.784459\" xlink:href=\"#C1_0_215dcb72d8\" y=\"227.13393\"/>\n",
       "    </g>\n",
       "    <g clip-path=\"url(#p8eabfa84ba)\">\n",
       "     <use style=\"fill:#a50026;\" x=\"601.634249\" xlink:href=\"#C1_0_215dcb72d8\" y=\"99.959566\"/>\n",
       "    </g>\n",
       "    <g clip-path=\"url(#p8eabfa84ba)\">\n",
       "     <use style=\"fill:#006837;\" x=\"496.004889\" xlink:href=\"#C1_0_215dcb72d8\" y=\"223.943106\"/>\n",
       "    </g>\n",
       "    <g clip-path=\"url(#p8eabfa84ba)\">\n",
       "     <use style=\"fill:#006837;\" x=\"496.193472\" xlink:href=\"#C1_0_215dcb72d8\" y=\"213.465648\"/>\n",
       "    </g>\n",
       "    <g clip-path=\"url(#p8eabfa84ba)\">\n",
       "     <use style=\"fill:#006837;\" x=\"462.749363\" xlink:href=\"#C1_0_215dcb72d8\" y=\"201.537253\"/>\n",
       "    </g>\n",
       "    <g clip-path=\"url(#p8eabfa84ba)\">\n",
       "     <use style=\"fill:#a50026;\" x=\"666.009667\" xlink:href=\"#C1_0_215dcb72d8\" y=\"88.640761\"/>\n",
       "    </g>\n",
       "    <g clip-path=\"url(#p8eabfa84ba)\">\n",
       "     <use style=\"fill:#006837;\" x=\"503.041542\" xlink:href=\"#C1_0_215dcb72d8\" y=\"249.706438\"/>\n",
       "    </g>\n",
       "    <g clip-path=\"url(#p8eabfa84ba)\">\n",
       "     <use style=\"fill:#a50026;\" x=\"656.525563\" xlink:href=\"#C1_0_215dcb72d8\" y=\"100.106068\"/>\n",
       "    </g>\n",
       "    <g clip-path=\"url(#p8eabfa84ba)\">\n",
       "     <use style=\"fill:#006837;\" x=\"533.59435\" xlink:href=\"#C1_0_215dcb72d8\" y=\"201.437929\"/>\n",
       "    </g>\n",
       "    <g clip-path=\"url(#p8eabfa84ba)\">\n",
       "     <use style=\"fill:#a50026;\" x=\"643.902059\" xlink:href=\"#C1_0_215dcb72d8\" y=\"74.546701\"/>\n",
       "    </g>\n",
       "    <g clip-path=\"url(#p8eabfa84ba)\">\n",
       "     <use style=\"fill:#006837;\" x=\"486.236991\" xlink:href=\"#C1_0_215dcb72d8\" y=\"181.485212\"/>\n",
       "    </g>\n",
       "    <g clip-path=\"url(#p8eabfa84ba)\">\n",
       "     <use style=\"fill:#006837;\" x=\"534.540763\" xlink:href=\"#C1_0_215dcb72d8\" y=\"216.809636\"/>\n",
       "    </g>\n",
       "    <g clip-path=\"url(#p8eabfa84ba)\">\n",
       "     <use style=\"fill:#a50026;\" x=\"622.851354\" xlink:href=\"#C1_0_215dcb72d8\" y=\"73.70075\"/>\n",
       "    </g>\n",
       "    <g clip-path=\"url(#p8eabfa84ba)\">\n",
       "     <use style=\"fill:#006837;\" x=\"415.396074\" xlink:href=\"#C1_0_215dcb72d8\" y=\"172.987269\"/>\n",
       "    </g>\n",
       "    <g clip-path=\"url(#p8eabfa84ba)\">\n",
       "     <use style=\"fill:#a50026;\" x=\"563.476502\" xlink:href=\"#C1_0_215dcb72d8\" y=\"102.415682\"/>\n",
       "    </g>\n",
       "    <g clip-path=\"url(#p8eabfa84ba)\">\n",
       "     <use style=\"fill:#006837;\" x=\"529.530365\" xlink:href=\"#C1_0_215dcb72d8\" y=\"196.159538\"/>\n",
       "    </g>\n",
       "    <g clip-path=\"url(#p8eabfa84ba)\">\n",
       "     <use style=\"fill:#a50026;\" x=\"632.160664\" xlink:href=\"#C1_0_215dcb72d8\" y=\"161.379022\"/>\n",
       "    </g>\n",
       "    <g clip-path=\"url(#p8eabfa84ba)\">\n",
       "     <use style=\"fill:#006837;\" x=\"459.905142\" xlink:href=\"#C1_0_215dcb72d8\" y=\"166.82541\"/>\n",
       "    </g>\n",
       "    <g clip-path=\"url(#p8eabfa84ba)\">\n",
       "     <use style=\"fill:#006837;\" x=\"529.11041\" xlink:href=\"#C1_0_215dcb72d8\" y=\"201.19037\"/>\n",
       "    </g>\n",
       "    <g clip-path=\"url(#p8eabfa84ba)\">\n",
       "     <use style=\"fill:#a50026;\" x=\"618.980992\" xlink:href=\"#C1_0_215dcb72d8\" y=\"106.330205\"/>\n",
       "    </g>\n",
       "    <g clip-path=\"url(#p8eabfa84ba)\">\n",
       "     <use style=\"fill:#006837;\" x=\"506.583941\" xlink:href=\"#C1_0_215dcb72d8\" y=\"203.014505\"/>\n",
       "    </g>\n",
       "    <g clip-path=\"url(#p8eabfa84ba)\">\n",
       "     <use style=\"fill:#006837;\" x=\"499.211989\" xlink:href=\"#C1_0_215dcb72d8\" y=\"235.331934\"/>\n",
       "    </g>\n",
       "    <g clip-path=\"url(#p8eabfa84ba)\">\n",
       "     <use style=\"fill:#a50026;\" x=\"657.258643\" xlink:href=\"#C1_0_215dcb72d8\" y=\"113.039968\"/>\n",
       "    </g>\n",
       "    <g clip-path=\"url(#p8eabfa84ba)\">\n",
       "     <use style=\"fill:#006837;\" x=\"481.733967\" xlink:href=\"#C1_0_215dcb72d8\" y=\"189.783122\"/>\n",
       "    </g>\n",
       "    <g clip-path=\"url(#p8eabfa84ba)\">\n",
       "     <use style=\"fill:#a50026;\" x=\"582.32925\" xlink:href=\"#C1_0_215dcb72d8\" y=\"113.504737\"/>\n",
       "    </g>\n",
       "    <g clip-path=\"url(#p8eabfa84ba)\">\n",
       "     <use style=\"fill:#006837;\" x=\"458.867865\" xlink:href=\"#C1_0_215dcb72d8\" y=\"227.934069\"/>\n",
       "    </g>\n",
       "    <g clip-path=\"url(#p8eabfa84ba)\">\n",
       "     <use style=\"fill:#006837;\" x=\"461.456037\" xlink:href=\"#C1_0_215dcb72d8\" y=\"153.43088\"/>\n",
       "    </g>\n",
       "    <g clip-path=\"url(#p8eabfa84ba)\">\n",
       "     <use style=\"fill:#a50026;\" x=\"658.912198\" xlink:href=\"#C1_0_215dcb72d8\" y=\"89.654684\"/>\n",
       "    </g>\n",
       "    <g clip-path=\"url(#p8eabfa84ba)\">\n",
       "     <use style=\"fill:#a50026;\" x=\"603.373237\" xlink:href=\"#C1_0_215dcb72d8\" y=\"127.844491\"/>\n",
       "    </g>\n",
       "    <g clip-path=\"url(#p8eabfa84ba)\">\n",
       "     <use style=\"fill:#006837;\" x=\"454.103984\" xlink:href=\"#C1_0_215dcb72d8\" y=\"189.376796\"/>\n",
       "    </g>\n",
       "    <g clip-path=\"url(#p8eabfa84ba)\">\n",
       "     <use style=\"fill:#006837;\" x=\"527.906877\" xlink:href=\"#C1_0_215dcb72d8\" y=\"241.849029\"/>\n",
       "    </g>\n",
       "    <g clip-path=\"url(#p8eabfa84ba)\">\n",
       "     <use style=\"fill:#006837;\" x=\"479.140418\" xlink:href=\"#C1_0_215dcb72d8\" y=\"228.985818\"/>\n",
       "    </g>\n",
       "    <g clip-path=\"url(#p8eabfa84ba)\">\n",
       "     <use style=\"fill:#006837;\" x=\"467.874474\" xlink:href=\"#C1_0_215dcb72d8\" y=\"139.870828\"/>\n",
       "    </g>\n",
       "    <g clip-path=\"url(#p8eabfa84ba)\">\n",
       "     <use style=\"fill:#006837;\" x=\"486.463373\" xlink:href=\"#C1_0_215dcb72d8\" y=\"252.552934\"/>\n",
       "    </g>\n",
       "    <g clip-path=\"url(#p8eabfa84ba)\">\n",
       "     <use style=\"fill:#006837;\" x=\"487.795921\" xlink:href=\"#C1_0_215dcb72d8\" y=\"140.296618\"/>\n",
       "    </g>\n",
       "    <g clip-path=\"url(#p8eabfa84ba)\">\n",
       "     <use style=\"fill:#a50026;\" x=\"645.889136\" xlink:href=\"#C1_0_215dcb72d8\" y=\"112.053218\"/>\n",
       "    </g>\n",
       "    <g clip-path=\"url(#p8eabfa84ba)\">\n",
       "     <use style=\"fill:#a50026;\" x=\"670.844397\" xlink:href=\"#C1_0_215dcb72d8\" y=\"131.804958\"/>\n",
       "    </g>\n",
       "    <g clip-path=\"url(#p8eabfa84ba)\">\n",
       "     <use style=\"fill:#a50026;\" x=\"692.090289\" xlink:href=\"#C1_0_215dcb72d8\" y=\"116.2131\"/>\n",
       "    </g>\n",
       "    <g clip-path=\"url(#p8eabfa84ba)\">\n",
       "     <use style=\"fill:#a50026;\" x=\"604.785355\" xlink:href=\"#C1_0_215dcb72d8\" y=\"114.926162\"/>\n",
       "    </g>\n",
       "    <g clip-path=\"url(#p8eabfa84ba)\">\n",
       "     <use style=\"fill:#a50026;\" x=\"657.790217\" xlink:href=\"#C1_0_215dcb72d8\" y=\"102.859728\"/>\n",
       "    </g>\n",
       "    <g clip-path=\"url(#p8eabfa84ba)\">\n",
       "     <use style=\"fill:#a50026;\" x=\"592.029022\" xlink:href=\"#C1_0_215dcb72d8\" y=\"76.921916\"/>\n",
       "    </g>\n",
       "    <g clip-path=\"url(#p8eabfa84ba)\">\n",
       "     <use style=\"fill:#a50026;\" x=\"643.840315\" xlink:href=\"#C1_0_215dcb72d8\" y=\"94.177206\"/>\n",
       "    </g>\n",
       "    <g clip-path=\"url(#p8eabfa84ba)\">\n",
       "     <use style=\"fill:#a50026;\" x=\"605.886297\" xlink:href=\"#C1_0_215dcb72d8\" y=\"36.143642\"/>\n",
       "    </g>\n",
       "    <g clip-path=\"url(#p8eabfa84ba)\">\n",
       "     <use style=\"fill:#a50026;\" x=\"603.751531\" xlink:href=\"#C1_0_215dcb72d8\" y=\"92.37806\"/>\n",
       "    </g>\n",
       "    <g clip-path=\"url(#p8eabfa84ba)\">\n",
       "     <use style=\"fill:#006837;\" x=\"508.6982\" xlink:href=\"#C1_0_215dcb72d8\" y=\"192.337738\"/>\n",
       "    </g>\n",
       "    <g clip-path=\"url(#p8eabfa84ba)\">\n",
       "     <use style=\"fill:#a50026;\" x=\"618.33295\" xlink:href=\"#C1_0_215dcb72d8\" y=\"146.024343\"/>\n",
       "    </g>\n",
       "    <g clip-path=\"url(#p8eabfa84ba)\">\n",
       "     <use style=\"fill:#006837;\" x=\"516.939016\" xlink:href=\"#C1_0_215dcb72d8\" y=\"159.470746\"/>\n",
       "    </g>\n",
       "    <g clip-path=\"url(#p8eabfa84ba)\">\n",
       "     <use style=\"fill:#006837;\" x=\"510.736926\" xlink:href=\"#C1_0_215dcb72d8\" y=\"213.341987\"/>\n",
       "    </g>\n",
       "    <g clip-path=\"url(#p8eabfa84ba)\">\n",
       "     <use style=\"fill:#006837;\" x=\"522.413756\" xlink:href=\"#C1_0_215dcb72d8\" y=\"200.397999\"/>\n",
       "    </g>\n",
       "    <g clip-path=\"url(#p8eabfa84ba)\">\n",
       "     <use style=\"fill:#006837;\" x=\"520.445888\" xlink:href=\"#C1_0_215dcb72d8\" y=\"224.41742\"/>\n",
       "    </g>\n",
       "    <g clip-path=\"url(#p8eabfa84ba)\">\n",
       "     <use style=\"fill:#006837;\" x=\"449.590122\" xlink:href=\"#C1_0_215dcb72d8\" y=\"174.245813\"/>\n",
       "    </g>\n",
       "    <g clip-path=\"url(#p8eabfa84ba)\">\n",
       "     <use style=\"fill:#006837;\" x=\"472.884819\" xlink:href=\"#C1_0_215dcb72d8\" y=\"264.804516\"/>\n",
       "    </g>\n",
       "    <g clip-path=\"url(#p8eabfa84ba)\">\n",
       "     <use style=\"fill:#a50026;\" x=\"596.845394\" xlink:href=\"#C1_0_215dcb72d8\" y=\"77.447768\"/>\n",
       "    </g>\n",
       "    <g clip-path=\"url(#p8eabfa84ba)\">\n",
       "     <use style=\"fill:#a50026;\" x=\"621.26955\" xlink:href=\"#C1_0_215dcb72d8\" y=\"122.529228\"/>\n",
       "    </g>\n",
       "    <g clip-path=\"url(#p8eabfa84ba)\">\n",
       "     <use style=\"fill:#a50026;\" x=\"619.895986\" xlink:href=\"#C1_0_215dcb72d8\" y=\"88.117138\"/>\n",
       "    </g>\n",
       "    <g clip-path=\"url(#p8eabfa84ba)\">\n",
       "     <use style=\"fill:#a50026;\" x=\"651.059121\" xlink:href=\"#C1_0_215dcb72d8\" y=\"19.554545\"/>\n",
       "    </g>\n",
       "    <g clip-path=\"url(#p8eabfa84ba)\">\n",
       "     <use style=\"fill:#006837;\" x=\"443.253951\" xlink:href=\"#C1_0_215dcb72d8\" y=\"198.92234\"/>\n",
       "    </g>\n",
       "    <g clip-path=\"url(#p8eabfa84ba)\">\n",
       "     <use style=\"fill:#a50026;\" x=\"605.264478\" xlink:href=\"#C1_0_215dcb72d8\" y=\"124.341815\"/>\n",
       "    </g>\n",
       "    <g clip-path=\"url(#p8eabfa84ba)\">\n",
       "     <use style=\"fill:#a50026;\" x=\"652.455525\" xlink:href=\"#C1_0_215dcb72d8\" y=\"44.717759\"/>\n",
       "    </g>\n",
       "    <g clip-path=\"url(#p8eabfa84ba)\">\n",
       "     <use style=\"fill:#a50026;\" x=\"608.906625\" xlink:href=\"#C1_0_215dcb72d8\" y=\"117.835872\"/>\n",
       "    </g>\n",
       "    <g clip-path=\"url(#p8eabfa84ba)\">\n",
       "     <use style=\"fill:#006837;\" x=\"472.771336\" xlink:href=\"#C1_0_215dcb72d8\" y=\"220.154527\"/>\n",
       "    </g>\n",
       "    <g clip-path=\"url(#p8eabfa84ba)\">\n",
       "     <use style=\"fill:#006837;\" x=\"463.487858\" xlink:href=\"#C1_0_215dcb72d8\" y=\"185.225683\"/>\n",
       "    </g>\n",
       "    <g clip-path=\"url(#p8eabfa84ba)\">\n",
       "     <use style=\"fill:#a50026;\" x=\"642.227731\" xlink:href=\"#C1_0_215dcb72d8\" y=\"90.654225\"/>\n",
       "    </g>\n",
       "    <g clip-path=\"url(#p8eabfa84ba)\">\n",
       "     <use style=\"fill:#006837;\" x=\"495.649705\" xlink:href=\"#C1_0_215dcb72d8\" y=\"193.207233\"/>\n",
       "    </g>\n",
       "    <g clip-path=\"url(#p8eabfa84ba)\">\n",
       "     <use style=\"fill:#006837;\" x=\"490.488264\" xlink:href=\"#C1_0_215dcb72d8\" y=\"266.645455\"/>\n",
       "    </g>\n",
       "    <g clip-path=\"url(#p8eabfa84ba)\">\n",
       "     <use style=\"fill:#a50026;\" x=\"602.848974\" xlink:href=\"#C1_0_215dcb72d8\" y=\"127.843177\"/>\n",
       "    </g>\n",
       "    <g clip-path=\"url(#p8eabfa84ba)\">\n",
       "     <use style=\"fill:#a50026;\" x=\"634.763745\" xlink:href=\"#C1_0_215dcb72d8\" y=\"101.630308\"/>\n",
       "    </g>\n",
       "    <g clip-path=\"url(#p8eabfa84ba)\">\n",
       "     <use style=\"fill:#a50026;\" x=\"616.766485\" xlink:href=\"#C1_0_215dcb72d8\" y=\"87.301439\"/>\n",
       "    </g>\n",
       "    <g clip-path=\"url(#p8eabfa84ba)\">\n",
       "     <use style=\"fill:#a50026;\" x=\"591.196233\" xlink:href=\"#C1_0_215dcb72d8\" y=\"91.833969\"/>\n",
       "    </g>\n",
       "    <g clip-path=\"url(#p8eabfa84ba)\">\n",
       "     <use style=\"fill:#a50026;\" x=\"636.893077\" xlink:href=\"#C1_0_215dcb72d8\" y=\"44.831603\"/>\n",
       "    </g>\n",
       "    <g clip-path=\"url(#p8eabfa84ba)\">\n",
       "     <use style=\"fill:#006837;\" x=\"531.071545\" xlink:href=\"#C1_0_215dcb72d8\" y=\"202.409517\"/>\n",
       "    </g>\n",
       "    <g clip-path=\"url(#p8eabfa84ba)\">\n",
       "     <use style=\"fill:#006837;\" x=\"501.115012\" xlink:href=\"#C1_0_215dcb72d8\" y=\"165.889364\"/>\n",
       "    </g>\n",
       "    <g clip-path=\"url(#p8eabfa84ba)\">\n",
       "     <use style=\"fill:#006837;\" x=\"465.158593\" xlink:href=\"#C1_0_215dcb72d8\" y=\"217.689266\"/>\n",
       "    </g>\n",
       "    <g clip-path=\"url(#p8eabfa84ba)\">\n",
       "     <use style=\"fill:#006837;\" x=\"485.265817\" xlink:href=\"#C1_0_215dcb72d8\" y=\"156.803867\"/>\n",
       "    </g>\n",
       "    <g clip-path=\"url(#p8eabfa84ba)\">\n",
       "     <use style=\"fill:#006837;\" x=\"480.733574\" xlink:href=\"#C1_0_215dcb72d8\" y=\"201.434399\"/>\n",
       "    </g>\n",
       "    <g clip-path=\"url(#p8eabfa84ba)\">\n",
       "     <use style=\"fill:#006837;\" x=\"468.715402\" xlink:href=\"#C1_0_215dcb72d8\" y=\"186.719977\"/>\n",
       "    </g>\n",
       "    <g clip-path=\"url(#p8eabfa84ba)\">\n",
       "     <use style=\"fill:#006837;\" x=\"558.900893\" xlink:href=\"#C1_0_215dcb72d8\" y=\"241.576493\"/>\n",
       "    </g>\n",
       "    <g clip-path=\"url(#p8eabfa84ba)\">\n",
       "     <use style=\"fill:#a50026;\" x=\"651.118115\" xlink:href=\"#C1_0_215dcb72d8\" y=\"138.530626\"/>\n",
       "    </g>\n",
       "    <g clip-path=\"url(#p8eabfa84ba)\">\n",
       "     <use style=\"fill:#a50026;\" x=\"571.52799\" xlink:href=\"#C1_0_215dcb72d8\" y=\"90.43572\"/>\n",
       "    </g>\n",
       "    <g clip-path=\"url(#p8eabfa84ba)\">\n",
       "     <use style=\"fill:#a50026;\" x=\"570.659871\" xlink:href=\"#C1_0_215dcb72d8\" y=\"86.240125\"/>\n",
       "    </g>\n",
       "    <g clip-path=\"url(#p8eabfa84ba)\">\n",
       "     <use style=\"fill:#006837;\" x=\"517.848473\" xlink:href=\"#C1_0_215dcb72d8\" y=\"208.008474\"/>\n",
       "    </g>\n",
       "    <g clip-path=\"url(#p8eabfa84ba)\">\n",
       "     <use style=\"fill:#006837;\" x=\"525.559956\" xlink:href=\"#C1_0_215dcb72d8\" y=\"221.907396\"/>\n",
       "    </g>\n",
       "    <g clip-path=\"url(#p8eabfa84ba)\">\n",
       "     <use style=\"fill:#006837;\" x=\"486.809185\" xlink:href=\"#C1_0_215dcb72d8\" y=\"198.149113\"/>\n",
       "    </g>\n",
       "    <g clip-path=\"url(#p8eabfa84ba)\">\n",
       "     <use style=\"fill:#a50026;\" x=\"609.161288\" xlink:href=\"#C1_0_215dcb72d8\" y=\"125.412093\"/>\n",
       "    </g>\n",
       "    <g clip-path=\"url(#p8eabfa84ba)\">\n",
       "     <use style=\"fill:#006837;\" x=\"478.227388\" xlink:href=\"#C1_0_215dcb72d8\" y=\"201.981834\"/>\n",
       "    </g>\n",
       "    <g clip-path=\"url(#p8eabfa84ba)\">\n",
       "     <use style=\"fill:#006837;\" x=\"479.901229\" xlink:href=\"#C1_0_215dcb72d8\" y=\"144.831828\"/>\n",
       "    </g>\n",
       "    <g clip-path=\"url(#p8eabfa84ba)\">\n",
       "     <use style=\"fill:#a50026;\" x=\"609.65847\" xlink:href=\"#C1_0_215dcb72d8\" y=\"117.379723\"/>\n",
       "    </g>\n",
       "    <g clip-path=\"url(#p8eabfa84ba)\">\n",
       "     <use style=\"fill:#a50026;\" x=\"627.521644\" xlink:href=\"#C1_0_215dcb72d8\" y=\"109.409094\"/>\n",
       "    </g>\n",
       "   </g>\n",
       "   <g id=\"matplotlib.axis_3\">\n",
       "    <g id=\"xtick_10\">\n",
       "     <g id=\"line2d_15\">\n",
       "      <g>\n",
       "       <use style=\"stroke:#000000;stroke-width:0.8;\" x=\"432.0512\" xlink:href=\"#m87f5ca38f0\" y=\"279\"/>\n",
       "      </g>\n",
       "     </g>\n",
       "     <g id=\"text_17\">\n",
       "      <!-- -4 -->\n",
       "      <g transform=\"translate(427.0512 292.875)scale(0.1 -0.1)\">\n",
       "       <use xlink:href=\"#SimHei-45\"/>\n",
       "       <use x=\"50\" xlink:href=\"#SimHei-52\"/>\n",
       "      </g>\n",
       "     </g>\n",
       "    </g>\n",
       "    <g id=\"xtick_11\">\n",
       "     <g id=\"line2d_16\">\n",
       "      <g>\n",
       "       <use style=\"stroke:#000000;stroke-width:0.8;\" x=\"495.766241\" xlink:href=\"#m87f5ca38f0\" y=\"279\"/>\n",
       "      </g>\n",
       "     </g>\n",
       "     <g id=\"text_18\">\n",
       "      <!-- -2 -->\n",
       "      <g transform=\"translate(490.766241 292.875)scale(0.1 -0.1)\">\n",
       "       <use xlink:href=\"#SimHei-45\"/>\n",
       "       <use x=\"50\" xlink:href=\"#SimHei-50\"/>\n",
       "      </g>\n",
       "     </g>\n",
       "    </g>\n",
       "    <g id=\"xtick_12\">\n",
       "     <g id=\"line2d_17\">\n",
       "      <g>\n",
       "       <use style=\"stroke:#000000;stroke-width:0.8;\" x=\"559.481282\" xlink:href=\"#m87f5ca38f0\" y=\"279\"/>\n",
       "      </g>\n",
       "     </g>\n",
       "     <g id=\"text_19\">\n",
       "      <!-- 0 -->\n",
       "      <g transform=\"translate(556.981282 292.875)scale(0.1 -0.1)\">\n",
       "       <use xlink:href=\"#SimHei-48\"/>\n",
       "      </g>\n",
       "     </g>\n",
       "    </g>\n",
       "    <g id=\"xtick_13\">\n",
       "     <g id=\"line2d_18\">\n",
       "      <g>\n",
       "       <use style=\"stroke:#000000;stroke-width:0.8;\" x=\"623.196323\" xlink:href=\"#m87f5ca38f0\" y=\"279\"/>\n",
       "      </g>\n",
       "     </g>\n",
       "     <g id=\"text_20\">\n",
       "      <!-- 2 -->\n",
       "      <g transform=\"translate(620.696323 292.875)scale(0.1 -0.1)\">\n",
       "       <use xlink:href=\"#SimHei-50\"/>\n",
       "      </g>\n",
       "     </g>\n",
       "    </g>\n",
       "    <g id=\"xtick_14\">\n",
       "     <g id=\"line2d_19\">\n",
       "      <g>\n",
       "       <use style=\"stroke:#000000;stroke-width:0.8;\" x=\"686.911364\" xlink:href=\"#m87f5ca38f0\" y=\"279\"/>\n",
       "      </g>\n",
       "     </g>\n",
       "     <g id=\"text_21\">\n",
       "      <!-- 4 -->\n",
       "      <g transform=\"translate(684.411364 292.875)scale(0.1 -0.1)\">\n",
       "       <use xlink:href=\"#SimHei-52\"/>\n",
       "      </g>\n",
       "     </g>\n",
       "    </g>\n",
       "    <g id=\"text_22\">\n",
       "     <!-- $x_0$ -->\n",
       "     <g transform=\"translate(548.393182 304.45)scale(0.1 -0.1)\">\n",
       "      <use transform=\"translate(0 0.3125)\" xlink:href=\"#DejaVuSans-Oblique-120\"/>\n",
       "      <use transform=\"translate(59.179688 -16.09375)scale(0.7)\" xlink:href=\"#DejaVuSans-48\"/>\n",
       "     </g>\n",
       "    </g>\n",
       "   </g>\n",
       "   <g id=\"matplotlib.axis_4\">\n",
       "    <g id=\"ytick_6\">\n",
       "     <g id=\"line2d_20\">\n",
       "      <g>\n",
       "       <use style=\"stroke:#000000;stroke-width:0.8;\" x=\"401.561364\" xlink:href=\"#mbad29b1f67\" y=\"260.433517\"/>\n",
       "      </g>\n",
       "     </g>\n",
       "     <g id=\"text_23\">\n",
       "      <!-- -4 -->\n",
       "      <g transform=\"translate(384.561364 263.871017)scale(0.1 -0.1)\">\n",
       "       <use xlink:href=\"#SimHei-45\"/>\n",
       "       <use x=\"50\" xlink:href=\"#SimHei-52\"/>\n",
       "      </g>\n",
       "     </g>\n",
       "    </g>\n",
       "    <g id=\"ytick_7\">\n",
       "     <g id=\"line2d_21\">\n",
       "      <g>\n",
       "       <use style=\"stroke:#000000;stroke-width:0.8;\" x=\"401.561364\" xlink:href=\"#mbad29b1f67\" y=\"206.405582\"/>\n",
       "      </g>\n",
       "     </g>\n",
       "     <g id=\"text_24\">\n",
       "      <!-- -2 -->\n",
       "      <g transform=\"translate(384.561364 209.843082)scale(0.1 -0.1)\">\n",
       "       <use xlink:href=\"#SimHei-45\"/>\n",
       "       <use x=\"50\" xlink:href=\"#SimHei-50\"/>\n",
       "      </g>\n",
       "     </g>\n",
       "    </g>\n",
       "    <g id=\"ytick_8\">\n",
       "     <g id=\"line2d_22\">\n",
       "      <g>\n",
       "       <use style=\"stroke:#000000;stroke-width:0.8;\" x=\"401.561364\" xlink:href=\"#mbad29b1f67\" y=\"152.377646\"/>\n",
       "      </g>\n",
       "     </g>\n",
       "     <g id=\"text_25\">\n",
       "      <!-- 0 -->\n",
       "      <g transform=\"translate(389.561364 155.815146)scale(0.1 -0.1)\">\n",
       "       <use xlink:href=\"#SimHei-48\"/>\n",
       "      </g>\n",
       "     </g>\n",
       "    </g>\n",
       "    <g id=\"ytick_9\">\n",
       "     <g id=\"line2d_23\">\n",
       "      <g>\n",
       "       <use style=\"stroke:#000000;stroke-width:0.8;\" x=\"401.561364\" xlink:href=\"#mbad29b1f67\" y=\"98.349711\"/>\n",
       "      </g>\n",
       "     </g>\n",
       "     <g id=\"text_26\">\n",
       "      <!-- 2 -->\n",
       "      <g transform=\"translate(389.561364 101.787211)scale(0.1 -0.1)\">\n",
       "       <use xlink:href=\"#SimHei-50\"/>\n",
       "      </g>\n",
       "     </g>\n",
       "    </g>\n",
       "    <g id=\"ytick_10\">\n",
       "     <g id=\"line2d_24\">\n",
       "      <g>\n",
       "       <use style=\"stroke:#000000;stroke-width:0.8;\" x=\"401.561364\" xlink:href=\"#mbad29b1f67\" y=\"44.321776\"/>\n",
       "      </g>\n",
       "     </g>\n",
       "     <g id=\"text_27\">\n",
       "      <!-- 4 -->\n",
       "      <g transform=\"translate(389.561364 47.759276)scale(0.1 -0.1)\">\n",
       "       <use xlink:href=\"#SimHei-52\"/>\n",
       "      </g>\n",
       "     </g>\n",
       "    </g>\n",
       "    <g id=\"text_28\">\n",
       "     <!-- $x_1$ -->\n",
       "     <g transform=\"translate(378.861364 148.45)rotate(-90)scale(0.1 -0.1)\">\n",
       "      <use transform=\"translate(0 0.3125)\" xlink:href=\"#DejaVuSans-Oblique-120\"/>\n",
       "      <use transform=\"translate(59.179688 -16.09375)scale(0.7)\" xlink:href=\"#DejaVuSans-49\"/>\n",
       "     </g>\n",
       "    </g>\n",
       "   </g>\n",
       "   <g id=\"patch_8\">\n",
       "    <path d=\"M 401.561364 279 \n",
       "L 401.561364 7.2 \n",
       "\" style=\"fill:none;stroke:#000000;stroke-linecap:square;stroke-linejoin:miter;stroke-width:0.8;\"/>\n",
       "   </g>\n",
       "   <g id=\"patch_9\">\n",
       "    <path d=\"M 705.925 279 \n",
       "L 705.925 7.2 \n",
       "\" style=\"fill:none;stroke:#000000;stroke-linecap:square;stroke-linejoin:miter;stroke-width:0.8;\"/>\n",
       "   </g>\n",
       "   <g id=\"patch_10\">\n",
       "    <path d=\"M 401.561364 279 \n",
       "L 705.925 279 \n",
       "\" style=\"fill:none;stroke:#000000;stroke-linecap:square;stroke-linejoin:miter;stroke-width:0.8;\"/>\n",
       "   </g>\n",
       "   <g id=\"patch_11\">\n",
       "    <path d=\"M 401.561364 7.2 \n",
       "L 705.925 7.2 \n",
       "\" style=\"fill:none;stroke:#000000;stroke-linecap:square;stroke-linejoin:miter;stroke-width:0.8;\"/>\n",
       "   </g>\n",
       "  </g>\n",
       " </g>\n",
       " <defs>\n",
       "  <clipPath id=\"p79a2d8bd80\">\n",
       "   <rect height=\"271.8\" width=\"304.363636\" x=\"36.325\" y=\"7.2\"/>\n",
       "  </clipPath>\n",
       "  <clipPath id=\"p8eabfa84ba\">\n",
       "   <rect height=\"271.8\" width=\"304.363636\" x=\"401.561364\" y=\"7.2\"/>\n",
       "  </clipPath>\n",
       " </defs>\n",
       "</svg>\n"
      ],
      "text/plain": [
       "<Figure size 864x360 with 2 Axes>"
      ]
     },
     "metadata": {
      "needs_background": "light"
     },
     "output_type": "display_data"
    }
   ],
   "source": [
    "fig = plt.figure(figsize=(12, 5))\n",
    "for i in range(2):\n",
    "    px = x_list[i]\n",
    "    py = y_list[i]\n",
    "    ax = fig.add_subplot(1, 2, i+1)\n",
    "    ax.set_xlabel('$x_0$')\n",
    "    ax.set_ylabel('$x_1$')\n",
    "    ax.scatter(px.data.numpy()[:,0], px.data.numpy()[:,1], c=py.data.numpy(), s=60, lw=0, cmap='RdYlGn')"
   ]
  },
  {
   "cell_type": "markdown",
   "metadata": {},
   "source": [
    "## 5. 案例： 垃圾邮件分类"
   ]
  },
  {
   "cell_type": "code",
   "execution_count": null,
   "metadata": {},
   "outputs": [],
   "source": [
    "from torch.utils.data import TensorDataset, DataLoader\n",
    "from sklearn.model_selection import train_test_split, cross_val_score\n",
    "from sklearn.feature_extraction.text import TfidfVectorizer\n",
    "import pandas as pd\n",
    "import os"
   ]
  },
  {
   "cell_type": "markdown",
   "metadata": {},
   "source": [
    "利用`nn.Module`实现`Logit`回归"
   ]
  },
  {
   "cell_type": "code",
   "execution_count": null,
   "metadata": {},
   "outputs": [],
   "source": [
    "class LogitNet(nn.Module):\n",
    "    def __init__(self, dim_feature, dim_output):\n",
    "        super(LogitNet, self).__init__()\n",
    "        self.output = nn.Linear(dim_feature, dim_output)\n",
    "    \n",
    "    def forward(self, X):  # 层之间的计算次序\n",
    "        h = self.output(X)  # 1 -> 2\n",
    "        o = nn.functional.softmax(h, dim=1)  # 2 -> 3\n",
    "        return o"
   ]
  },
  {
   "cell_type": "code",
   "execution_count": null,
   "metadata": {},
   "outputs": [],
   "source": [
    "df = pd.read_csv('../dataset/smsspamcollection/SMSSpamCollection', delimiter='\\t', header=None, names=['category', 'message'])\n",
    "df['label'] = (df.category == 'ham').astype('int')\n",
    "print('垃圾邮件数量: %d ' % np.sum(df.label == 0))\n",
    "print('正常邮件数量: %d ' % np.sum(df.label == 0))"
   ]
  },
  {
   "cell_type": "code",
   "execution_count": null,
   "metadata": {},
   "outputs": [],
   "source": [
    "X = df.message.values\n",
    "y = df.label.values\n",
    "X_train_raw, X_test_raw, y_train, y_test = train_test_split(X, y, test_size=0.5, random_state=200)\n",
    "# y转换为tensor\n",
    "y_train = torch.tensor(y_train).type(torch.LongTensor)  # 注意label的形式为1维，即类别的标签，无需reshape(-1, 1)\n",
    "y_test = torch.tensor(y_test).type(torch.LongTensor)\n",
    "# 获取词的tf-idf\n",
    "vectorizer = TfidfVectorizer()\n",
    "X_train = vectorizer.fit_transform(X_train_raw)\n",
    "X_test = vectorizer.transform(X_test_raw)\n",
    "# X转换为tensor\n",
    "X_train = torch.tensor(X_train.toarray(), dtype=torch.float)\n",
    "X_test = torch.tensor(X_test.toarray(), dtype=torch.float)"
   ]
  },
  {
   "cell_type": "code",
   "execution_count": null,
   "metadata": {},
   "outputs": [],
   "source": [
    "batch_size = 300  # 构建每批次100个样本的训练集\n",
    "dataset = TensorDataset(X_train, y_train)\n",
    "data_iter = DataLoader(dataset=dataset, batch_size=batch_size, shuffle=True)"
   ]
  },
  {
   "cell_type": "code",
   "execution_count": null,
   "metadata": {},
   "outputs": [],
   "source": [
    "snet = LogitNet(dim_feature=X_train.shape[1], dim_output=2)\n",
    "optimizer = torch.optim.SGD(snet.parameters(), lr=0.03)  # 指定需优化的参数\n",
    "# loss_func = nn.CrossEntropyLoss()  # 确定训练准则\n",
    "loss_func = nn.NLLLoss()"
   ]
  },
  {
   "cell_type": "code",
   "execution_count": null,
   "metadata": {},
   "outputs": [],
   "source": [
    "for i in range(100):\n",
    "    for X, y in data_iter:        \n",
    "        loss = loss_func(snet.forward(X), y)\n",
    "        optimizer.zero_grad()\n",
    "        loss.backward()\n",
    "        optimizer.step()\n",
    "        \n",
    "    if i % 20 == 0:\n",
    "        with torch.no_grad():\n",
    "            loss_train = loss_func(snet.forward(X_train), y_train)\n",
    "            out_test = snet.forward(X_test)\n",
    "            loss_test = loss_func(out_test, y_test)\n",
    "            print(f\"loss_train: {loss_train:.5f}, loss_test: {loss_test:.5f}\")"
   ]
  },
  {
   "cell_type": "code",
   "execution_count": null,
   "metadata": {},
   "outputs": [],
   "source": [
    "train_result = snet(X_train)\n",
    "predict_y_train = torch.max(train_result, 1)[1]\n",
    "print(torch.sum(predict_y_train != y_train), torch.sum(predict_y_train == y_train))"
   ]
  },
  {
   "cell_type": "code",
   "execution_count": null,
   "metadata": {},
   "outputs": [],
   "source": [
    "a = torch.randn(4, 8)"
   ]
  },
  {
   "cell_type": "code",
   "execution_count": null,
   "metadata": {},
   "outputs": [],
   "source": [
    "torch.std(a, 1)"
   ]
  },
  {
   "cell_type": "code",
   "execution_count": null,
   "metadata": {},
   "outputs": [],
   "source": []
  }
 ],
 "metadata": {
  "kernelspec": {
   "display_name": "Python 3",
   "language": "python",
   "name": "python3"
  },
  "language_info": {
   "codemirror_mode": {
    "name": "ipython",
    "version": 3
   },
   "file_extension": ".py",
   "mimetype": "text/x-python",
   "name": "python",
   "nbconvert_exporter": "python",
   "pygments_lexer": "ipython3",
   "version": "3.9.2"
  }
 },
 "nbformat": 4,
 "nbformat_minor": 4
}
