{
 "cells": [
  {
   "cell_type": "markdown",
   "metadata": {},
   "source": [
    "# 七. 支持向量机(support vector machine)\n",
    "\n"
   ]
  },
  {
   "cell_type": "markdown",
   "metadata": {},
   "source": [
    "## 1. 线性可分支持向量机\n",
    "\n",
    "假设给定一个特征空间上的训练数据集\n",
    "$$\n",
    "T=\\{(x_1,y_1),(x_2, y_2),...,(x_N,y_N)\\}\n",
    "$$\n",
    "其中，$x_i\\in\\mathbf{X=R^n},y_i\\in\\mathbf{y}=\\{+1,-1\\},i=1,2,...,N$。$x_i$为第i个特征向量，也称为实例，$y_i$为$x_i$的类标记。当$y_i=+1$时，称$x_i$为正例；反之则为负例。"
   ]
  },
  {
   "cell_type": "markdown",
   "metadata": {},
   "source": []
  }
 ],
 "metadata": {
  "kernelspec": {
   "display_name": "Python 3",
   "language": "python",
   "name": "python3"
  },
  "language_info": {
   "codemirror_mode": {
    "name": "ipython",
    "version": 3
   },
   "file_extension": ".py",
   "mimetype": "text/x-python",
   "name": "python",
   "nbconvert_exporter": "python",
   "pygments_lexer": "ipython3",
   "version": "3.8.1"
  }
 },
 "nbformat": 4,
 "nbformat_minor": 4
}
